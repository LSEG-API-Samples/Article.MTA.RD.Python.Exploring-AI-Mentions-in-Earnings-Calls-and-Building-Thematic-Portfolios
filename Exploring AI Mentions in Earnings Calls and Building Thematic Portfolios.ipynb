{
 "cells": [
  {
   "cell_type": "markdown",
   "metadata": {},
   "source": [
    "# Exploring AI Mentions in Earnings Calls and Building Thematic Portfolios"
   ]
  },
  {
   "cell_type": "markdown",
   "metadata": {},
   "source": [
    "## Introduction\n",
    "\n",
    "In recent years, artificial intelligence (AI) has emerged as a central pillar of innovation across various industries. As companies increasingly emphasize AI in their business strategies, earnings calls have become an important source of insights for investors seeking to understand corporate priorities and market trends.\n",
    "\n",
    "This article examines how the frequency and sentiment of AI mentions in earnings calls have evolved over time and whether these patterns can indicate a company's long-term growth potential. To uncover these insights, we conducted an exploratory analysis of earnings call transcripts from companies across diverse sectors leveraging LSEG MarketPsych Transcripts Analytics (MTA)  API. Additionally, we developed thematic portfolios based on these insights and tracked their historical performance to assess whether investing in AI-focused companies can yield significant returns.\n",
    "\n",
    "The article is structured into three sections: setting up the dataset, conducting exploratory analysis, and building thematic portfolios."
   ]
  },
  {
   "cell_type": "markdown",
   "metadata": {},
   "source": [
    "## Import relevent libraries"
   ]
  },
  {
   "cell_type": "markdown",
   "metadata": {},
   "source": [
    "To start, we first install and import the necessary packages. We use the [LSEG Data Libraries](https://developers.lseg.com/en/api-catalog/lseg-data-platform/lseg-data-library-for-python) to retrieve the company universe for the analyis and [LSEG MarketPsych Transcripts Analytics (MTA)](https://www.marketpsych.com/transcripts/guide/overview) API for earnings transcripts. The code is built using Python 3.9. The prerequisite packages are imported as shown below. Please make sure you have them installed."
   ]
  },
  {
   "cell_type": "code",
   "execution_count": 1,
   "metadata": {},
   "outputs": [],
   "source": [
    "import requests\n",
    "import pandas as pd\n",
    "import numpy as np\n",
    "import plotly.graph_objects as go\n",
    "import plotly.express as px\n",
    "import lseg.data as ld\n",
    "from lseg.data.discovery import convert_symbols, SymbolTypes\n",
    "from datetime import timedelta\n",
    "from dateutil.relativedelta import relativedelta\n",
    "from plotly.subplots import make_subplots\n",
    "from sklearn.preprocessing import MinMaxScaler, StandardScaler\n",
    "from sklearn.cluster import KMeans\n",
    "\n",
    "ld.get_config()[\"http.request-timeout\"] = 60\n",
    "pd.options.display.max_columns = None"
   ]
  },
  {
   "cell_type": "markdown",
   "metadata": {},
   "source": [
    "## Section 1: Setting up the dataset"
   ]
  },
  {
   "cell_type": "markdown",
   "metadata": {},
   "source": [
    "### Getting the company universe for the analysis"
   ]
  },
  {
   "cell_type": "markdown",
   "metadata": {},
   "source": [
    "The first step is to define the universe of companies for which we will request transcript data from MTA. For a robust analysis, it's important to include a large number of companies across various economic sectors. Therefore, we have chosen the constituents of the [Russell 1000]((https://www.lseg.com/en/ftse-russell/indices/russell-us/russell-1000)) index as our universe, which encompasses all large-cap companies in the US.\n",
    "\n",
    "Since our primary objective is to conduct an exploratory analysis rather than develop a comprehensive portfolio construction strategy, we will use the current list of Russell 1000 constituents. For a more in-depth analysis of portfolio performance, it is advisable to track changes in index constituents over time (e.g., each quarter). In this regard, [this article](https://developers.lseg.com/en/article-catalog/article/building-historical-index-constituents) provides useful functions for retrieving historical index constituent data.\n",
    "\n",
    "To begin, we open an API session and request the data for the universe of companies using LD Libraries for Python. Additionally, to implement also a sectoral analysis, we request information on the economic sectors of these companies."
   ]
  },
  {
   "cell_type": "code",
   "execution_count": 2,
   "metadata": {},
   "outputs": [
    {
     "data": {
      "text/plain": [
       "<lseg.data.session.Definition object at 0x31d920e80 {name='workspace'}>"
      ]
     },
     "execution_count": 2,
     "metadata": {},
     "output_type": "execute_result"
    }
   ],
   "source": [
    "ld.open_session()"
   ]
  },
  {
   "cell_type": "code",
   "execution_count": 3,
   "metadata": {},
   "outputs": [
    {
     "data": {
      "text/html": [
       "<div>\n",
       "<style scoped>\n",
       "    .dataframe tbody tr th:only-of-type {\n",
       "        vertical-align: middle;\n",
       "    }\n",
       "\n",
       "    .dataframe tbody tr th {\n",
       "        vertical-align: top;\n",
       "    }\n",
       "\n",
       "    .dataframe thead th {\n",
       "        text-align: right;\n",
       "    }\n",
       "</style>\n",
       "<table border=\"1\" class=\"dataframe\">\n",
       "  <thead>\n",
       "    <tr style=\"text-align: right;\">\n",
       "      <th></th>\n",
       "      <th>Instrument</th>\n",
       "      <th>TRBC Economic Sector Name</th>\n",
       "    </tr>\n",
       "  </thead>\n",
       "  <tbody>\n",
       "    <tr>\n",
       "      <th>0</th>\n",
       "      <td>AIZ.N</td>\n",
       "      <td>Financials</td>\n",
       "    </tr>\n",
       "    <tr>\n",
       "      <th>1</th>\n",
       "      <td>GME.N</td>\n",
       "      <td>Consumer Cyclicals</td>\n",
       "    </tr>\n",
       "    <tr>\n",
       "      <th>2</th>\n",
       "      <td>KEYS.N</td>\n",
       "      <td>Technology</td>\n",
       "    </tr>\n",
       "    <tr>\n",
       "      <th>3</th>\n",
       "      <td>QCOM.OQ</td>\n",
       "      <td>Technology</td>\n",
       "    </tr>\n",
       "    <tr>\n",
       "      <th>4</th>\n",
       "      <td>KMPR.N</td>\n",
       "      <td>Financials</td>\n",
       "    </tr>\n",
       "    <tr>\n",
       "      <th>...</th>\n",
       "      <td>...</td>\n",
       "      <td>...</td>\n",
       "    </tr>\n",
       "    <tr>\n",
       "      <th>1005</th>\n",
       "      <td>NLY.N</td>\n",
       "      <td>Real Estate</td>\n",
       "    </tr>\n",
       "    <tr>\n",
       "      <th>1006</th>\n",
       "      <td>MA.N</td>\n",
       "      <td>Technology</td>\n",
       "    </tr>\n",
       "    <tr>\n",
       "      <th>1007</th>\n",
       "      <td>BIIB.OQ</td>\n",
       "      <td>Healthcare</td>\n",
       "    </tr>\n",
       "    <tr>\n",
       "      <th>1008</th>\n",
       "      <td>SYF.N</td>\n",
       "      <td>Financials</td>\n",
       "    </tr>\n",
       "    <tr>\n",
       "      <th>1009</th>\n",
       "      <td>OZK.OQ</td>\n",
       "      <td>Financials</td>\n",
       "    </tr>\n",
       "  </tbody>\n",
       "</table>\n",
       "<p>1010 rows × 2 columns</p>\n",
       "</div>"
      ],
      "text/plain": [
       "     Instrument TRBC Economic Sector Name\n",
       "0         AIZ.N                Financials\n",
       "1         GME.N        Consumer Cyclicals\n",
       "2        KEYS.N                Technology\n",
       "3       QCOM.OQ                Technology\n",
       "4        KMPR.N                Financials\n",
       "...         ...                       ...\n",
       "1005      NLY.N               Real Estate\n",
       "1006       MA.N                Technology\n",
       "1007    BIIB.OQ                Healthcare\n",
       "1008      SYF.N                Financials\n",
       "1009     OZK.OQ                Financials\n",
       "\n",
       "[1010 rows x 2 columns]"
      ]
     },
     "execution_count": 3,
     "metadata": {},
     "output_type": "execute_result"
    }
   ],
   "source": [
    "universe = ld.get_data('0#.RUI', 'TR.TRBCEconomicSector')\n",
    "universe"
   ]
  },
  {
   "cell_type": "markdown",
   "metadata": {},
   "source": [
    "The request above returned the RICs of the FTSE 1000 contituent companies alongside with the economic sectors they represent. To request the transcripts data via MTA though, we need to use company perm_ids, therefore we leverage symbology conversion of the LD Libraries to get the perm_ids of our universe."
   ]
  },
  {
   "cell_type": "code",
   "execution_count": 4,
   "metadata": {},
   "outputs": [
    {
     "data": {
      "text/html": [
       "<div>\n",
       "<style scoped>\n",
       "    .dataframe tbody tr th:only-of-type {\n",
       "        vertical-align: middle;\n",
       "    }\n",
       "\n",
       "    .dataframe tbody tr th {\n",
       "        vertical-align: top;\n",
       "    }\n",
       "\n",
       "    .dataframe thead th {\n",
       "        text-align: right;\n",
       "    }\n",
       "</style>\n",
       "<table border=\"1\" class=\"dataframe\">\n",
       "  <thead>\n",
       "    <tr style=\"text-align: right;\">\n",
       "      <th></th>\n",
       "      <th>DocumentTitle</th>\n",
       "      <th>IssuerOAPermID</th>\n",
       "    </tr>\n",
       "  </thead>\n",
       "  <tbody>\n",
       "    <tr>\n",
       "      <th>AIZ.N</th>\n",
       "      <td>Assurant Inc, Ordinary Share, New York Stock E...</td>\n",
       "      <td>4295899478</td>\n",
       "    </tr>\n",
       "    <tr>\n",
       "      <th>GME.N</th>\n",
       "      <td>GameStop Corp, Ordinary Share, Class A, New Yo...</td>\n",
       "      <td>4295902037</td>\n",
       "    </tr>\n",
       "    <tr>\n",
       "      <th>KEYS.N</th>\n",
       "      <td>Keysight Technologies Inc, Ordinary Share, New...</td>\n",
       "      <td>5041978269</td>\n",
       "    </tr>\n",
       "    <tr>\n",
       "      <th>QCOM.OQ</th>\n",
       "      <td>Qualcomm Inc, Ordinary Share, NASDAQ Stock Exc...</td>\n",
       "      <td>4295907706</td>\n",
       "    </tr>\n",
       "    <tr>\n",
       "      <th>KMPR.N</th>\n",
       "      <td>Kemper Corp, Ordinary Share, New York Stock Ex...</td>\n",
       "      <td>4295908262</td>\n",
       "    </tr>\n",
       "    <tr>\n",
       "      <th>...</th>\n",
       "      <td>...</td>\n",
       "      <td>...</td>\n",
       "    </tr>\n",
       "    <tr>\n",
       "      <th>NLY.N</th>\n",
       "      <td>Annaly Capital Management Inc, Ordinary Share,...</td>\n",
       "      <td>4295903438</td>\n",
       "    </tr>\n",
       "    <tr>\n",
       "      <th>MA.N</th>\n",
       "      <td>Mastercard Inc, Ordinary Share, Class A, New Y...</td>\n",
       "      <td>4295902520</td>\n",
       "    </tr>\n",
       "    <tr>\n",
       "      <th>BIIB.OQ</th>\n",
       "      <td>Biogen Inc, Ordinary Share, NASDAQ Stock Excha...</td>\n",
       "      <td>4295906748</td>\n",
       "    </tr>\n",
       "    <tr>\n",
       "      <th>SYF.N</th>\n",
       "      <td>Synchrony Financial, Ordinary Share, New York ...</td>\n",
       "      <td>5042214022</td>\n",
       "    </tr>\n",
       "    <tr>\n",
       "      <th>OZK.OQ</th>\n",
       "      <td>Bank Ozk, Ordinary Share, NASDAQ Stock Exchang...</td>\n",
       "      <td>4296474683</td>\n",
       "    </tr>\n",
       "  </tbody>\n",
       "</table>\n",
       "<p>1010 rows × 2 columns</p>\n",
       "</div>"
      ],
      "text/plain": [
       "                                             DocumentTitle IssuerOAPermID\n",
       "AIZ.N    Assurant Inc, Ordinary Share, New York Stock E...     4295899478\n",
       "GME.N    GameStop Corp, Ordinary Share, Class A, New Yo...     4295902037\n",
       "KEYS.N   Keysight Technologies Inc, Ordinary Share, New...     5041978269\n",
       "QCOM.OQ  Qualcomm Inc, Ordinary Share, NASDAQ Stock Exc...     4295907706\n",
       "KMPR.N   Kemper Corp, Ordinary Share, New York Stock Ex...     4295908262\n",
       "...                                                    ...            ...\n",
       "NLY.N    Annaly Capital Management Inc, Ordinary Share,...     4295903438\n",
       "MA.N     Mastercard Inc, Ordinary Share, Class A, New Y...     4295902520\n",
       "BIIB.OQ  Biogen Inc, Ordinary Share, NASDAQ Stock Excha...     4295906748\n",
       "SYF.N    Synchrony Financial, Ordinary Share, New York ...     5042214022\n",
       "OZK.OQ   Bank Ozk, Ordinary Share, NASDAQ Stock Exchang...     4296474683\n",
       "\n",
       "[1010 rows x 2 columns]"
      ]
     },
     "execution_count": 4,
     "metadata": {},
     "output_type": "execute_result"
    }
   ],
   "source": [
    "universe_rics = universe['Instrument'].to_list()\n",
    "\n",
    "universe_perm_ids = convert_symbols(universe_rics, \n",
    "    from_symbol_type=SymbolTypes.RIC,\n",
    "    to_symbol_types=[SymbolTypes.OA_PERM_ID],\n",
    ")\n",
    "\n",
    "universe_perm_ids"
   ]
  },
  {
   "cell_type": "markdown",
   "metadata": {},
   "source": [
    "Now let's merge the requested perm_ids with our initial universe."
   ]
  },
  {
   "cell_type": "code",
   "execution_count": 5,
   "metadata": {},
   "outputs": [
    {
     "data": {
      "text/html": [
       "<div>\n",
       "<style scoped>\n",
       "    .dataframe tbody tr th:only-of-type {\n",
       "        vertical-align: middle;\n",
       "    }\n",
       "\n",
       "    .dataframe tbody tr th {\n",
       "        vertical-align: top;\n",
       "    }\n",
       "\n",
       "    .dataframe thead th {\n",
       "        text-align: right;\n",
       "    }\n",
       "</style>\n",
       "<table border=\"1\" class=\"dataframe\">\n",
       "  <thead>\n",
       "    <tr style=\"text-align: right;\">\n",
       "      <th></th>\n",
       "      <th>Instrument</th>\n",
       "      <th>TRBC Economic Sector Name</th>\n",
       "      <th>DocumentTitle</th>\n",
       "      <th>IssuerOAPermID</th>\n",
       "    </tr>\n",
       "  </thead>\n",
       "  <tbody>\n",
       "    <tr>\n",
       "      <th>0</th>\n",
       "      <td>AIZ.N</td>\n",
       "      <td>Financials</td>\n",
       "      <td>Assurant Inc, Ordinary Share, New York Stock E...</td>\n",
       "      <td>4295899478</td>\n",
       "    </tr>\n",
       "    <tr>\n",
       "      <th>1</th>\n",
       "      <td>GME.N</td>\n",
       "      <td>Consumer Cyclicals</td>\n",
       "      <td>GameStop Corp, Ordinary Share, Class A, New Yo...</td>\n",
       "      <td>4295902037</td>\n",
       "    </tr>\n",
       "    <tr>\n",
       "      <th>2</th>\n",
       "      <td>KEYS.N</td>\n",
       "      <td>Technology</td>\n",
       "      <td>Keysight Technologies Inc, Ordinary Share, New...</td>\n",
       "      <td>5041978269</td>\n",
       "    </tr>\n",
       "    <tr>\n",
       "      <th>3</th>\n",
       "      <td>QCOM.OQ</td>\n",
       "      <td>Technology</td>\n",
       "      <td>Qualcomm Inc, Ordinary Share, NASDAQ Stock Exc...</td>\n",
       "      <td>4295907706</td>\n",
       "    </tr>\n",
       "    <tr>\n",
       "      <th>4</th>\n",
       "      <td>KMPR.N</td>\n",
       "      <td>Financials</td>\n",
       "      <td>Kemper Corp, Ordinary Share, New York Stock Ex...</td>\n",
       "      <td>4295908262</td>\n",
       "    </tr>\n",
       "    <tr>\n",
       "      <th>...</th>\n",
       "      <td>...</td>\n",
       "      <td>...</td>\n",
       "      <td>...</td>\n",
       "      <td>...</td>\n",
       "    </tr>\n",
       "    <tr>\n",
       "      <th>1005</th>\n",
       "      <td>NLY.N</td>\n",
       "      <td>Real Estate</td>\n",
       "      <td>Annaly Capital Management Inc, Ordinary Share,...</td>\n",
       "      <td>4295903438</td>\n",
       "    </tr>\n",
       "    <tr>\n",
       "      <th>1006</th>\n",
       "      <td>MA.N</td>\n",
       "      <td>Technology</td>\n",
       "      <td>Mastercard Inc, Ordinary Share, Class A, New Y...</td>\n",
       "      <td>4295902520</td>\n",
       "    </tr>\n",
       "    <tr>\n",
       "      <th>1007</th>\n",
       "      <td>BIIB.OQ</td>\n",
       "      <td>Healthcare</td>\n",
       "      <td>Biogen Inc, Ordinary Share, NASDAQ Stock Excha...</td>\n",
       "      <td>4295906748</td>\n",
       "    </tr>\n",
       "    <tr>\n",
       "      <th>1008</th>\n",
       "      <td>SYF.N</td>\n",
       "      <td>Financials</td>\n",
       "      <td>Synchrony Financial, Ordinary Share, New York ...</td>\n",
       "      <td>5042214022</td>\n",
       "    </tr>\n",
       "    <tr>\n",
       "      <th>1009</th>\n",
       "      <td>OZK.OQ</td>\n",
       "      <td>Financials</td>\n",
       "      <td>Bank Ozk, Ordinary Share, NASDAQ Stock Exchang...</td>\n",
       "      <td>4296474683</td>\n",
       "    </tr>\n",
       "  </tbody>\n",
       "</table>\n",
       "<p>992 rows × 4 columns</p>\n",
       "</div>"
      ],
      "text/plain": [
       "     Instrument TRBC Economic Sector Name  \\\n",
       "0         AIZ.N                Financials   \n",
       "1         GME.N        Consumer Cyclicals   \n",
       "2        KEYS.N                Technology   \n",
       "3       QCOM.OQ                Technology   \n",
       "4        KMPR.N                Financials   \n",
       "...         ...                       ...   \n",
       "1005      NLY.N               Real Estate   \n",
       "1006       MA.N                Technology   \n",
       "1007    BIIB.OQ                Healthcare   \n",
       "1008      SYF.N                Financials   \n",
       "1009     OZK.OQ                Financials   \n",
       "\n",
       "                                          DocumentTitle IssuerOAPermID  \n",
       "0     Assurant Inc, Ordinary Share, New York Stock E...     4295899478  \n",
       "1     GameStop Corp, Ordinary Share, Class A, New Yo...     4295902037  \n",
       "2     Keysight Technologies Inc, Ordinary Share, New...     5041978269  \n",
       "3     Qualcomm Inc, Ordinary Share, NASDAQ Stock Exc...     4295907706  \n",
       "4     Kemper Corp, Ordinary Share, New York Stock Ex...     4295908262  \n",
       "...                                                 ...            ...  \n",
       "1005  Annaly Capital Management Inc, Ordinary Share,...     4295903438  \n",
       "1006  Mastercard Inc, Ordinary Share, Class A, New Y...     4295902520  \n",
       "1007  Biogen Inc, Ordinary Share, NASDAQ Stock Excha...     4295906748  \n",
       "1008  Synchrony Financial, Ordinary Share, New York ...     5042214022  \n",
       "1009  Bank Ozk, Ordinary Share, NASDAQ Stock Exchang...     4296474683  \n",
       "\n",
       "[992 rows x 4 columns]"
      ]
     },
     "execution_count": 5,
     "metadata": {},
     "output_type": "execute_result"
    }
   ],
   "source": [
    "universe_perm_ids.drop_duplicates(subset = 'IssuerOAPermID', inplace =True)\n",
    "universe = universe.merge(universe_perm_ids, left_on='Instrument', right_index=True)\n",
    "universe"
   ]
  },
  {
   "cell_type": "markdown",
   "metadata": {},
   "source": [
    "### Getting the transcripts for our universe"
   ]
  },
  {
   "cell_type": "markdown",
   "metadata": {},
   "source": [
    "Once we have our universe defined, let's request the transcripts data useing MTA API. The API allows single and multi-asset ingestion and offers document, sector, speaker and sentence level of request granularity. In the scope of our analysis, we will go for multi-asset sentence level request. Furthermore, we will benefit from the searching capabilities of the API and ask only for sentences containing word AI. More about the MTA API and it's capabilities can be found in the [official documentation](https://www.marketpsych.com/transcripts/guide/overview).\n"
   ]
  },
  {
   "cell_type": "markdown",
   "metadata": {},
   "source": [
    "Before making our request though, below we provide a wrapper function that simplifies the process of fetching data from the API and by directly loading it into a pandas DataFrame."
   ]
  },
  {
   "cell_type": "code",
   "execution_count": 6,
   "metadata": {},
   "outputs": [],
   "source": [
    "def create_df(url: str) -> pd.DataFrame:\n",
    "    response = requests.get(url)\n",
    "    if response.status_code != 200:\n",
    "        raise Exception(f\"Query failed with status code {response.status_code}: {response.json().get('error')}\")\n",
    "    data = response.json()['data']\n",
    "    return pd.DataFrame(data)"
   ]
  },
  {
   "cell_type": "code",
   "execution_count": 7,
   "metadata": {},
   "outputs": [],
   "source": [
    "def chunk_list(lst: list, chunk_size: int) -> list:\n",
    "    for i in range(0, len(lst), chunk_size):\n",
    "        yield lst[i:i + chunk_size]"
   ]
  },
  {
   "cell_type": "markdown",
   "metadata": {},
   "source": [
    "To begin, you'll need to replace APIKEY in the code snippet below with your API key provided by LSEG/MarketPsych. Further, we define the remaining request parameters and leverage the function above for the chunks of our universe. We devide our original universe into chunks to respect the API limits uning chunk_list function introduced below."
   ]
  },
  {
   "cell_type": "code",
   "execution_count": 9,
   "metadata": {},
   "outputs": [
    {
     "data": {
      "text/html": [
       "<div>\n",
       "<style scoped>\n",
       "    .dataframe tbody tr th:only-of-type {\n",
       "        vertical-align: middle;\n",
       "    }\n",
       "\n",
       "    .dataframe tbody tr th {\n",
       "        vertical-align: top;\n",
       "    }\n",
       "\n",
       "    .dataframe thead th {\n",
       "        text-align: right;\n",
       "    }\n",
       "</style>\n",
       "<table border=\"1\" class=\"dataframe\">\n",
       "  <thead>\n",
       "    <tr style=\"text-align: right;\">\n",
       "      <th></th>\n",
       "      <th>_id</th>\n",
       "      <th>document.id</th>\n",
       "      <th>document.status</th>\n",
       "      <th>document.last_edited</th>\n",
       "      <th>event.name</th>\n",
       "      <th>event.type</th>\n",
       "      <th>event.start_date</th>\n",
       "      <th>event.reference_date</th>\n",
       "      <th>event.host</th>\n",
       "      <th>event.host_permid</th>\n",
       "      <th>company.name</th>\n",
       "      <th>company.permid</th>\n",
       "      <th>company.ric</th>\n",
       "      <th>company.ticker</th>\n",
       "      <th>section.name</th>\n",
       "      <th>section.type</th>\n",
       "      <th>turn.idx</th>\n",
       "      <th>speaker.id</th>\n",
       "      <th>speaker.is_identified</th>\n",
       "      <th>speaker.first_name</th>\n",
       "      <th>speaker.last_name</th>\n",
       "      <th>speaker.company_name</th>\n",
       "      <th>speaker.position</th>\n",
       "      <th>speaker.is_organizer</th>\n",
       "      <th>speaker.other_name</th>\n",
       "      <th>sentence.idx</th>\n",
       "      <th>sentence.text</th>\n",
       "      <th>sentence.is_spam</th>\n",
       "      <th>analysis.ntokens</th>\n",
       "      <th>analysis.reference_time</th>\n",
       "      <th>analysis.keyphrases</th>\n",
       "      <th>analysis.idd_entities</th>\n",
       "      <th>analysis.entities</th>\n",
       "      <th>analysis.fin_sentiment</th>\n",
       "      <th>analysis.esg_sentiment</th>\n",
       "      <th>emotions.admiration</th>\n",
       "      <th>emotions.anger</th>\n",
       "      <th>emotions.annoyance</th>\n",
       "      <th>emotions.approval</th>\n",
       "      <th>emotions.confusion</th>\n",
       "      <th>emotions.disappointment</th>\n",
       "      <th>emotions.disapproval</th>\n",
       "      <th>emotions.fear</th>\n",
       "      <th>emotions.gratitude</th>\n",
       "      <th>emotions.optimism</th>\n",
       "      <th>emotions.pride</th>\n",
       "      <th>emotions.surprise</th>\n",
       "      <th>emotions.neutral</th>\n",
       "      <th>publ_time</th>\n",
       "      <th>search_matches</th>\n",
       "      <th>proc_time</th>\n",
       "    </tr>\n",
       "  </thead>\n",
       "  <tbody>\n",
       "    <tr>\n",
       "      <th>0</th>\n",
       "      <td>65f5e52dc2cad1e9f691e7bfcde0c3c2_q-and-a_68_da...</td>\n",
       "      <td>65f5e52dc2cad1e9f691e7bfcde0c3c2</td>\n",
       "      <td>EDITED</td>\n",
       "      <td>2016-11-15T15:17:07</td>\n",
       "      <td>Q3 2016 Expedia Inc Earnings Call</td>\n",
       "      <td>ecc</td>\n",
       "      <td>2016-10-27T20:30:00</td>\n",
       "      <td>2016-09-30T00:00:00</td>\n",
       "      <td>Expedia Inc</td>\n",
       "      <td>4295899731</td>\n",
       "      <td>Expedia Group Inc</td>\n",
       "      <td>4295899731</td>\n",
       "      <td>EXPE.OQ</td>\n",
       "      <td>EXPE</td>\n",
       "      <td>q-and-a</td>\n",
       "      <td>report</td>\n",
       "      <td>68</td>\n",
       "      <td>darakhosrowshahi</td>\n",
       "      <td>True</td>\n",
       "      <td>Dara</td>\n",
       "      <td>Khosrowshahi</td>\n",
       "      <td>Expedia, Inc.</td>\n",
       "      <td>President &amp; CEO</td>\n",
       "      <td>True</td>\n",
       "      <td></td>\n",
       "      <td>1</td>\n",
       "      <td>Sure, as far as the opportunity and challenges...</td>\n",
       "      <td>None</td>\n",
       "      <td>58</td>\n",
       "      <td>None</td>\n",
       "      <td>{'TECHNOLOGY': 1}</td>\n",
       "      <td>{'4295899731': 1}</td>\n",
       "      <td>{'ORG_Expedia': 1}</td>\n",
       "      <td>0.87</td>\n",
       "      <td>0.83</td>\n",
       "      <td>0.01</td>\n",
       "      <td>0.00</td>\n",
       "      <td>0.00</td>\n",
       "      <td>0.03</td>\n",
       "      <td>0.23</td>\n",
       "      <td>0.00</td>\n",
       "      <td>0.01</td>\n",
       "      <td>0.14</td>\n",
       "      <td>0.00</td>\n",
       "      <td>0.09</td>\n",
       "      <td>0.00</td>\n",
       "      <td>0.00</td>\n",
       "      <td>0.01</td>\n",
       "      <td>1477600200</td>\n",
       "      <td>[AI]</td>\n",
       "      <td>NaN</td>\n",
       "    </tr>\n",
       "    <tr>\n",
       "      <th>1</th>\n",
       "      <td>65f5e52dc2cad1e9f691e7bfcde0c3c2_q-and-a_68_da...</td>\n",
       "      <td>65f5e52dc2cad1e9f691e7bfcde0c3c2</td>\n",
       "      <td>EDITED</td>\n",
       "      <td>2016-11-15T15:17:07</td>\n",
       "      <td>Q3 2016 Expedia Inc Earnings Call</td>\n",
       "      <td>ecc</td>\n",
       "      <td>2016-10-27T20:30:00</td>\n",
       "      <td>2016-09-30T00:00:00</td>\n",
       "      <td>Expedia Inc</td>\n",
       "      <td>4295899731</td>\n",
       "      <td>Expedia Group Inc</td>\n",
       "      <td>4295899731</td>\n",
       "      <td>EXPE.OQ</td>\n",
       "      <td>EXPE</td>\n",
       "      <td>q-and-a</td>\n",
       "      <td>report</td>\n",
       "      <td>68</td>\n",
       "      <td>darakhosrowshahi</td>\n",
       "      <td>True</td>\n",
       "      <td>Dara</td>\n",
       "      <td>Khosrowshahi</td>\n",
       "      <td>Expedia, Inc.</td>\n",
       "      <td>President &amp; CEO</td>\n",
       "      <td>True</td>\n",
       "      <td></td>\n",
       "      <td>13</td>\n",
       "      <td>Those I think are experiences where AI can ser...</td>\n",
       "      <td>None</td>\n",
       "      <td>32</td>\n",
       "      <td>None</td>\n",
       "      <td>[]</td>\n",
       "      <td>[]</td>\n",
       "      <td>[]</td>\n",
       "      <td>0.22</td>\n",
       "      <td>NaN</td>\n",
       "      <td>0.00</td>\n",
       "      <td>0.00</td>\n",
       "      <td>0.09</td>\n",
       "      <td>0.94</td>\n",
       "      <td>0.00</td>\n",
       "      <td>0.01</td>\n",
       "      <td>0.00</td>\n",
       "      <td>0.00</td>\n",
       "      <td>0.00</td>\n",
       "      <td>0.97</td>\n",
       "      <td>0.02</td>\n",
       "      <td>0.00</td>\n",
       "      <td>0.01</td>\n",
       "      <td>1477600200</td>\n",
       "      <td>[AI]</td>\n",
       "      <td>NaN</td>\n",
       "    </tr>\n",
       "    <tr>\n",
       "      <th>2</th>\n",
       "      <td>65f5e52dc2cad1e9f691e7bfcde0c3c2_q-and-a_68_da...</td>\n",
       "      <td>65f5e52dc2cad1e9f691e7bfcde0c3c2</td>\n",
       "      <td>EDITED</td>\n",
       "      <td>2016-11-15T15:17:07</td>\n",
       "      <td>Q3 2016 Expedia Inc Earnings Call</td>\n",
       "      <td>ecc</td>\n",
       "      <td>2016-10-27T20:30:00</td>\n",
       "      <td>2016-09-30T00:00:00</td>\n",
       "      <td>Expedia Inc</td>\n",
       "      <td>4295899731</td>\n",
       "      <td>Expedia Group Inc</td>\n",
       "      <td>4295899731</td>\n",
       "      <td>EXPE.OQ</td>\n",
       "      <td>EXPE</td>\n",
       "      <td>q-and-a</td>\n",
       "      <td>report</td>\n",
       "      <td>68</td>\n",
       "      <td>darakhosrowshahi</td>\n",
       "      <td>True</td>\n",
       "      <td>Dara</td>\n",
       "      <td>Khosrowshahi</td>\n",
       "      <td>Expedia, Inc.</td>\n",
       "      <td>President &amp; CEO</td>\n",
       "      <td>True</td>\n",
       "      <td></td>\n",
       "      <td>6</td>\n",
       "      <td>the more significant opportunity in AI near- t...</td>\n",
       "      <td>None</td>\n",
       "      <td>24</td>\n",
       "      <td>None</td>\n",
       "      <td>[]</td>\n",
       "      <td>[]</td>\n",
       "      <td>[]</td>\n",
       "      <td>0.95</td>\n",
       "      <td>NaN</td>\n",
       "      <td>0.02</td>\n",
       "      <td>0.00</td>\n",
       "      <td>0.02</td>\n",
       "      <td>0.11</td>\n",
       "      <td>0.00</td>\n",
       "      <td>0.01</td>\n",
       "      <td>0.02</td>\n",
       "      <td>0.00</td>\n",
       "      <td>0.01</td>\n",
       "      <td>1.00</td>\n",
       "      <td>0.09</td>\n",
       "      <td>0.00</td>\n",
       "      <td>0.01</td>\n",
       "      <td>1477600200</td>\n",
       "      <td>[AI]</td>\n",
       "      <td>NaN</td>\n",
       "    </tr>\n",
       "    <tr>\n",
       "      <th>3</th>\n",
       "      <td>ba0f6fe68a8446f8b46bf91269f4cbf8_q-and-a_38_br...</td>\n",
       "      <td>ba0f6fe68a8446f8b46bf91269f4cbf8</td>\n",
       "      <td>EDITED</td>\n",
       "      <td>2016-12-09T15:30:16Z</td>\n",
       "      <td>Q3 2016 Twilio Inc Earnings Call</td>\n",
       "      <td>ecc</td>\n",
       "      <td>2016-11-03T21:00:00</td>\n",
       "      <td>2016-09-30T00:00:00</td>\n",
       "      <td>Twilio Inc</td>\n",
       "      <td>4298095779</td>\n",
       "      <td>Twilio Inc</td>\n",
       "      <td>4298095779</td>\n",
       "      <td>TWLO.N</td>\n",
       "      <td>TWLO</td>\n",
       "      <td>q-and-a</td>\n",
       "      <td>report</td>\n",
       "      <td>38</td>\n",
       "      <td>bracelinbrent</td>\n",
       "      <td>True</td>\n",
       "      <td>Brent</td>\n",
       "      <td>Bracelin</td>\n",
       "      <td>Pacific Crest Securities</td>\n",
       "      <td>Analyst</td>\n",
       "      <td>False</td>\n",
       "      <td></td>\n",
       "      <td>5</td>\n",
       "      <td>And then, if you could just weigh a little bit...</td>\n",
       "      <td>None</td>\n",
       "      <td>25</td>\n",
       "      <td>None</td>\n",
       "      <td>[]</td>\n",
       "      <td>[]</td>\n",
       "      <td>[]</td>\n",
       "      <td>-0.07</td>\n",
       "      <td>NaN</td>\n",
       "      <td>0.00</td>\n",
       "      <td>0.00</td>\n",
       "      <td>0.02</td>\n",
       "      <td>0.00</td>\n",
       "      <td>0.03</td>\n",
       "      <td>0.00</td>\n",
       "      <td>0.01</td>\n",
       "      <td>0.15</td>\n",
       "      <td>0.00</td>\n",
       "      <td>0.07</td>\n",
       "      <td>0.00</td>\n",
       "      <td>0.00</td>\n",
       "      <td>0.01</td>\n",
       "      <td>1478206800</td>\n",
       "      <td>[AI]</td>\n",
       "      <td>NaN</td>\n",
       "    </tr>\n",
       "    <tr>\n",
       "      <th>4</th>\n",
       "      <td>ba0f6fe68a8446f8b46bf91269f4cbf8_q-and-a_38_br...</td>\n",
       "      <td>ba0f6fe68a8446f8b46bf91269f4cbf8</td>\n",
       "      <td>EDITED</td>\n",
       "      <td>2016-12-09T15:30:16Z</td>\n",
       "      <td>Q3 2016 Twilio Inc Earnings Call</td>\n",
       "      <td>ecc</td>\n",
       "      <td>2016-11-03T21:00:00</td>\n",
       "      <td>2016-09-30T00:00:00</td>\n",
       "      <td>Twilio Inc</td>\n",
       "      <td>4298095779</td>\n",
       "      <td>Twilio Inc</td>\n",
       "      <td>4298095779</td>\n",
       "      <td>TWLO.N</td>\n",
       "      <td>TWLO</td>\n",
       "      <td>q-and-a</td>\n",
       "      <td>report</td>\n",
       "      <td>38</td>\n",
       "      <td>bracelinbrent</td>\n",
       "      <td>True</td>\n",
       "      <td>Brent</td>\n",
       "      <td>Bracelin</td>\n",
       "      <td>Pacific Crest Securities</td>\n",
       "      <td>Analyst</td>\n",
       "      <td>False</td>\n",
       "      <td></td>\n",
       "      <td>7</td>\n",
       "      <td>If you could just provide us a little more col...</td>\n",
       "      <td>None</td>\n",
       "      <td>30</td>\n",
       "      <td>None</td>\n",
       "      <td>{'ADOPTION': 1}</td>\n",
       "      <td>[]</td>\n",
       "      <td>[]</td>\n",
       "      <td>0.12</td>\n",
       "      <td>NaN</td>\n",
       "      <td>0.01</td>\n",
       "      <td>0.00</td>\n",
       "      <td>0.00</td>\n",
       "      <td>0.02</td>\n",
       "      <td>0.10</td>\n",
       "      <td>0.00</td>\n",
       "      <td>0.00</td>\n",
       "      <td>0.04</td>\n",
       "      <td>0.02</td>\n",
       "      <td>0.06</td>\n",
       "      <td>0.00</td>\n",
       "      <td>0.00</td>\n",
       "      <td>0.00</td>\n",
       "      <td>1478206800</td>\n",
       "      <td>[AI]</td>\n",
       "      <td>NaN</td>\n",
       "    </tr>\n",
       "    <tr>\n",
       "      <th>...</th>\n",
       "      <td>...</td>\n",
       "      <td>...</td>\n",
       "      <td>...</td>\n",
       "      <td>...</td>\n",
       "      <td>...</td>\n",
       "      <td>...</td>\n",
       "      <td>...</td>\n",
       "      <td>...</td>\n",
       "      <td>...</td>\n",
       "      <td>...</td>\n",
       "      <td>...</td>\n",
       "      <td>...</td>\n",
       "      <td>...</td>\n",
       "      <td>...</td>\n",
       "      <td>...</td>\n",
       "      <td>...</td>\n",
       "      <td>...</td>\n",
       "      <td>...</td>\n",
       "      <td>...</td>\n",
       "      <td>...</td>\n",
       "      <td>...</td>\n",
       "      <td>...</td>\n",
       "      <td>...</td>\n",
       "      <td>...</td>\n",
       "      <td>...</td>\n",
       "      <td>...</td>\n",
       "      <td>...</td>\n",
       "      <td>...</td>\n",
       "      <td>...</td>\n",
       "      <td>...</td>\n",
       "      <td>...</td>\n",
       "      <td>...</td>\n",
       "      <td>...</td>\n",
       "      <td>...</td>\n",
       "      <td>...</td>\n",
       "      <td>...</td>\n",
       "      <td>...</td>\n",
       "      <td>...</td>\n",
       "      <td>...</td>\n",
       "      <td>...</td>\n",
       "      <td>...</td>\n",
       "      <td>...</td>\n",
       "      <td>...</td>\n",
       "      <td>...</td>\n",
       "      <td>...</td>\n",
       "      <td>...</td>\n",
       "      <td>...</td>\n",
       "      <td>...</td>\n",
       "      <td>...</td>\n",
       "      <td>...</td>\n",
       "      <td>...</td>\n",
       "    </tr>\n",
       "    <tr>\n",
       "      <th>16140</th>\n",
       "      <td>0a5d615bb8de9976d23874d45100265b_q-and-a_38_ja...</td>\n",
       "      <td>0a5d615bb8de9976d23874d45100265b</td>\n",
       "      <td>EDITED</td>\n",
       "      <td>2024-05-31T20:36:10Z</td>\n",
       "      <td>Q3 2024 Zscaler Inc Earnings Call</td>\n",
       "      <td>ecc</td>\n",
       "      <td>2024-05-30T20:30:00</td>\n",
       "      <td>2024-09-30T00:00:00</td>\n",
       "      <td>Zscaler Inc</td>\n",
       "      <td>5036689323</td>\n",
       "      <td>Zscaler Inc</td>\n",
       "      <td>5036689323</td>\n",
       "      <td>ZS.OQ</td>\n",
       "      <td>ZS.OQ</td>\n",
       "      <td>q-and-a</td>\n",
       "      <td>report</td>\n",
       "      <td>38</td>\n",
       "      <td>jagtarchaudhry</td>\n",
       "      <td>True</td>\n",
       "      <td>Jagtar</td>\n",
       "      <td>Chaudhry</td>\n",
       "      <td>Zscaler Inc</td>\n",
       "      <td>Chairman of the Board, Chief Executive Officer</td>\n",
       "      <td>True</td>\n",
       "      <td></td>\n",
       "      <td>4</td>\n",
       "      <td>AI is kind of interesting.</td>\n",
       "      <td>None</td>\n",
       "      <td>6</td>\n",
       "      <td>None</td>\n",
       "      <td>[]</td>\n",
       "      <td>[]</td>\n",
       "      <td>[]</td>\n",
       "      <td>-0.10</td>\n",
       "      <td>NaN</td>\n",
       "      <td>0.01</td>\n",
       "      <td>0.00</td>\n",
       "      <td>0.01</td>\n",
       "      <td>0.04</td>\n",
       "      <td>0.04</td>\n",
       "      <td>0.00</td>\n",
       "      <td>0.01</td>\n",
       "      <td>0.00</td>\n",
       "      <td>0.00</td>\n",
       "      <td>0.01</td>\n",
       "      <td>0.00</td>\n",
       "      <td>0.01</td>\n",
       "      <td>0.75</td>\n",
       "      <td>1717101000</td>\n",
       "      <td>[AI]</td>\n",
       "      <td>1.717188e+09</td>\n",
       "    </tr>\n",
       "    <tr>\n",
       "      <th>16141</th>\n",
       "      <td>0a5d615bb8de9976d23874d45100265b_q-and-a_38_ja...</td>\n",
       "      <td>0a5d615bb8de9976d23874d45100265b</td>\n",
       "      <td>EDITED</td>\n",
       "      <td>2024-05-31T20:36:10Z</td>\n",
       "      <td>Q3 2024 Zscaler Inc Earnings Call</td>\n",
       "      <td>ecc</td>\n",
       "      <td>2024-05-30T20:30:00</td>\n",
       "      <td>2024-09-30T00:00:00</td>\n",
       "      <td>Zscaler Inc</td>\n",
       "      <td>5036689323</td>\n",
       "      <td>Zscaler Inc</td>\n",
       "      <td>5036689323</td>\n",
       "      <td>ZS.OQ</td>\n",
       "      <td>ZS.OQ</td>\n",
       "      <td>q-and-a</td>\n",
       "      <td>report</td>\n",
       "      <td>38</td>\n",
       "      <td>jagtarchaudhry</td>\n",
       "      <td>True</td>\n",
       "      <td>Jagtar</td>\n",
       "      <td>Chaudhry</td>\n",
       "      <td>Zscaler Inc</td>\n",
       "      <td>Chairman of the Board, Chief Executive Officer</td>\n",
       "      <td>True</td>\n",
       "      <td></td>\n",
       "      <td>6</td>\n",
       "      <td>We leverage AI and data protection quite a bit.</td>\n",
       "      <td>None</td>\n",
       "      <td>10</td>\n",
       "      <td>None</td>\n",
       "      <td>{'DATA_PRIVACY': 1, 'LEVERAGE': 1}</td>\n",
       "      <td>[]</td>\n",
       "      <td>[]</td>\n",
       "      <td>0.92</td>\n",
       "      <td>0.98</td>\n",
       "      <td>0.00</td>\n",
       "      <td>0.00</td>\n",
       "      <td>0.00</td>\n",
       "      <td>0.00</td>\n",
       "      <td>0.00</td>\n",
       "      <td>0.00</td>\n",
       "      <td>0.00</td>\n",
       "      <td>0.00</td>\n",
       "      <td>0.00</td>\n",
       "      <td>0.00</td>\n",
       "      <td>0.00</td>\n",
       "      <td>0.00</td>\n",
       "      <td>1.00</td>\n",
       "      <td>1717101000</td>\n",
       "      <td>[AI]</td>\n",
       "      <td>1.717188e+09</td>\n",
       "    </tr>\n",
       "    <tr>\n",
       "      <th>16142</th>\n",
       "      <td>0a5d615bb8de9976d23874d45100265b_q-and-a_54_ad...</td>\n",
       "      <td>0a5d615bb8de9976d23874d45100265b</td>\n",
       "      <td>EDITED</td>\n",
       "      <td>2024-05-31T20:36:10Z</td>\n",
       "      <td>Q3 2024 Zscaler Inc Earnings Call</td>\n",
       "      <td>ecc</td>\n",
       "      <td>2024-05-30T20:30:00</td>\n",
       "      <td>2024-09-30T00:00:00</td>\n",
       "      <td>Zscaler Inc</td>\n",
       "      <td>5036689323</td>\n",
       "      <td>Zscaler Inc</td>\n",
       "      <td>5036689323</td>\n",
       "      <td>ZS.OQ</td>\n",
       "      <td>ZS.OQ</td>\n",
       "      <td>q-and-a</td>\n",
       "      <td>report</td>\n",
       "      <td>54</td>\n",
       "      <td>adamborg</td>\n",
       "      <td>True</td>\n",
       "      <td>Adam</td>\n",
       "      <td>Borg</td>\n",
       "      <td>Stifel Nicolaus and Company, Incorporated</td>\n",
       "      <td>Analyst</td>\n",
       "      <td>False</td>\n",
       "      <td></td>\n",
       "      <td>3</td>\n",
       "      <td>Maybe for Jay on the Advanced Plus bundle, I k...</td>\n",
       "      <td>None</td>\n",
       "      <td>40</td>\n",
       "      <td>None</td>\n",
       "      <td>{'PRODUCT': 1, 'ARTIFICIAL_INTELLIGENCE': 1}</td>\n",
       "      <td>[]</td>\n",
       "      <td>{'PERSON_Jay': 1, 'PRODUCT_that Advanced Plus ...</td>\n",
       "      <td>0.92</td>\n",
       "      <td>0.91</td>\n",
       "      <td>0.05</td>\n",
       "      <td>0.00</td>\n",
       "      <td>0.03</td>\n",
       "      <td>0.21</td>\n",
       "      <td>0.01</td>\n",
       "      <td>0.00</td>\n",
       "      <td>0.01</td>\n",
       "      <td>0.00</td>\n",
       "      <td>0.01</td>\n",
       "      <td>1.00</td>\n",
       "      <td>0.00</td>\n",
       "      <td>0.00</td>\n",
       "      <td>0.01</td>\n",
       "      <td>1717101000</td>\n",
       "      <td>[AI]</td>\n",
       "      <td>1.717188e+09</td>\n",
       "    </tr>\n",
       "    <tr>\n",
       "      <th>16143</th>\n",
       "      <td>0a5d615bb8de9976d23874d45100265b_q-and-a_55_ja...</td>\n",
       "      <td>0a5d615bb8de9976d23874d45100265b</td>\n",
       "      <td>EDITED</td>\n",
       "      <td>2024-05-31T20:36:10Z</td>\n",
       "      <td>Q3 2024 Zscaler Inc Earnings Call</td>\n",
       "      <td>ecc</td>\n",
       "      <td>2024-05-30T20:30:00</td>\n",
       "      <td>2024-09-30T00:00:00</td>\n",
       "      <td>Zscaler Inc</td>\n",
       "      <td>5036689323</td>\n",
       "      <td>Zscaler Inc</td>\n",
       "      <td>5036689323</td>\n",
       "      <td>ZS.OQ</td>\n",
       "      <td>ZS.OQ</td>\n",
       "      <td>q-and-a</td>\n",
       "      <td>report</td>\n",
       "      <td>55</td>\n",
       "      <td>jagtarchaudhry</td>\n",
       "      <td>True</td>\n",
       "      <td>Jagtar</td>\n",
       "      <td>Chaudhry</td>\n",
       "      <td>Zscaler Inc</td>\n",
       "      <td>Chairman of the Board, Chief Executive Officer</td>\n",
       "      <td>True</td>\n",
       "      <td></td>\n",
       "      <td>8</td>\n",
       "      <td>as you listen to our prepared remarks, it's no...</td>\n",
       "      <td>None</td>\n",
       "      <td>48</td>\n",
       "      <td>None</td>\n",
       "      <td>{'DATA_PRIVACY': 1, 'ARTIFICIAL_INTELLIGENCE':...</td>\n",
       "      <td>[]</td>\n",
       "      <td>{'PRODUCT_Risk360': 1}</td>\n",
       "      <td>0.78</td>\n",
       "      <td>0.05</td>\n",
       "      <td>0.00</td>\n",
       "      <td>0.01</td>\n",
       "      <td>0.00</td>\n",
       "      <td>0.49</td>\n",
       "      <td>0.01</td>\n",
       "      <td>0.02</td>\n",
       "      <td>0.00</td>\n",
       "      <td>0.00</td>\n",
       "      <td>0.00</td>\n",
       "      <td>0.20</td>\n",
       "      <td>0.00</td>\n",
       "      <td>0.00</td>\n",
       "      <td>0.01</td>\n",
       "      <td>1717101000</td>\n",
       "      <td>[AI]</td>\n",
       "      <td>1.717188e+09</td>\n",
       "    </tr>\n",
       "    <tr>\n",
       "      <th>16144</th>\n",
       "      <td>4e06fd26c63a7f68ec469886b99297b9_presentation_...</td>\n",
       "      <td>4e06fd26c63a7f68ec469886b99297b9</td>\n",
       "      <td>EDITED</td>\n",
       "      <td>2024-05-23T16:57:53Z</td>\n",
       "      <td>Q4 2024 Ralph Lauren Corp Earnings Call</td>\n",
       "      <td>ecc</td>\n",
       "      <td>2024-05-23T13:00:00</td>\n",
       "      <td>2024-12-31T00:00:00</td>\n",
       "      <td>Ralph Lauren Corp</td>\n",
       "      <td>4295903221</td>\n",
       "      <td>Ralph Lauren Corp</td>\n",
       "      <td>4295903221</td>\n",
       "      <td>RL.N</td>\n",
       "      <td>RL.N</td>\n",
       "      <td>presentation</td>\n",
       "      <td>report</td>\n",
       "      <td>2</td>\n",
       "      <td>patricejeanlouislouvet</td>\n",
       "      <td>True</td>\n",
       "      <td>Patrice Jean Louis</td>\n",
       "      <td>Louvet</td>\n",
       "      <td>Ralph Lauren Corporation</td>\n",
       "      <td>President, CEO &amp; Director</td>\n",
       "      <td>True</td>\n",
       "      <td></td>\n",
       "      <td>81</td>\n",
       "      <td>This AI-driven model enables better in-stock a...</td>\n",
       "      <td>None</td>\n",
       "      <td>26</td>\n",
       "      <td>None</td>\n",
       "      <td>{'PRODUCT': 1}</td>\n",
       "      <td>[]</td>\n",
       "      <td>[]</td>\n",
       "      <td>0.95</td>\n",
       "      <td>0.44</td>\n",
       "      <td>0.00</td>\n",
       "      <td>0.00</td>\n",
       "      <td>0.01</td>\n",
       "      <td>0.41</td>\n",
       "      <td>0.00</td>\n",
       "      <td>0.00</td>\n",
       "      <td>0.00</td>\n",
       "      <td>0.00</td>\n",
       "      <td>0.00</td>\n",
       "      <td>0.25</td>\n",
       "      <td>0.00</td>\n",
       "      <td>0.00</td>\n",
       "      <td>0.86</td>\n",
       "      <td>1716469200</td>\n",
       "      <td>[AI]</td>\n",
       "      <td>1.716502e+09</td>\n",
       "    </tr>\n",
       "  </tbody>\n",
       "</table>\n",
       "<p>29083 rows × 51 columns</p>\n",
       "</div>"
      ],
      "text/plain": [
       "                                                     _id  \\\n",
       "0      65f5e52dc2cad1e9f691e7bfcde0c3c2_q-and-a_68_da...   \n",
       "1      65f5e52dc2cad1e9f691e7bfcde0c3c2_q-and-a_68_da...   \n",
       "2      65f5e52dc2cad1e9f691e7bfcde0c3c2_q-and-a_68_da...   \n",
       "3      ba0f6fe68a8446f8b46bf91269f4cbf8_q-and-a_38_br...   \n",
       "4      ba0f6fe68a8446f8b46bf91269f4cbf8_q-and-a_38_br...   \n",
       "...                                                  ...   \n",
       "16140  0a5d615bb8de9976d23874d45100265b_q-and-a_38_ja...   \n",
       "16141  0a5d615bb8de9976d23874d45100265b_q-and-a_38_ja...   \n",
       "16142  0a5d615bb8de9976d23874d45100265b_q-and-a_54_ad...   \n",
       "16143  0a5d615bb8de9976d23874d45100265b_q-and-a_55_ja...   \n",
       "16144  4e06fd26c63a7f68ec469886b99297b9_presentation_...   \n",
       "\n",
       "                            document.id document.status  document.last_edited  \\\n",
       "0      65f5e52dc2cad1e9f691e7bfcde0c3c2          EDITED   2016-11-15T15:17:07   \n",
       "1      65f5e52dc2cad1e9f691e7bfcde0c3c2          EDITED   2016-11-15T15:17:07   \n",
       "2      65f5e52dc2cad1e9f691e7bfcde0c3c2          EDITED   2016-11-15T15:17:07   \n",
       "3      ba0f6fe68a8446f8b46bf91269f4cbf8          EDITED  2016-12-09T15:30:16Z   \n",
       "4      ba0f6fe68a8446f8b46bf91269f4cbf8          EDITED  2016-12-09T15:30:16Z   \n",
       "...                                 ...             ...                   ...   \n",
       "16140  0a5d615bb8de9976d23874d45100265b          EDITED  2024-05-31T20:36:10Z   \n",
       "16141  0a5d615bb8de9976d23874d45100265b          EDITED  2024-05-31T20:36:10Z   \n",
       "16142  0a5d615bb8de9976d23874d45100265b          EDITED  2024-05-31T20:36:10Z   \n",
       "16143  0a5d615bb8de9976d23874d45100265b          EDITED  2024-05-31T20:36:10Z   \n",
       "16144  4e06fd26c63a7f68ec469886b99297b9          EDITED  2024-05-23T16:57:53Z   \n",
       "\n",
       "                                    event.name event.type  \\\n",
       "0            Q3 2016 Expedia Inc Earnings Call        ecc   \n",
       "1            Q3 2016 Expedia Inc Earnings Call        ecc   \n",
       "2            Q3 2016 Expedia Inc Earnings Call        ecc   \n",
       "3             Q3 2016 Twilio Inc Earnings Call        ecc   \n",
       "4             Q3 2016 Twilio Inc Earnings Call        ecc   \n",
       "...                                        ...        ...   \n",
       "16140        Q3 2024 Zscaler Inc Earnings Call        ecc   \n",
       "16141        Q3 2024 Zscaler Inc Earnings Call        ecc   \n",
       "16142        Q3 2024 Zscaler Inc Earnings Call        ecc   \n",
       "16143        Q3 2024 Zscaler Inc Earnings Call        ecc   \n",
       "16144  Q4 2024 Ralph Lauren Corp Earnings Call        ecc   \n",
       "\n",
       "          event.start_date event.reference_date         event.host  \\\n",
       "0      2016-10-27T20:30:00  2016-09-30T00:00:00        Expedia Inc   \n",
       "1      2016-10-27T20:30:00  2016-09-30T00:00:00        Expedia Inc   \n",
       "2      2016-10-27T20:30:00  2016-09-30T00:00:00        Expedia Inc   \n",
       "3      2016-11-03T21:00:00  2016-09-30T00:00:00         Twilio Inc   \n",
       "4      2016-11-03T21:00:00  2016-09-30T00:00:00         Twilio Inc   \n",
       "...                    ...                  ...                ...   \n",
       "16140  2024-05-30T20:30:00  2024-09-30T00:00:00        Zscaler Inc   \n",
       "16141  2024-05-30T20:30:00  2024-09-30T00:00:00        Zscaler Inc   \n",
       "16142  2024-05-30T20:30:00  2024-09-30T00:00:00        Zscaler Inc   \n",
       "16143  2024-05-30T20:30:00  2024-09-30T00:00:00        Zscaler Inc   \n",
       "16144  2024-05-23T13:00:00  2024-12-31T00:00:00  Ralph Lauren Corp   \n",
       "\n",
       "      event.host_permid       company.name company.permid company.ric  \\\n",
       "0            4295899731  Expedia Group Inc     4295899731     EXPE.OQ   \n",
       "1            4295899731  Expedia Group Inc     4295899731     EXPE.OQ   \n",
       "2            4295899731  Expedia Group Inc     4295899731     EXPE.OQ   \n",
       "3            4298095779         Twilio Inc     4298095779      TWLO.N   \n",
       "4            4298095779         Twilio Inc     4298095779      TWLO.N   \n",
       "...                 ...                ...            ...         ...   \n",
       "16140        5036689323        Zscaler Inc     5036689323       ZS.OQ   \n",
       "16141        5036689323        Zscaler Inc     5036689323       ZS.OQ   \n",
       "16142        5036689323        Zscaler Inc     5036689323       ZS.OQ   \n",
       "16143        5036689323        Zscaler Inc     5036689323       ZS.OQ   \n",
       "16144        4295903221  Ralph Lauren Corp     4295903221        RL.N   \n",
       "\n",
       "      company.ticker  section.name section.type  turn.idx  \\\n",
       "0               EXPE       q-and-a       report        68   \n",
       "1               EXPE       q-and-a       report        68   \n",
       "2               EXPE       q-and-a       report        68   \n",
       "3               TWLO       q-and-a       report        38   \n",
       "4               TWLO       q-and-a       report        38   \n",
       "...              ...           ...          ...       ...   \n",
       "16140          ZS.OQ       q-and-a       report        38   \n",
       "16141          ZS.OQ       q-and-a       report        38   \n",
       "16142          ZS.OQ       q-and-a       report        54   \n",
       "16143          ZS.OQ       q-and-a       report        55   \n",
       "16144           RL.N  presentation       report         2   \n",
       "\n",
       "                   speaker.id  speaker.is_identified  speaker.first_name  \\\n",
       "0            darakhosrowshahi                   True                Dara   \n",
       "1            darakhosrowshahi                   True                Dara   \n",
       "2            darakhosrowshahi                   True                Dara   \n",
       "3               bracelinbrent                   True               Brent   \n",
       "4               bracelinbrent                   True               Brent   \n",
       "...                       ...                    ...                 ...   \n",
       "16140          jagtarchaudhry                   True              Jagtar   \n",
       "16141          jagtarchaudhry                   True              Jagtar   \n",
       "16142                adamborg                   True                Adam   \n",
       "16143          jagtarchaudhry                   True              Jagtar   \n",
       "16144  patricejeanlouislouvet                   True  Patrice Jean Louis   \n",
       "\n",
       "      speaker.last_name                       speaker.company_name  \\\n",
       "0          Khosrowshahi                              Expedia, Inc.   \n",
       "1          Khosrowshahi                              Expedia, Inc.   \n",
       "2          Khosrowshahi                              Expedia, Inc.   \n",
       "3              Bracelin                   Pacific Crest Securities   \n",
       "4              Bracelin                   Pacific Crest Securities   \n",
       "...                 ...                                        ...   \n",
       "16140          Chaudhry                                Zscaler Inc   \n",
       "16141          Chaudhry                                Zscaler Inc   \n",
       "16142              Borg  Stifel Nicolaus and Company, Incorporated   \n",
       "16143          Chaudhry                                Zscaler Inc   \n",
       "16144            Louvet                   Ralph Lauren Corporation   \n",
       "\n",
       "                                     speaker.position  speaker.is_organizer  \\\n",
       "0                                     President & CEO                  True   \n",
       "1                                     President & CEO                  True   \n",
       "2                                     President & CEO                  True   \n",
       "3                                             Analyst                 False   \n",
       "4                                             Analyst                 False   \n",
       "...                                               ...                   ...   \n",
       "16140  Chairman of the Board, Chief Executive Officer                  True   \n",
       "16141  Chairman of the Board, Chief Executive Officer                  True   \n",
       "16142                                         Analyst                 False   \n",
       "16143  Chairman of the Board, Chief Executive Officer                  True   \n",
       "16144                       President, CEO & Director                  True   \n",
       "\n",
       "      speaker.other_name  sentence.idx  \\\n",
       "0                                    1   \n",
       "1                                   13   \n",
       "2                                    6   \n",
       "3                                    5   \n",
       "4                                    7   \n",
       "...                  ...           ...   \n",
       "16140                                4   \n",
       "16141                                6   \n",
       "16142                                3   \n",
       "16143                                8   \n",
       "16144                               81   \n",
       "\n",
       "                                           sentence.text sentence.is_spam  \\\n",
       "0      Sure, as far as the opportunity and challenges...             None   \n",
       "1      Those I think are experiences where AI can ser...             None   \n",
       "2      the more significant opportunity in AI near- t...             None   \n",
       "3      And then, if you could just weigh a little bit...             None   \n",
       "4      If you could just provide us a little more col...             None   \n",
       "...                                                  ...              ...   \n",
       "16140                         AI is kind of interesting.             None   \n",
       "16141    We leverage AI and data protection quite a bit.             None   \n",
       "16142  Maybe for Jay on the Advanced Plus bundle, I k...             None   \n",
       "16143  as you listen to our prepared remarks, it's no...             None   \n",
       "16144  This AI-driven model enables better in-stock a...             None   \n",
       "\n",
       "       analysis.ntokens analysis.reference_time  \\\n",
       "0                    58                    None   \n",
       "1                    32                    None   \n",
       "2                    24                    None   \n",
       "3                    25                    None   \n",
       "4                    30                    None   \n",
       "...                 ...                     ...   \n",
       "16140                 6                    None   \n",
       "16141                10                    None   \n",
       "16142                40                    None   \n",
       "16143                48                    None   \n",
       "16144                26                    None   \n",
       "\n",
       "                                     analysis.keyphrases  \\\n",
       "0                                      {'TECHNOLOGY': 1}   \n",
       "1                                                     []   \n",
       "2                                                     []   \n",
       "3                                                     []   \n",
       "4                                        {'ADOPTION': 1}   \n",
       "...                                                  ...   \n",
       "16140                                                 []   \n",
       "16141                 {'DATA_PRIVACY': 1, 'LEVERAGE': 1}   \n",
       "16142       {'PRODUCT': 1, 'ARTIFICIAL_INTELLIGENCE': 1}   \n",
       "16143  {'DATA_PRIVACY': 1, 'ARTIFICIAL_INTELLIGENCE':...   \n",
       "16144                                     {'PRODUCT': 1}   \n",
       "\n",
       "      analysis.idd_entities  \\\n",
       "0         {'4295899731': 1}   \n",
       "1                        []   \n",
       "2                        []   \n",
       "3                        []   \n",
       "4                        []   \n",
       "...                     ...   \n",
       "16140                    []   \n",
       "16141                    []   \n",
       "16142                    []   \n",
       "16143                    []   \n",
       "16144                    []   \n",
       "\n",
       "                                       analysis.entities  \\\n",
       "0                                     {'ORG_Expedia': 1}   \n",
       "1                                                     []   \n",
       "2                                                     []   \n",
       "3                                                     []   \n",
       "4                                                     []   \n",
       "...                                                  ...   \n",
       "16140                                                 []   \n",
       "16141                                                 []   \n",
       "16142  {'PERSON_Jay': 1, 'PRODUCT_that Advanced Plus ...   \n",
       "16143                             {'PRODUCT_Risk360': 1}   \n",
       "16144                                                 []   \n",
       "\n",
       "       analysis.fin_sentiment  analysis.esg_sentiment  emotions.admiration  \\\n",
       "0                        0.87                    0.83                 0.01   \n",
       "1                        0.22                     NaN                 0.00   \n",
       "2                        0.95                     NaN                 0.02   \n",
       "3                       -0.07                     NaN                 0.00   \n",
       "4                        0.12                     NaN                 0.01   \n",
       "...                       ...                     ...                  ...   \n",
       "16140                   -0.10                     NaN                 0.01   \n",
       "16141                    0.92                    0.98                 0.00   \n",
       "16142                    0.92                    0.91                 0.05   \n",
       "16143                    0.78                    0.05                 0.00   \n",
       "16144                    0.95                    0.44                 0.00   \n",
       "\n",
       "       emotions.anger  emotions.annoyance  emotions.approval  \\\n",
       "0                0.00                0.00               0.03   \n",
       "1                0.00                0.09               0.94   \n",
       "2                0.00                0.02               0.11   \n",
       "3                0.00                0.02               0.00   \n",
       "4                0.00                0.00               0.02   \n",
       "...               ...                 ...                ...   \n",
       "16140            0.00                0.01               0.04   \n",
       "16141            0.00                0.00               0.00   \n",
       "16142            0.00                0.03               0.21   \n",
       "16143            0.01                0.00               0.49   \n",
       "16144            0.00                0.01               0.41   \n",
       "\n",
       "       emotions.confusion  emotions.disappointment  emotions.disapproval  \\\n",
       "0                    0.23                     0.00                  0.01   \n",
       "1                    0.00                     0.01                  0.00   \n",
       "2                    0.00                     0.01                  0.02   \n",
       "3                    0.03                     0.00                  0.01   \n",
       "4                    0.10                     0.00                  0.00   \n",
       "...                   ...                      ...                   ...   \n",
       "16140                0.04                     0.00                  0.01   \n",
       "16141                0.00                     0.00                  0.00   \n",
       "16142                0.01                     0.00                  0.01   \n",
       "16143                0.01                     0.02                  0.00   \n",
       "16144                0.00                     0.00                  0.00   \n",
       "\n",
       "       emotions.fear  emotions.gratitude  emotions.optimism  emotions.pride  \\\n",
       "0               0.14                0.00               0.09            0.00   \n",
       "1               0.00                0.00               0.97            0.02   \n",
       "2               0.00                0.01               1.00            0.09   \n",
       "3               0.15                0.00               0.07            0.00   \n",
       "4               0.04                0.02               0.06            0.00   \n",
       "...              ...                 ...                ...             ...   \n",
       "16140           0.00                0.00               0.01            0.00   \n",
       "16141           0.00                0.00               0.00            0.00   \n",
       "16142           0.00                0.01               1.00            0.00   \n",
       "16143           0.00                0.00               0.20            0.00   \n",
       "16144           0.00                0.00               0.25            0.00   \n",
       "\n",
       "       emotions.surprise  emotions.neutral   publ_time search_matches  \\\n",
       "0                   0.00              0.01  1477600200           [AI]   \n",
       "1                   0.00              0.01  1477600200           [AI]   \n",
       "2                   0.00              0.01  1477600200           [AI]   \n",
       "3                   0.00              0.01  1478206800           [AI]   \n",
       "4                   0.00              0.00  1478206800           [AI]   \n",
       "...                  ...               ...         ...            ...   \n",
       "16140               0.01              0.75  1717101000           [AI]   \n",
       "16141               0.00              1.00  1717101000           [AI]   \n",
       "16142               0.00              0.01  1717101000           [AI]   \n",
       "16143               0.00              0.01  1717101000           [AI]   \n",
       "16144               0.00              0.86  1716469200           [AI]   \n",
       "\n",
       "          proc_time  \n",
       "0               NaN  \n",
       "1               NaN  \n",
       "2               NaN  \n",
       "3               NaN  \n",
       "4               NaN  \n",
       "...             ...  \n",
       "16140  1.717188e+09  \n",
       "16141  1.717188e+09  \n",
       "16142  1.717188e+09  \n",
       "16143  1.717188e+09  \n",
       "16144  1.716502e+09  \n",
       "\n",
       "[29083 rows x 51 columns]"
      ]
     },
     "execution_count": 9,
     "metadata": {},
     "output_type": "execute_result"
    }
   ],
   "source": [
    "APIKEY = \"\" # Replace the following with your API key\n",
    "\n",
    "chunk_size = 500\n",
    "perm_ids_chunks = list(chunk_list(universe['IssuerOAPermID'], chunk_size))\n",
    "\n",
    "start_date = '2016-01-01'\n",
    "end_date = '2024-06-03'\n",
    "search_word = 'AI'\n",
    "\n",
    "events_df = pd.DataFrame()\n",
    "\n",
    "for perm_ids in perm_ids_chunks:\n",
    "    perm_ids_str = ','.join(perm_ids)\n",
    "    url = f\"https://dataapi.marketpsych.com/mta/data/{perm_ids_str}?apikey={APIKEY}&aggregation_type=sentence&start_date={start_date}&end_date={end_date}&event_type=ecc&dedup=True&search={search_word}&format=json\"\n",
    "    df = create_df(url)\n",
    "    events_df = pd.concat([events_df, df])\n",
    "events_df"
   ]
  },
  {
   "cell_type": "markdown",
   "metadata": {},
   "source": [
    "The resulting dataframe includes around 28,000 sentences from our universe, dating back to January 2016. It encompasses a broad range of emotion and sentiment metrics for each sentence. Additionally, each entry is provided with metadata related to the event, company, and speaker. A complete list of the output fields and their descriptions is available in the [documentation](https://www.marketpsych.com/transcripts/guide/fields). "
   ]
  },
  {
   "cell_type": "markdown",
   "metadata": {},
   "source": [
    "To make our final dataset ready for the analysis, we merge the transcripts data above with the universe data we obtained in the previous section and sort the values by the start date of the event."
   ]
  },
  {
   "cell_type": "code",
   "execution_count": 10,
   "metadata": {},
   "outputs": [
    {
     "data": {
      "text/html": [
       "<div>\n",
       "<style scoped>\n",
       "    .dataframe tbody tr th:only-of-type {\n",
       "        vertical-align: middle;\n",
       "    }\n",
       "\n",
       "    .dataframe tbody tr th {\n",
       "        vertical-align: top;\n",
       "    }\n",
       "\n",
       "    .dataframe thead th {\n",
       "        text-align: right;\n",
       "    }\n",
       "</style>\n",
       "<table border=\"1\" class=\"dataframe\">\n",
       "  <thead>\n",
       "    <tr style=\"text-align: right;\">\n",
       "      <th></th>\n",
       "      <th>_id</th>\n",
       "      <th>document.id</th>\n",
       "      <th>document.status</th>\n",
       "      <th>document.last_edited</th>\n",
       "      <th>event.name</th>\n",
       "      <th>event.type</th>\n",
       "      <th>event.start_date</th>\n",
       "      <th>event.reference_date</th>\n",
       "      <th>event.host</th>\n",
       "      <th>event.host_permid</th>\n",
       "      <th>company.name</th>\n",
       "      <th>company.permid</th>\n",
       "      <th>company.ric</th>\n",
       "      <th>company.ticker</th>\n",
       "      <th>section.name</th>\n",
       "      <th>section.type</th>\n",
       "      <th>turn.idx</th>\n",
       "      <th>speaker.id</th>\n",
       "      <th>speaker.is_identified</th>\n",
       "      <th>speaker.first_name</th>\n",
       "      <th>speaker.last_name</th>\n",
       "      <th>speaker.company_name</th>\n",
       "      <th>speaker.position</th>\n",
       "      <th>speaker.is_organizer</th>\n",
       "      <th>speaker.other_name</th>\n",
       "      <th>sentence.idx</th>\n",
       "      <th>sentence.text</th>\n",
       "      <th>sentence.is_spam</th>\n",
       "      <th>analysis.ntokens</th>\n",
       "      <th>analysis.reference_time</th>\n",
       "      <th>analysis.keyphrases</th>\n",
       "      <th>analysis.idd_entities</th>\n",
       "      <th>analysis.entities</th>\n",
       "      <th>analysis.fin_sentiment</th>\n",
       "      <th>analysis.esg_sentiment</th>\n",
       "      <th>emotions.admiration</th>\n",
       "      <th>emotions.anger</th>\n",
       "      <th>emotions.annoyance</th>\n",
       "      <th>emotions.approval</th>\n",
       "      <th>emotions.confusion</th>\n",
       "      <th>emotions.disappointment</th>\n",
       "      <th>emotions.disapproval</th>\n",
       "      <th>emotions.fear</th>\n",
       "      <th>emotions.gratitude</th>\n",
       "      <th>emotions.optimism</th>\n",
       "      <th>emotions.pride</th>\n",
       "      <th>emotions.surprise</th>\n",
       "      <th>emotions.neutral</th>\n",
       "      <th>publ_time</th>\n",
       "      <th>search_matches</th>\n",
       "      <th>proc_time</th>\n",
       "      <th>Instrument</th>\n",
       "      <th>TRBC Economic Sector Name</th>\n",
       "      <th>DocumentTitle</th>\n",
       "      <th>IssuerOAPermID</th>\n",
       "      <th>start_date</th>\n",
       "    </tr>\n",
       "  </thead>\n",
       "  <tbody>\n",
       "    <tr>\n",
       "      <th>27814</th>\n",
       "      <td>27802443a70d9e0f251ef41cb1cc33bc_q-and-a_76_ha...</td>\n",
       "      <td>27802443a70d9e0f251ef41cb1cc33bc</td>\n",
       "      <td>EDITED</td>\n",
       "      <td>2016-02-08T18:33:03</td>\n",
       "      <td>Q4 2015 Celanese Corp Earnings Call</td>\n",
       "      <td>ecc</td>\n",
       "      <td>2016-01-22T15:00:00</td>\n",
       "      <td>2015-12-31T00:00:00</td>\n",
       "      <td>Celanese Corp</td>\n",
       "      <td>4295899696</td>\n",
       "      <td>Celanese Corp</td>\n",
       "      <td>4295899696</td>\n",
       "      <td>CE.N</td>\n",
       "      <td>CE</td>\n",
       "      <td>q-and-a</td>\n",
       "      <td>report</td>\n",
       "      <td>76</td>\n",
       "      <td>hassanahmed</td>\n",
       "      <td>True</td>\n",
       "      <td>Hassan</td>\n",
       "      <td>Ahmed</td>\n",
       "      <td>Alembic Global Advisors</td>\n",
       "      <td>Analyst</td>\n",
       "      <td>False</td>\n",
       "      <td></td>\n",
       "      <td>2</td>\n",
       "      <td>Wanted to revisit the AI segment.</td>\n",
       "      <td>None</td>\n",
       "      <td>7</td>\n",
       "      <td>None</td>\n",
       "      <td>[]</td>\n",
       "      <td>[]</td>\n",
       "      <td>[]</td>\n",
       "      <td>-0.01</td>\n",
       "      <td>NaN</td>\n",
       "      <td>0.01</td>\n",
       "      <td>0.00</td>\n",
       "      <td>0.0</td>\n",
       "      <td>0.01</td>\n",
       "      <td>0.00</td>\n",
       "      <td>0.00</td>\n",
       "      <td>0.01</td>\n",
       "      <td>0.00</td>\n",
       "      <td>0.00</td>\n",
       "      <td>0.01</td>\n",
       "      <td>0.00</td>\n",
       "      <td>0.00</td>\n",
       "      <td>0.99</td>\n",
       "      <td>1453474800</td>\n",
       "      <td>[AI]</td>\n",
       "      <td>NaN</td>\n",
       "      <td>CE.N</td>\n",
       "      <td>Basic Materials</td>\n",
       "      <td>Celanese Corp, Ordinary Share, New York Stock ...</td>\n",
       "      <td>4295899696</td>\n",
       "      <td>2016-01-22</td>\n",
       "    </tr>\n",
       "    <tr>\n",
       "      <th>27812</th>\n",
       "      <td>27802443a70d9e0f251ef41cb1cc33bc_q-and-a_31_da...</td>\n",
       "      <td>27802443a70d9e0f251ef41cb1cc33bc</td>\n",
       "      <td>EDITED</td>\n",
       "      <td>2016-02-08T18:33:03</td>\n",
       "      <td>Q4 2015 Celanese Corp Earnings Call</td>\n",
       "      <td>ecc</td>\n",
       "      <td>2016-01-22T15:00:00</td>\n",
       "      <td>2015-12-31T00:00:00</td>\n",
       "      <td>Celanese Corp</td>\n",
       "      <td>4295899696</td>\n",
       "      <td>Celanese Corp</td>\n",
       "      <td>4295899696</td>\n",
       "      <td>CE.N</td>\n",
       "      <td>CE</td>\n",
       "      <td>q-and-a</td>\n",
       "      <td>report</td>\n",
       "      <td>31</td>\n",
       "      <td>davidbegleiter</td>\n",
       "      <td>True</td>\n",
       "      <td>David</td>\n",
       "      <td>Begleiter</td>\n",
       "      <td>Deutsche Bank</td>\n",
       "      <td>Analyst</td>\n",
       "      <td>False</td>\n",
       "      <td></td>\n",
       "      <td>2</td>\n",
       "      <td>Mark, in AI how should we think about the meth...</td>\n",
       "      <td>None</td>\n",
       "      <td>17</td>\n",
       "      <td>2015-01-22T00:00:00</td>\n",
       "      <td>[]</td>\n",
       "      <td>{'COME_BIO': 1}</td>\n",
       "      <td>{'PERSON_Mark': 1, 'COMMODITY_ENM_methanol': 1}</td>\n",
       "      <td>-0.13</td>\n",
       "      <td>NaN</td>\n",
       "      <td>0.01</td>\n",
       "      <td>0.00</td>\n",
       "      <td>0.0</td>\n",
       "      <td>0.00</td>\n",
       "      <td>0.03</td>\n",
       "      <td>0.00</td>\n",
       "      <td>0.01</td>\n",
       "      <td>0.05</td>\n",
       "      <td>0.00</td>\n",
       "      <td>0.62</td>\n",
       "      <td>0.00</td>\n",
       "      <td>0.00</td>\n",
       "      <td>0.00</td>\n",
       "      <td>1453474800</td>\n",
       "      <td>[AI]</td>\n",
       "      <td>NaN</td>\n",
       "      <td>CE.N</td>\n",
       "      <td>Basic Materials</td>\n",
       "      <td>Celanese Corp, Ordinary Share, New York Stock ...</td>\n",
       "      <td>4295899696</td>\n",
       "      <td>2016-01-22</td>\n",
       "    </tr>\n",
       "    <tr>\n",
       "      <th>27813</th>\n",
       "      <td>27802443a70d9e0f251ef41cb1cc33bc_q-and-a_71_je...</td>\n",
       "      <td>27802443a70d9e0f251ef41cb1cc33bc</td>\n",
       "      <td>EDITED</td>\n",
       "      <td>2016-02-08T18:33:03</td>\n",
       "      <td>Q4 2015 Celanese Corp Earnings Call</td>\n",
       "      <td>ecc</td>\n",
       "      <td>2016-01-22T15:00:00</td>\n",
       "      <td>2015-12-31T00:00:00</td>\n",
       "      <td>Celanese Corp</td>\n",
       "      <td>4295899696</td>\n",
       "      <td>Celanese Corp</td>\n",
       "      <td>4295899696</td>\n",
       "      <td>CE.N</td>\n",
       "      <td>CE</td>\n",
       "      <td>q-and-a</td>\n",
       "      <td>report</td>\n",
       "      <td>71</td>\n",
       "      <td>jeffzekauskas</td>\n",
       "      <td>True</td>\n",
       "      <td>Jeff</td>\n",
       "      <td>Zekauskas</td>\n",
       "      <td>JPMorgan</td>\n",
       "      <td>Analyst</td>\n",
       "      <td>False</td>\n",
       "      <td></td>\n",
       "      <td>1</td>\n",
       "      <td>And then lastly with the AI results, do you th...</td>\n",
       "      <td>None</td>\n",
       "      <td>27</td>\n",
       "      <td>None</td>\n",
       "      <td>[]</td>\n",
       "      <td>[]</td>\n",
       "      <td>[]</td>\n",
       "      <td>-0.15</td>\n",
       "      <td>NaN</td>\n",
       "      <td>0.01</td>\n",
       "      <td>0.00</td>\n",
       "      <td>0.0</td>\n",
       "      <td>0.14</td>\n",
       "      <td>0.01</td>\n",
       "      <td>0.00</td>\n",
       "      <td>0.00</td>\n",
       "      <td>0.00</td>\n",
       "      <td>0.01</td>\n",
       "      <td>0.98</td>\n",
       "      <td>0.00</td>\n",
       "      <td>0.00</td>\n",
       "      <td>0.00</td>\n",
       "      <td>1453474800</td>\n",
       "      <td>[AI]</td>\n",
       "      <td>NaN</td>\n",
       "      <td>CE.N</td>\n",
       "      <td>Basic Materials</td>\n",
       "      <td>Celanese Corp, Ordinary Share, New York Stock ...</td>\n",
       "      <td>4295899696</td>\n",
       "      <td>2016-01-22</td>\n",
       "    </tr>\n",
       "    <tr>\n",
       "      <th>27815</th>\n",
       "      <td>27802443a70d9e0f251ef41cb1cc33bc_q-and-a_76_ha...</td>\n",
       "      <td>27802443a70d9e0f251ef41cb1cc33bc</td>\n",
       "      <td>EDITED</td>\n",
       "      <td>2016-02-08T18:33:03</td>\n",
       "      <td>Q4 2015 Celanese Corp Earnings Call</td>\n",
       "      <td>ecc</td>\n",
       "      <td>2016-01-22T15:00:00</td>\n",
       "      <td>2015-12-31T00:00:00</td>\n",
       "      <td>Celanese Corp</td>\n",
       "      <td>4295899696</td>\n",
       "      <td>Celanese Corp</td>\n",
       "      <td>4295899696</td>\n",
       "      <td>CE.N</td>\n",
       "      <td>CE</td>\n",
       "      <td>q-and-a</td>\n",
       "      <td>report</td>\n",
       "      <td>76</td>\n",
       "      <td>hassanahmed</td>\n",
       "      <td>True</td>\n",
       "      <td>Hassan</td>\n",
       "      <td>Ahmed</td>\n",
       "      <td>Alembic Global Advisors</td>\n",
       "      <td>Analyst</td>\n",
       "      <td>False</td>\n",
       "      <td></td>\n",
       "      <td>6</td>\n",
       "      <td>So the first part of the question is how much ...</td>\n",
       "      <td>None</td>\n",
       "      <td>21</td>\n",
       "      <td>2016-01-22T15:00:00</td>\n",
       "      <td>[]</td>\n",
       "      <td>{'COME_BIO': 1}</td>\n",
       "      <td>{'COMMODITY_ENM_methanol pricing': 1}</td>\n",
       "      <td>-0.13</td>\n",
       "      <td>NaN</td>\n",
       "      <td>0.00</td>\n",
       "      <td>0.01</td>\n",
       "      <td>0.0</td>\n",
       "      <td>0.00</td>\n",
       "      <td>0.19</td>\n",
       "      <td>0.00</td>\n",
       "      <td>0.00</td>\n",
       "      <td>0.07</td>\n",
       "      <td>0.00</td>\n",
       "      <td>0.00</td>\n",
       "      <td>0.00</td>\n",
       "      <td>0.00</td>\n",
       "      <td>0.00</td>\n",
       "      <td>1453474800</td>\n",
       "      <td>[AI]</td>\n",
       "      <td>NaN</td>\n",
       "      <td>CE.N</td>\n",
       "      <td>Basic Materials</td>\n",
       "      <td>Celanese Corp, Ordinary Share, New York Stock ...</td>\n",
       "      <td>4295899696</td>\n",
       "      <td>2016-01-22</td>\n",
       "    </tr>\n",
       "    <tr>\n",
       "      <th>27816</th>\n",
       "      <td>27802443a70d9e0f251ef41cb1cc33bc_q-and-a_76_ha...</td>\n",
       "      <td>27802443a70d9e0f251ef41cb1cc33bc</td>\n",
       "      <td>EDITED</td>\n",
       "      <td>2016-02-08T18:33:03</td>\n",
       "      <td>Q4 2015 Celanese Corp Earnings Call</td>\n",
       "      <td>ecc</td>\n",
       "      <td>2016-01-22T15:00:00</td>\n",
       "      <td>2015-12-31T00:00:00</td>\n",
       "      <td>Celanese Corp</td>\n",
       "      <td>4295899696</td>\n",
       "      <td>Celanese Corp</td>\n",
       "      <td>4295899696</td>\n",
       "      <td>CE.N</td>\n",
       "      <td>CE</td>\n",
       "      <td>q-and-a</td>\n",
       "      <td>report</td>\n",
       "      <td>76</td>\n",
       "      <td>hassanahmed</td>\n",
       "      <td>True</td>\n",
       "      <td>Hassan</td>\n",
       "      <td>Ahmed</td>\n",
       "      <td>Alembic Global Advisors</td>\n",
       "      <td>Analyst</td>\n",
       "      <td>False</td>\n",
       "      <td></td>\n",
       "      <td>7</td>\n",
       "      <td>Meaning with the ebbs and flows in methanol pr...</td>\n",
       "      <td>None</td>\n",
       "      <td>21</td>\n",
       "      <td>None</td>\n",
       "      <td>{'VOLATILITY': 1}</td>\n",
       "      <td>{'COME_BIO': 1}</td>\n",
       "      <td>{'COMMODITY_ENM_methanol pricing': 1}</td>\n",
       "      <td>-0.90</td>\n",
       "      <td>NaN</td>\n",
       "      <td>0.00</td>\n",
       "      <td>0.00</td>\n",
       "      <td>0.0</td>\n",
       "      <td>0.00</td>\n",
       "      <td>0.11</td>\n",
       "      <td>0.00</td>\n",
       "      <td>0.00</td>\n",
       "      <td>0.95</td>\n",
       "      <td>0.00</td>\n",
       "      <td>0.00</td>\n",
       "      <td>0.00</td>\n",
       "      <td>0.00</td>\n",
       "      <td>0.00</td>\n",
       "      <td>1453474800</td>\n",
       "      <td>[AI]</td>\n",
       "      <td>NaN</td>\n",
       "      <td>CE.N</td>\n",
       "      <td>Basic Materials</td>\n",
       "      <td>Celanese Corp, Ordinary Share, New York Stock ...</td>\n",
       "      <td>4295899696</td>\n",
       "      <td>2016-01-22</td>\n",
       "    </tr>\n",
       "    <tr>\n",
       "      <th>...</th>\n",
       "      <td>...</td>\n",
       "      <td>...</td>\n",
       "      <td>...</td>\n",
       "      <td>...</td>\n",
       "      <td>...</td>\n",
       "      <td>...</td>\n",
       "      <td>...</td>\n",
       "      <td>...</td>\n",
       "      <td>...</td>\n",
       "      <td>...</td>\n",
       "      <td>...</td>\n",
       "      <td>...</td>\n",
       "      <td>...</td>\n",
       "      <td>...</td>\n",
       "      <td>...</td>\n",
       "      <td>...</td>\n",
       "      <td>...</td>\n",
       "      <td>...</td>\n",
       "      <td>...</td>\n",
       "      <td>...</td>\n",
       "      <td>...</td>\n",
       "      <td>...</td>\n",
       "      <td>...</td>\n",
       "      <td>...</td>\n",
       "      <td>...</td>\n",
       "      <td>...</td>\n",
       "      <td>...</td>\n",
       "      <td>...</td>\n",
       "      <td>...</td>\n",
       "      <td>...</td>\n",
       "      <td>...</td>\n",
       "      <td>...</td>\n",
       "      <td>...</td>\n",
       "      <td>...</td>\n",
       "      <td>...</td>\n",
       "      <td>...</td>\n",
       "      <td>...</td>\n",
       "      <td>...</td>\n",
       "      <td>...</td>\n",
       "      <td>...</td>\n",
       "      <td>...</td>\n",
       "      <td>...</td>\n",
       "      <td>...</td>\n",
       "      <td>...</td>\n",
       "      <td>...</td>\n",
       "      <td>...</td>\n",
       "      <td>...</td>\n",
       "      <td>...</td>\n",
       "      <td>...</td>\n",
       "      <td>...</td>\n",
       "      <td>...</td>\n",
       "      <td>...</td>\n",
       "      <td>...</td>\n",
       "      <td>...</td>\n",
       "      <td>...</td>\n",
       "      <td>...</td>\n",
       "    </tr>\n",
       "    <tr>\n",
       "      <th>7663</th>\n",
       "      <td>4c5a9132ee7d158704fffc07d0a4d67e_presentation_...</td>\n",
       "      <td>4c5a9132ee7d158704fffc07d0a4d67e</td>\n",
       "      <td>PRELIMINARY</td>\n",
       "      <td>2024-05-30T22:56:28Z</td>\n",
       "      <td>Q1 2025 SentinelOne Inc Earnings Call</td>\n",
       "      <td>ecc</td>\n",
       "      <td>2024-05-30T21:00:00</td>\n",
       "      <td>2025-03-31T00:00:00</td>\n",
       "      <td>SentinelOne Inc</td>\n",
       "      <td>5040208912</td>\n",
       "      <td>SentinelOne Inc</td>\n",
       "      <td>5040208912</td>\n",
       "      <td>S.N</td>\n",
       "      <td>S.N</td>\n",
       "      <td>presentation</td>\n",
       "      <td>report</td>\n",
       "      <td>2</td>\n",
       "      <td>tomerweingarten</td>\n",
       "      <td>True</td>\n",
       "      <td>Tomer</td>\n",
       "      <td>Weingarten</td>\n",
       "      <td>SentinelOne Inc</td>\n",
       "      <td>Chief Executive Officer, Co-Founder</td>\n",
       "      <td>True</td>\n",
       "      <td></td>\n",
       "      <td>150</td>\n",
       "      <td>We established the AI security innovation cent...</td>\n",
       "      <td>None</td>\n",
       "      <td>13</td>\n",
       "      <td>None</td>\n",
       "      <td>{'SECURITY': 1, 'INNOVATION': 1}</td>\n",
       "      <td>{'CITY_TELA': 1}</td>\n",
       "      <td>{'GPE_Tel Aviv': 1}</td>\n",
       "      <td>0.55</td>\n",
       "      <td>0.95</td>\n",
       "      <td>0.00</td>\n",
       "      <td>0.00</td>\n",
       "      <td>0.0</td>\n",
       "      <td>0.00</td>\n",
       "      <td>0.00</td>\n",
       "      <td>0.00</td>\n",
       "      <td>0.00</td>\n",
       "      <td>0.00</td>\n",
       "      <td>0.00</td>\n",
       "      <td>0.00</td>\n",
       "      <td>0.00</td>\n",
       "      <td>0.00</td>\n",
       "      <td>1.00</td>\n",
       "      <td>1717102800</td>\n",
       "      <td>[AI]</td>\n",
       "      <td>1.717110e+09</td>\n",
       "      <td>S.N</td>\n",
       "      <td>Technology</td>\n",
       "      <td>SentinelOne Inc, Ordinary Share, Class A, New ...</td>\n",
       "      <td>5040208912</td>\n",
       "      <td>2024-05-30</td>\n",
       "    </tr>\n",
       "    <tr>\n",
       "      <th>7664</th>\n",
       "      <td>4c5a9132ee7d158704fffc07d0a4d67e_presentation_...</td>\n",
       "      <td>4c5a9132ee7d158704fffc07d0a4d67e</td>\n",
       "      <td>PRELIMINARY</td>\n",
       "      <td>2024-05-30T22:56:28Z</td>\n",
       "      <td>Q1 2025 SentinelOne Inc Earnings Call</td>\n",
       "      <td>ecc</td>\n",
       "      <td>2024-05-30T21:00:00</td>\n",
       "      <td>2025-03-31T00:00:00</td>\n",
       "      <td>SentinelOne Inc</td>\n",
       "      <td>5040208912</td>\n",
       "      <td>SentinelOne Inc</td>\n",
       "      <td>5040208912</td>\n",
       "      <td>S.N</td>\n",
       "      <td>S.N</td>\n",
       "      <td>presentation</td>\n",
       "      <td>report</td>\n",
       "      <td>2</td>\n",
       "      <td>tomerweingarten</td>\n",
       "      <td>True</td>\n",
       "      <td>Tomer</td>\n",
       "      <td>Weingarten</td>\n",
       "      <td>SentinelOne Inc</td>\n",
       "      <td>Chief Executive Officer, Co-Founder</td>\n",
       "      <td>True</td>\n",
       "      <td></td>\n",
       "      <td>157</td>\n",
       "      <td>Our technology across endpoint cloud data and ...</td>\n",
       "      <td>None</td>\n",
       "      <td>21</td>\n",
       "      <td>None</td>\n",
       "      <td>{'INNOVATION': 1, 'TECHNOLOGY': 1}</td>\n",
       "      <td>[]</td>\n",
       "      <td>[]</td>\n",
       "      <td>0.95</td>\n",
       "      <td>0.92</td>\n",
       "      <td>0.73</td>\n",
       "      <td>0.01</td>\n",
       "      <td>0.0</td>\n",
       "      <td>0.01</td>\n",
       "      <td>0.01</td>\n",
       "      <td>0.00</td>\n",
       "      <td>0.01</td>\n",
       "      <td>0.00</td>\n",
       "      <td>0.00</td>\n",
       "      <td>0.27</td>\n",
       "      <td>0.28</td>\n",
       "      <td>0.00</td>\n",
       "      <td>0.38</td>\n",
       "      <td>1717102800</td>\n",
       "      <td>[AI]</td>\n",
       "      <td>1.717110e+09</td>\n",
       "      <td>S.N</td>\n",
       "      <td>Technology</td>\n",
       "      <td>SentinelOne Inc, Ordinary Share, Class A, New ...</td>\n",
       "      <td>5040208912</td>\n",
       "      <td>2024-05-30</td>\n",
       "    </tr>\n",
       "    <tr>\n",
       "      <th>7665</th>\n",
       "      <td>4c5a9132ee7d158704fffc07d0a4d67e_presentation_...</td>\n",
       "      <td>4c5a9132ee7d158704fffc07d0a4d67e</td>\n",
       "      <td>PRELIMINARY</td>\n",
       "      <td>2024-05-30T22:56:28Z</td>\n",
       "      <td>Q1 2025 SentinelOne Inc Earnings Call</td>\n",
       "      <td>ecc</td>\n",
       "      <td>2024-05-30T21:00:00</td>\n",
       "      <td>2025-03-31T00:00:00</td>\n",
       "      <td>SentinelOne Inc</td>\n",
       "      <td>5040208912</td>\n",
       "      <td>SentinelOne Inc</td>\n",
       "      <td>5040208912</td>\n",
       "      <td>S.N</td>\n",
       "      <td>S.N</td>\n",
       "      <td>presentation</td>\n",
       "      <td>report</td>\n",
       "      <td>2</td>\n",
       "      <td>tomerweingarten</td>\n",
       "      <td>True</td>\n",
       "      <td>Tomer</td>\n",
       "      <td>Weingarten</td>\n",
       "      <td>SentinelOne Inc</td>\n",
       "      <td>Chief Executive Officer, Co-Founder</td>\n",
       "      <td>True</td>\n",
       "      <td></td>\n",
       "      <td>163</td>\n",
       "      <td>Ai is the new paradigm.</td>\n",
       "      <td>None</td>\n",
       "      <td>6</td>\n",
       "      <td>None</td>\n",
       "      <td>[]</td>\n",
       "      <td>[]</td>\n",
       "      <td>[]</td>\n",
       "      <td>0.17</td>\n",
       "      <td>NaN</td>\n",
       "      <td>0.01</td>\n",
       "      <td>0.02</td>\n",
       "      <td>0.0</td>\n",
       "      <td>0.00</td>\n",
       "      <td>0.00</td>\n",
       "      <td>0.00</td>\n",
       "      <td>0.03</td>\n",
       "      <td>0.00</td>\n",
       "      <td>0.00</td>\n",
       "      <td>0.39</td>\n",
       "      <td>0.00</td>\n",
       "      <td>0.00</td>\n",
       "      <td>0.97</td>\n",
       "      <td>1717102800</td>\n",
       "      <td>[AI]</td>\n",
       "      <td>1.717110e+09</td>\n",
       "      <td>S.N</td>\n",
       "      <td>Technology</td>\n",
       "      <td>SentinelOne Inc, Ordinary Share, Class A, New ...</td>\n",
       "      <td>5040208912</td>\n",
       "      <td>2024-05-30</td>\n",
       "    </tr>\n",
       "    <tr>\n",
       "      <th>6624</th>\n",
       "      <td>2230d6cc7af5758dee354274af96141c_q-and-a_9_jef...</td>\n",
       "      <td>2230d6cc7af5758dee354274af96141c</td>\n",
       "      <td>EDITED</td>\n",
       "      <td>2024-05-31T07:16:34Z</td>\n",
       "      <td>Q1 2025 Dell Technologies Inc Earnings Call</td>\n",
       "      <td>ecc</td>\n",
       "      <td>2024-05-30T20:30:00</td>\n",
       "      <td>2025-03-31T00:00:00</td>\n",
       "      <td>Dell Technologies Inc</td>\n",
       "      <td>5040186364</td>\n",
       "      <td>Dell Technologies Inc</td>\n",
       "      <td>5040186364</td>\n",
       "      <td>DELL.N</td>\n",
       "      <td>DELL.N</td>\n",
       "      <td>q-and-a</td>\n",
       "      <td>report</td>\n",
       "      <td>9</td>\n",
       "      <td>jeffreyclarke</td>\n",
       "      <td>True</td>\n",
       "      <td>Jeffrey</td>\n",
       "      <td>Clarke</td>\n",
       "      <td>Dell Technologies Inc</td>\n",
       "      <td>Vice Chairman of the Board, Chief Operating Of...</td>\n",
       "      <td>True</td>\n",
       "      <td></td>\n",
       "      <td>1</td>\n",
       "      <td>Our view of the broad opportunities hasn't cha...</td>\n",
       "      <td>None</td>\n",
       "      <td>19</td>\n",
       "      <td>None</td>\n",
       "      <td>[]</td>\n",
       "      <td>[]</td>\n",
       "      <td>[]</td>\n",
       "      <td>0.03</td>\n",
       "      <td>NaN</td>\n",
       "      <td>0.00</td>\n",
       "      <td>0.00</td>\n",
       "      <td>0.0</td>\n",
       "      <td>0.11</td>\n",
       "      <td>0.01</td>\n",
       "      <td>0.00</td>\n",
       "      <td>0.01</td>\n",
       "      <td>0.00</td>\n",
       "      <td>0.00</td>\n",
       "      <td>0.03</td>\n",
       "      <td>0.00</td>\n",
       "      <td>0.00</td>\n",
       "      <td>0.95</td>\n",
       "      <td>1717101000</td>\n",
       "      <td>[AI]</td>\n",
       "      <td>1.717140e+09</td>\n",
       "      <td>DELL.N</td>\n",
       "      <td>Technology</td>\n",
       "      <td>Dell Technologies Inc, Ordinary Share, Class C...</td>\n",
       "      <td>5040186364</td>\n",
       "      <td>2024-05-30</td>\n",
       "    </tr>\n",
       "    <tr>\n",
       "      <th>22378</th>\n",
       "      <td>3d855e7a1630607bdbac937919bb1941_q-and-a_8_bre...</td>\n",
       "      <td>3d855e7a1630607bdbac937919bb1941</td>\n",
       "      <td>EDITED</td>\n",
       "      <td>2024-05-31T07:39:45Z</td>\n",
       "      <td>Q4 2024 Elastic NV Earnings Call</td>\n",
       "      <td>ecc</td>\n",
       "      <td>2024-05-30T21:00:00</td>\n",
       "      <td>2024-12-31T00:00:00</td>\n",
       "      <td>Elastic NV</td>\n",
       "      <td>5065366009</td>\n",
       "      <td>Elastic NV</td>\n",
       "      <td>5037945341</td>\n",
       "      <td>ESTC.N</td>\n",
       "      <td>ESTC.N</td>\n",
       "      <td>q-and-a</td>\n",
       "      <td>report</td>\n",
       "      <td>8</td>\n",
       "      <td>brentthill</td>\n",
       "      <td>True</td>\n",
       "      <td>Brent</td>\n",
       "      <td>Thill</td>\n",
       "      <td>Jefferies LLC</td>\n",
       "      <td>Analyst</td>\n",
       "      <td>False</td>\n",
       "      <td></td>\n",
       "      <td>4</td>\n",
       "      <td>One of the explanations, maybe that AI is caus...</td>\n",
       "      <td>None</td>\n",
       "      <td>31</td>\n",
       "      <td>None</td>\n",
       "      <td>{'INVESTIGATION': 1}</td>\n",
       "      <td>[]</td>\n",
       "      <td>[]</td>\n",
       "      <td>0.25</td>\n",
       "      <td>0.20</td>\n",
       "      <td>0.01</td>\n",
       "      <td>0.00</td>\n",
       "      <td>0.0</td>\n",
       "      <td>0.05</td>\n",
       "      <td>0.04</td>\n",
       "      <td>0.05</td>\n",
       "      <td>0.01</td>\n",
       "      <td>0.03</td>\n",
       "      <td>0.00</td>\n",
       "      <td>0.04</td>\n",
       "      <td>0.00</td>\n",
       "      <td>0.02</td>\n",
       "      <td>0.00</td>\n",
       "      <td>1717102800</td>\n",
       "      <td>[AI]</td>\n",
       "      <td>1.717141e+09</td>\n",
       "      <td>ESTC.N</td>\n",
       "      <td>Technology</td>\n",
       "      <td>Elastic NV, Ordinary Share, New York Stock Exc...</td>\n",
       "      <td>5037945341</td>\n",
       "      <td>2024-05-30</td>\n",
       "    </tr>\n",
       "  </tbody>\n",
       "</table>\n",
       "<p>29083 rows × 56 columns</p>\n",
       "</div>"
      ],
      "text/plain": [
       "                                                     _id  \\\n",
       "27814  27802443a70d9e0f251ef41cb1cc33bc_q-and-a_76_ha...   \n",
       "27812  27802443a70d9e0f251ef41cb1cc33bc_q-and-a_31_da...   \n",
       "27813  27802443a70d9e0f251ef41cb1cc33bc_q-and-a_71_je...   \n",
       "27815  27802443a70d9e0f251ef41cb1cc33bc_q-and-a_76_ha...   \n",
       "27816  27802443a70d9e0f251ef41cb1cc33bc_q-and-a_76_ha...   \n",
       "...                                                  ...   \n",
       "7663   4c5a9132ee7d158704fffc07d0a4d67e_presentation_...   \n",
       "7664   4c5a9132ee7d158704fffc07d0a4d67e_presentation_...   \n",
       "7665   4c5a9132ee7d158704fffc07d0a4d67e_presentation_...   \n",
       "6624   2230d6cc7af5758dee354274af96141c_q-and-a_9_jef...   \n",
       "22378  3d855e7a1630607bdbac937919bb1941_q-and-a_8_bre...   \n",
       "\n",
       "                            document.id document.status  document.last_edited  \\\n",
       "27814  27802443a70d9e0f251ef41cb1cc33bc          EDITED   2016-02-08T18:33:03   \n",
       "27812  27802443a70d9e0f251ef41cb1cc33bc          EDITED   2016-02-08T18:33:03   \n",
       "27813  27802443a70d9e0f251ef41cb1cc33bc          EDITED   2016-02-08T18:33:03   \n",
       "27815  27802443a70d9e0f251ef41cb1cc33bc          EDITED   2016-02-08T18:33:03   \n",
       "27816  27802443a70d9e0f251ef41cb1cc33bc          EDITED   2016-02-08T18:33:03   \n",
       "...                                 ...             ...                   ...   \n",
       "7663   4c5a9132ee7d158704fffc07d0a4d67e     PRELIMINARY  2024-05-30T22:56:28Z   \n",
       "7664   4c5a9132ee7d158704fffc07d0a4d67e     PRELIMINARY  2024-05-30T22:56:28Z   \n",
       "7665   4c5a9132ee7d158704fffc07d0a4d67e     PRELIMINARY  2024-05-30T22:56:28Z   \n",
       "6624   2230d6cc7af5758dee354274af96141c          EDITED  2024-05-31T07:16:34Z   \n",
       "22378  3d855e7a1630607bdbac937919bb1941          EDITED  2024-05-31T07:39:45Z   \n",
       "\n",
       "                                        event.name event.type  \\\n",
       "27814          Q4 2015 Celanese Corp Earnings Call        ecc   \n",
       "27812          Q4 2015 Celanese Corp Earnings Call        ecc   \n",
       "27813          Q4 2015 Celanese Corp Earnings Call        ecc   \n",
       "27815          Q4 2015 Celanese Corp Earnings Call        ecc   \n",
       "27816          Q4 2015 Celanese Corp Earnings Call        ecc   \n",
       "...                                            ...        ...   \n",
       "7663         Q1 2025 SentinelOne Inc Earnings Call        ecc   \n",
       "7664         Q1 2025 SentinelOne Inc Earnings Call        ecc   \n",
       "7665         Q1 2025 SentinelOne Inc Earnings Call        ecc   \n",
       "6624   Q1 2025 Dell Technologies Inc Earnings Call        ecc   \n",
       "22378             Q4 2024 Elastic NV Earnings Call        ecc   \n",
       "\n",
       "          event.start_date event.reference_date             event.host  \\\n",
       "27814  2016-01-22T15:00:00  2015-12-31T00:00:00          Celanese Corp   \n",
       "27812  2016-01-22T15:00:00  2015-12-31T00:00:00          Celanese Corp   \n",
       "27813  2016-01-22T15:00:00  2015-12-31T00:00:00          Celanese Corp   \n",
       "27815  2016-01-22T15:00:00  2015-12-31T00:00:00          Celanese Corp   \n",
       "27816  2016-01-22T15:00:00  2015-12-31T00:00:00          Celanese Corp   \n",
       "...                    ...                  ...                    ...   \n",
       "7663   2024-05-30T21:00:00  2025-03-31T00:00:00        SentinelOne Inc   \n",
       "7664   2024-05-30T21:00:00  2025-03-31T00:00:00        SentinelOne Inc   \n",
       "7665   2024-05-30T21:00:00  2025-03-31T00:00:00        SentinelOne Inc   \n",
       "6624   2024-05-30T20:30:00  2025-03-31T00:00:00  Dell Technologies Inc   \n",
       "22378  2024-05-30T21:00:00  2024-12-31T00:00:00             Elastic NV   \n",
       "\n",
       "      event.host_permid           company.name company.permid company.ric  \\\n",
       "27814        4295899696          Celanese Corp     4295899696        CE.N   \n",
       "27812        4295899696          Celanese Corp     4295899696        CE.N   \n",
       "27813        4295899696          Celanese Corp     4295899696        CE.N   \n",
       "27815        4295899696          Celanese Corp     4295899696        CE.N   \n",
       "27816        4295899696          Celanese Corp     4295899696        CE.N   \n",
       "...                 ...                    ...            ...         ...   \n",
       "7663         5040208912        SentinelOne Inc     5040208912         S.N   \n",
       "7664         5040208912        SentinelOne Inc     5040208912         S.N   \n",
       "7665         5040208912        SentinelOne Inc     5040208912         S.N   \n",
       "6624         5040186364  Dell Technologies Inc     5040186364      DELL.N   \n",
       "22378        5065366009             Elastic NV     5037945341      ESTC.N   \n",
       "\n",
       "      company.ticker  section.name section.type  turn.idx       speaker.id  \\\n",
       "27814             CE       q-and-a       report        76      hassanahmed   \n",
       "27812             CE       q-and-a       report        31   davidbegleiter   \n",
       "27813             CE       q-and-a       report        71    jeffzekauskas   \n",
       "27815             CE       q-and-a       report        76      hassanahmed   \n",
       "27816             CE       q-and-a       report        76      hassanahmed   \n",
       "...              ...           ...          ...       ...              ...   \n",
       "7663             S.N  presentation       report         2  tomerweingarten   \n",
       "7664             S.N  presentation       report         2  tomerweingarten   \n",
       "7665             S.N  presentation       report         2  tomerweingarten   \n",
       "6624          DELL.N       q-and-a       report         9    jeffreyclarke   \n",
       "22378         ESTC.N       q-and-a       report         8       brentthill   \n",
       "\n",
       "       speaker.is_identified speaker.first_name speaker.last_name  \\\n",
       "27814                   True             Hassan             Ahmed   \n",
       "27812                   True              David         Begleiter   \n",
       "27813                   True               Jeff         Zekauskas   \n",
       "27815                   True             Hassan             Ahmed   \n",
       "27816                   True             Hassan             Ahmed   \n",
       "...                      ...                ...               ...   \n",
       "7663                    True              Tomer        Weingarten   \n",
       "7664                    True              Tomer        Weingarten   \n",
       "7665                    True              Tomer        Weingarten   \n",
       "6624                    True            Jeffrey            Clarke   \n",
       "22378                   True              Brent             Thill   \n",
       "\n",
       "          speaker.company_name  \\\n",
       "27814  Alembic Global Advisors   \n",
       "27812            Deutsche Bank   \n",
       "27813                 JPMorgan   \n",
       "27815  Alembic Global Advisors   \n",
       "27816  Alembic Global Advisors   \n",
       "...                        ...   \n",
       "7663           SentinelOne Inc   \n",
       "7664           SentinelOne Inc   \n",
       "7665           SentinelOne Inc   \n",
       "6624     Dell Technologies Inc   \n",
       "22378            Jefferies LLC   \n",
       "\n",
       "                                        speaker.position  \\\n",
       "27814                                            Analyst   \n",
       "27812                                            Analyst   \n",
       "27813                                            Analyst   \n",
       "27815                                            Analyst   \n",
       "27816                                            Analyst   \n",
       "...                                                  ...   \n",
       "7663                 Chief Executive Officer, Co-Founder   \n",
       "7664                 Chief Executive Officer, Co-Founder   \n",
       "7665                 Chief Executive Officer, Co-Founder   \n",
       "6624   Vice Chairman of the Board, Chief Operating Of...   \n",
       "22378                                            Analyst   \n",
       "\n",
       "       speaker.is_organizer speaker.other_name  sentence.idx  \\\n",
       "27814                 False                                2   \n",
       "27812                 False                                2   \n",
       "27813                 False                                1   \n",
       "27815                 False                                6   \n",
       "27816                 False                                7   \n",
       "...                     ...                ...           ...   \n",
       "7663                   True                              150   \n",
       "7664                   True                              157   \n",
       "7665                   True                              163   \n",
       "6624                   True                                1   \n",
       "22378                 False                                4   \n",
       "\n",
       "                                           sentence.text sentence.is_spam  \\\n",
       "27814                  Wanted to revisit the AI segment.             None   \n",
       "27812  Mark, in AI how should we think about the meth...             None   \n",
       "27813  And then lastly with the AI results, do you th...             None   \n",
       "27815  So the first part of the question is how much ...             None   \n",
       "27816  Meaning with the ebbs and flows in methanol pr...             None   \n",
       "...                                                  ...              ...   \n",
       "7663   We established the AI security innovation cent...             None   \n",
       "7664   Our technology across endpoint cloud data and ...             None   \n",
       "7665                             Ai is the new paradigm.             None   \n",
       "6624   Our view of the broad opportunities hasn't cha...             None   \n",
       "22378  One of the explanations, maybe that AI is caus...             None   \n",
       "\n",
       "       analysis.ntokens analysis.reference_time  \\\n",
       "27814                 7                    None   \n",
       "27812                17     2015-01-22T00:00:00   \n",
       "27813                27                    None   \n",
       "27815                21     2016-01-22T15:00:00   \n",
       "27816                21                    None   \n",
       "...                 ...                     ...   \n",
       "7663                 13                    None   \n",
       "7664                 21                    None   \n",
       "7665                  6                    None   \n",
       "6624                 19                    None   \n",
       "22378                31                    None   \n",
       "\n",
       "                      analysis.keyphrases analysis.idd_entities  \\\n",
       "27814                                  []                    []   \n",
       "27812                                  []       {'COME_BIO': 1}   \n",
       "27813                                  []                    []   \n",
       "27815                                  []       {'COME_BIO': 1}   \n",
       "27816                   {'VOLATILITY': 1}       {'COME_BIO': 1}   \n",
       "...                                   ...                   ...   \n",
       "7663     {'SECURITY': 1, 'INNOVATION': 1}      {'CITY_TELA': 1}   \n",
       "7664   {'INNOVATION': 1, 'TECHNOLOGY': 1}                    []   \n",
       "7665                                   []                    []   \n",
       "6624                                   []                    []   \n",
       "22378                {'INVESTIGATION': 1}                    []   \n",
       "\n",
       "                                     analysis.entities  \\\n",
       "27814                                               []   \n",
       "27812  {'PERSON_Mark': 1, 'COMMODITY_ENM_methanol': 1}   \n",
       "27813                                               []   \n",
       "27815            {'COMMODITY_ENM_methanol pricing': 1}   \n",
       "27816            {'COMMODITY_ENM_methanol pricing': 1}   \n",
       "...                                                ...   \n",
       "7663                               {'GPE_Tel Aviv': 1}   \n",
       "7664                                                []   \n",
       "7665                                                []   \n",
       "6624                                                []   \n",
       "22378                                               []   \n",
       "\n",
       "       analysis.fin_sentiment  analysis.esg_sentiment  emotions.admiration  \\\n",
       "27814                   -0.01                     NaN                 0.01   \n",
       "27812                   -0.13                     NaN                 0.01   \n",
       "27813                   -0.15                     NaN                 0.01   \n",
       "27815                   -0.13                     NaN                 0.00   \n",
       "27816                   -0.90                     NaN                 0.00   \n",
       "...                       ...                     ...                  ...   \n",
       "7663                     0.55                    0.95                 0.00   \n",
       "7664                     0.95                    0.92                 0.73   \n",
       "7665                     0.17                     NaN                 0.01   \n",
       "6624                     0.03                     NaN                 0.00   \n",
       "22378                    0.25                    0.20                 0.01   \n",
       "\n",
       "       emotions.anger  emotions.annoyance  emotions.approval  \\\n",
       "27814            0.00                 0.0               0.01   \n",
       "27812            0.00                 0.0               0.00   \n",
       "27813            0.00                 0.0               0.14   \n",
       "27815            0.01                 0.0               0.00   \n",
       "27816            0.00                 0.0               0.00   \n",
       "...               ...                 ...                ...   \n",
       "7663             0.00                 0.0               0.00   \n",
       "7664             0.01                 0.0               0.01   \n",
       "7665             0.02                 0.0               0.00   \n",
       "6624             0.00                 0.0               0.11   \n",
       "22378            0.00                 0.0               0.05   \n",
       "\n",
       "       emotions.confusion  emotions.disappointment  emotions.disapproval  \\\n",
       "27814                0.00                     0.00                  0.01   \n",
       "27812                0.03                     0.00                  0.01   \n",
       "27813                0.01                     0.00                  0.00   \n",
       "27815                0.19                     0.00                  0.00   \n",
       "27816                0.11                     0.00                  0.00   \n",
       "...                   ...                      ...                   ...   \n",
       "7663                 0.00                     0.00                  0.00   \n",
       "7664                 0.01                     0.00                  0.01   \n",
       "7665                 0.00                     0.00                  0.03   \n",
       "6624                 0.01                     0.00                  0.01   \n",
       "22378                0.04                     0.05                  0.01   \n",
       "\n",
       "       emotions.fear  emotions.gratitude  emotions.optimism  emotions.pride  \\\n",
       "27814           0.00                0.00               0.01            0.00   \n",
       "27812           0.05                0.00               0.62            0.00   \n",
       "27813           0.00                0.01               0.98            0.00   \n",
       "27815           0.07                0.00               0.00            0.00   \n",
       "27816           0.95                0.00               0.00            0.00   \n",
       "...              ...                 ...                ...             ...   \n",
       "7663            0.00                0.00               0.00            0.00   \n",
       "7664            0.00                0.00               0.27            0.28   \n",
       "7665            0.00                0.00               0.39            0.00   \n",
       "6624            0.00                0.00               0.03            0.00   \n",
       "22378           0.03                0.00               0.04            0.00   \n",
       "\n",
       "       emotions.surprise  emotions.neutral   publ_time search_matches  \\\n",
       "27814               0.00              0.99  1453474800           [AI]   \n",
       "27812               0.00              0.00  1453474800           [AI]   \n",
       "27813               0.00              0.00  1453474800           [AI]   \n",
       "27815               0.00              0.00  1453474800           [AI]   \n",
       "27816               0.00              0.00  1453474800           [AI]   \n",
       "...                  ...               ...         ...            ...   \n",
       "7663                0.00              1.00  1717102800           [AI]   \n",
       "7664                0.00              0.38  1717102800           [AI]   \n",
       "7665                0.00              0.97  1717102800           [AI]   \n",
       "6624                0.00              0.95  1717101000           [AI]   \n",
       "22378               0.02              0.00  1717102800           [AI]   \n",
       "\n",
       "          proc_time Instrument TRBC Economic Sector Name  \\\n",
       "27814           NaN       CE.N           Basic Materials   \n",
       "27812           NaN       CE.N           Basic Materials   \n",
       "27813           NaN       CE.N           Basic Materials   \n",
       "27815           NaN       CE.N           Basic Materials   \n",
       "27816           NaN       CE.N           Basic Materials   \n",
       "...             ...        ...                       ...   \n",
       "7663   1.717110e+09        S.N                Technology   \n",
       "7664   1.717110e+09        S.N                Technology   \n",
       "7665   1.717110e+09        S.N                Technology   \n",
       "6624   1.717140e+09     DELL.N                Technology   \n",
       "22378  1.717141e+09     ESTC.N                Technology   \n",
       "\n",
       "                                           DocumentTitle IssuerOAPermID  \\\n",
       "27814  Celanese Corp, Ordinary Share, New York Stock ...     4295899696   \n",
       "27812  Celanese Corp, Ordinary Share, New York Stock ...     4295899696   \n",
       "27813  Celanese Corp, Ordinary Share, New York Stock ...     4295899696   \n",
       "27815  Celanese Corp, Ordinary Share, New York Stock ...     4295899696   \n",
       "27816  Celanese Corp, Ordinary Share, New York Stock ...     4295899696   \n",
       "...                                                  ...            ...   \n",
       "7663   SentinelOne Inc, Ordinary Share, Class A, New ...     5040208912   \n",
       "7664   SentinelOne Inc, Ordinary Share, Class A, New ...     5040208912   \n",
       "7665   SentinelOne Inc, Ordinary Share, Class A, New ...     5040208912   \n",
       "6624   Dell Technologies Inc, Ordinary Share, Class C...     5040186364   \n",
       "22378  Elastic NV, Ordinary Share, New York Stock Exc...     5037945341   \n",
       "\n",
       "       start_date  \n",
       "27814  2016-01-22  \n",
       "27812  2016-01-22  \n",
       "27813  2016-01-22  \n",
       "27815  2016-01-22  \n",
       "27816  2016-01-22  \n",
       "...           ...  \n",
       "7663   2024-05-30  \n",
       "7664   2024-05-30  \n",
       "7665   2024-05-30  \n",
       "6624   2024-05-30  \n",
       "22378  2024-05-30  \n",
       "\n",
       "[29083 rows x 56 columns]"
      ]
     },
     "execution_count": 10,
     "metadata": {},
     "output_type": "execute_result"
    }
   ],
   "source": [
    "events_df['company.permid'] = events_df['company.permid'].astype(str)\n",
    "events_df = events_df.merge(universe, left_on = 'company.permid', right_on='IssuerOAPermID', how='inner')\n",
    "events_df['start_date'] = pd.to_datetime(events_df['event.start_date']).dt.date\n",
    "events_df = events_df.sort_values(by='start_date')\n",
    "events_df"
   ]
  },
  {
   "cell_type": "markdown",
   "metadata": {},
   "source": [
    "## Section 2: Exploring AI Mentions trends across time and sectors\n",
    "In this section we provide an analysis of AI mentions in earnings calls, focusing on both temporal and sectoral trends. With various plots we demonstrate how the frequency and emotions of AI-related sentences in the transcripts have evolved over time and how these patterns vary across different industries and companies. To scale the analysis we define reusable functions for grouping our initial dataset and producing the plots."
   ]
  },
  {
   "cell_type": "markdown",
   "metadata": {},
   "source": [
    "### Defining helper functions\n",
    "First, we define a function to group our dataset. The ***group_dataset*** function below processes a DataFrame to perform aggregation and analysis based on specified columns passed as an input. "
   ]
  },
  {
   "cell_type": "code",
   "execution_count": 11,
   "metadata": {},
   "outputs": [],
   "source": [
    "def group_dataset(df: pd.DataFrame, cols: list) -> pd.DataFrame:\n",
    "    # Columns to average\n",
    "    mean_columns = [\n",
    "        'analysis.fin_sentiment',\n",
    "        'analysis.esg_sentiment', 'emotions.admiration', 'emotions.anger',\n",
    "        'emotions.annoyance', 'emotions.approval', 'emotions.confusion',\n",
    "        'emotions.disappointment', 'emotions.disapproval', 'emotions.fear',\n",
    "        'emotions.gratitude', 'emotions.optimism', 'emotions.pride',\n",
    "        'emotions.surprise', 'emotions.neutral'\n",
    "    ]\n",
    "\n",
    "    # Aggregation functions for grouping\n",
    "    aggregation_functions = {col: 'mean' for col in mean_columns}\n",
    "    aggregation_functions['sentence.idx'] = 'count'\n",
    "    aggregation_functions['company.permid'] = 'nunique'\n",
    "\n",
    "    # Convert 'start_date' to datetime and create 'quarter' column\n",
    "    df['start_date'] = pd.to_datetime(df['start_date'])\n",
    "    df['quarter'] = df['start_date'].dt.to_period('Q')\n",
    "\n",
    "    # Group by specified columns and aggregate\n",
    "    grouped = df.groupby(cols).agg(aggregation_functions).reset_index()\n",
    "\n",
    "    # Rename columns for clarity\n",
    "    grouped.rename(columns={'sentence.idx': 'num_sentences', 'company.permid': 'company_count'}, inplace=True)\n",
    "\n",
    "    # Sort by 'quarter' and reset index\n",
    "    return grouped.sort_values(by='quarter').reset_index(drop=True)\n"
   ]
  },
  {
   "cell_type": "markdown",
   "metadata": {},
   "source": [
    "Next, we define our plotting functions which will be used to produce different plots for provided metrics, sectors and companies. \n",
    "\n",
    "The function below produces a plot that visualizes changes in both the number of sentences and aggregated metrics, such as emotions and sentiments, across each quarter. It creates line plots for each metric provided in the input list, allowing for a detailed examination of how these metrics evolve over time. Additionally, it includes a bar plots to represent the number of sentences and the number of companies mentioning AI in their transcripts per quarter."
   ]
  },
  {
   "cell_type": "code",
   "execution_count": 12,
   "metadata": {},
   "outputs": [],
   "source": [
    "def plot_metric_and_sentence_trends(data: pd.DataFrame, metrics_to_plot: list, show_company_count: bool = False, name: str = 'all'):\n",
    "    # Extract quarters as strings\n",
    "    quarters = data['quarter'].astype(str)\n",
    "    \n",
    "    # Initialize subplot figure\n",
    "    fig = make_subplots(rows=2, cols=1, \n",
    "                        shared_xaxes=False,\n",
    "                        vertical_spacing=0.15,\n",
    "                        row_width=[0.5, 1],\n",
    "                        specs=[[{'secondary_y': True}], [{}]])\n",
    "\n",
    "    # Add metrics traces\n",
    "    for metric in metrics_to_plot:\n",
    "        fig.add_trace(\n",
    "            go.Scatter(x=quarters, y=data[metric], name=metric.split('.')[1], mode='lines+markers'),\n",
    "            row=1, col=1, secondary_y=False\n",
    "        )\n",
    "    \n",
    "    # Add sentence count trace\n",
    "    fig.add_trace(\n",
    "        go.Bar(x=quarters, y=data['num_sentences'], name='Sentence Count', opacity=0.6),\n",
    "        row=1, col=1, secondary_y=True\n",
    "    )\n",
    "    fig.update_layout(yaxis_title='Emotion Score', height=800, title=f'Quarterly Emotion Trends for {name}')\n",
    "    \n",
    "    # Optionally add company count trace\n",
    "    if show_company_count:\n",
    "        fig.add_trace(\n",
    "            go.Bar(x=quarters, y=data['company_count'], name='Company Count', marker_color='orange'),\n",
    "            row=2, col=1\n",
    "        )\n",
    "        fig.update_yaxes(title_text=\"Sentence Count\", secondary_y=True, row=1, col=1)\n",
    "        fig.update_yaxes(title_text=\"Company Count\", row=2, col=1)\n",
    "\n",
    "    fig.show()\n"
   ]
  },
  {
   "cell_type": "markdown",
   "metadata": {},
   "source": [
    "The function below generates two pie charts for visualizing the sectoral distribution of data. The first pie chart illustrates the distribution of the number of sentences across different economic sectors. The second pie chart represents the sectoral distribution of a specified emotion metric, allowing for the comparison of emotional content across sectors. "
   ]
  },
  {
   "cell_type": "code",
   "execution_count": 13,
   "metadata": {},
   "outputs": [],
   "source": [
    "def plot_sectoral_analysis(data: pd.DataFrame, metric: str):\n",
    "    fig = make_subplots(rows=1, cols=2, specs=[[{'type':'pie'}, {'type':'pie'}]])\n",
    "\n",
    "    fig.add_trace(\n",
    "        go.Pie(labels=data['TRBC Economic Sector Name'], \n",
    "            values=data['num_sentences'],\n",
    "            name='Number of sentences'),\n",
    "        row=1, col=1\n",
    "    )\n",
    "\n",
    "    fig.add_trace(\n",
    "        go.Pie(labels=data['TRBC Economic Sector Name'], \n",
    "            values=data[metric], \n",
    "            name=f\"{metric.split('.')[1]}\"),\n",
    "        row=1, col=2\n",
    "    )\n",
    "\n",
    "    fig.update_layout(\n",
    "        width=1000,\n",
    "        height=500,\n",
    "        annotations=[\n",
    "            dict(text='Number of sentences', x=0.1, xref='paper', y=1.15, yref='paper', showarrow=False, font=dict(size=16)),\n",
    "            dict(text=f\"{metric.split('.')[1]}\".capitalize(), x=0.8, xref='paper', y=1.15, yref='paper', showarrow=False, font=dict(size=16))\n",
    "        ]\n",
    "    )\n",
    "\n",
    "    fig.show()\n"
   ]
  },
  {
   "cell_type": "markdown",
   "metadata": {},
   "source": [
    "Finally the ***plot_sector_area_trend*** function generates an area chart that displays the historical trends of a specified metric across different economic sectors, organized by quarters througout the analyis period. While the previous function shows the aggregated sectoral distribution point in time, this function allows to explore how the sectoral distribution of the metric evolved over time."
   ]
  },
  {
   "cell_type": "code",
   "execution_count": 14,
   "metadata": {},
   "outputs": [],
   "source": [
    "def plot_sector_area_trend(data: pd.DataFrame, metric: str):\n",
    "    data['quarter'] = data['quarter'].astype(str)\n",
    "    fig = px.area(data, x = 'quarter',\n",
    "                 y=metric, color=\"TRBC Economic Sector Name\", width=1400, height=600)\n",
    "\n",
    "    fig.update_layout(\n",
    "        xaxis=dict(\n",
    "            type='category',\n",
    "            categoryorder='array',\n",
    "        ),\n",
    "        title = 'Number of constituents per sector historically',\n",
    "        width=1000, height=500\n",
    "    )\n",
    "    fig.show()"
   ]
  },
  {
   "cell_type": "markdown",
   "metadata": {},
   "source": [
    "### Aggregated view of the analysis\n",
    "\n",
    "Below we group our initial dataset by quarter only, which will enable the aggregated view of the trends in AI mentions, related emotions and sentiments. We use previously defined ***group_dataset*** function as shown below:"
   ]
  },
  {
   "cell_type": "code",
   "execution_count": 15,
   "metadata": {},
   "outputs": [
    {
     "data": {
      "text/html": [
       "<div>\n",
       "<style scoped>\n",
       "    .dataframe tbody tr th:only-of-type {\n",
       "        vertical-align: middle;\n",
       "    }\n",
       "\n",
       "    .dataframe tbody tr th {\n",
       "        vertical-align: top;\n",
       "    }\n",
       "\n",
       "    .dataframe thead th {\n",
       "        text-align: right;\n",
       "    }\n",
       "</style>\n",
       "<table border=\"1\" class=\"dataframe\">\n",
       "  <thead>\n",
       "    <tr style=\"text-align: right;\">\n",
       "      <th></th>\n",
       "      <th>quarter</th>\n",
       "      <th>analysis.fin_sentiment</th>\n",
       "      <th>analysis.esg_sentiment</th>\n",
       "      <th>emotions.admiration</th>\n",
       "      <th>emotions.anger</th>\n",
       "      <th>emotions.annoyance</th>\n",
       "      <th>emotions.approval</th>\n",
       "      <th>emotions.confusion</th>\n",
       "      <th>emotions.disappointment</th>\n",
       "      <th>emotions.disapproval</th>\n",
       "      <th>emotions.fear</th>\n",
       "      <th>emotions.gratitude</th>\n",
       "      <th>emotions.optimism</th>\n",
       "      <th>emotions.pride</th>\n",
       "      <th>emotions.surprise</th>\n",
       "      <th>emotions.neutral</th>\n",
       "      <th>num_sentences</th>\n",
       "      <th>company_count</th>\n",
       "    </tr>\n",
       "  </thead>\n",
       "  <tbody>\n",
       "    <tr>\n",
       "      <th>0</th>\n",
       "      <td>2016Q1</td>\n",
       "      <td>0.317812</td>\n",
       "      <td>0.375000</td>\n",
       "      <td>0.022812</td>\n",
       "      <td>0.000937</td>\n",
       "      <td>0.020313</td>\n",
       "      <td>0.121875</td>\n",
       "      <td>0.014063</td>\n",
       "      <td>0.064375</td>\n",
       "      <td>0.003750</td>\n",
       "      <td>0.124687</td>\n",
       "      <td>0.002812</td>\n",
       "      <td>0.495937</td>\n",
       "      <td>0.049687</td>\n",
       "      <td>0.001250</td>\n",
       "      <td>0.146875</td>\n",
       "      <td>32</td>\n",
       "      <td>9</td>\n",
       "    </tr>\n",
       "    <tr>\n",
       "      <th>1</th>\n",
       "      <td>2016Q2</td>\n",
       "      <td>0.476316</td>\n",
       "      <td>0.702308</td>\n",
       "      <td>0.025526</td>\n",
       "      <td>0.003158</td>\n",
       "      <td>0.013158</td>\n",
       "      <td>0.099211</td>\n",
       "      <td>0.076316</td>\n",
       "      <td>0.072895</td>\n",
       "      <td>0.018947</td>\n",
       "      <td>0.038947</td>\n",
       "      <td>0.003684</td>\n",
       "      <td>0.433158</td>\n",
       "      <td>0.055000</td>\n",
       "      <td>0.001842</td>\n",
       "      <td>0.224737</td>\n",
       "      <td>38</td>\n",
       "      <td>8</td>\n",
       "    </tr>\n",
       "    <tr>\n",
       "      <th>2</th>\n",
       "      <td>2016Q3</td>\n",
       "      <td>0.391481</td>\n",
       "      <td>0.254167</td>\n",
       "      <td>0.073704</td>\n",
       "      <td>0.003704</td>\n",
       "      <td>0.019630</td>\n",
       "      <td>0.085926</td>\n",
       "      <td>0.037778</td>\n",
       "      <td>0.051111</td>\n",
       "      <td>0.021111</td>\n",
       "      <td>0.075926</td>\n",
       "      <td>0.003148</td>\n",
       "      <td>0.443148</td>\n",
       "      <td>0.065370</td>\n",
       "      <td>0.000926</td>\n",
       "      <td>0.202778</td>\n",
       "      <td>54</td>\n",
       "      <td>14</td>\n",
       "    </tr>\n",
       "    <tr>\n",
       "      <th>3</th>\n",
       "      <td>2016Q4</td>\n",
       "      <td>0.473617</td>\n",
       "      <td>0.535179</td>\n",
       "      <td>0.048582</td>\n",
       "      <td>0.009504</td>\n",
       "      <td>0.019220</td>\n",
       "      <td>0.144965</td>\n",
       "      <td>0.048723</td>\n",
       "      <td>0.035461</td>\n",
       "      <td>0.010142</td>\n",
       "      <td>0.047518</td>\n",
       "      <td>0.002908</td>\n",
       "      <td>0.416525</td>\n",
       "      <td>0.038511</td>\n",
       "      <td>0.007872</td>\n",
       "      <td>0.261348</td>\n",
       "      <td>141</td>\n",
       "      <td>28</td>\n",
       "    </tr>\n",
       "    <tr>\n",
       "      <th>4</th>\n",
       "      <td>2017Q1</td>\n",
       "      <td>0.593879</td>\n",
       "      <td>0.651379</td>\n",
       "      <td>0.055517</td>\n",
       "      <td>0.001638</td>\n",
       "      <td>0.014655</td>\n",
       "      <td>0.175690</td>\n",
       "      <td>0.020603</td>\n",
       "      <td>0.045345</td>\n",
       "      <td>0.008190</td>\n",
       "      <td>0.037672</td>\n",
       "      <td>0.003966</td>\n",
       "      <td>0.453362</td>\n",
       "      <td>0.072586</td>\n",
       "      <td>0.001207</td>\n",
       "      <td>0.244224</td>\n",
       "      <td>119</td>\n",
       "      <td>26</td>\n",
       "    </tr>\n",
       "    <tr>\n",
       "      <th>5</th>\n",
       "      <td>2017Q2</td>\n",
       "      <td>0.516276</td>\n",
       "      <td>0.563776</td>\n",
       "      <td>0.036327</td>\n",
       "      <td>0.003010</td>\n",
       "      <td>0.024286</td>\n",
       "      <td>0.158112</td>\n",
       "      <td>0.041276</td>\n",
       "      <td>0.025459</td>\n",
       "      <td>0.016888</td>\n",
       "      <td>0.033010</td>\n",
       "      <td>0.003469</td>\n",
       "      <td>0.451735</td>\n",
       "      <td>0.059031</td>\n",
       "      <td>0.004031</td>\n",
       "      <td>0.265816</td>\n",
       "      <td>197</td>\n",
       "      <td>38</td>\n",
       "    </tr>\n",
       "    <tr>\n",
       "      <th>6</th>\n",
       "      <td>2017Q3</td>\n",
       "      <td>0.613707</td>\n",
       "      <td>0.591743</td>\n",
       "      <td>0.056098</td>\n",
       "      <td>0.001024</td>\n",
       "      <td>0.010634</td>\n",
       "      <td>0.172537</td>\n",
       "      <td>0.045366</td>\n",
       "      <td>0.008634</td>\n",
       "      <td>0.025268</td>\n",
       "      <td>0.020000</td>\n",
       "      <td>0.006195</td>\n",
       "      <td>0.498878</td>\n",
       "      <td>0.059073</td>\n",
       "      <td>0.004634</td>\n",
       "      <td>0.265951</td>\n",
       "      <td>206</td>\n",
       "      <td>49</td>\n",
       "    </tr>\n",
       "    <tr>\n",
       "      <th>7</th>\n",
       "      <td>2017Q4</td>\n",
       "      <td>0.608773</td>\n",
       "      <td>0.616000</td>\n",
       "      <td>0.040409</td>\n",
       "      <td>0.002545</td>\n",
       "      <td>0.010500</td>\n",
       "      <td>0.172091</td>\n",
       "      <td>0.037409</td>\n",
       "      <td>0.010136</td>\n",
       "      <td>0.008455</td>\n",
       "      <td>0.024682</td>\n",
       "      <td>0.004455</td>\n",
       "      <td>0.531818</td>\n",
       "      <td>0.045955</td>\n",
       "      <td>0.001545</td>\n",
       "      <td>0.272091</td>\n",
       "      <td>222</td>\n",
       "      <td>47</td>\n",
       "    </tr>\n",
       "    <tr>\n",
       "      <th>8</th>\n",
       "      <td>2018Q1</td>\n",
       "      <td>0.643182</td>\n",
       "      <td>0.481111</td>\n",
       "      <td>0.035818</td>\n",
       "      <td>0.001273</td>\n",
       "      <td>0.008500</td>\n",
       "      <td>0.167591</td>\n",
       "      <td>0.041773</td>\n",
       "      <td>0.006273</td>\n",
       "      <td>0.010364</td>\n",
       "      <td>0.023773</td>\n",
       "      <td>0.005455</td>\n",
       "      <td>0.493909</td>\n",
       "      <td>0.057727</td>\n",
       "      <td>0.001364</td>\n",
       "      <td>0.310955</td>\n",
       "      <td>223</td>\n",
       "      <td>52</td>\n",
       "    </tr>\n",
       "    <tr>\n",
       "      <th>9</th>\n",
       "      <td>2018Q2</td>\n",
       "      <td>0.578213</td>\n",
       "      <td>0.624788</td>\n",
       "      <td>0.051348</td>\n",
       "      <td>0.001254</td>\n",
       "      <td>0.016489</td>\n",
       "      <td>0.180282</td>\n",
       "      <td>0.047524</td>\n",
       "      <td>0.006426</td>\n",
       "      <td>0.014984</td>\n",
       "      <td>0.024765</td>\n",
       "      <td>0.004702</td>\n",
       "      <td>0.463009</td>\n",
       "      <td>0.058746</td>\n",
       "      <td>0.003856</td>\n",
       "      <td>0.304859</td>\n",
       "      <td>319</td>\n",
       "      <td>72</td>\n",
       "    </tr>\n",
       "    <tr>\n",
       "      <th>10</th>\n",
       "      <td>2018Q3</td>\n",
       "      <td>0.631003</td>\n",
       "      <td>0.636346</td>\n",
       "      <td>0.050346</td>\n",
       "      <td>0.000796</td>\n",
       "      <td>0.013841</td>\n",
       "      <td>0.233599</td>\n",
       "      <td>0.038235</td>\n",
       "      <td>0.009066</td>\n",
       "      <td>0.012491</td>\n",
       "      <td>0.024221</td>\n",
       "      <td>0.004014</td>\n",
       "      <td>0.514083</td>\n",
       "      <td>0.059758</td>\n",
       "      <td>0.002111</td>\n",
       "      <td>0.278374</td>\n",
       "      <td>292</td>\n",
       "      <td>68</td>\n",
       "    </tr>\n",
       "    <tr>\n",
       "      <th>11</th>\n",
       "      <td>2018Q4</td>\n",
       "      <td>0.699860</td>\n",
       "      <td>0.689250</td>\n",
       "      <td>0.048605</td>\n",
       "      <td>0.000744</td>\n",
       "      <td>0.012186</td>\n",
       "      <td>0.275209</td>\n",
       "      <td>0.021442</td>\n",
       "      <td>0.011302</td>\n",
       "      <td>0.008279</td>\n",
       "      <td>0.020698</td>\n",
       "      <td>0.007023</td>\n",
       "      <td>0.599907</td>\n",
       "      <td>0.059628</td>\n",
       "      <td>0.000884</td>\n",
       "      <td>0.273953</td>\n",
       "      <td>216</td>\n",
       "      <td>66</td>\n",
       "    </tr>\n",
       "    <tr>\n",
       "      <th>12</th>\n",
       "      <td>2019Q1</td>\n",
       "      <td>0.711918</td>\n",
       "      <td>0.705556</td>\n",
       "      <td>0.040531</td>\n",
       "      <td>0.001388</td>\n",
       "      <td>0.013061</td>\n",
       "      <td>0.241918</td>\n",
       "      <td>0.019796</td>\n",
       "      <td>0.014694</td>\n",
       "      <td>0.008939</td>\n",
       "      <td>0.024041</td>\n",
       "      <td>0.005184</td>\n",
       "      <td>0.546939</td>\n",
       "      <td>0.094082</td>\n",
       "      <td>0.003184</td>\n",
       "      <td>0.323061</td>\n",
       "      <td>246</td>\n",
       "      <td>75</td>\n",
       "    </tr>\n",
       "    <tr>\n",
       "      <th>13</th>\n",
       "      <td>2019Q2</td>\n",
       "      <td>0.632891</td>\n",
       "      <td>0.656622</td>\n",
       "      <td>0.043605</td>\n",
       "      <td>0.001973</td>\n",
       "      <td>0.007415</td>\n",
       "      <td>0.254660</td>\n",
       "      <td>0.019150</td>\n",
       "      <td>0.003265</td>\n",
       "      <td>0.006905</td>\n",
       "      <td>0.015238</td>\n",
       "      <td>0.003673</td>\n",
       "      <td>0.499014</td>\n",
       "      <td>0.058129</td>\n",
       "      <td>0.003741</td>\n",
       "      <td>0.327823</td>\n",
       "      <td>294</td>\n",
       "      <td>83</td>\n",
       "    </tr>\n",
       "    <tr>\n",
       "      <th>14</th>\n",
       "      <td>2019Q3</td>\n",
       "      <td>0.693363</td>\n",
       "      <td>0.615108</td>\n",
       "      <td>0.032222</td>\n",
       "      <td>0.003814</td>\n",
       "      <td>0.015586</td>\n",
       "      <td>0.257598</td>\n",
       "      <td>0.028198</td>\n",
       "      <td>0.006937</td>\n",
       "      <td>0.008919</td>\n",
       "      <td>0.011682</td>\n",
       "      <td>0.003754</td>\n",
       "      <td>0.486577</td>\n",
       "      <td>0.060450</td>\n",
       "      <td>0.003153</td>\n",
       "      <td>0.330300</td>\n",
       "      <td>336</td>\n",
       "      <td>79</td>\n",
       "    </tr>\n",
       "    <tr>\n",
       "      <th>15</th>\n",
       "      <td>2019Q4</td>\n",
       "      <td>0.640833</td>\n",
       "      <td>0.704823</td>\n",
       "      <td>0.032986</td>\n",
       "      <td>0.001910</td>\n",
       "      <td>0.018229</td>\n",
       "      <td>0.217257</td>\n",
       "      <td>0.033542</td>\n",
       "      <td>0.010660</td>\n",
       "      <td>0.012049</td>\n",
       "      <td>0.014965</td>\n",
       "      <td>0.004306</td>\n",
       "      <td>0.492569</td>\n",
       "      <td>0.067361</td>\n",
       "      <td>0.004514</td>\n",
       "      <td>0.298403</td>\n",
       "      <td>288</td>\n",
       "      <td>84</td>\n",
       "    </tr>\n",
       "    <tr>\n",
       "      <th>16</th>\n",
       "      <td>2020Q1</td>\n",
       "      <td>0.740368</td>\n",
       "      <td>0.692500</td>\n",
       "      <td>0.046765</td>\n",
       "      <td>0.000956</td>\n",
       "      <td>0.008824</td>\n",
       "      <td>0.226324</td>\n",
       "      <td>0.017721</td>\n",
       "      <td>0.013713</td>\n",
       "      <td>0.004779</td>\n",
       "      <td>0.016801</td>\n",
       "      <td>0.003787</td>\n",
       "      <td>0.488566</td>\n",
       "      <td>0.059706</td>\n",
       "      <td>0.002537</td>\n",
       "      <td>0.363529</td>\n",
       "      <td>274</td>\n",
       "      <td>94</td>\n",
       "    </tr>\n",
       "    <tr>\n",
       "      <th>17</th>\n",
       "      <td>2020Q2</td>\n",
       "      <td>0.764541</td>\n",
       "      <td>0.644417</td>\n",
       "      <td>0.040097</td>\n",
       "      <td>0.000580</td>\n",
       "      <td>0.006812</td>\n",
       "      <td>0.253527</td>\n",
       "      <td>0.012367</td>\n",
       "      <td>0.003382</td>\n",
       "      <td>0.005556</td>\n",
       "      <td>0.016329</td>\n",
       "      <td>0.008937</td>\n",
       "      <td>0.520386</td>\n",
       "      <td>0.081836</td>\n",
       "      <td>0.002609</td>\n",
       "      <td>0.333913</td>\n",
       "      <td>209</td>\n",
       "      <td>70</td>\n",
       "    </tr>\n",
       "    <tr>\n",
       "      <th>18</th>\n",
       "      <td>2020Q3</td>\n",
       "      <td>0.751536</td>\n",
       "      <td>0.672185</td>\n",
       "      <td>0.045131</td>\n",
       "      <td>0.001948</td>\n",
       "      <td>0.011086</td>\n",
       "      <td>0.275393</td>\n",
       "      <td>0.016217</td>\n",
       "      <td>0.004981</td>\n",
       "      <td>0.008876</td>\n",
       "      <td>0.014719</td>\n",
       "      <td>0.006816</td>\n",
       "      <td>0.535693</td>\n",
       "      <td>0.057678</td>\n",
       "      <td>0.002622</td>\n",
       "      <td>0.321536</td>\n",
       "      <td>267</td>\n",
       "      <td>80</td>\n",
       "    </tr>\n",
       "    <tr>\n",
       "      <th>19</th>\n",
       "      <td>2020Q4</td>\n",
       "      <td>0.725538</td>\n",
       "      <td>0.696404</td>\n",
       "      <td>0.042308</td>\n",
       "      <td>0.000795</td>\n",
       "      <td>0.009103</td>\n",
       "      <td>0.279154</td>\n",
       "      <td>0.014513</td>\n",
       "      <td>0.010974</td>\n",
       "      <td>0.008846</td>\n",
       "      <td>0.008385</td>\n",
       "      <td>0.005077</td>\n",
       "      <td>0.525923</td>\n",
       "      <td>0.067000</td>\n",
       "      <td>0.001641</td>\n",
       "      <td>0.353744</td>\n",
       "      <td>391</td>\n",
       "      <td>100</td>\n",
       "    </tr>\n",
       "    <tr>\n",
       "      <th>20</th>\n",
       "      <td>2021Q1</td>\n",
       "      <td>0.736631</td>\n",
       "      <td>0.732228</td>\n",
       "      <td>0.051941</td>\n",
       "      <td>0.001509</td>\n",
       "      <td>0.007520</td>\n",
       "      <td>0.255337</td>\n",
       "      <td>0.021941</td>\n",
       "      <td>0.019650</td>\n",
       "      <td>0.010081</td>\n",
       "      <td>0.015741</td>\n",
       "      <td>0.006765</td>\n",
       "      <td>0.566577</td>\n",
       "      <td>0.068976</td>\n",
       "      <td>0.002938</td>\n",
       "      <td>0.274286</td>\n",
       "      <td>376</td>\n",
       "      <td>103</td>\n",
       "    </tr>\n",
       "    <tr>\n",
       "      <th>21</th>\n",
       "      <td>2021Q2</td>\n",
       "      <td>0.703839</td>\n",
       "      <td>0.679223</td>\n",
       "      <td>0.054643</td>\n",
       "      <td>0.001406</td>\n",
       "      <td>0.016563</td>\n",
       "      <td>0.253103</td>\n",
       "      <td>0.021362</td>\n",
       "      <td>0.011830</td>\n",
       "      <td>0.011808</td>\n",
       "      <td>0.014799</td>\n",
       "      <td>0.008281</td>\n",
       "      <td>0.498571</td>\n",
       "      <td>0.073683</td>\n",
       "      <td>0.002946</td>\n",
       "      <td>0.335223</td>\n",
       "      <td>450</td>\n",
       "      <td>124</td>\n",
       "    </tr>\n",
       "    <tr>\n",
       "      <th>22</th>\n",
       "      <td>2021Q3</td>\n",
       "      <td>0.753374</td>\n",
       "      <td>0.755877</td>\n",
       "      <td>0.048240</td>\n",
       "      <td>0.002714</td>\n",
       "      <td>0.006430</td>\n",
       "      <td>0.249756</td>\n",
       "      <td>0.017531</td>\n",
       "      <td>0.007628</td>\n",
       "      <td>0.007408</td>\n",
       "      <td>0.013374</td>\n",
       "      <td>0.004841</td>\n",
       "      <td>0.502983</td>\n",
       "      <td>0.088142</td>\n",
       "      <td>0.002567</td>\n",
       "      <td>0.335623</td>\n",
       "      <td>409</td>\n",
       "      <td>112</td>\n",
       "    </tr>\n",
       "    <tr>\n",
       "      <th>23</th>\n",
       "      <td>2021Q4</td>\n",
       "      <td>0.688047</td>\n",
       "      <td>0.673942</td>\n",
       "      <td>0.054824</td>\n",
       "      <td>0.001106</td>\n",
       "      <td>0.007624</td>\n",
       "      <td>0.248094</td>\n",
       "      <td>0.020894</td>\n",
       "      <td>0.013294</td>\n",
       "      <td>0.006329</td>\n",
       "      <td>0.016518</td>\n",
       "      <td>0.005835</td>\n",
       "      <td>0.468800</td>\n",
       "      <td>0.086871</td>\n",
       "      <td>0.002353</td>\n",
       "      <td>0.359906</td>\n",
       "      <td>427</td>\n",
       "      <td>117</td>\n",
       "    </tr>\n",
       "    <tr>\n",
       "      <th>24</th>\n",
       "      <td>2022Q1</td>\n",
       "      <td>0.736855</td>\n",
       "      <td>0.688412</td>\n",
       "      <td>0.053857</td>\n",
       "      <td>0.000922</td>\n",
       "      <td>0.010713</td>\n",
       "      <td>0.233312</td>\n",
       "      <td>0.018553</td>\n",
       "      <td>0.007652</td>\n",
       "      <td>0.005577</td>\n",
       "      <td>0.015409</td>\n",
       "      <td>0.008407</td>\n",
       "      <td>0.489623</td>\n",
       "      <td>0.079560</td>\n",
       "      <td>0.001992</td>\n",
       "      <td>0.376394</td>\n",
       "      <td>477</td>\n",
       "      <td>122</td>\n",
       "    </tr>\n",
       "    <tr>\n",
       "      <th>25</th>\n",
       "      <td>2022Q2</td>\n",
       "      <td>0.739048</td>\n",
       "      <td>0.716224</td>\n",
       "      <td>0.055533</td>\n",
       "      <td>0.001179</td>\n",
       "      <td>0.010045</td>\n",
       "      <td>0.264422</td>\n",
       "      <td>0.015964</td>\n",
       "      <td>0.011905</td>\n",
       "      <td>0.005465</td>\n",
       "      <td>0.021837</td>\n",
       "      <td>0.004785</td>\n",
       "      <td>0.511383</td>\n",
       "      <td>0.064240</td>\n",
       "      <td>0.002540</td>\n",
       "      <td>0.353560</td>\n",
       "      <td>442</td>\n",
       "      <td>128</td>\n",
       "    </tr>\n",
       "    <tr>\n",
       "      <th>26</th>\n",
       "      <td>2022Q3</td>\n",
       "      <td>0.678359</td>\n",
       "      <td>0.680198</td>\n",
       "      <td>0.061028</td>\n",
       "      <td>0.001510</td>\n",
       "      <td>0.014748</td>\n",
       "      <td>0.233435</td>\n",
       "      <td>0.040438</td>\n",
       "      <td>0.019475</td>\n",
       "      <td>0.011969</td>\n",
       "      <td>0.016389</td>\n",
       "      <td>0.004289</td>\n",
       "      <td>0.471072</td>\n",
       "      <td>0.072560</td>\n",
       "      <td>0.001926</td>\n",
       "      <td>0.324639</td>\n",
       "      <td>457</td>\n",
       "      <td>116</td>\n",
       "    </tr>\n",
       "    <tr>\n",
       "      <th>27</th>\n",
       "      <td>2022Q4</td>\n",
       "      <td>0.724462</td>\n",
       "      <td>0.693393</td>\n",
       "      <td>0.043333</td>\n",
       "      <td>0.001872</td>\n",
       "      <td>0.007410</td>\n",
       "      <td>0.239974</td>\n",
       "      <td>0.020179</td>\n",
       "      <td>0.020128</td>\n",
       "      <td>0.003897</td>\n",
       "      <td>0.026000</td>\n",
       "      <td>0.005564</td>\n",
       "      <td>0.527000</td>\n",
       "      <td>0.080487</td>\n",
       "      <td>0.002256</td>\n",
       "      <td>0.308974</td>\n",
       "      <td>393</td>\n",
       "      <td>104</td>\n",
       "    </tr>\n",
       "    <tr>\n",
       "      <th>28</th>\n",
       "      <td>2023Q1</td>\n",
       "      <td>0.639888</td>\n",
       "      <td>0.587701</td>\n",
       "      <td>0.044376</td>\n",
       "      <td>0.001542</td>\n",
       "      <td>0.012756</td>\n",
       "      <td>0.207287</td>\n",
       "      <td>0.041904</td>\n",
       "      <td>0.008053</td>\n",
       "      <td>0.010758</td>\n",
       "      <td>0.030405</td>\n",
       "      <td>0.007054</td>\n",
       "      <td>0.509647</td>\n",
       "      <td>0.064892</td>\n",
       "      <td>0.004634</td>\n",
       "      <td>0.262808</td>\n",
       "      <td>1166</td>\n",
       "      <td>165</td>\n",
       "    </tr>\n",
       "    <tr>\n",
       "      <th>29</th>\n",
       "      <td>2023Q2</td>\n",
       "      <td>0.581391</td>\n",
       "      <td>0.576972</td>\n",
       "      <td>0.039898</td>\n",
       "      <td>0.002253</td>\n",
       "      <td>0.013641</td>\n",
       "      <td>0.218704</td>\n",
       "      <td>0.046658</td>\n",
       "      <td>0.010895</td>\n",
       "      <td>0.015025</td>\n",
       "      <td>0.040482</td>\n",
       "      <td>0.006274</td>\n",
       "      <td>0.494864</td>\n",
       "      <td>0.053965</td>\n",
       "      <td>0.006192</td>\n",
       "      <td>0.242535</td>\n",
       "      <td>3072</td>\n",
       "      <td>235</td>\n",
       "    </tr>\n",
       "    <tr>\n",
       "      <th>30</th>\n",
       "      <td>2023Q3</td>\n",
       "      <td>0.600699</td>\n",
       "      <td>0.618519</td>\n",
       "      <td>0.039611</td>\n",
       "      <td>0.001672</td>\n",
       "      <td>0.013666</td>\n",
       "      <td>0.213572</td>\n",
       "      <td>0.044231</td>\n",
       "      <td>0.011758</td>\n",
       "      <td>0.012172</td>\n",
       "      <td>0.036269</td>\n",
       "      <td>0.005522</td>\n",
       "      <td>0.507971</td>\n",
       "      <td>0.057812</td>\n",
       "      <td>0.002954</td>\n",
       "      <td>0.255274</td>\n",
       "      <td>4343</td>\n",
       "      <td>317</td>\n",
       "    </tr>\n",
       "    <tr>\n",
       "      <th>31</th>\n",
       "      <td>2023Q4</td>\n",
       "      <td>0.630694</td>\n",
       "      <td>0.636073</td>\n",
       "      <td>0.041237</td>\n",
       "      <td>0.001891</td>\n",
       "      <td>0.012343</td>\n",
       "      <td>0.219261</td>\n",
       "      <td>0.037106</td>\n",
       "      <td>0.013141</td>\n",
       "      <td>0.009727</td>\n",
       "      <td>0.030264</td>\n",
       "      <td>0.006523</td>\n",
       "      <td>0.509803</td>\n",
       "      <td>0.062151</td>\n",
       "      <td>0.005027</td>\n",
       "      <td>0.272908</td>\n",
       "      <td>2244</td>\n",
       "      <td>206</td>\n",
       "    </tr>\n",
       "    <tr>\n",
       "      <th>32</th>\n",
       "      <td>2024Q1</td>\n",
       "      <td>0.619793</td>\n",
       "      <td>0.621720</td>\n",
       "      <td>0.036798</td>\n",
       "      <td>0.003290</td>\n",
       "      <td>0.012761</td>\n",
       "      <td>0.211333</td>\n",
       "      <td>0.039646</td>\n",
       "      <td>0.013892</td>\n",
       "      <td>0.012500</td>\n",
       "      <td>0.027944</td>\n",
       "      <td>0.005803</td>\n",
       "      <td>0.498576</td>\n",
       "      <td>0.062221</td>\n",
       "      <td>0.003492</td>\n",
       "      <td>0.271273</td>\n",
       "      <td>5834</td>\n",
       "      <td>340</td>\n",
       "    </tr>\n",
       "    <tr>\n",
       "      <th>33</th>\n",
       "      <td>2024Q2</td>\n",
       "      <td>0.639043</td>\n",
       "      <td>0.656245</td>\n",
       "      <td>0.042249</td>\n",
       "      <td>0.001475</td>\n",
       "      <td>0.014922</td>\n",
       "      <td>0.224920</td>\n",
       "      <td>0.038404</td>\n",
       "      <td>0.012486</td>\n",
       "      <td>0.011161</td>\n",
       "      <td>0.031729</td>\n",
       "      <td>0.006912</td>\n",
       "      <td>0.525259</td>\n",
       "      <td>0.068101</td>\n",
       "      <td>0.004504</td>\n",
       "      <td>0.255254</td>\n",
       "      <td>4629</td>\n",
       "      <td>358</td>\n",
       "    </tr>\n",
       "  </tbody>\n",
       "</table>\n",
       "</div>"
      ],
      "text/plain": [
       "   quarter  analysis.fin_sentiment  analysis.esg_sentiment  \\\n",
       "0   2016Q1                0.317812                0.375000   \n",
       "1   2016Q2                0.476316                0.702308   \n",
       "2   2016Q3                0.391481                0.254167   \n",
       "3   2016Q4                0.473617                0.535179   \n",
       "4   2017Q1                0.593879                0.651379   \n",
       "5   2017Q2                0.516276                0.563776   \n",
       "6   2017Q3                0.613707                0.591743   \n",
       "7   2017Q4                0.608773                0.616000   \n",
       "8   2018Q1                0.643182                0.481111   \n",
       "9   2018Q2                0.578213                0.624788   \n",
       "10  2018Q3                0.631003                0.636346   \n",
       "11  2018Q4                0.699860                0.689250   \n",
       "12  2019Q1                0.711918                0.705556   \n",
       "13  2019Q2                0.632891                0.656622   \n",
       "14  2019Q3                0.693363                0.615108   \n",
       "15  2019Q4                0.640833                0.704823   \n",
       "16  2020Q1                0.740368                0.692500   \n",
       "17  2020Q2                0.764541                0.644417   \n",
       "18  2020Q3                0.751536                0.672185   \n",
       "19  2020Q4                0.725538                0.696404   \n",
       "20  2021Q1                0.736631                0.732228   \n",
       "21  2021Q2                0.703839                0.679223   \n",
       "22  2021Q3                0.753374                0.755877   \n",
       "23  2021Q4                0.688047                0.673942   \n",
       "24  2022Q1                0.736855                0.688412   \n",
       "25  2022Q2                0.739048                0.716224   \n",
       "26  2022Q3                0.678359                0.680198   \n",
       "27  2022Q4                0.724462                0.693393   \n",
       "28  2023Q1                0.639888                0.587701   \n",
       "29  2023Q2                0.581391                0.576972   \n",
       "30  2023Q3                0.600699                0.618519   \n",
       "31  2023Q4                0.630694                0.636073   \n",
       "32  2024Q1                0.619793                0.621720   \n",
       "33  2024Q2                0.639043                0.656245   \n",
       "\n",
       "    emotions.admiration  emotions.anger  emotions.annoyance  \\\n",
       "0              0.022812        0.000937            0.020313   \n",
       "1              0.025526        0.003158            0.013158   \n",
       "2              0.073704        0.003704            0.019630   \n",
       "3              0.048582        0.009504            0.019220   \n",
       "4              0.055517        0.001638            0.014655   \n",
       "5              0.036327        0.003010            0.024286   \n",
       "6              0.056098        0.001024            0.010634   \n",
       "7              0.040409        0.002545            0.010500   \n",
       "8              0.035818        0.001273            0.008500   \n",
       "9              0.051348        0.001254            0.016489   \n",
       "10             0.050346        0.000796            0.013841   \n",
       "11             0.048605        0.000744            0.012186   \n",
       "12             0.040531        0.001388            0.013061   \n",
       "13             0.043605        0.001973            0.007415   \n",
       "14             0.032222        0.003814            0.015586   \n",
       "15             0.032986        0.001910            0.018229   \n",
       "16             0.046765        0.000956            0.008824   \n",
       "17             0.040097        0.000580            0.006812   \n",
       "18             0.045131        0.001948            0.011086   \n",
       "19             0.042308        0.000795            0.009103   \n",
       "20             0.051941        0.001509            0.007520   \n",
       "21             0.054643        0.001406            0.016563   \n",
       "22             0.048240        0.002714            0.006430   \n",
       "23             0.054824        0.001106            0.007624   \n",
       "24             0.053857        0.000922            0.010713   \n",
       "25             0.055533        0.001179            0.010045   \n",
       "26             0.061028        0.001510            0.014748   \n",
       "27             0.043333        0.001872            0.007410   \n",
       "28             0.044376        0.001542            0.012756   \n",
       "29             0.039898        0.002253            0.013641   \n",
       "30             0.039611        0.001672            0.013666   \n",
       "31             0.041237        0.001891            0.012343   \n",
       "32             0.036798        0.003290            0.012761   \n",
       "33             0.042249        0.001475            0.014922   \n",
       "\n",
       "    emotions.approval  emotions.confusion  emotions.disappointment  \\\n",
       "0            0.121875            0.014063                 0.064375   \n",
       "1            0.099211            0.076316                 0.072895   \n",
       "2            0.085926            0.037778                 0.051111   \n",
       "3            0.144965            0.048723                 0.035461   \n",
       "4            0.175690            0.020603                 0.045345   \n",
       "5            0.158112            0.041276                 0.025459   \n",
       "6            0.172537            0.045366                 0.008634   \n",
       "7            0.172091            0.037409                 0.010136   \n",
       "8            0.167591            0.041773                 0.006273   \n",
       "9            0.180282            0.047524                 0.006426   \n",
       "10           0.233599            0.038235                 0.009066   \n",
       "11           0.275209            0.021442                 0.011302   \n",
       "12           0.241918            0.019796                 0.014694   \n",
       "13           0.254660            0.019150                 0.003265   \n",
       "14           0.257598            0.028198                 0.006937   \n",
       "15           0.217257            0.033542                 0.010660   \n",
       "16           0.226324            0.017721                 0.013713   \n",
       "17           0.253527            0.012367                 0.003382   \n",
       "18           0.275393            0.016217                 0.004981   \n",
       "19           0.279154            0.014513                 0.010974   \n",
       "20           0.255337            0.021941                 0.019650   \n",
       "21           0.253103            0.021362                 0.011830   \n",
       "22           0.249756            0.017531                 0.007628   \n",
       "23           0.248094            0.020894                 0.013294   \n",
       "24           0.233312            0.018553                 0.007652   \n",
       "25           0.264422            0.015964                 0.011905   \n",
       "26           0.233435            0.040438                 0.019475   \n",
       "27           0.239974            0.020179                 0.020128   \n",
       "28           0.207287            0.041904                 0.008053   \n",
       "29           0.218704            0.046658                 0.010895   \n",
       "30           0.213572            0.044231                 0.011758   \n",
       "31           0.219261            0.037106                 0.013141   \n",
       "32           0.211333            0.039646                 0.013892   \n",
       "33           0.224920            0.038404                 0.012486   \n",
       "\n",
       "    emotions.disapproval  emotions.fear  emotions.gratitude  \\\n",
       "0               0.003750       0.124687            0.002812   \n",
       "1               0.018947       0.038947            0.003684   \n",
       "2               0.021111       0.075926            0.003148   \n",
       "3               0.010142       0.047518            0.002908   \n",
       "4               0.008190       0.037672            0.003966   \n",
       "5               0.016888       0.033010            0.003469   \n",
       "6               0.025268       0.020000            0.006195   \n",
       "7               0.008455       0.024682            0.004455   \n",
       "8               0.010364       0.023773            0.005455   \n",
       "9               0.014984       0.024765            0.004702   \n",
       "10              0.012491       0.024221            0.004014   \n",
       "11              0.008279       0.020698            0.007023   \n",
       "12              0.008939       0.024041            0.005184   \n",
       "13              0.006905       0.015238            0.003673   \n",
       "14              0.008919       0.011682            0.003754   \n",
       "15              0.012049       0.014965            0.004306   \n",
       "16              0.004779       0.016801            0.003787   \n",
       "17              0.005556       0.016329            0.008937   \n",
       "18              0.008876       0.014719            0.006816   \n",
       "19              0.008846       0.008385            0.005077   \n",
       "20              0.010081       0.015741            0.006765   \n",
       "21              0.011808       0.014799            0.008281   \n",
       "22              0.007408       0.013374            0.004841   \n",
       "23              0.006329       0.016518            0.005835   \n",
       "24              0.005577       0.015409            0.008407   \n",
       "25              0.005465       0.021837            0.004785   \n",
       "26              0.011969       0.016389            0.004289   \n",
       "27              0.003897       0.026000            0.005564   \n",
       "28              0.010758       0.030405            0.007054   \n",
       "29              0.015025       0.040482            0.006274   \n",
       "30              0.012172       0.036269            0.005522   \n",
       "31              0.009727       0.030264            0.006523   \n",
       "32              0.012500       0.027944            0.005803   \n",
       "33              0.011161       0.031729            0.006912   \n",
       "\n",
       "    emotions.optimism  emotions.pride  emotions.surprise  emotions.neutral  \\\n",
       "0            0.495937        0.049687           0.001250          0.146875   \n",
       "1            0.433158        0.055000           0.001842          0.224737   \n",
       "2            0.443148        0.065370           0.000926          0.202778   \n",
       "3            0.416525        0.038511           0.007872          0.261348   \n",
       "4            0.453362        0.072586           0.001207          0.244224   \n",
       "5            0.451735        0.059031           0.004031          0.265816   \n",
       "6            0.498878        0.059073           0.004634          0.265951   \n",
       "7            0.531818        0.045955           0.001545          0.272091   \n",
       "8            0.493909        0.057727           0.001364          0.310955   \n",
       "9            0.463009        0.058746           0.003856          0.304859   \n",
       "10           0.514083        0.059758           0.002111          0.278374   \n",
       "11           0.599907        0.059628           0.000884          0.273953   \n",
       "12           0.546939        0.094082           0.003184          0.323061   \n",
       "13           0.499014        0.058129           0.003741          0.327823   \n",
       "14           0.486577        0.060450           0.003153          0.330300   \n",
       "15           0.492569        0.067361           0.004514          0.298403   \n",
       "16           0.488566        0.059706           0.002537          0.363529   \n",
       "17           0.520386        0.081836           0.002609          0.333913   \n",
       "18           0.535693        0.057678           0.002622          0.321536   \n",
       "19           0.525923        0.067000           0.001641          0.353744   \n",
       "20           0.566577        0.068976           0.002938          0.274286   \n",
       "21           0.498571        0.073683           0.002946          0.335223   \n",
       "22           0.502983        0.088142           0.002567          0.335623   \n",
       "23           0.468800        0.086871           0.002353          0.359906   \n",
       "24           0.489623        0.079560           0.001992          0.376394   \n",
       "25           0.511383        0.064240           0.002540          0.353560   \n",
       "26           0.471072        0.072560           0.001926          0.324639   \n",
       "27           0.527000        0.080487           0.002256          0.308974   \n",
       "28           0.509647        0.064892           0.004634          0.262808   \n",
       "29           0.494864        0.053965           0.006192          0.242535   \n",
       "30           0.507971        0.057812           0.002954          0.255274   \n",
       "31           0.509803        0.062151           0.005027          0.272908   \n",
       "32           0.498576        0.062221           0.003492          0.271273   \n",
       "33           0.525259        0.068101           0.004504          0.255254   \n",
       "\n",
       "    num_sentences  company_count  \n",
       "0              32              9  \n",
       "1              38              8  \n",
       "2              54             14  \n",
       "3             141             28  \n",
       "4             119             26  \n",
       "5             197             38  \n",
       "6             206             49  \n",
       "7             222             47  \n",
       "8             223             52  \n",
       "9             319             72  \n",
       "10            292             68  \n",
       "11            216             66  \n",
       "12            246             75  \n",
       "13            294             83  \n",
       "14            336             79  \n",
       "15            288             84  \n",
       "16            274             94  \n",
       "17            209             70  \n",
       "18            267             80  \n",
       "19            391            100  \n",
       "20            376            103  \n",
       "21            450            124  \n",
       "22            409            112  \n",
       "23            427            117  \n",
       "24            477            122  \n",
       "25            442            128  \n",
       "26            457            116  \n",
       "27            393            104  \n",
       "28           1166            165  \n",
       "29           3072            235  \n",
       "30           4343            317  \n",
       "31           2244            206  \n",
       "32           5834            340  \n",
       "33           4629            358  "
      ]
     },
     "execution_count": 15,
     "metadata": {},
     "output_type": "execute_result"
    }
   ],
   "source": [
    "group_cols = ['quarter']\n",
    "events_by_quarter  = group_dataset(events_df, group_cols)\n",
    "events_by_quarter"
   ]
  },
  {
   "cell_type": "markdown",
   "metadata": {},
   "source": [
    "As we now have the event dataset grouped by quarter, we pass it to ***plot_metric_and_sentence_trends*** function along with the metrics column to produce a visualisation showing the changes in AI mentions and emotions around it over time. We also define the metrics we are interested in below, which you can change with other metrics available in the grouped dataset."
   ]
  },
  {
   "cell_type": "code",
   "execution_count": 16,
   "metadata": {},
   "outputs": [
    {
     "data": {
      "application/vnd.plotly.v1+json": {
       "config": {
        "plotlyServerURL": "https://plot.ly"
       },
       "data": [
        {
         "mode": "lines+markers",
         "name": "optimism",
         "type": "scatter",
         "x": [
          "2016Q1",
          "2016Q2",
          "2016Q3",
          "2016Q4",
          "2017Q1",
          "2017Q2",
          "2017Q3",
          "2017Q4",
          "2018Q1",
          "2018Q2",
          "2018Q3",
          "2018Q4",
          "2019Q1",
          "2019Q2",
          "2019Q3",
          "2019Q4",
          "2020Q1",
          "2020Q2",
          "2020Q3",
          "2020Q4",
          "2021Q1",
          "2021Q2",
          "2021Q3",
          "2021Q4",
          "2022Q1",
          "2022Q2",
          "2022Q3",
          "2022Q4",
          "2023Q1",
          "2023Q2",
          "2023Q3",
          "2023Q4",
          "2024Q1",
          "2024Q2"
         ],
         "xaxis": "x",
         "y": [
          0.4959375,
          0.43315789473684213,
          0.4431481481481481,
          0.41652482269503543,
          0.4533620689655173,
          0.45173469387755105,
          0.4988780487804878,
          0.5318181818181819,
          0.4939090909090909,
          0.4630094043887147,
          0.514083044982699,
          0.599906976744186,
          0.5469387755102041,
          0.4990136054421769,
          0.4865765765765766,
          0.4925694444444445,
          0.4885661764705882,
          0.5203864734299517,
          0.5356928838951311,
          0.5259230769230769,
          0.5665768194070081,
          0.49857142857142855,
          0.5029828850855745,
          0.4688,
          0.48962264150943396,
          0.5113832199546485,
          0.47107221006564554,
          0.527,
          0.5096468561584842,
          0.4948638897999344,
          0.507971316215591,
          0.5098028673835125,
          0.49857561648560095,
          0.5252588081774684
         ],
         "yaxis": "y"
        },
        {
         "mode": "lines+markers",
         "name": "fin_sentiment",
         "type": "scatter",
         "x": [
          "2016Q1",
          "2016Q2",
          "2016Q3",
          "2016Q4",
          "2017Q1",
          "2017Q2",
          "2017Q3",
          "2017Q4",
          "2018Q1",
          "2018Q2",
          "2018Q3",
          "2018Q4",
          "2019Q1",
          "2019Q2",
          "2019Q3",
          "2019Q4",
          "2020Q1",
          "2020Q2",
          "2020Q3",
          "2020Q4",
          "2021Q1",
          "2021Q2",
          "2021Q3",
          "2021Q4",
          "2022Q1",
          "2022Q2",
          "2022Q3",
          "2022Q4",
          "2023Q1",
          "2023Q2",
          "2023Q3",
          "2023Q4",
          "2024Q1",
          "2024Q2"
         ],
         "xaxis": "x",
         "y": [
          0.3178125,
          0.47631578947368414,
          0.3914814814814815,
          0.4736170212765958,
          0.5938793103448275,
          0.5162755102040816,
          0.6137073170731707,
          0.6087727272727274,
          0.6431818181818182,
          0.5782131661442006,
          0.6310034602076124,
          0.6998604651162791,
          0.7119183673469387,
          0.632891156462585,
          0.6933633633633633,
          0.6408333333333334,
          0.7403676470588235,
          0.7645410628019323,
          0.7515355805243445,
          0.7255384615384615,
          0.7366307277628031,
          0.7038392857142857,
          0.7533740831295843,
          0.6880470588235295,
          0.7368553459119496,
          0.7390476190476191,
          0.6783588621444201,
          0.7244615384615384,
          0.6398880275624461,
          0.5813906198753689,
          0.6006985889428637,
          0.6306944444444444,
          0.6197930677703052,
          0.6390430622009569
         ],
         "yaxis": "y"
        },
        {
         "mode": "lines+markers",
         "name": "esg_sentiment",
         "type": "scatter",
         "x": [
          "2016Q1",
          "2016Q2",
          "2016Q3",
          "2016Q4",
          "2017Q1",
          "2017Q2",
          "2017Q3",
          "2017Q4",
          "2018Q1",
          "2018Q2",
          "2018Q3",
          "2018Q4",
          "2019Q1",
          "2019Q2",
          "2019Q3",
          "2019Q4",
          "2020Q1",
          "2020Q2",
          "2020Q3",
          "2020Q4",
          "2021Q1",
          "2021Q2",
          "2021Q3",
          "2021Q4",
          "2022Q1",
          "2022Q2",
          "2022Q3",
          "2022Q4",
          "2023Q1",
          "2023Q2",
          "2023Q3",
          "2023Q4",
          "2024Q1",
          "2024Q2"
         ],
         "xaxis": "x",
         "y": [
          0.375,
          0.7023076923076922,
          0.25416666666666665,
          0.5351785714285714,
          0.6513793103448277,
          0.5637755102040817,
          0.591743119266055,
          0.616,
          0.48111111111111116,
          0.6247878787878788,
          0.6363461538461538,
          0.6892499999999999,
          0.7055555555555555,
          0.6566216216216215,
          0.6151075268817204,
          0.7048226950354609,
          0.6925,
          0.6444166666666666,
          0.6721854304635762,
          0.6964035087719298,
          0.7322277227722772,
          0.6792226148409894,
          0.7558771929824561,
          0.6739419087136929,
          0.6884121621621622,
          0.7162240663900414,
          0.6801984126984126,
          0.6933928571428571,
          0.5877006172839506,
          0.5769721115537849,
          0.6185192780968006,
          0.6360725308641976,
          0.6217196439923713,
          0.6562445065920894
         ],
         "yaxis": "y"
        },
        {
         "name": "Sentence Count",
         "opacity": 0.6,
         "type": "bar",
         "x": [
          "2016Q1",
          "2016Q2",
          "2016Q3",
          "2016Q4",
          "2017Q1",
          "2017Q2",
          "2017Q3",
          "2017Q4",
          "2018Q1",
          "2018Q2",
          "2018Q3",
          "2018Q4",
          "2019Q1",
          "2019Q2",
          "2019Q3",
          "2019Q4",
          "2020Q1",
          "2020Q2",
          "2020Q3",
          "2020Q4",
          "2021Q1",
          "2021Q2",
          "2021Q3",
          "2021Q4",
          "2022Q1",
          "2022Q2",
          "2022Q3",
          "2022Q4",
          "2023Q1",
          "2023Q2",
          "2023Q3",
          "2023Q4",
          "2024Q1",
          "2024Q2"
         ],
         "xaxis": "x",
         "y": [
          32,
          38,
          54,
          141,
          119,
          197,
          206,
          222,
          223,
          319,
          292,
          216,
          246,
          294,
          336,
          288,
          274,
          209,
          267,
          391,
          376,
          450,
          409,
          427,
          477,
          442,
          457,
          393,
          1166,
          3072,
          4343,
          2244,
          5834,
          4629
         ],
         "yaxis": "y2"
        },
        {
         "marker": {
          "color": "orange"
         },
         "name": "Company Count",
         "type": "bar",
         "x": [
          "2016Q1",
          "2016Q2",
          "2016Q3",
          "2016Q4",
          "2017Q1",
          "2017Q2",
          "2017Q3",
          "2017Q4",
          "2018Q1",
          "2018Q2",
          "2018Q3",
          "2018Q4",
          "2019Q1",
          "2019Q2",
          "2019Q3",
          "2019Q4",
          "2020Q1",
          "2020Q2",
          "2020Q3",
          "2020Q4",
          "2021Q1",
          "2021Q2",
          "2021Q3",
          "2021Q4",
          "2022Q1",
          "2022Q2",
          "2022Q3",
          "2022Q4",
          "2023Q1",
          "2023Q2",
          "2023Q3",
          "2023Q4",
          "2024Q1",
          "2024Q2"
         ],
         "xaxis": "x2",
         "y": [
          9,
          8,
          14,
          28,
          26,
          38,
          49,
          47,
          52,
          72,
          68,
          66,
          75,
          83,
          79,
          84,
          94,
          70,
          80,
          100,
          103,
          124,
          112,
          117,
          122,
          128,
          116,
          104,
          165,
          235,
          317,
          206,
          340,
          358
         ],
         "yaxis": "y3"
        }
       ],
       "layout": {
        "height": 800,
        "template": {
         "data": {
          "bar": [
           {
            "error_x": {
             "color": "#2a3f5f"
            },
            "error_y": {
             "color": "#2a3f5f"
            },
            "marker": {
             "line": {
              "color": "#E5ECF6",
              "width": 0.5
             },
             "pattern": {
              "fillmode": "overlay",
              "size": 10,
              "solidity": 0.2
             }
            },
            "type": "bar"
           }
          ],
          "barpolar": [
           {
            "marker": {
             "line": {
              "color": "#E5ECF6",
              "width": 0.5
             },
             "pattern": {
              "fillmode": "overlay",
              "size": 10,
              "solidity": 0.2
             }
            },
            "type": "barpolar"
           }
          ],
          "carpet": [
           {
            "aaxis": {
             "endlinecolor": "#2a3f5f",
             "gridcolor": "white",
             "linecolor": "white",
             "minorgridcolor": "white",
             "startlinecolor": "#2a3f5f"
            },
            "baxis": {
             "endlinecolor": "#2a3f5f",
             "gridcolor": "white",
             "linecolor": "white",
             "minorgridcolor": "white",
             "startlinecolor": "#2a3f5f"
            },
            "type": "carpet"
           }
          ],
          "choropleth": [
           {
            "colorbar": {
             "outlinewidth": 0,
             "ticks": ""
            },
            "type": "choropleth"
           }
          ],
          "contour": [
           {
            "colorbar": {
             "outlinewidth": 0,
             "ticks": ""
            },
            "colorscale": [
             [
              0,
              "#0d0887"
             ],
             [
              0.1111111111111111,
              "#46039f"
             ],
             [
              0.2222222222222222,
              "#7201a8"
             ],
             [
              0.3333333333333333,
              "#9c179e"
             ],
             [
              0.4444444444444444,
              "#bd3786"
             ],
             [
              0.5555555555555556,
              "#d8576b"
             ],
             [
              0.6666666666666666,
              "#ed7953"
             ],
             [
              0.7777777777777778,
              "#fb9f3a"
             ],
             [
              0.8888888888888888,
              "#fdca26"
             ],
             [
              1,
              "#f0f921"
             ]
            ],
            "type": "contour"
           }
          ],
          "contourcarpet": [
           {
            "colorbar": {
             "outlinewidth": 0,
             "ticks": ""
            },
            "type": "contourcarpet"
           }
          ],
          "heatmap": [
           {
            "colorbar": {
             "outlinewidth": 0,
             "ticks": ""
            },
            "colorscale": [
             [
              0,
              "#0d0887"
             ],
             [
              0.1111111111111111,
              "#46039f"
             ],
             [
              0.2222222222222222,
              "#7201a8"
             ],
             [
              0.3333333333333333,
              "#9c179e"
             ],
             [
              0.4444444444444444,
              "#bd3786"
             ],
             [
              0.5555555555555556,
              "#d8576b"
             ],
             [
              0.6666666666666666,
              "#ed7953"
             ],
             [
              0.7777777777777778,
              "#fb9f3a"
             ],
             [
              0.8888888888888888,
              "#fdca26"
             ],
             [
              1,
              "#f0f921"
             ]
            ],
            "type": "heatmap"
           }
          ],
          "heatmapgl": [
           {
            "colorbar": {
             "outlinewidth": 0,
             "ticks": ""
            },
            "colorscale": [
             [
              0,
              "#0d0887"
             ],
             [
              0.1111111111111111,
              "#46039f"
             ],
             [
              0.2222222222222222,
              "#7201a8"
             ],
             [
              0.3333333333333333,
              "#9c179e"
             ],
             [
              0.4444444444444444,
              "#bd3786"
             ],
             [
              0.5555555555555556,
              "#d8576b"
             ],
             [
              0.6666666666666666,
              "#ed7953"
             ],
             [
              0.7777777777777778,
              "#fb9f3a"
             ],
             [
              0.8888888888888888,
              "#fdca26"
             ],
             [
              1,
              "#f0f921"
             ]
            ],
            "type": "heatmapgl"
           }
          ],
          "histogram": [
           {
            "marker": {
             "pattern": {
              "fillmode": "overlay",
              "size": 10,
              "solidity": 0.2
             }
            },
            "type": "histogram"
           }
          ],
          "histogram2d": [
           {
            "colorbar": {
             "outlinewidth": 0,
             "ticks": ""
            },
            "colorscale": [
             [
              0,
              "#0d0887"
             ],
             [
              0.1111111111111111,
              "#46039f"
             ],
             [
              0.2222222222222222,
              "#7201a8"
             ],
             [
              0.3333333333333333,
              "#9c179e"
             ],
             [
              0.4444444444444444,
              "#bd3786"
             ],
             [
              0.5555555555555556,
              "#d8576b"
             ],
             [
              0.6666666666666666,
              "#ed7953"
             ],
             [
              0.7777777777777778,
              "#fb9f3a"
             ],
             [
              0.8888888888888888,
              "#fdca26"
             ],
             [
              1,
              "#f0f921"
             ]
            ],
            "type": "histogram2d"
           }
          ],
          "histogram2dcontour": [
           {
            "colorbar": {
             "outlinewidth": 0,
             "ticks": ""
            },
            "colorscale": [
             [
              0,
              "#0d0887"
             ],
             [
              0.1111111111111111,
              "#46039f"
             ],
             [
              0.2222222222222222,
              "#7201a8"
             ],
             [
              0.3333333333333333,
              "#9c179e"
             ],
             [
              0.4444444444444444,
              "#bd3786"
             ],
             [
              0.5555555555555556,
              "#d8576b"
             ],
             [
              0.6666666666666666,
              "#ed7953"
             ],
             [
              0.7777777777777778,
              "#fb9f3a"
             ],
             [
              0.8888888888888888,
              "#fdca26"
             ],
             [
              1,
              "#f0f921"
             ]
            ],
            "type": "histogram2dcontour"
           }
          ],
          "mesh3d": [
           {
            "colorbar": {
             "outlinewidth": 0,
             "ticks": ""
            },
            "type": "mesh3d"
           }
          ],
          "parcoords": [
           {
            "line": {
             "colorbar": {
              "outlinewidth": 0,
              "ticks": ""
             }
            },
            "type": "parcoords"
           }
          ],
          "pie": [
           {
            "automargin": true,
            "type": "pie"
           }
          ],
          "scatter": [
           {
            "fillpattern": {
             "fillmode": "overlay",
             "size": 10,
             "solidity": 0.2
            },
            "type": "scatter"
           }
          ],
          "scatter3d": [
           {
            "line": {
             "colorbar": {
              "outlinewidth": 0,
              "ticks": ""
             }
            },
            "marker": {
             "colorbar": {
              "outlinewidth": 0,
              "ticks": ""
             }
            },
            "type": "scatter3d"
           }
          ],
          "scattercarpet": [
           {
            "marker": {
             "colorbar": {
              "outlinewidth": 0,
              "ticks": ""
             }
            },
            "type": "scattercarpet"
           }
          ],
          "scattergeo": [
           {
            "marker": {
             "colorbar": {
              "outlinewidth": 0,
              "ticks": ""
             }
            },
            "type": "scattergeo"
           }
          ],
          "scattergl": [
           {
            "marker": {
             "colorbar": {
              "outlinewidth": 0,
              "ticks": ""
             }
            },
            "type": "scattergl"
           }
          ],
          "scattermapbox": [
           {
            "marker": {
             "colorbar": {
              "outlinewidth": 0,
              "ticks": ""
             }
            },
            "type": "scattermapbox"
           }
          ],
          "scatterpolar": [
           {
            "marker": {
             "colorbar": {
              "outlinewidth": 0,
              "ticks": ""
             }
            },
            "type": "scatterpolar"
           }
          ],
          "scatterpolargl": [
           {
            "marker": {
             "colorbar": {
              "outlinewidth": 0,
              "ticks": ""
             }
            },
            "type": "scatterpolargl"
           }
          ],
          "scatterternary": [
           {
            "marker": {
             "colorbar": {
              "outlinewidth": 0,
              "ticks": ""
             }
            },
            "type": "scatterternary"
           }
          ],
          "surface": [
           {
            "colorbar": {
             "outlinewidth": 0,
             "ticks": ""
            },
            "colorscale": [
             [
              0,
              "#0d0887"
             ],
             [
              0.1111111111111111,
              "#46039f"
             ],
             [
              0.2222222222222222,
              "#7201a8"
             ],
             [
              0.3333333333333333,
              "#9c179e"
             ],
             [
              0.4444444444444444,
              "#bd3786"
             ],
             [
              0.5555555555555556,
              "#d8576b"
             ],
             [
              0.6666666666666666,
              "#ed7953"
             ],
             [
              0.7777777777777778,
              "#fb9f3a"
             ],
             [
              0.8888888888888888,
              "#fdca26"
             ],
             [
              1,
              "#f0f921"
             ]
            ],
            "type": "surface"
           }
          ],
          "table": [
           {
            "cells": {
             "fill": {
              "color": "#EBF0F8"
             },
             "line": {
              "color": "white"
             }
            },
            "header": {
             "fill": {
              "color": "#C8D4E3"
             },
             "line": {
              "color": "white"
             }
            },
            "type": "table"
           }
          ]
         },
         "layout": {
          "annotationdefaults": {
           "arrowcolor": "#2a3f5f",
           "arrowhead": 0,
           "arrowwidth": 1
          },
          "autotypenumbers": "strict",
          "coloraxis": {
           "colorbar": {
            "outlinewidth": 0,
            "ticks": ""
           }
          },
          "colorscale": {
           "diverging": [
            [
             0,
             "#8e0152"
            ],
            [
             0.1,
             "#c51b7d"
            ],
            [
             0.2,
             "#de77ae"
            ],
            [
             0.3,
             "#f1b6da"
            ],
            [
             0.4,
             "#fde0ef"
            ],
            [
             0.5,
             "#f7f7f7"
            ],
            [
             0.6,
             "#e6f5d0"
            ],
            [
             0.7,
             "#b8e186"
            ],
            [
             0.8,
             "#7fbc41"
            ],
            [
             0.9,
             "#4d9221"
            ],
            [
             1,
             "#276419"
            ]
           ],
           "sequential": [
            [
             0,
             "#0d0887"
            ],
            [
             0.1111111111111111,
             "#46039f"
            ],
            [
             0.2222222222222222,
             "#7201a8"
            ],
            [
             0.3333333333333333,
             "#9c179e"
            ],
            [
             0.4444444444444444,
             "#bd3786"
            ],
            [
             0.5555555555555556,
             "#d8576b"
            ],
            [
             0.6666666666666666,
             "#ed7953"
            ],
            [
             0.7777777777777778,
             "#fb9f3a"
            ],
            [
             0.8888888888888888,
             "#fdca26"
            ],
            [
             1,
             "#f0f921"
            ]
           ],
           "sequentialminus": [
            [
             0,
             "#0d0887"
            ],
            [
             0.1111111111111111,
             "#46039f"
            ],
            [
             0.2222222222222222,
             "#7201a8"
            ],
            [
             0.3333333333333333,
             "#9c179e"
            ],
            [
             0.4444444444444444,
             "#bd3786"
            ],
            [
             0.5555555555555556,
             "#d8576b"
            ],
            [
             0.6666666666666666,
             "#ed7953"
            ],
            [
             0.7777777777777778,
             "#fb9f3a"
            ],
            [
             0.8888888888888888,
             "#fdca26"
            ],
            [
             1,
             "#f0f921"
            ]
           ]
          },
          "colorway": [
           "#636efa",
           "#EF553B",
           "#00cc96",
           "#ab63fa",
           "#FFA15A",
           "#19d3f3",
           "#FF6692",
           "#B6E880",
           "#FF97FF",
           "#FECB52"
          ],
          "font": {
           "color": "#2a3f5f"
          },
          "geo": {
           "bgcolor": "white",
           "lakecolor": "white",
           "landcolor": "#E5ECF6",
           "showlakes": true,
           "showland": true,
           "subunitcolor": "white"
          },
          "hoverlabel": {
           "align": "left"
          },
          "hovermode": "closest",
          "mapbox": {
           "style": "light"
          },
          "paper_bgcolor": "white",
          "plot_bgcolor": "#E5ECF6",
          "polar": {
           "angularaxis": {
            "gridcolor": "white",
            "linecolor": "white",
            "ticks": ""
           },
           "bgcolor": "#E5ECF6",
           "radialaxis": {
            "gridcolor": "white",
            "linecolor": "white",
            "ticks": ""
           }
          },
          "scene": {
           "xaxis": {
            "backgroundcolor": "#E5ECF6",
            "gridcolor": "white",
            "gridwidth": 2,
            "linecolor": "white",
            "showbackground": true,
            "ticks": "",
            "zerolinecolor": "white"
           },
           "yaxis": {
            "backgroundcolor": "#E5ECF6",
            "gridcolor": "white",
            "gridwidth": 2,
            "linecolor": "white",
            "showbackground": true,
            "ticks": "",
            "zerolinecolor": "white"
           },
           "zaxis": {
            "backgroundcolor": "#E5ECF6",
            "gridcolor": "white",
            "gridwidth": 2,
            "linecolor": "white",
            "showbackground": true,
            "ticks": "",
            "zerolinecolor": "white"
           }
          },
          "shapedefaults": {
           "line": {
            "color": "#2a3f5f"
           }
          },
          "ternary": {
           "aaxis": {
            "gridcolor": "white",
            "linecolor": "white",
            "ticks": ""
           },
           "baxis": {
            "gridcolor": "white",
            "linecolor": "white",
            "ticks": ""
           },
           "bgcolor": "#E5ECF6",
           "caxis": {
            "gridcolor": "white",
            "linecolor": "white",
            "ticks": ""
           }
          },
          "title": {
           "x": 0.05
          },
          "xaxis": {
           "automargin": true,
           "gridcolor": "white",
           "linecolor": "white",
           "ticks": "",
           "title": {
            "standoff": 15
           },
           "zerolinecolor": "white",
           "zerolinewidth": 2
          },
          "yaxis": {
           "automargin": true,
           "gridcolor": "white",
           "linecolor": "white",
           "ticks": "",
           "title": {
            "standoff": 15
           },
           "zerolinecolor": "white",
           "zerolinewidth": 2
          }
         }
        },
        "title": {
         "text": "Quarterly Emotion Trends for all"
        },
        "xaxis": {
         "anchor": "y",
         "domain": [
          0,
          0.94
         ]
        },
        "xaxis2": {
         "anchor": "y3",
         "domain": [
          0,
          0.94
         ]
        },
        "yaxis": {
         "anchor": "x",
         "domain": [
          0.43333333333333335,
          1
         ],
         "title": {
          "text": "Emotion Score"
         }
        },
        "yaxis2": {
         "anchor": "x",
         "overlaying": "y",
         "side": "right",
         "title": {
          "text": "Sentence Count"
         }
        },
        "yaxis3": {
         "anchor": "x2",
         "domain": [
          0,
          0.2833333333333333
         ],
         "title": {
          "text": "Company Count"
         }
        }
       }
      }
     },
     "metadata": {},
     "output_type": "display_data"
    }
   ],
   "source": [
    "metrics = [\n",
    "       'emotions.optimism',\n",
    "       'analysis.fin_sentiment','analysis.esg_sentiment'\t\n",
    "       ]\n",
    "\n",
    "plot_metric_and_sentence_trends(events_by_quarter, metrics, show_company_count=True)"
   ]
  },
  {
   "cell_type": "markdown",
   "metadata": {},
   "source": [
    "The graph above illustrates the changes in AI mentions and the associated optimism, financial, and ESG sentiments over time. It shows a gradual increase in the number of AI mentions, rising from just 32 in 2016 to 393 by the fourth quarter of 2022. However, following the public release of ChatGPT and it's advanced models, mentions surged dramatically, tripling to 3076 in the first quarter of 2023. This trend continued into the first quarter of 2024, with AI mentions reaching 5307, approximately 14 times the amount recorded in the fourth quarter of 2022. This growth can be attributed not only to the increased frequency of AI mentions but also to a rise in the number of companies focusing on AI, as indicated by the second bar plot. Interestingly, despite the heightened focus on AI, the graph reveals a decline in optimism, as well as a decrease in financial and ESG sentiments, following the rapid increase in AI-related discussions.\n",
    "\n",
    "In regards to the latter, we also plot the fear and confusion emotions around AI mentions where we observe an increase after the popularization of AI, which might be perhaps explained by the realizations of the issues and the challanges of wider AI adoption."
   ]
  },
  {
   "cell_type": "code",
   "execution_count": 17,
   "metadata": {},
   "outputs": [
    {
     "data": {
      "application/vnd.plotly.v1+json": {
       "config": {
        "plotlyServerURL": "https://plot.ly"
       },
       "data": [
        {
         "mode": "lines+markers",
         "name": "confusion",
         "type": "scatter",
         "x": [
          "2016Q1",
          "2016Q2",
          "2016Q3",
          "2016Q4",
          "2017Q1",
          "2017Q2",
          "2017Q3",
          "2017Q4",
          "2018Q1",
          "2018Q2",
          "2018Q3",
          "2018Q4",
          "2019Q1",
          "2019Q2",
          "2019Q3",
          "2019Q4",
          "2020Q1",
          "2020Q2",
          "2020Q3",
          "2020Q4",
          "2021Q1",
          "2021Q2",
          "2021Q3",
          "2021Q4",
          "2022Q1",
          "2022Q2",
          "2022Q3",
          "2022Q4",
          "2023Q1",
          "2023Q2",
          "2023Q3",
          "2023Q4",
          "2024Q1",
          "2024Q2"
         ],
         "xaxis": "x",
         "y": [
          0.0140625,
          0.07631578947368421,
          0.03777777777777778,
          0.04872340425531915,
          0.02060344827586207,
          0.041275510204081635,
          0.04536585365853659,
          0.03740909090909091,
          0.041772727272727274,
          0.047523510971786836,
          0.03823529411764706,
          0.02144186046511628,
          0.019795918367346937,
          0.019149659863945578,
          0.0281981981981982,
          0.033541666666666664,
          0.01772058823529412,
          0.012367149758454106,
          0.016217228464419475,
          0.014512820512820513,
          0.021940700808625337,
          0.021361607142857144,
          0.017530562347188264,
          0.020894117647058827,
          0.018553459119496855,
          0.01596371882086168,
          0.04043763676148797,
          0.02017948717948718,
          0.04190353143841516,
          0.04665792062971466,
          0.04423085820032385,
          0.037105734767025084,
          0.039646490774271424,
          0.03840365376250544
         ],
         "yaxis": "y"
        },
        {
         "mode": "lines+markers",
         "name": "fear",
         "type": "scatter",
         "x": [
          "2016Q1",
          "2016Q2",
          "2016Q3",
          "2016Q4",
          "2017Q1",
          "2017Q2",
          "2017Q3",
          "2017Q4",
          "2018Q1",
          "2018Q2",
          "2018Q3",
          "2018Q4",
          "2019Q1",
          "2019Q2",
          "2019Q3",
          "2019Q4",
          "2020Q1",
          "2020Q2",
          "2020Q3",
          "2020Q4",
          "2021Q1",
          "2021Q2",
          "2021Q3",
          "2021Q4",
          "2022Q1",
          "2022Q2",
          "2022Q3",
          "2022Q4",
          "2023Q1",
          "2023Q2",
          "2023Q3",
          "2023Q4",
          "2024Q1",
          "2024Q2"
         ],
         "xaxis": "x",
         "y": [
          0.12468749999999999,
          0.03894736842105263,
          0.07592592592592592,
          0.0475177304964539,
          0.037672413793103446,
          0.03301020408163265,
          0.019999999999999997,
          0.02468181818181818,
          0.023772727272727275,
          0.024764890282131663,
          0.02422145328719723,
          0.020697674418604654,
          0.02404081632653061,
          0.01523809523809524,
          0.011681681681681683,
          0.014965277777777777,
          0.016801470588235296,
          0.016328502415458936,
          0.014719101123595505,
          0.008384615384615384,
          0.01574123989218329,
          0.014799107142857143,
          0.013374083129584352,
          0.01651764705882353,
          0.015408805031446543,
          0.02183673469387755,
          0.01638949671772429,
          0.026000000000000002,
          0.03040482342807924,
          0.04048212528697934,
          0.036268794818413136,
          0.030264336917562723,
          0.027944473185031904,
          0.03172901261418008
         ],
         "yaxis": "y"
        },
        {
         "name": "Sentence Count",
         "opacity": 0.6,
         "type": "bar",
         "x": [
          "2016Q1",
          "2016Q2",
          "2016Q3",
          "2016Q4",
          "2017Q1",
          "2017Q2",
          "2017Q3",
          "2017Q4",
          "2018Q1",
          "2018Q2",
          "2018Q3",
          "2018Q4",
          "2019Q1",
          "2019Q2",
          "2019Q3",
          "2019Q4",
          "2020Q1",
          "2020Q2",
          "2020Q3",
          "2020Q4",
          "2021Q1",
          "2021Q2",
          "2021Q3",
          "2021Q4",
          "2022Q1",
          "2022Q2",
          "2022Q3",
          "2022Q4",
          "2023Q1",
          "2023Q2",
          "2023Q3",
          "2023Q4",
          "2024Q1",
          "2024Q2"
         ],
         "xaxis": "x",
         "y": [
          32,
          38,
          54,
          141,
          119,
          197,
          206,
          222,
          223,
          319,
          292,
          216,
          246,
          294,
          336,
          288,
          274,
          209,
          267,
          391,
          376,
          450,
          409,
          427,
          477,
          442,
          457,
          393,
          1166,
          3072,
          4343,
          2244,
          5834,
          4629
         ],
         "yaxis": "y2"
        }
       ],
       "layout": {
        "height": 800,
        "template": {
         "data": {
          "bar": [
           {
            "error_x": {
             "color": "#2a3f5f"
            },
            "error_y": {
             "color": "#2a3f5f"
            },
            "marker": {
             "line": {
              "color": "#E5ECF6",
              "width": 0.5
             },
             "pattern": {
              "fillmode": "overlay",
              "size": 10,
              "solidity": 0.2
             }
            },
            "type": "bar"
           }
          ],
          "barpolar": [
           {
            "marker": {
             "line": {
              "color": "#E5ECF6",
              "width": 0.5
             },
             "pattern": {
              "fillmode": "overlay",
              "size": 10,
              "solidity": 0.2
             }
            },
            "type": "barpolar"
           }
          ],
          "carpet": [
           {
            "aaxis": {
             "endlinecolor": "#2a3f5f",
             "gridcolor": "white",
             "linecolor": "white",
             "minorgridcolor": "white",
             "startlinecolor": "#2a3f5f"
            },
            "baxis": {
             "endlinecolor": "#2a3f5f",
             "gridcolor": "white",
             "linecolor": "white",
             "minorgridcolor": "white",
             "startlinecolor": "#2a3f5f"
            },
            "type": "carpet"
           }
          ],
          "choropleth": [
           {
            "colorbar": {
             "outlinewidth": 0,
             "ticks": ""
            },
            "type": "choropleth"
           }
          ],
          "contour": [
           {
            "colorbar": {
             "outlinewidth": 0,
             "ticks": ""
            },
            "colorscale": [
             [
              0,
              "#0d0887"
             ],
             [
              0.1111111111111111,
              "#46039f"
             ],
             [
              0.2222222222222222,
              "#7201a8"
             ],
             [
              0.3333333333333333,
              "#9c179e"
             ],
             [
              0.4444444444444444,
              "#bd3786"
             ],
             [
              0.5555555555555556,
              "#d8576b"
             ],
             [
              0.6666666666666666,
              "#ed7953"
             ],
             [
              0.7777777777777778,
              "#fb9f3a"
             ],
             [
              0.8888888888888888,
              "#fdca26"
             ],
             [
              1,
              "#f0f921"
             ]
            ],
            "type": "contour"
           }
          ],
          "contourcarpet": [
           {
            "colorbar": {
             "outlinewidth": 0,
             "ticks": ""
            },
            "type": "contourcarpet"
           }
          ],
          "heatmap": [
           {
            "colorbar": {
             "outlinewidth": 0,
             "ticks": ""
            },
            "colorscale": [
             [
              0,
              "#0d0887"
             ],
             [
              0.1111111111111111,
              "#46039f"
             ],
             [
              0.2222222222222222,
              "#7201a8"
             ],
             [
              0.3333333333333333,
              "#9c179e"
             ],
             [
              0.4444444444444444,
              "#bd3786"
             ],
             [
              0.5555555555555556,
              "#d8576b"
             ],
             [
              0.6666666666666666,
              "#ed7953"
             ],
             [
              0.7777777777777778,
              "#fb9f3a"
             ],
             [
              0.8888888888888888,
              "#fdca26"
             ],
             [
              1,
              "#f0f921"
             ]
            ],
            "type": "heatmap"
           }
          ],
          "heatmapgl": [
           {
            "colorbar": {
             "outlinewidth": 0,
             "ticks": ""
            },
            "colorscale": [
             [
              0,
              "#0d0887"
             ],
             [
              0.1111111111111111,
              "#46039f"
             ],
             [
              0.2222222222222222,
              "#7201a8"
             ],
             [
              0.3333333333333333,
              "#9c179e"
             ],
             [
              0.4444444444444444,
              "#bd3786"
             ],
             [
              0.5555555555555556,
              "#d8576b"
             ],
             [
              0.6666666666666666,
              "#ed7953"
             ],
             [
              0.7777777777777778,
              "#fb9f3a"
             ],
             [
              0.8888888888888888,
              "#fdca26"
             ],
             [
              1,
              "#f0f921"
             ]
            ],
            "type": "heatmapgl"
           }
          ],
          "histogram": [
           {
            "marker": {
             "pattern": {
              "fillmode": "overlay",
              "size": 10,
              "solidity": 0.2
             }
            },
            "type": "histogram"
           }
          ],
          "histogram2d": [
           {
            "colorbar": {
             "outlinewidth": 0,
             "ticks": ""
            },
            "colorscale": [
             [
              0,
              "#0d0887"
             ],
             [
              0.1111111111111111,
              "#46039f"
             ],
             [
              0.2222222222222222,
              "#7201a8"
             ],
             [
              0.3333333333333333,
              "#9c179e"
             ],
             [
              0.4444444444444444,
              "#bd3786"
             ],
             [
              0.5555555555555556,
              "#d8576b"
             ],
             [
              0.6666666666666666,
              "#ed7953"
             ],
             [
              0.7777777777777778,
              "#fb9f3a"
             ],
             [
              0.8888888888888888,
              "#fdca26"
             ],
             [
              1,
              "#f0f921"
             ]
            ],
            "type": "histogram2d"
           }
          ],
          "histogram2dcontour": [
           {
            "colorbar": {
             "outlinewidth": 0,
             "ticks": ""
            },
            "colorscale": [
             [
              0,
              "#0d0887"
             ],
             [
              0.1111111111111111,
              "#46039f"
             ],
             [
              0.2222222222222222,
              "#7201a8"
             ],
             [
              0.3333333333333333,
              "#9c179e"
             ],
             [
              0.4444444444444444,
              "#bd3786"
             ],
             [
              0.5555555555555556,
              "#d8576b"
             ],
             [
              0.6666666666666666,
              "#ed7953"
             ],
             [
              0.7777777777777778,
              "#fb9f3a"
             ],
             [
              0.8888888888888888,
              "#fdca26"
             ],
             [
              1,
              "#f0f921"
             ]
            ],
            "type": "histogram2dcontour"
           }
          ],
          "mesh3d": [
           {
            "colorbar": {
             "outlinewidth": 0,
             "ticks": ""
            },
            "type": "mesh3d"
           }
          ],
          "parcoords": [
           {
            "line": {
             "colorbar": {
              "outlinewidth": 0,
              "ticks": ""
             }
            },
            "type": "parcoords"
           }
          ],
          "pie": [
           {
            "automargin": true,
            "type": "pie"
           }
          ],
          "scatter": [
           {
            "fillpattern": {
             "fillmode": "overlay",
             "size": 10,
             "solidity": 0.2
            },
            "type": "scatter"
           }
          ],
          "scatter3d": [
           {
            "line": {
             "colorbar": {
              "outlinewidth": 0,
              "ticks": ""
             }
            },
            "marker": {
             "colorbar": {
              "outlinewidth": 0,
              "ticks": ""
             }
            },
            "type": "scatter3d"
           }
          ],
          "scattercarpet": [
           {
            "marker": {
             "colorbar": {
              "outlinewidth": 0,
              "ticks": ""
             }
            },
            "type": "scattercarpet"
           }
          ],
          "scattergeo": [
           {
            "marker": {
             "colorbar": {
              "outlinewidth": 0,
              "ticks": ""
             }
            },
            "type": "scattergeo"
           }
          ],
          "scattergl": [
           {
            "marker": {
             "colorbar": {
              "outlinewidth": 0,
              "ticks": ""
             }
            },
            "type": "scattergl"
           }
          ],
          "scattermapbox": [
           {
            "marker": {
             "colorbar": {
              "outlinewidth": 0,
              "ticks": ""
             }
            },
            "type": "scattermapbox"
           }
          ],
          "scatterpolar": [
           {
            "marker": {
             "colorbar": {
              "outlinewidth": 0,
              "ticks": ""
             }
            },
            "type": "scatterpolar"
           }
          ],
          "scatterpolargl": [
           {
            "marker": {
             "colorbar": {
              "outlinewidth": 0,
              "ticks": ""
             }
            },
            "type": "scatterpolargl"
           }
          ],
          "scatterternary": [
           {
            "marker": {
             "colorbar": {
              "outlinewidth": 0,
              "ticks": ""
             }
            },
            "type": "scatterternary"
           }
          ],
          "surface": [
           {
            "colorbar": {
             "outlinewidth": 0,
             "ticks": ""
            },
            "colorscale": [
             [
              0,
              "#0d0887"
             ],
             [
              0.1111111111111111,
              "#46039f"
             ],
             [
              0.2222222222222222,
              "#7201a8"
             ],
             [
              0.3333333333333333,
              "#9c179e"
             ],
             [
              0.4444444444444444,
              "#bd3786"
             ],
             [
              0.5555555555555556,
              "#d8576b"
             ],
             [
              0.6666666666666666,
              "#ed7953"
             ],
             [
              0.7777777777777778,
              "#fb9f3a"
             ],
             [
              0.8888888888888888,
              "#fdca26"
             ],
             [
              1,
              "#f0f921"
             ]
            ],
            "type": "surface"
           }
          ],
          "table": [
           {
            "cells": {
             "fill": {
              "color": "#EBF0F8"
             },
             "line": {
              "color": "white"
             }
            },
            "header": {
             "fill": {
              "color": "#C8D4E3"
             },
             "line": {
              "color": "white"
             }
            },
            "type": "table"
           }
          ]
         },
         "layout": {
          "annotationdefaults": {
           "arrowcolor": "#2a3f5f",
           "arrowhead": 0,
           "arrowwidth": 1
          },
          "autotypenumbers": "strict",
          "coloraxis": {
           "colorbar": {
            "outlinewidth": 0,
            "ticks": ""
           }
          },
          "colorscale": {
           "diverging": [
            [
             0,
             "#8e0152"
            ],
            [
             0.1,
             "#c51b7d"
            ],
            [
             0.2,
             "#de77ae"
            ],
            [
             0.3,
             "#f1b6da"
            ],
            [
             0.4,
             "#fde0ef"
            ],
            [
             0.5,
             "#f7f7f7"
            ],
            [
             0.6,
             "#e6f5d0"
            ],
            [
             0.7,
             "#b8e186"
            ],
            [
             0.8,
             "#7fbc41"
            ],
            [
             0.9,
             "#4d9221"
            ],
            [
             1,
             "#276419"
            ]
           ],
           "sequential": [
            [
             0,
             "#0d0887"
            ],
            [
             0.1111111111111111,
             "#46039f"
            ],
            [
             0.2222222222222222,
             "#7201a8"
            ],
            [
             0.3333333333333333,
             "#9c179e"
            ],
            [
             0.4444444444444444,
             "#bd3786"
            ],
            [
             0.5555555555555556,
             "#d8576b"
            ],
            [
             0.6666666666666666,
             "#ed7953"
            ],
            [
             0.7777777777777778,
             "#fb9f3a"
            ],
            [
             0.8888888888888888,
             "#fdca26"
            ],
            [
             1,
             "#f0f921"
            ]
           ],
           "sequentialminus": [
            [
             0,
             "#0d0887"
            ],
            [
             0.1111111111111111,
             "#46039f"
            ],
            [
             0.2222222222222222,
             "#7201a8"
            ],
            [
             0.3333333333333333,
             "#9c179e"
            ],
            [
             0.4444444444444444,
             "#bd3786"
            ],
            [
             0.5555555555555556,
             "#d8576b"
            ],
            [
             0.6666666666666666,
             "#ed7953"
            ],
            [
             0.7777777777777778,
             "#fb9f3a"
            ],
            [
             0.8888888888888888,
             "#fdca26"
            ],
            [
             1,
             "#f0f921"
            ]
           ]
          },
          "colorway": [
           "#636efa",
           "#EF553B",
           "#00cc96",
           "#ab63fa",
           "#FFA15A",
           "#19d3f3",
           "#FF6692",
           "#B6E880",
           "#FF97FF",
           "#FECB52"
          ],
          "font": {
           "color": "#2a3f5f"
          },
          "geo": {
           "bgcolor": "white",
           "lakecolor": "white",
           "landcolor": "#E5ECF6",
           "showlakes": true,
           "showland": true,
           "subunitcolor": "white"
          },
          "hoverlabel": {
           "align": "left"
          },
          "hovermode": "closest",
          "mapbox": {
           "style": "light"
          },
          "paper_bgcolor": "white",
          "plot_bgcolor": "#E5ECF6",
          "polar": {
           "angularaxis": {
            "gridcolor": "white",
            "linecolor": "white",
            "ticks": ""
           },
           "bgcolor": "#E5ECF6",
           "radialaxis": {
            "gridcolor": "white",
            "linecolor": "white",
            "ticks": ""
           }
          },
          "scene": {
           "xaxis": {
            "backgroundcolor": "#E5ECF6",
            "gridcolor": "white",
            "gridwidth": 2,
            "linecolor": "white",
            "showbackground": true,
            "ticks": "",
            "zerolinecolor": "white"
           },
           "yaxis": {
            "backgroundcolor": "#E5ECF6",
            "gridcolor": "white",
            "gridwidth": 2,
            "linecolor": "white",
            "showbackground": true,
            "ticks": "",
            "zerolinecolor": "white"
           },
           "zaxis": {
            "backgroundcolor": "#E5ECF6",
            "gridcolor": "white",
            "gridwidth": 2,
            "linecolor": "white",
            "showbackground": true,
            "ticks": "",
            "zerolinecolor": "white"
           }
          },
          "shapedefaults": {
           "line": {
            "color": "#2a3f5f"
           }
          },
          "ternary": {
           "aaxis": {
            "gridcolor": "white",
            "linecolor": "white",
            "ticks": ""
           },
           "baxis": {
            "gridcolor": "white",
            "linecolor": "white",
            "ticks": ""
           },
           "bgcolor": "#E5ECF6",
           "caxis": {
            "gridcolor": "white",
            "linecolor": "white",
            "ticks": ""
           }
          },
          "title": {
           "x": 0.05
          },
          "xaxis": {
           "automargin": true,
           "gridcolor": "white",
           "linecolor": "white",
           "ticks": "",
           "title": {
            "standoff": 15
           },
           "zerolinecolor": "white",
           "zerolinewidth": 2
          },
          "yaxis": {
           "automargin": true,
           "gridcolor": "white",
           "linecolor": "white",
           "ticks": "",
           "title": {
            "standoff": 15
           },
           "zerolinecolor": "white",
           "zerolinewidth": 2
          }
         }
        },
        "title": {
         "text": "Quarterly Emotion Trends for all"
        },
        "xaxis": {
         "anchor": "y",
         "domain": [
          0,
          0.94
         ]
        },
        "xaxis2": {
         "anchor": "y3",
         "domain": [
          0,
          0.94
         ]
        },
        "yaxis": {
         "anchor": "x",
         "domain": [
          0.43333333333333335,
          1
         ],
         "title": {
          "text": "Emotion Score"
         }
        },
        "yaxis2": {
         "anchor": "x",
         "overlaying": "y",
         "side": "right"
        },
        "yaxis3": {
         "anchor": "x2",
         "domain": [
          0,
          0.2833333333333333
         ]
        }
       }
      }
     },
     "metadata": {},
     "output_type": "display_data"
    }
   ],
   "source": [
    "metrics = [\n",
    "           'emotions.confusion', 'emotions.fear',\n",
    "       ]\n",
    "\n",
    "plot_metric_and_sentence_trends(events_by_quarter, metrics)"
   ]
  },
  {
   "cell_type": "markdown",
   "metadata": {},
   "source": [
    "### Sectoral view of the analysis\n",
    "Next we dive into the sectoral analysis of the similar trends for which we use our ***group_dataset*** function and group our events data with the sector and the quarter as shown below."
   ]
  },
  {
   "cell_type": "code",
   "execution_count": 18,
   "metadata": {},
   "outputs": [
    {
     "data": {
      "text/html": [
       "<div>\n",
       "<style scoped>\n",
       "    .dataframe tbody tr th:only-of-type {\n",
       "        vertical-align: middle;\n",
       "    }\n",
       "\n",
       "    .dataframe tbody tr th {\n",
       "        vertical-align: top;\n",
       "    }\n",
       "\n",
       "    .dataframe thead th {\n",
       "        text-align: right;\n",
       "    }\n",
       "</style>\n",
       "<table border=\"1\" class=\"dataframe\">\n",
       "  <thead>\n",
       "    <tr style=\"text-align: right;\">\n",
       "      <th></th>\n",
       "      <th>TRBC Economic Sector Name</th>\n",
       "      <th>quarter</th>\n",
       "      <th>analysis.fin_sentiment</th>\n",
       "      <th>analysis.esg_sentiment</th>\n",
       "      <th>emotions.admiration</th>\n",
       "      <th>emotions.anger</th>\n",
       "      <th>emotions.annoyance</th>\n",
       "      <th>emotions.approval</th>\n",
       "      <th>emotions.confusion</th>\n",
       "      <th>emotions.disappointment</th>\n",
       "      <th>emotions.disapproval</th>\n",
       "      <th>emotions.fear</th>\n",
       "      <th>emotions.gratitude</th>\n",
       "      <th>emotions.optimism</th>\n",
       "      <th>emotions.pride</th>\n",
       "      <th>emotions.surprise</th>\n",
       "      <th>emotions.neutral</th>\n",
       "      <th>num_sentences</th>\n",
       "      <th>company_count</th>\n",
       "    </tr>\n",
       "  </thead>\n",
       "  <tbody>\n",
       "    <tr>\n",
       "      <th>0</th>\n",
       "      <td>Basic Materials</td>\n",
       "      <td>2016Q1</td>\n",
       "      <td>-0.200000</td>\n",
       "      <td>NaN</td>\n",
       "      <td>0.004286</td>\n",
       "      <td>0.001429</td>\n",
       "      <td>0.064286</td>\n",
       "      <td>0.022857</td>\n",
       "      <td>0.052857</td>\n",
       "      <td>0.004286</td>\n",
       "      <td>0.005714</td>\n",
       "      <td>0.164286</td>\n",
       "      <td>0.001429</td>\n",
       "      <td>0.231429</td>\n",
       "      <td>0.000000</td>\n",
       "      <td>0.000000</td>\n",
       "      <td>0.141429</td>\n",
       "      <td>7</td>\n",
       "      <td>1</td>\n",
       "    </tr>\n",
       "    <tr>\n",
       "      <th>1</th>\n",
       "      <td>Consumer Non-Cyclicals</td>\n",
       "      <td>2016Q1</td>\n",
       "      <td>-0.067000</td>\n",
       "      <td>-0.010000</td>\n",
       "      <td>0.002000</td>\n",
       "      <td>0.000000</td>\n",
       "      <td>0.015000</td>\n",
       "      <td>0.080000</td>\n",
       "      <td>0.004000</td>\n",
       "      <td>0.183000</td>\n",
       "      <td>0.004000</td>\n",
       "      <td>0.280000</td>\n",
       "      <td>0.005000</td>\n",
       "      <td>0.420000</td>\n",
       "      <td>0.021000</td>\n",
       "      <td>0.000000</td>\n",
       "      <td>0.051000</td>\n",
       "      <td>10</td>\n",
       "      <td>2</td>\n",
       "    </tr>\n",
       "    <tr>\n",
       "      <th>2</th>\n",
       "      <td>Consumer Cyclicals</td>\n",
       "      <td>2016Q1</td>\n",
       "      <td>0.645000</td>\n",
       "      <td>0.000000</td>\n",
       "      <td>0.045000</td>\n",
       "      <td>0.005000</td>\n",
       "      <td>0.010000</td>\n",
       "      <td>0.125000</td>\n",
       "      <td>0.000000</td>\n",
       "      <td>0.090000</td>\n",
       "      <td>0.000000</td>\n",
       "      <td>0.000000</td>\n",
       "      <td>0.005000</td>\n",
       "      <td>0.325000</td>\n",
       "      <td>0.210000</td>\n",
       "      <td>0.020000</td>\n",
       "      <td>0.145000</td>\n",
       "      <td>2</td>\n",
       "      <td>2</td>\n",
       "    </tr>\n",
       "    <tr>\n",
       "      <th>3</th>\n",
       "      <td>Technology</td>\n",
       "      <td>2016Q1</td>\n",
       "      <td>0.842308</td>\n",
       "      <td>0.755000</td>\n",
       "      <td>0.045385</td>\n",
       "      <td>0.000769</td>\n",
       "      <td>0.002308</td>\n",
       "      <td>0.206923</td>\n",
       "      <td>0.003077</td>\n",
       "      <td>0.001538</td>\n",
       "      <td>0.003077</td>\n",
       "      <td>0.003077</td>\n",
       "      <td>0.001538</td>\n",
       "      <td>0.723077</td>\n",
       "      <td>0.073846</td>\n",
       "      <td>0.000000</td>\n",
       "      <td>0.223846</td>\n",
       "      <td>13</td>\n",
       "      <td>4</td>\n",
       "    </tr>\n",
       "    <tr>\n",
       "      <th>4</th>\n",
       "      <td>Consumer Non-Cyclicals</td>\n",
       "      <td>2016Q2</td>\n",
       "      <td>0.040000</td>\n",
       "      <td>NaN</td>\n",
       "      <td>0.000769</td>\n",
       "      <td>0.003077</td>\n",
       "      <td>0.024615</td>\n",
       "      <td>0.028462</td>\n",
       "      <td>0.089231</td>\n",
       "      <td>0.212308</td>\n",
       "      <td>0.025385</td>\n",
       "      <td>0.103077</td>\n",
       "      <td>0.001538</td>\n",
       "      <td>0.153077</td>\n",
       "      <td>0.003077</td>\n",
       "      <td>0.003077</td>\n",
       "      <td>0.103077</td>\n",
       "      <td>13</td>\n",
       "      <td>3</td>\n",
       "    </tr>\n",
       "    <tr>\n",
       "      <th>...</th>\n",
       "      <td>...</td>\n",
       "      <td>...</td>\n",
       "      <td>...</td>\n",
       "      <td>...</td>\n",
       "      <td>...</td>\n",
       "      <td>...</td>\n",
       "      <td>...</td>\n",
       "      <td>...</td>\n",
       "      <td>...</td>\n",
       "      <td>...</td>\n",
       "      <td>...</td>\n",
       "      <td>...</td>\n",
       "      <td>...</td>\n",
       "      <td>...</td>\n",
       "      <td>...</td>\n",
       "      <td>...</td>\n",
       "      <td>...</td>\n",
       "      <td>...</td>\n",
       "      <td>...</td>\n",
       "    </tr>\n",
       "    <tr>\n",
       "      <th>270</th>\n",
       "      <td>Financials</td>\n",
       "      <td>2024Q2</td>\n",
       "      <td>0.453689</td>\n",
       "      <td>0.572692</td>\n",
       "      <td>0.023883</td>\n",
       "      <td>0.000583</td>\n",
       "      <td>0.018835</td>\n",
       "      <td>0.207767</td>\n",
       "      <td>0.084563</td>\n",
       "      <td>0.004757</td>\n",
       "      <td>0.008738</td>\n",
       "      <td>0.047767</td>\n",
       "      <td>0.002913</td>\n",
       "      <td>0.423010</td>\n",
       "      <td>0.025146</td>\n",
       "      <td>0.003495</td>\n",
       "      <td>0.226699</td>\n",
       "      <td>106</td>\n",
       "      <td>25</td>\n",
       "    </tr>\n",
       "    <tr>\n",
       "      <th>271</th>\n",
       "      <td>Healthcare</td>\n",
       "      <td>2024Q2</td>\n",
       "      <td>0.639270</td>\n",
       "      <td>0.601486</td>\n",
       "      <td>0.045109</td>\n",
       "      <td>0.000292</td>\n",
       "      <td>0.006788</td>\n",
       "      <td>0.285985</td>\n",
       "      <td>0.020146</td>\n",
       "      <td>0.029343</td>\n",
       "      <td>0.006204</td>\n",
       "      <td>0.016788</td>\n",
       "      <td>0.003577</td>\n",
       "      <td>0.543066</td>\n",
       "      <td>0.058540</td>\n",
       "      <td>0.001971</td>\n",
       "      <td>0.273942</td>\n",
       "      <td>139</td>\n",
       "      <td>28</td>\n",
       "    </tr>\n",
       "    <tr>\n",
       "      <th>272</th>\n",
       "      <td>Industrials</td>\n",
       "      <td>2024Q2</td>\n",
       "      <td>0.642968</td>\n",
       "      <td>0.625967</td>\n",
       "      <td>0.033476</td>\n",
       "      <td>0.000668</td>\n",
       "      <td>0.014465</td>\n",
       "      <td>0.198824</td>\n",
       "      <td>0.043262</td>\n",
       "      <td>0.009786</td>\n",
       "      <td>0.014652</td>\n",
       "      <td>0.036283</td>\n",
       "      <td>0.005401</td>\n",
       "      <td>0.508904</td>\n",
       "      <td>0.050000</td>\n",
       "      <td>0.010936</td>\n",
       "      <td>0.227888</td>\n",
       "      <td>376</td>\n",
       "      <td>51</td>\n",
       "    </tr>\n",
       "    <tr>\n",
       "      <th>273</th>\n",
       "      <td>Technology</td>\n",
       "      <td>2024Q2</td>\n",
       "      <td>0.637548</td>\n",
       "      <td>0.656037</td>\n",
       "      <td>0.045100</td>\n",
       "      <td>0.001670</td>\n",
       "      <td>0.015141</td>\n",
       "      <td>0.218984</td>\n",
       "      <td>0.036424</td>\n",
       "      <td>0.013023</td>\n",
       "      <td>0.011523</td>\n",
       "      <td>0.032361</td>\n",
       "      <td>0.007490</td>\n",
       "      <td>0.523781</td>\n",
       "      <td>0.073822</td>\n",
       "      <td>0.003758</td>\n",
       "      <td>0.265029</td>\n",
       "      <td>3433</td>\n",
       "      <td>140</td>\n",
       "    </tr>\n",
       "    <tr>\n",
       "      <th>274</th>\n",
       "      <td>Utilities</td>\n",
       "      <td>2024Q2</td>\n",
       "      <td>0.731750</td>\n",
       "      <td>0.575556</td>\n",
       "      <td>0.056750</td>\n",
       "      <td>0.000000</td>\n",
       "      <td>0.053250</td>\n",
       "      <td>0.167000</td>\n",
       "      <td>0.030000</td>\n",
       "      <td>0.003500</td>\n",
       "      <td>0.005500</td>\n",
       "      <td>0.022500</td>\n",
       "      <td>0.001500</td>\n",
       "      <td>0.624750</td>\n",
       "      <td>0.055500</td>\n",
       "      <td>0.001500</td>\n",
       "      <td>0.144250</td>\n",
       "      <td>40</td>\n",
       "      <td>15</td>\n",
       "    </tr>\n",
       "  </tbody>\n",
       "</table>\n",
       "<p>275 rows × 19 columns</p>\n",
       "</div>"
      ],
      "text/plain": [
       "    TRBC Economic Sector Name quarter  analysis.fin_sentiment  \\\n",
       "0             Basic Materials  2016Q1               -0.200000   \n",
       "1      Consumer Non-Cyclicals  2016Q1               -0.067000   \n",
       "2          Consumer Cyclicals  2016Q1                0.645000   \n",
       "3                  Technology  2016Q1                0.842308   \n",
       "4      Consumer Non-Cyclicals  2016Q2                0.040000   \n",
       "..                        ...     ...                     ...   \n",
       "270                Financials  2024Q2                0.453689   \n",
       "271                Healthcare  2024Q2                0.639270   \n",
       "272               Industrials  2024Q2                0.642968   \n",
       "273                Technology  2024Q2                0.637548   \n",
       "274                 Utilities  2024Q2                0.731750   \n",
       "\n",
       "     analysis.esg_sentiment  emotions.admiration  emotions.anger  \\\n",
       "0                       NaN             0.004286        0.001429   \n",
       "1                 -0.010000             0.002000        0.000000   \n",
       "2                  0.000000             0.045000        0.005000   \n",
       "3                  0.755000             0.045385        0.000769   \n",
       "4                       NaN             0.000769        0.003077   \n",
       "..                      ...                  ...             ...   \n",
       "270                0.572692             0.023883        0.000583   \n",
       "271                0.601486             0.045109        0.000292   \n",
       "272                0.625967             0.033476        0.000668   \n",
       "273                0.656037             0.045100        0.001670   \n",
       "274                0.575556             0.056750        0.000000   \n",
       "\n",
       "     emotions.annoyance  emotions.approval  emotions.confusion  \\\n",
       "0              0.064286           0.022857            0.052857   \n",
       "1              0.015000           0.080000            0.004000   \n",
       "2              0.010000           0.125000            0.000000   \n",
       "3              0.002308           0.206923            0.003077   \n",
       "4              0.024615           0.028462            0.089231   \n",
       "..                  ...                ...                 ...   \n",
       "270            0.018835           0.207767            0.084563   \n",
       "271            0.006788           0.285985            0.020146   \n",
       "272            0.014465           0.198824            0.043262   \n",
       "273            0.015141           0.218984            0.036424   \n",
       "274            0.053250           0.167000            0.030000   \n",
       "\n",
       "     emotions.disappointment  emotions.disapproval  emotions.fear  \\\n",
       "0                   0.004286              0.005714       0.164286   \n",
       "1                   0.183000              0.004000       0.280000   \n",
       "2                   0.090000              0.000000       0.000000   \n",
       "3                   0.001538              0.003077       0.003077   \n",
       "4                   0.212308              0.025385       0.103077   \n",
       "..                       ...                   ...            ...   \n",
       "270                 0.004757              0.008738       0.047767   \n",
       "271                 0.029343              0.006204       0.016788   \n",
       "272                 0.009786              0.014652       0.036283   \n",
       "273                 0.013023              0.011523       0.032361   \n",
       "274                 0.003500              0.005500       0.022500   \n",
       "\n",
       "     emotions.gratitude  emotions.optimism  emotions.pride  emotions.surprise  \\\n",
       "0              0.001429           0.231429        0.000000           0.000000   \n",
       "1              0.005000           0.420000        0.021000           0.000000   \n",
       "2              0.005000           0.325000        0.210000           0.020000   \n",
       "3              0.001538           0.723077        0.073846           0.000000   \n",
       "4              0.001538           0.153077        0.003077           0.003077   \n",
       "..                  ...                ...             ...                ...   \n",
       "270            0.002913           0.423010        0.025146           0.003495   \n",
       "271            0.003577           0.543066        0.058540           0.001971   \n",
       "272            0.005401           0.508904        0.050000           0.010936   \n",
       "273            0.007490           0.523781        0.073822           0.003758   \n",
       "274            0.001500           0.624750        0.055500           0.001500   \n",
       "\n",
       "     emotions.neutral  num_sentences  company_count  \n",
       "0            0.141429              7              1  \n",
       "1            0.051000             10              2  \n",
       "2            0.145000              2              2  \n",
       "3            0.223846             13              4  \n",
       "4            0.103077             13              3  \n",
       "..                ...            ...            ...  \n",
       "270          0.226699            106             25  \n",
       "271          0.273942            139             28  \n",
       "272          0.227888            376             51  \n",
       "273          0.265029           3433            140  \n",
       "274          0.144250             40             15  \n",
       "\n",
       "[275 rows x 19 columns]"
      ]
     },
     "execution_count": 18,
     "metadata": {},
     "output_type": "execute_result"
    }
   ],
   "source": [
    "group_cols = ['TRBC Economic Sector Name', 'quarter']\n",
    "events_by_sector = group_dataset(events_df, group_cols)\n",
    "events_by_sector"
   ]
  },
  {
   "cell_type": "markdown",
   "metadata": {},
   "source": [
    "First, let's plot the sectoral distributaion of the frequency of AI mentions in the transcripts alongside with the distribution of the specific emotion or sentiment."
   ]
  },
  {
   "cell_type": "code",
   "execution_count": 19,
   "metadata": {},
   "outputs": [
    {
     "data": {
      "application/vnd.plotly.v1+json": {
       "config": {
        "plotlyServerURL": "https://plot.ly"
       },
       "data": [
        {
         "domain": {
          "x": [
           0,
           0.45
          ],
          "y": [
           0,
           1
          ]
         },
         "labels": [
          "Basic Materials",
          "Consumer Non-Cyclicals",
          "Consumer Cyclicals",
          "Technology",
          "Consumer Non-Cyclicals",
          "Healthcare",
          "Technology",
          "Technology",
          "Basic Materials",
          "Consumer Non-Cyclicals",
          "Consumer Cyclicals",
          "Consumer Cyclicals",
          "Technology",
          "Basic Materials",
          "Industrials",
          "Consumer Non-Cyclicals",
          "Healthcare",
          "Financials",
          "Consumer Cyclicals",
          "Consumer Non-Cyclicals",
          "Basic Materials",
          "Healthcare",
          "Industrials",
          "Technology",
          "Healthcare",
          "Industrials",
          "Consumer Cyclicals",
          "Technology",
          "Consumer Non-Cyclicals",
          "Basic Materials",
          "Financials",
          "Consumer Cyclicals",
          "Healthcare",
          "Technology",
          "Financials",
          "Basic Materials",
          "Industrials",
          "Consumer Non-Cyclicals",
          "Real Estate",
          "Financials",
          "Basic Materials",
          "Consumer Non-Cyclicals",
          "Real Estate",
          "Healthcare",
          "Industrials",
          "Consumer Cyclicals",
          "Technology",
          "Technology",
          "Financials",
          "Basic Materials",
          "Industrials",
          "Healthcare",
          "Consumer Cyclicals",
          "Consumer Cyclicals",
          "Healthcare",
          "Industrials",
          "Technology",
          "Consumer Non-Cyclicals",
          "Financials",
          "Basic Materials",
          "Technology",
          "Consumer Non-Cyclicals",
          "Consumer Cyclicals",
          "Industrials",
          "Real Estate",
          "Healthcare",
          "Financials",
          "Financials",
          "Industrials",
          "Consumer Non-Cyclicals",
          "Technology",
          "Real Estate",
          "Healthcare",
          "Consumer Cyclicals",
          "Basic Materials",
          "Financials",
          "Healthcare",
          "Technology",
          "Energy",
          "Industrials",
          "Consumer Cyclicals",
          "Consumer Non-Cyclicals",
          "Real Estate",
          "Healthcare",
          "Consumer Non-Cyclicals",
          "Industrials",
          "Real Estate",
          "Basic Materials",
          "Consumer Cyclicals",
          "Financials",
          "Technology",
          "Utilities",
          "Technology",
          "Consumer Non-Cyclicals",
          "Basic Materials",
          "Real Estate",
          "Energy",
          "Consumer Cyclicals",
          "Industrials",
          "Financials",
          "Healthcare",
          "Energy",
          "Technology",
          "Financials",
          "Industrials",
          "Healthcare",
          "Consumer Cyclicals",
          "Basic Materials",
          "Real Estate",
          "Consumer Non-Cyclicals",
          "Utilities",
          "Financials",
          "Real Estate",
          "Consumer Non-Cyclicals",
          "Technology",
          "Energy",
          "Basic Materials",
          "Consumer Cyclicals",
          "Industrials",
          "Healthcare",
          "Healthcare",
          "Consumer Non-Cyclicals",
          "Basic Materials",
          "Energy",
          "Real Estate",
          "Industrials",
          "Financials",
          "Technology",
          "Industrials",
          "Technology",
          "Consumer Non-Cyclicals",
          "Energy",
          "Healthcare",
          "Consumer Cyclicals",
          "Real Estate",
          "Financials",
          "Consumer Cyclicals",
          "Industrials",
          "Real Estate",
          "Healthcare",
          "Financials",
          "Technology",
          "Energy",
          "Basic Materials",
          "Consumer Non-Cyclicals",
          "Utilities",
          "Healthcare",
          "Industrials",
          "Real Estate",
          "Utilities",
          "Consumer Cyclicals",
          "Consumer Non-Cyclicals",
          "Financials",
          "Basic Materials",
          "Technology",
          "Energy",
          "Financials",
          "Consumer Non-Cyclicals",
          "Industrials",
          "Energy",
          "Utilities",
          "Technology",
          "Healthcare",
          "Real Estate",
          "Consumer Cyclicals",
          "Consumer Non-Cyclicals",
          "Healthcare",
          "Technology",
          "Energy",
          "Real Estate",
          "Basic Materials",
          "Financials",
          "Consumer Cyclicals",
          "Industrials",
          "Technology",
          "Consumer Cyclicals",
          "Industrials",
          "Healthcare",
          "Financials",
          "Real Estate",
          "Energy",
          "Consumer Non-Cyclicals",
          "Industrials",
          "Consumer Cyclicals",
          "Real Estate",
          "Consumer Non-Cyclicals",
          "Technology",
          "Energy",
          "Healthcare",
          "Basic Materials",
          "Financials",
          "Consumer Non-Cyclicals",
          "Consumer Cyclicals",
          "Utilities",
          "Technology",
          "Energy",
          "Healthcare",
          "Industrials",
          "Financials",
          "Consumer Non-Cyclicals",
          "Healthcare",
          "Real Estate",
          "Consumer Cyclicals",
          "Industrials",
          "Energy",
          "Technology",
          "Financials",
          "Basic Materials",
          "Real Estate",
          "Healthcare",
          "Consumer Cyclicals",
          "Financials",
          "Technology",
          "Consumer Non-Cyclicals",
          "Basic Materials",
          "Energy",
          "Industrials",
          "Technology",
          "Healthcare",
          "Utilities",
          "Basic Materials",
          "Industrials",
          "Consumer Non-Cyclicals",
          "Real Estate",
          "Financials",
          "Consumer Cyclicals",
          "Energy",
          "Technology",
          "Financials",
          "Consumer Cyclicals",
          "Consumer Non-Cyclicals",
          "Real Estate",
          "Industrials",
          "Basic Materials",
          "Healthcare",
          "Technology",
          "Consumer Non-Cyclicals",
          "Basic Materials",
          "Consumer Cyclicals",
          "Financials",
          "Healthcare",
          "Energy",
          "Utilities",
          "Industrials",
          "Real Estate",
          "Financials",
          "Industrials",
          "Technology",
          "Real Estate",
          "Energy",
          "Consumer Cyclicals",
          "Basic Materials",
          "Healthcare",
          "Consumer Non-Cyclicals",
          "Utilities",
          "Healthcare",
          "Technology",
          "Consumer Cyclicals",
          "Consumer Non-Cyclicals",
          "Real Estate",
          "Energy",
          "Industrials",
          "Financials",
          "Basic Materials",
          "Utilities",
          "Basic Materials",
          "Real Estate",
          "Consumer Cyclicals",
          "Consumer Non-Cyclicals",
          "Energy",
          "Financials",
          "Healthcare",
          "Industrials",
          "Technology",
          "Utilities"
         ],
         "name": "Number of sentences",
         "type": "pie",
         "values": [
          7,
          10,
          2,
          13,
          13,
          1,
          24,
          35,
          4,
          12,
          3,
          9,
          110,
          1,
          3,
          11,
          6,
          1,
          2,
          14,
          2,
          1,
          17,
          83,
          1,
          18,
          8,
          154,
          10,
          3,
          3,
          10,
          4,
          149,
          6,
          3,
          30,
          3,
          1,
          6,
          2,
          9,
          3,
          7,
          22,
          6,
          167,
          178,
          6,
          3,
          23,
          1,
          12,
          9,
          11,
          23,
          264,
          1,
          9,
          2,
          233,
          2,
          10,
          24,
          3,
          15,
          5,
          5,
          19,
          2,
          168,
          2,
          9,
          8,
          3,
          10,
          9,
          185,
          1,
          25,
          10,
          4,
          2,
          36,
          2,
          27,
          3,
          4,
          14,
          4,
          203,
          1,
          261,
          4,
          2,
          5,
          9,
          7,
          13,
          12,
          23,
          6,
          231,
          5,
          16,
          8,
          8,
          1,
          5,
          7,
          1,
          6,
          8,
          2,
          196,
          2,
          1,
          24,
          21,
          14,
          7,
          2,
          3,
          1,
          5,
          12,
          3,
          176,
          23,
          195,
          3,
          9,
          11,
          16,
          2,
          8,
          6,
          29,
          2,
          23,
          3,
          314,
          8,
          2,
          3,
          1,
          26,
          27,
          4,
          2,
          8,
          5,
          24,
          1,
          269,
          10,
          7,
          4,
          29,
          9,
          2,
          332,
          47,
          9,
          11,
          2,
          27,
          316,
          3,
          2,
          1,
          6,
          14,
          38,
          337,
          16,
          14,
          25,
          18,
          9,
          3,
          5,
          25,
          10,
          8,
          5,
          358,
          8,
          46,
          1,
          16,
          21,
          15,
          1,
          333,
          4,
          28,
          35,
          5,
          6,
          16,
          7,
          11,
          29,
          1,
          380,
          5,
          2,
          1,
          17,
          11,
          5,
          314,
          6,
          1,
          1,
          37,
          985,
          26,
          2,
          3,
          68,
          11,
          16,
          18,
          32,
          5,
          2536,
          48,
          119,
          17,
          47,
          252,
          3,
          50,
          3366,
          21,
          17,
          192,
          85,
          117,
          12,
          20,
          430,
          83,
          44,
          184,
          1815,
          22,
          12,
          89,
          12,
          44,
          17,
          5,
          168,
          4581,
          347,
          30,
          117,
          19,
          432,
          79,
          15,
          46,
          41,
          115,
          247,
          36,
          96,
          106,
          139,
          376,
          3433,
          40
         ]
        },
        {
         "domain": {
          "x": [
           0.55,
           1
          ],
          "y": [
           0,
           1
          ]
         },
         "labels": [
          "Basic Materials",
          "Consumer Non-Cyclicals",
          "Consumer Cyclicals",
          "Technology",
          "Consumer Non-Cyclicals",
          "Healthcare",
          "Technology",
          "Technology",
          "Basic Materials",
          "Consumer Non-Cyclicals",
          "Consumer Cyclicals",
          "Consumer Cyclicals",
          "Technology",
          "Basic Materials",
          "Industrials",
          "Consumer Non-Cyclicals",
          "Healthcare",
          "Financials",
          "Consumer Cyclicals",
          "Consumer Non-Cyclicals",
          "Basic Materials",
          "Healthcare",
          "Industrials",
          "Technology",
          "Healthcare",
          "Industrials",
          "Consumer Cyclicals",
          "Technology",
          "Consumer Non-Cyclicals",
          "Basic Materials",
          "Financials",
          "Consumer Cyclicals",
          "Healthcare",
          "Technology",
          "Financials",
          "Basic Materials",
          "Industrials",
          "Consumer Non-Cyclicals",
          "Real Estate",
          "Financials",
          "Basic Materials",
          "Consumer Non-Cyclicals",
          "Real Estate",
          "Healthcare",
          "Industrials",
          "Consumer Cyclicals",
          "Technology",
          "Technology",
          "Financials",
          "Basic Materials",
          "Industrials",
          "Healthcare",
          "Consumer Cyclicals",
          "Consumer Cyclicals",
          "Healthcare",
          "Industrials",
          "Technology",
          "Consumer Non-Cyclicals",
          "Financials",
          "Basic Materials",
          "Technology",
          "Consumer Non-Cyclicals",
          "Consumer Cyclicals",
          "Industrials",
          "Real Estate",
          "Healthcare",
          "Financials",
          "Financials",
          "Industrials",
          "Consumer Non-Cyclicals",
          "Technology",
          "Real Estate",
          "Healthcare",
          "Consumer Cyclicals",
          "Basic Materials",
          "Financials",
          "Healthcare",
          "Technology",
          "Energy",
          "Industrials",
          "Consumer Cyclicals",
          "Consumer Non-Cyclicals",
          "Real Estate",
          "Healthcare",
          "Consumer Non-Cyclicals",
          "Industrials",
          "Real Estate",
          "Basic Materials",
          "Consumer Cyclicals",
          "Financials",
          "Technology",
          "Utilities",
          "Technology",
          "Consumer Non-Cyclicals",
          "Basic Materials",
          "Real Estate",
          "Energy",
          "Consumer Cyclicals",
          "Industrials",
          "Financials",
          "Healthcare",
          "Energy",
          "Technology",
          "Financials",
          "Industrials",
          "Healthcare",
          "Consumer Cyclicals",
          "Basic Materials",
          "Real Estate",
          "Consumer Non-Cyclicals",
          "Utilities",
          "Financials",
          "Real Estate",
          "Consumer Non-Cyclicals",
          "Technology",
          "Energy",
          "Basic Materials",
          "Consumer Cyclicals",
          "Industrials",
          "Healthcare",
          "Healthcare",
          "Consumer Non-Cyclicals",
          "Basic Materials",
          "Energy",
          "Real Estate",
          "Industrials",
          "Financials",
          "Technology",
          "Industrials",
          "Technology",
          "Consumer Non-Cyclicals",
          "Energy",
          "Healthcare",
          "Consumer Cyclicals",
          "Real Estate",
          "Financials",
          "Consumer Cyclicals",
          "Industrials",
          "Real Estate",
          "Healthcare",
          "Financials",
          "Technology",
          "Energy",
          "Basic Materials",
          "Consumer Non-Cyclicals",
          "Utilities",
          "Healthcare",
          "Industrials",
          "Real Estate",
          "Utilities",
          "Consumer Cyclicals",
          "Consumer Non-Cyclicals",
          "Financials",
          "Basic Materials",
          "Technology",
          "Energy",
          "Financials",
          "Consumer Non-Cyclicals",
          "Industrials",
          "Energy",
          "Utilities",
          "Technology",
          "Healthcare",
          "Real Estate",
          "Consumer Cyclicals",
          "Consumer Non-Cyclicals",
          "Healthcare",
          "Technology",
          "Energy",
          "Real Estate",
          "Basic Materials",
          "Financials",
          "Consumer Cyclicals",
          "Industrials",
          "Technology",
          "Consumer Cyclicals",
          "Industrials",
          "Healthcare",
          "Financials",
          "Real Estate",
          "Energy",
          "Consumer Non-Cyclicals",
          "Industrials",
          "Consumer Cyclicals",
          "Real Estate",
          "Consumer Non-Cyclicals",
          "Technology",
          "Energy",
          "Healthcare",
          "Basic Materials",
          "Financials",
          "Consumer Non-Cyclicals",
          "Consumer Cyclicals",
          "Utilities",
          "Technology",
          "Energy",
          "Healthcare",
          "Industrials",
          "Financials",
          "Consumer Non-Cyclicals",
          "Healthcare",
          "Real Estate",
          "Consumer Cyclicals",
          "Industrials",
          "Energy",
          "Technology",
          "Financials",
          "Basic Materials",
          "Real Estate",
          "Healthcare",
          "Consumer Cyclicals",
          "Financials",
          "Technology",
          "Consumer Non-Cyclicals",
          "Basic Materials",
          "Energy",
          "Industrials",
          "Technology",
          "Healthcare",
          "Utilities",
          "Basic Materials",
          "Industrials",
          "Consumer Non-Cyclicals",
          "Real Estate",
          "Financials",
          "Consumer Cyclicals",
          "Energy",
          "Technology",
          "Financials",
          "Consumer Cyclicals",
          "Consumer Non-Cyclicals",
          "Real Estate",
          "Industrials",
          "Basic Materials",
          "Healthcare",
          "Technology",
          "Consumer Non-Cyclicals",
          "Basic Materials",
          "Consumer Cyclicals",
          "Financials",
          "Healthcare",
          "Energy",
          "Utilities",
          "Industrials",
          "Real Estate",
          "Financials",
          "Industrials",
          "Technology",
          "Real Estate",
          "Energy",
          "Consumer Cyclicals",
          "Basic Materials",
          "Healthcare",
          "Consumer Non-Cyclicals",
          "Utilities",
          "Healthcare",
          "Technology",
          "Consumer Cyclicals",
          "Consumer Non-Cyclicals",
          "Real Estate",
          "Energy",
          "Industrials",
          "Financials",
          "Basic Materials",
          "Utilities",
          "Basic Materials",
          "Real Estate",
          "Consumer Cyclicals",
          "Consumer Non-Cyclicals",
          "Energy",
          "Financials",
          "Healthcare",
          "Industrials",
          "Technology",
          "Utilities"
         ],
         "name": "optimism",
         "type": "pie",
         "values": [
          0.2314285714285714,
          0.42000000000000004,
          0.325,
          0.7230769230769231,
          0.15307692307692308,
          0.15,
          0.5966666666666667,
          0.49342857142857144,
          0.17750000000000002,
          0.4033333333333333,
          0.37000000000000005,
          0.5411111111111111,
          0.4378181818181818,
          0.4,
          0.22666666666666668,
          0.14,
          0.47333333333333333,
          0.24,
          0.935,
          0.2085714285714286,
          0.93,
          0.93,
          0.6811764705882353,
          0.42419753086419754,
          null,
          0.5338888888888889,
          0.55875,
          0.4505194805194805,
          0.39,
          0.03333333333333333,
          0.36000000000000004,
          0.572,
          0.7525,
          0.45442953020134225,
          0.69,
          0.7799999999999999,
          0.5803448275862069,
          0.5133333333333333,
          0.98,
          0.40499999999999997,
          0.985,
          0.35777777777777775,
          0.8566666666666666,
          0.5357142857142857,
          0.6672727272727272,
          0.43166666666666664,
          0.5199393939393939,
          0.48102857142857147,
          0.51,
          0.61,
          0.4760869565217391,
          0.61,
          0.6691666666666666,
          0.6288888888888889,
          0.6981818181818181,
          0.3991304347826087,
          0.4553787878787879,
          0.44,
          0.5,
          0.01,
          0.5248484848484848,
          0.98,
          0.497,
          0.5229166666666667,
          0.23,
          0.3766666666666667,
          0.49799999999999994,
          0.7859999999999999,
          0.5168421052631579,
          0.26,
          0.6100595238095238,
          0.585,
          0.6488888888888888,
          0.5275,
          0.495,
          0.571,
          0.6366666666666667,
          0.5682065217391304,
          1,
          0.4156,
          0.426,
          0.34,
          0.5,
          0.3688888888888889,
          0.005,
          0.44555555555555554,
          0.3333333333333333,
          0.9425,
          0.4785714285714286,
          0.3375,
          0.532807881773399,
          0.41,
          0.49589147286821705,
          0.5825,
          0.025,
          0.5900000000000001,
          0.6211111111111111,
          0.3742857142857143,
          0.4584615384615385,
          0.6766666666666666,
          0.28130434782608693,
          0.75,
          0.4867965367965368,
          0.28600000000000003,
          0.370625,
          0.79125,
          0.61625,
          1,
          0.174,
          0.63,
          0.01,
          0.5166666666666666,
          0.40625,
          0.515,
          0.5123469387755102,
          0.9450000000000001,
          0.05,
          0.31,
          0.596,
          0.2928571428571428,
          0.45,
          0.23,
          0.7533333333333333,
          1,
          0.242,
          0.445,
          0.5466666666666667,
          0.5325287356321838,
          0.5808695652173913,
          0.5472307692307692,
          0.33666666666666667,
          0.7244444444444444,
          0.3645454545454545,
          0.39,
          0.74,
          0.4625,
          0.6533333333333333,
          0.5279310344827587,
          0.42,
          0.6208695652173912,
          0.3633333333333333,
          0.5208306709265176,
          0.515,
          0.745,
          0.33,
          0.05,
          0.46240000000000003,
          0.5614814814814815,
          0.495,
          0.39,
          0.62125,
          0.292,
          0.48,
          1,
          0.5881203007518797,
          0.581,
          0.6285714285714287,
          0.8625,
          0.48,
          0.5255555555555556,
          0.995,
          0.47215151515151516,
          0.5940425531914894,
          0.741111111111111,
          0.4063636363636363,
          0.9550000000000001,
          0.44962962962962966,
          0.5089240506329114,
          0.006666666666666667,
          0.3,
          0.11,
          0.43333333333333335,
          0.5678571428571428,
          0.515,
          0.4602686567164179,
          0.67375,
          0.4228571428571429,
          0.54,
          0.4861111111111111,
          0.43333333333333335,
          0.3333333333333333,
          0.24,
          0.42,
          0.5189999999999999,
          0.54375,
          0.21400000000000002,
          0.489804469273743,
          0.4875,
          0.5908695652173913,
          0.5,
          0.344375,
          0.25761904761904764,
          0.5746666666666668,
          1,
          0.5378614457831326,
          0.2075,
          0.3932142857142857,
          0.5194285714285715,
          0.38,
          0.21999999999999997,
          0.4075,
          0.3657142857142857,
          0.4918181818181818,
          0.543448275862069,
          0,
          0.4750263157894737,
          0.5,
          0.35000000000000003,
          0.2,
          0.5629411764705883,
          0.48454545454545456,
          0.488,
          0.5638782051282052,
          0.085,
          0,
          0.01,
          0.3205555555555556,
          0.5109480122324159,
          0.663076923076923,
          0.915,
          0.625,
          0.4583823529411765,
          0.2318181818181818,
          0.700625,
          0.615,
          0.3746875,
          0.43,
          0.49951093439363814,
          0.46458333333333335,
          0.47983193277310926,
          0.4211764705882353,
          0.4604255319148936,
          0.47,
          0.51,
          0.5075510204081632,
          0.5117169304269932,
          0.6190476190476191,
          0.6458823529411765,
          0.50015625,
          0.5076470588235293,
          0.39863247863247864,
          0.45249999999999996,
          0.44699999999999995,
          0.5029205607476636,
          0.5219512195121951,
          0.5445454545454546,
          0.49445054945054945,
          0.5091523545706371,
          0.45045454545454544,
          0.6958333333333333,
          0.5446067415730337,
          0.7575,
          0.5143181818181818,
          0.2823529411764706,
          0.332,
          0.5282738095238095,
          0.485118525021949,
          0.4825219941348973,
          0.591,
          0.5003418803418803,
          0.7205263157894737,
          0.6107710280373833,
          0.5431645569620253,
          0.7553333333333333,
          0.48130434782608694,
          0.5858974358974359,
          0.5597368421052632,
          0.5914227642276423,
          0.48000000000000004,
          0.46557894736842104,
          0.4230097087378641,
          0.543065693430657,
          0.508903743315508,
          0.5237814879906268,
          0.6247499999999999
         ]
        }
       ],
       "layout": {
        "annotations": [
         {
          "font": {
           "size": 16
          },
          "showarrow": false,
          "text": "Number of sentences",
          "x": 0.1,
          "xref": "paper",
          "y": 1.15,
          "yref": "paper"
         },
         {
          "font": {
           "size": 16
          },
          "showarrow": false,
          "text": "Optimism",
          "x": 0.8,
          "xref": "paper",
          "y": 1.15,
          "yref": "paper"
         }
        ],
        "height": 500,
        "template": {
         "data": {
          "bar": [
           {
            "error_x": {
             "color": "#2a3f5f"
            },
            "error_y": {
             "color": "#2a3f5f"
            },
            "marker": {
             "line": {
              "color": "#E5ECF6",
              "width": 0.5
             },
             "pattern": {
              "fillmode": "overlay",
              "size": 10,
              "solidity": 0.2
             }
            },
            "type": "bar"
           }
          ],
          "barpolar": [
           {
            "marker": {
             "line": {
              "color": "#E5ECF6",
              "width": 0.5
             },
             "pattern": {
              "fillmode": "overlay",
              "size": 10,
              "solidity": 0.2
             }
            },
            "type": "barpolar"
           }
          ],
          "carpet": [
           {
            "aaxis": {
             "endlinecolor": "#2a3f5f",
             "gridcolor": "white",
             "linecolor": "white",
             "minorgridcolor": "white",
             "startlinecolor": "#2a3f5f"
            },
            "baxis": {
             "endlinecolor": "#2a3f5f",
             "gridcolor": "white",
             "linecolor": "white",
             "minorgridcolor": "white",
             "startlinecolor": "#2a3f5f"
            },
            "type": "carpet"
           }
          ],
          "choropleth": [
           {
            "colorbar": {
             "outlinewidth": 0,
             "ticks": ""
            },
            "type": "choropleth"
           }
          ],
          "contour": [
           {
            "colorbar": {
             "outlinewidth": 0,
             "ticks": ""
            },
            "colorscale": [
             [
              0,
              "#0d0887"
             ],
             [
              0.1111111111111111,
              "#46039f"
             ],
             [
              0.2222222222222222,
              "#7201a8"
             ],
             [
              0.3333333333333333,
              "#9c179e"
             ],
             [
              0.4444444444444444,
              "#bd3786"
             ],
             [
              0.5555555555555556,
              "#d8576b"
             ],
             [
              0.6666666666666666,
              "#ed7953"
             ],
             [
              0.7777777777777778,
              "#fb9f3a"
             ],
             [
              0.8888888888888888,
              "#fdca26"
             ],
             [
              1,
              "#f0f921"
             ]
            ],
            "type": "contour"
           }
          ],
          "contourcarpet": [
           {
            "colorbar": {
             "outlinewidth": 0,
             "ticks": ""
            },
            "type": "contourcarpet"
           }
          ],
          "heatmap": [
           {
            "colorbar": {
             "outlinewidth": 0,
             "ticks": ""
            },
            "colorscale": [
             [
              0,
              "#0d0887"
             ],
             [
              0.1111111111111111,
              "#46039f"
             ],
             [
              0.2222222222222222,
              "#7201a8"
             ],
             [
              0.3333333333333333,
              "#9c179e"
             ],
             [
              0.4444444444444444,
              "#bd3786"
             ],
             [
              0.5555555555555556,
              "#d8576b"
             ],
             [
              0.6666666666666666,
              "#ed7953"
             ],
             [
              0.7777777777777778,
              "#fb9f3a"
             ],
             [
              0.8888888888888888,
              "#fdca26"
             ],
             [
              1,
              "#f0f921"
             ]
            ],
            "type": "heatmap"
           }
          ],
          "heatmapgl": [
           {
            "colorbar": {
             "outlinewidth": 0,
             "ticks": ""
            },
            "colorscale": [
             [
              0,
              "#0d0887"
             ],
             [
              0.1111111111111111,
              "#46039f"
             ],
             [
              0.2222222222222222,
              "#7201a8"
             ],
             [
              0.3333333333333333,
              "#9c179e"
             ],
             [
              0.4444444444444444,
              "#bd3786"
             ],
             [
              0.5555555555555556,
              "#d8576b"
             ],
             [
              0.6666666666666666,
              "#ed7953"
             ],
             [
              0.7777777777777778,
              "#fb9f3a"
             ],
             [
              0.8888888888888888,
              "#fdca26"
             ],
             [
              1,
              "#f0f921"
             ]
            ],
            "type": "heatmapgl"
           }
          ],
          "histogram": [
           {
            "marker": {
             "pattern": {
              "fillmode": "overlay",
              "size": 10,
              "solidity": 0.2
             }
            },
            "type": "histogram"
           }
          ],
          "histogram2d": [
           {
            "colorbar": {
             "outlinewidth": 0,
             "ticks": ""
            },
            "colorscale": [
             [
              0,
              "#0d0887"
             ],
             [
              0.1111111111111111,
              "#46039f"
             ],
             [
              0.2222222222222222,
              "#7201a8"
             ],
             [
              0.3333333333333333,
              "#9c179e"
             ],
             [
              0.4444444444444444,
              "#bd3786"
             ],
             [
              0.5555555555555556,
              "#d8576b"
             ],
             [
              0.6666666666666666,
              "#ed7953"
             ],
             [
              0.7777777777777778,
              "#fb9f3a"
             ],
             [
              0.8888888888888888,
              "#fdca26"
             ],
             [
              1,
              "#f0f921"
             ]
            ],
            "type": "histogram2d"
           }
          ],
          "histogram2dcontour": [
           {
            "colorbar": {
             "outlinewidth": 0,
             "ticks": ""
            },
            "colorscale": [
             [
              0,
              "#0d0887"
             ],
             [
              0.1111111111111111,
              "#46039f"
             ],
             [
              0.2222222222222222,
              "#7201a8"
             ],
             [
              0.3333333333333333,
              "#9c179e"
             ],
             [
              0.4444444444444444,
              "#bd3786"
             ],
             [
              0.5555555555555556,
              "#d8576b"
             ],
             [
              0.6666666666666666,
              "#ed7953"
             ],
             [
              0.7777777777777778,
              "#fb9f3a"
             ],
             [
              0.8888888888888888,
              "#fdca26"
             ],
             [
              1,
              "#f0f921"
             ]
            ],
            "type": "histogram2dcontour"
           }
          ],
          "mesh3d": [
           {
            "colorbar": {
             "outlinewidth": 0,
             "ticks": ""
            },
            "type": "mesh3d"
           }
          ],
          "parcoords": [
           {
            "line": {
             "colorbar": {
              "outlinewidth": 0,
              "ticks": ""
             }
            },
            "type": "parcoords"
           }
          ],
          "pie": [
           {
            "automargin": true,
            "type": "pie"
           }
          ],
          "scatter": [
           {
            "fillpattern": {
             "fillmode": "overlay",
             "size": 10,
             "solidity": 0.2
            },
            "type": "scatter"
           }
          ],
          "scatter3d": [
           {
            "line": {
             "colorbar": {
              "outlinewidth": 0,
              "ticks": ""
             }
            },
            "marker": {
             "colorbar": {
              "outlinewidth": 0,
              "ticks": ""
             }
            },
            "type": "scatter3d"
           }
          ],
          "scattercarpet": [
           {
            "marker": {
             "colorbar": {
              "outlinewidth": 0,
              "ticks": ""
             }
            },
            "type": "scattercarpet"
           }
          ],
          "scattergeo": [
           {
            "marker": {
             "colorbar": {
              "outlinewidth": 0,
              "ticks": ""
             }
            },
            "type": "scattergeo"
           }
          ],
          "scattergl": [
           {
            "marker": {
             "colorbar": {
              "outlinewidth": 0,
              "ticks": ""
             }
            },
            "type": "scattergl"
           }
          ],
          "scattermapbox": [
           {
            "marker": {
             "colorbar": {
              "outlinewidth": 0,
              "ticks": ""
             }
            },
            "type": "scattermapbox"
           }
          ],
          "scatterpolar": [
           {
            "marker": {
             "colorbar": {
              "outlinewidth": 0,
              "ticks": ""
             }
            },
            "type": "scatterpolar"
           }
          ],
          "scatterpolargl": [
           {
            "marker": {
             "colorbar": {
              "outlinewidth": 0,
              "ticks": ""
             }
            },
            "type": "scatterpolargl"
           }
          ],
          "scatterternary": [
           {
            "marker": {
             "colorbar": {
              "outlinewidth": 0,
              "ticks": ""
             }
            },
            "type": "scatterternary"
           }
          ],
          "surface": [
           {
            "colorbar": {
             "outlinewidth": 0,
             "ticks": ""
            },
            "colorscale": [
             [
              0,
              "#0d0887"
             ],
             [
              0.1111111111111111,
              "#46039f"
             ],
             [
              0.2222222222222222,
              "#7201a8"
             ],
             [
              0.3333333333333333,
              "#9c179e"
             ],
             [
              0.4444444444444444,
              "#bd3786"
             ],
             [
              0.5555555555555556,
              "#d8576b"
             ],
             [
              0.6666666666666666,
              "#ed7953"
             ],
             [
              0.7777777777777778,
              "#fb9f3a"
             ],
             [
              0.8888888888888888,
              "#fdca26"
             ],
             [
              1,
              "#f0f921"
             ]
            ],
            "type": "surface"
           }
          ],
          "table": [
           {
            "cells": {
             "fill": {
              "color": "#EBF0F8"
             },
             "line": {
              "color": "white"
             }
            },
            "header": {
             "fill": {
              "color": "#C8D4E3"
             },
             "line": {
              "color": "white"
             }
            },
            "type": "table"
           }
          ]
         },
         "layout": {
          "annotationdefaults": {
           "arrowcolor": "#2a3f5f",
           "arrowhead": 0,
           "arrowwidth": 1
          },
          "autotypenumbers": "strict",
          "coloraxis": {
           "colorbar": {
            "outlinewidth": 0,
            "ticks": ""
           }
          },
          "colorscale": {
           "diverging": [
            [
             0,
             "#8e0152"
            ],
            [
             0.1,
             "#c51b7d"
            ],
            [
             0.2,
             "#de77ae"
            ],
            [
             0.3,
             "#f1b6da"
            ],
            [
             0.4,
             "#fde0ef"
            ],
            [
             0.5,
             "#f7f7f7"
            ],
            [
             0.6,
             "#e6f5d0"
            ],
            [
             0.7,
             "#b8e186"
            ],
            [
             0.8,
             "#7fbc41"
            ],
            [
             0.9,
             "#4d9221"
            ],
            [
             1,
             "#276419"
            ]
           ],
           "sequential": [
            [
             0,
             "#0d0887"
            ],
            [
             0.1111111111111111,
             "#46039f"
            ],
            [
             0.2222222222222222,
             "#7201a8"
            ],
            [
             0.3333333333333333,
             "#9c179e"
            ],
            [
             0.4444444444444444,
             "#bd3786"
            ],
            [
             0.5555555555555556,
             "#d8576b"
            ],
            [
             0.6666666666666666,
             "#ed7953"
            ],
            [
             0.7777777777777778,
             "#fb9f3a"
            ],
            [
             0.8888888888888888,
             "#fdca26"
            ],
            [
             1,
             "#f0f921"
            ]
           ],
           "sequentialminus": [
            [
             0,
             "#0d0887"
            ],
            [
             0.1111111111111111,
             "#46039f"
            ],
            [
             0.2222222222222222,
             "#7201a8"
            ],
            [
             0.3333333333333333,
             "#9c179e"
            ],
            [
             0.4444444444444444,
             "#bd3786"
            ],
            [
             0.5555555555555556,
             "#d8576b"
            ],
            [
             0.6666666666666666,
             "#ed7953"
            ],
            [
             0.7777777777777778,
             "#fb9f3a"
            ],
            [
             0.8888888888888888,
             "#fdca26"
            ],
            [
             1,
             "#f0f921"
            ]
           ]
          },
          "colorway": [
           "#636efa",
           "#EF553B",
           "#00cc96",
           "#ab63fa",
           "#FFA15A",
           "#19d3f3",
           "#FF6692",
           "#B6E880",
           "#FF97FF",
           "#FECB52"
          ],
          "font": {
           "color": "#2a3f5f"
          },
          "geo": {
           "bgcolor": "white",
           "lakecolor": "white",
           "landcolor": "#E5ECF6",
           "showlakes": true,
           "showland": true,
           "subunitcolor": "white"
          },
          "hoverlabel": {
           "align": "left"
          },
          "hovermode": "closest",
          "mapbox": {
           "style": "light"
          },
          "paper_bgcolor": "white",
          "plot_bgcolor": "#E5ECF6",
          "polar": {
           "angularaxis": {
            "gridcolor": "white",
            "linecolor": "white",
            "ticks": ""
           },
           "bgcolor": "#E5ECF6",
           "radialaxis": {
            "gridcolor": "white",
            "linecolor": "white",
            "ticks": ""
           }
          },
          "scene": {
           "xaxis": {
            "backgroundcolor": "#E5ECF6",
            "gridcolor": "white",
            "gridwidth": 2,
            "linecolor": "white",
            "showbackground": true,
            "ticks": "",
            "zerolinecolor": "white"
           },
           "yaxis": {
            "backgroundcolor": "#E5ECF6",
            "gridcolor": "white",
            "gridwidth": 2,
            "linecolor": "white",
            "showbackground": true,
            "ticks": "",
            "zerolinecolor": "white"
           },
           "zaxis": {
            "backgroundcolor": "#E5ECF6",
            "gridcolor": "white",
            "gridwidth": 2,
            "linecolor": "white",
            "showbackground": true,
            "ticks": "",
            "zerolinecolor": "white"
           }
          },
          "shapedefaults": {
           "line": {
            "color": "#2a3f5f"
           }
          },
          "ternary": {
           "aaxis": {
            "gridcolor": "white",
            "linecolor": "white",
            "ticks": ""
           },
           "baxis": {
            "gridcolor": "white",
            "linecolor": "white",
            "ticks": ""
           },
           "bgcolor": "#E5ECF6",
           "caxis": {
            "gridcolor": "white",
            "linecolor": "white",
            "ticks": ""
           }
          },
          "title": {
           "x": 0.05
          },
          "xaxis": {
           "automargin": true,
           "gridcolor": "white",
           "linecolor": "white",
           "ticks": "",
           "title": {
            "standoff": 15
           },
           "zerolinecolor": "white",
           "zerolinewidth": 2
          },
          "yaxis": {
           "automargin": true,
           "gridcolor": "white",
           "linecolor": "white",
           "ticks": "",
           "title": {
            "standoff": 15
           },
           "zerolinecolor": "white",
           "zerolinewidth": 2
          }
         }
        },
        "width": 1000
       }
      }
     },
     "metadata": {},
     "output_type": "display_data"
    }
   ],
   "source": [
    "plot_sectoral_analysis(events_by_sector, 'emotions.optimism')"
   ]
  },
  {
   "cell_type": "markdown",
   "metadata": {},
   "source": [
    "As expected, the technology sector is the primary driver of AI development and the most optimistic about it. Companies in consumer cyclical, healthcare, financials, and industrials are also highly optimistic, while the utilities and energy sectors are the least enthusiastic about AI. While you can experiment with various emotions and sentiments here, below we demonstarte an area plot to show how the emotions/sentiments across different sectors evolved over time."
   ]
  },
  {
   "cell_type": "code",
   "execution_count": 20,
   "metadata": {},
   "outputs": [
    {
     "data": {
      "application/vnd.plotly.v1+json": {
       "config": {
        "plotlyServerURL": "https://plot.ly"
       },
       "data": [
        {
         "fillpattern": {
          "shape": ""
         },
         "hovertemplate": "TRBC Economic Sector Name=Basic Materials<br>quarter=%{x}<br>emotions.optimism=%{y}<extra></extra>",
         "legendgroup": "Basic Materials",
         "line": {
          "color": "#636efa"
         },
         "marker": {
          "symbol": "circle"
         },
         "mode": "lines",
         "name": "Basic Materials",
         "orientation": "v",
         "showlegend": true,
         "stackgroup": "1",
         "type": "scatter",
         "x": [
          "2016Q1",
          "2016Q3",
          "2016Q4",
          "2017Q1",
          "2017Q2",
          "2017Q3",
          "2017Q4",
          "2018Q1",
          "2018Q2",
          "2018Q4",
          "2019Q2",
          "2019Q3",
          "2019Q4",
          "2020Q1",
          "2020Q2",
          "2020Q4",
          "2021Q1",
          "2021Q3",
          "2022Q1",
          "2022Q3",
          "2022Q4",
          "2023Q1",
          "2023Q2",
          "2023Q3",
          "2023Q4",
          "2024Q1",
          "2024Q2"
         ],
         "xaxis": "x",
         "y": [
          0.2314285714285714,
          0.17750000000000002,
          0.4,
          0.93,
          0.03333333333333333,
          0.7799999999999999,
          0.985,
          0.61,
          0.01,
          0.495,
          0.9425,
          0.025,
          1,
          0.05,
          0.7533333333333333,
          0.745,
          1,
          0.11,
          0.5,
          0.35000000000000003,
          0,
          0.625,
          0.51,
          0.6458823529411765,
          0.7575,
          0.7553333333333333,
          0.5858974358974359
         ],
         "yaxis": "y"
        },
        {
         "fillpattern": {
          "shape": ""
         },
         "hovertemplate": "TRBC Economic Sector Name=Consumer Non-Cyclicals<br>quarter=%{x}<br>emotions.optimism=%{y}<extra></extra>",
         "legendgroup": "Consumer Non-Cyclicals",
         "line": {
          "color": "#EF553B"
         },
         "marker": {
          "symbol": "circle"
         },
         "mode": "lines",
         "name": "Consumer Non-Cyclicals",
         "orientation": "v",
         "showlegend": true,
         "stackgroup": "1",
         "type": "scatter",
         "x": [
          "2016Q1",
          "2016Q2",
          "2016Q3",
          "2016Q4",
          "2017Q1",
          "2017Q2",
          "2017Q3",
          "2017Q4",
          "2018Q2",
          "2018Q3",
          "2018Q4",
          "2019Q1",
          "2019Q2",
          "2019Q3",
          "2019Q4",
          "2020Q1",
          "2020Q2",
          "2020Q3",
          "2020Q4",
          "2021Q1",
          "2021Q2",
          "2021Q3",
          "2021Q4",
          "2022Q1",
          "2022Q2",
          "2022Q3",
          "2022Q4",
          "2023Q1",
          "2023Q2",
          "2023Q3",
          "2023Q4",
          "2024Q1",
          "2024Q2"
         ],
         "xaxis": "x",
         "y": [
          0.42000000000000004,
          0.15307692307692308,
          0.4033333333333333,
          0.14,
          0.2085714285714286,
          0.39,
          0.5133333333333333,
          0.35777777777777775,
          0.44,
          0.98,
          0.26,
          0.34,
          0.005,
          0.5825,
          0.63,
          0.515,
          0.23,
          0.33666666666666667,
          0.33,
          0.292,
          0.8625,
          0.9550000000000001,
          0.24,
          0.21400000000000002,
          0.25761904761904764,
          0.21999999999999997,
          0.085,
          0.2318181818181818,
          0.4211764705882353,
          0.6190476190476191,
          0.2823529411764706,
          0.591,
          0.48000000000000004
         ],
         "yaxis": "y"
        },
        {
         "fillpattern": {
          "shape": ""
         },
         "hovertemplate": "TRBC Economic Sector Name=Consumer Cyclicals<br>quarter=%{x}<br>emotions.optimism=%{y}<extra></extra>",
         "legendgroup": "Consumer Cyclicals",
         "line": {
          "color": "#00cc96"
         },
         "marker": {
          "symbol": "circle"
         },
         "mode": "lines",
         "name": "Consumer Cyclicals",
         "orientation": "v",
         "showlegend": true,
         "stackgroup": "1",
         "type": "scatter",
         "x": [
          "2016Q1",
          "2016Q3",
          "2016Q4",
          "2017Q1",
          "2017Q2",
          "2017Q3",
          "2017Q4",
          "2018Q1",
          "2018Q2",
          "2018Q3",
          "2018Q4",
          "2019Q1",
          "2019Q2",
          "2019Q3",
          "2019Q4",
          "2020Q1",
          "2020Q3",
          "2020Q4",
          "2021Q1",
          "2021Q2",
          "2021Q3",
          "2021Q4",
          "2022Q1",
          "2022Q2",
          "2022Q3",
          "2022Q4",
          "2023Q1",
          "2023Q2",
          "2023Q3",
          "2023Q4",
          "2024Q1",
          "2024Q2"
         ],
         "xaxis": "x",
         "y": [
          0.325,
          0.37000000000000005,
          0.5411111111111111,
          0.935,
          0.55875,
          0.572,
          0.43166666666666664,
          0.6691666666666666,
          0.6288888888888889,
          0.497,
          0.5275,
          0.426,
          0.4785714285714286,
          0.3742857142857143,
          0.61625,
          0.31,
          0.39,
          0.6533333333333333,
          0.62125,
          0.4063636363636363,
          0.5678571428571428,
          0.67375,
          0.5189999999999999,
          0.5746666666666668,
          0.4918181818181818,
          0.48454545454545456,
          0.3746875,
          0.47983193277310926,
          0.50015625,
          0.5446067415730337,
          0.4825219941348973,
          0.5914227642276423
         ],
         "yaxis": "y"
        },
        {
         "fillpattern": {
          "shape": ""
         },
         "hovertemplate": "TRBC Economic Sector Name=Technology<br>quarter=%{x}<br>emotions.optimism=%{y}<extra></extra>",
         "legendgroup": "Technology",
         "line": {
          "color": "#ab63fa"
         },
         "marker": {
          "symbol": "circle"
         },
         "mode": "lines",
         "name": "Technology",
         "orientation": "v",
         "showlegend": true,
         "stackgroup": "1",
         "type": "scatter",
         "x": [
          "2016Q1",
          "2016Q2",
          "2016Q3",
          "2016Q4",
          "2017Q1",
          "2017Q2",
          "2017Q3",
          "2017Q4",
          "2018Q1",
          "2018Q2",
          "2018Q3",
          "2018Q4",
          "2019Q1",
          "2019Q2",
          "2019Q3",
          "2019Q4",
          "2020Q1",
          "2020Q2",
          "2020Q3",
          "2020Q4",
          "2021Q1",
          "2021Q2",
          "2021Q3",
          "2021Q4",
          "2022Q1",
          "2022Q2",
          "2022Q3",
          "2022Q4",
          "2023Q1",
          "2023Q2",
          "2023Q3",
          "2023Q4",
          "2024Q1",
          "2024Q2"
         ],
         "xaxis": "x",
         "y": [
          0.7230769230769231,
          0.5966666666666667,
          0.49342857142857144,
          0.4378181818181818,
          0.42419753086419754,
          0.4505194805194805,
          0.45442953020134225,
          0.5199393939393939,
          0.48102857142857147,
          0.4553787878787879,
          0.5248484848484848,
          0.6100595238095238,
          0.5682065217391304,
          0.532807881773399,
          0.49589147286821705,
          0.4867965367965368,
          0.5123469387755102,
          0.5325287356321838,
          0.5472307692307692,
          0.5208306709265176,
          0.5881203007518797,
          0.47215151515151516,
          0.5089240506329114,
          0.4602686567164179,
          0.489804469273743,
          0.5378614457831326,
          0.4750263157894737,
          0.5638782051282052,
          0.5109480122324159,
          0.49951093439363814,
          0.5117169304269932,
          0.5091523545706371,
          0.485118525021949,
          0.5237814879906268
         ],
         "yaxis": "y"
        },
        {
         "fillpattern": {
          "shape": ""
         },
         "hovertemplate": "TRBC Economic Sector Name=Healthcare<br>quarter=%{x}<br>emotions.optimism=%{y}<extra></extra>",
         "legendgroup": "Healthcare",
         "line": {
          "color": "#FFA15A"
         },
         "marker": {
          "symbol": "circle"
         },
         "mode": "lines",
         "name": "Healthcare",
         "orientation": "v",
         "showlegend": true,
         "stackgroup": "1",
         "type": "scatter",
         "x": [
          "2016Q2",
          "2016Q4",
          "2017Q1",
          "2017Q2",
          "2017Q3",
          "2017Q4",
          "2018Q1",
          "2018Q2",
          "2018Q3",
          "2018Q4",
          "2019Q1",
          "2019Q2",
          "2019Q3",
          "2019Q4",
          "2020Q1",
          "2020Q2",
          "2020Q3",
          "2020Q4",
          "2021Q1",
          "2021Q2",
          "2021Q3",
          "2021Q4",
          "2022Q1",
          "2022Q2",
          "2022Q3",
          "2022Q4",
          "2023Q1",
          "2023Q2",
          "2023Q3",
          "2023Q4",
          "2024Q1",
          "2024Q2"
         ],
         "xaxis": "x",
         "y": [
          0.15,
          0.47333333333333333,
          0.93,
          null,
          0.7525,
          0.5357142857142857,
          0.61,
          0.6981818181818181,
          0.3766666666666667,
          0.6488888888888888,
          0.6366666666666667,
          0.3688888888888889,
          0.28130434782608693,
          0.79125,
          0.2928571428571428,
          0.45,
          0.3645454545454545,
          0.6208695652173912,
          0.46240000000000003,
          0.5940425531914894,
          0.44962962962962966,
          0.54,
          0.5908695652173913,
          0.3932142857142857,
          0.4075,
          0.5629411764705883,
          0.663076923076923,
          0.5075510204081632,
          0.39863247863247864,
          0.5143181818181818,
          0.5282738095238095,
          0.543065693430657
         ],
         "yaxis": "y"
        },
        {
         "fillpattern": {
          "shape": ""
         },
         "hovertemplate": "TRBC Economic Sector Name=Industrials<br>quarter=%{x}<br>emotions.optimism=%{y}<extra></extra>",
         "legendgroup": "Industrials",
         "line": {
          "color": "#19d3f3"
         },
         "marker": {
          "symbol": "circle"
         },
         "mode": "lines",
         "name": "Industrials",
         "orientation": "v",
         "showlegend": true,
         "stackgroup": "1",
         "type": "scatter",
         "x": [
          "2016Q4",
          "2017Q1",
          "2017Q2",
          "2017Q3",
          "2017Q4",
          "2018Q1",
          "2018Q2",
          "2018Q3",
          "2018Q4",
          "2019Q1",
          "2019Q2",
          "2019Q3",
          "2019Q4",
          "2020Q1",
          "2020Q2",
          "2020Q3",
          "2020Q4",
          "2021Q1",
          "2021Q2",
          "2021Q3",
          "2021Q4",
          "2022Q1",
          "2022Q2",
          "2022Q3",
          "2022Q4",
          "2023Q1",
          "2023Q2",
          "2023Q3",
          "2023Q4",
          "2024Q1",
          "2024Q2"
         ],
         "xaxis": "x",
         "y": [
          0.22666666666666668,
          0.6811764705882353,
          0.5338888888888889,
          0.5803448275862069,
          0.6672727272727272,
          0.4760869565217391,
          0.3991304347826087,
          0.5229166666666667,
          0.5168421052631579,
          0.4156,
          0.44555555555555554,
          0.4584615384615385,
          0.370625,
          0.596,
          0.445,
          0.5808695652173913,
          0.5279310344827587,
          0.5614814814814815,
          0.48,
          0.515,
          0.4228571428571429,
          0.42,
          0.5194285714285715,
          0.543448275862069,
          0.3205555555555556,
          0.4583823529411765,
          0.47,
          0.5029205607476636,
          0.49445054945054945,
          0.6107710280373833,
          0.508903743315508
         ],
         "yaxis": "y"
        },
        {
         "fillpattern": {
          "shape": ""
         },
         "hovertemplate": "TRBC Economic Sector Name=Financials<br>quarter=%{x}<br>emotions.optimism=%{y}<extra></extra>",
         "legendgroup": "Financials",
         "line": {
          "color": "#FF6692"
         },
         "marker": {
          "symbol": "circle"
         },
         "mode": "lines",
         "name": "Financials",
         "orientation": "v",
         "showlegend": true,
         "stackgroup": "1",
         "type": "scatter",
         "x": [
          "2016Q4",
          "2017Q2",
          "2017Q3",
          "2017Q4",
          "2018Q1",
          "2018Q2",
          "2018Q3",
          "2018Q4",
          "2019Q1",
          "2019Q2",
          "2019Q3",
          "2019Q4",
          "2020Q1",
          "2020Q2",
          "2020Q3",
          "2020Q4",
          "2021Q1",
          "2021Q2",
          "2021Q3",
          "2021Q4",
          "2022Q1",
          "2022Q2",
          "2022Q3",
          "2022Q4",
          "2023Q1",
          "2023Q2",
          "2023Q3",
          "2023Q4",
          "2024Q1",
          "2024Q2"
         ],
         "xaxis": "x",
         "y": [
          0.24,
          0.36000000000000004,
          0.69,
          0.40499999999999997,
          0.51,
          0.5,
          0.49799999999999994,
          0.7859999999999999,
          0.571,
          0.3375,
          0.6766666666666666,
          0.28600000000000003,
          0.5166666666666666,
          0.5466666666666667,
          0.4625,
          0.3633333333333333,
          0.48,
          0.6285714285714287,
          0.43333333333333335,
          0.4861111111111111,
          0.344375,
          0.38,
          0.5,
          0.488,
          0.615,
          0.46458333333333335,
          0.5076470588235293,
          0.5445454545454546,
          0.5431645569620253,
          0.4230097087378641
         ],
         "yaxis": "y"
        },
        {
         "fillpattern": {
          "shape": ""
         },
         "hovertemplate": "TRBC Economic Sector Name=Real Estate<br>quarter=%{x}<br>emotions.optimism=%{y}<extra></extra>",
         "legendgroup": "Real Estate",
         "line": {
          "color": "#B6E880"
         },
         "marker": {
          "symbol": "circle"
         },
         "mode": "lines",
         "name": "Real Estate",
         "orientation": "v",
         "showlegend": true,
         "stackgroup": "1",
         "type": "scatter",
         "x": [
          "2017Q3",
          "2017Q4",
          "2018Q3",
          "2018Q4",
          "2019Q1",
          "2019Q2",
          "2019Q3",
          "2019Q4",
          "2020Q1",
          "2020Q2",
          "2020Q3",
          "2020Q4",
          "2021Q1",
          "2021Q2",
          "2021Q3",
          "2021Q4",
          "2022Q1",
          "2022Q3",
          "2022Q4",
          "2023Q1",
          "2023Q2",
          "2023Q3",
          "2023Q4",
          "2024Q1",
          "2024Q2"
         ],
         "xaxis": "x",
         "y": [
          0.98,
          0.8566666666666666,
          0.23,
          0.585,
          0.5,
          0.3333333333333333,
          0.5900000000000001,
          0.174,
          0.40625,
          0.242,
          0.74,
          0.42,
          0.495,
          0.741111111111111,
          0.3,
          0.43333333333333335,
          0.54375,
          0.3657142857142857,
          0.2,
          0.700625,
          0.4604255319148936,
          0.5219512195121951,
          0.45045454545454544,
          0.5003418803418803,
          0.5597368421052632
         ],
         "yaxis": "y"
        },
        {
         "fillpattern": {
          "shape": ""
         },
         "hovertemplate": "TRBC Economic Sector Name=Energy<br>quarter=%{x}<br>emotions.optimism=%{y}<extra></extra>",
         "legendgroup": "Energy",
         "line": {
          "color": "#FF97FF"
         },
         "marker": {
          "symbol": "circle"
         },
         "mode": "lines",
         "name": "Energy",
         "orientation": "v",
         "showlegend": true,
         "stackgroup": "1",
         "type": "scatter",
         "x": [
          "2019Q1",
          "2019Q3",
          "2019Q4",
          "2020Q1",
          "2020Q2",
          "2020Q3",
          "2020Q4",
          "2021Q1",
          "2021Q2",
          "2021Q3",
          "2021Q4",
          "2022Q1",
          "2022Q2",
          "2022Q3",
          "2022Q4",
          "2023Q1",
          "2023Q3",
          "2023Q4",
          "2024Q1",
          "2024Q2"
         ],
         "xaxis": "x",
         "y": [
          1,
          0.6211111111111111,
          0.75,
          0.9450000000000001,
          1,
          0.7244444444444444,
          0.515,
          0.581,
          0.5255555555555556,
          0.006666666666666667,
          0.3333333333333333,
          0.4875,
          0.2075,
          0,
          0.01,
          0.43,
          0.45249999999999996,
          0.6958333333333333,
          0.7205263157894737,
          0.46557894736842104
         ],
         "yaxis": "y"
        },
        {
         "fillpattern": {
          "shape": ""
         },
         "hovertemplate": "TRBC Economic Sector Name=Utilities<br>quarter=%{x}<br>emotions.optimism=%{y}<extra></extra>",
         "legendgroup": "Utilities",
         "line": {
          "color": "#FECB52"
         },
         "marker": {
          "symbol": "circle"
         },
         "mode": "lines",
         "name": "Utilities",
         "orientation": "v",
         "showlegend": true,
         "stackgroup": "1",
         "type": "scatter",
         "x": [
          "2019Q2",
          "2019Q4",
          "2020Q4",
          "2021Q1",
          "2021Q2",
          "2022Q2",
          "2023Q1",
          "2023Q3",
          "2023Q4",
          "2024Q1",
          "2024Q2"
         ],
         "xaxis": "x",
         "y": [
          0.41,
          0.01,
          0.05,
          0.39,
          0.995,
          1,
          0.915,
          0.44699999999999995,
          0.332,
          0.48130434782608694,
          0.6247499999999999
         ],
         "yaxis": "y"
        }
       ],
       "layout": {
        "height": 500,
        "legend": {
         "title": {
          "text": "TRBC Economic Sector Name"
         },
         "tracegroupgap": 0
        },
        "margin": {
         "t": 60
        },
        "template": {
         "data": {
          "bar": [
           {
            "error_x": {
             "color": "#2a3f5f"
            },
            "error_y": {
             "color": "#2a3f5f"
            },
            "marker": {
             "line": {
              "color": "#E5ECF6",
              "width": 0.5
             },
             "pattern": {
              "fillmode": "overlay",
              "size": 10,
              "solidity": 0.2
             }
            },
            "type": "bar"
           }
          ],
          "barpolar": [
           {
            "marker": {
             "line": {
              "color": "#E5ECF6",
              "width": 0.5
             },
             "pattern": {
              "fillmode": "overlay",
              "size": 10,
              "solidity": 0.2
             }
            },
            "type": "barpolar"
           }
          ],
          "carpet": [
           {
            "aaxis": {
             "endlinecolor": "#2a3f5f",
             "gridcolor": "white",
             "linecolor": "white",
             "minorgridcolor": "white",
             "startlinecolor": "#2a3f5f"
            },
            "baxis": {
             "endlinecolor": "#2a3f5f",
             "gridcolor": "white",
             "linecolor": "white",
             "minorgridcolor": "white",
             "startlinecolor": "#2a3f5f"
            },
            "type": "carpet"
           }
          ],
          "choropleth": [
           {
            "colorbar": {
             "outlinewidth": 0,
             "ticks": ""
            },
            "type": "choropleth"
           }
          ],
          "contour": [
           {
            "colorbar": {
             "outlinewidth": 0,
             "ticks": ""
            },
            "colorscale": [
             [
              0,
              "#0d0887"
             ],
             [
              0.1111111111111111,
              "#46039f"
             ],
             [
              0.2222222222222222,
              "#7201a8"
             ],
             [
              0.3333333333333333,
              "#9c179e"
             ],
             [
              0.4444444444444444,
              "#bd3786"
             ],
             [
              0.5555555555555556,
              "#d8576b"
             ],
             [
              0.6666666666666666,
              "#ed7953"
             ],
             [
              0.7777777777777778,
              "#fb9f3a"
             ],
             [
              0.8888888888888888,
              "#fdca26"
             ],
             [
              1,
              "#f0f921"
             ]
            ],
            "type": "contour"
           }
          ],
          "contourcarpet": [
           {
            "colorbar": {
             "outlinewidth": 0,
             "ticks": ""
            },
            "type": "contourcarpet"
           }
          ],
          "heatmap": [
           {
            "colorbar": {
             "outlinewidth": 0,
             "ticks": ""
            },
            "colorscale": [
             [
              0,
              "#0d0887"
             ],
             [
              0.1111111111111111,
              "#46039f"
             ],
             [
              0.2222222222222222,
              "#7201a8"
             ],
             [
              0.3333333333333333,
              "#9c179e"
             ],
             [
              0.4444444444444444,
              "#bd3786"
             ],
             [
              0.5555555555555556,
              "#d8576b"
             ],
             [
              0.6666666666666666,
              "#ed7953"
             ],
             [
              0.7777777777777778,
              "#fb9f3a"
             ],
             [
              0.8888888888888888,
              "#fdca26"
             ],
             [
              1,
              "#f0f921"
             ]
            ],
            "type": "heatmap"
           }
          ],
          "heatmapgl": [
           {
            "colorbar": {
             "outlinewidth": 0,
             "ticks": ""
            },
            "colorscale": [
             [
              0,
              "#0d0887"
             ],
             [
              0.1111111111111111,
              "#46039f"
             ],
             [
              0.2222222222222222,
              "#7201a8"
             ],
             [
              0.3333333333333333,
              "#9c179e"
             ],
             [
              0.4444444444444444,
              "#bd3786"
             ],
             [
              0.5555555555555556,
              "#d8576b"
             ],
             [
              0.6666666666666666,
              "#ed7953"
             ],
             [
              0.7777777777777778,
              "#fb9f3a"
             ],
             [
              0.8888888888888888,
              "#fdca26"
             ],
             [
              1,
              "#f0f921"
             ]
            ],
            "type": "heatmapgl"
           }
          ],
          "histogram": [
           {
            "marker": {
             "pattern": {
              "fillmode": "overlay",
              "size": 10,
              "solidity": 0.2
             }
            },
            "type": "histogram"
           }
          ],
          "histogram2d": [
           {
            "colorbar": {
             "outlinewidth": 0,
             "ticks": ""
            },
            "colorscale": [
             [
              0,
              "#0d0887"
             ],
             [
              0.1111111111111111,
              "#46039f"
             ],
             [
              0.2222222222222222,
              "#7201a8"
             ],
             [
              0.3333333333333333,
              "#9c179e"
             ],
             [
              0.4444444444444444,
              "#bd3786"
             ],
             [
              0.5555555555555556,
              "#d8576b"
             ],
             [
              0.6666666666666666,
              "#ed7953"
             ],
             [
              0.7777777777777778,
              "#fb9f3a"
             ],
             [
              0.8888888888888888,
              "#fdca26"
             ],
             [
              1,
              "#f0f921"
             ]
            ],
            "type": "histogram2d"
           }
          ],
          "histogram2dcontour": [
           {
            "colorbar": {
             "outlinewidth": 0,
             "ticks": ""
            },
            "colorscale": [
             [
              0,
              "#0d0887"
             ],
             [
              0.1111111111111111,
              "#46039f"
             ],
             [
              0.2222222222222222,
              "#7201a8"
             ],
             [
              0.3333333333333333,
              "#9c179e"
             ],
             [
              0.4444444444444444,
              "#bd3786"
             ],
             [
              0.5555555555555556,
              "#d8576b"
             ],
             [
              0.6666666666666666,
              "#ed7953"
             ],
             [
              0.7777777777777778,
              "#fb9f3a"
             ],
             [
              0.8888888888888888,
              "#fdca26"
             ],
             [
              1,
              "#f0f921"
             ]
            ],
            "type": "histogram2dcontour"
           }
          ],
          "mesh3d": [
           {
            "colorbar": {
             "outlinewidth": 0,
             "ticks": ""
            },
            "type": "mesh3d"
           }
          ],
          "parcoords": [
           {
            "line": {
             "colorbar": {
              "outlinewidth": 0,
              "ticks": ""
             }
            },
            "type": "parcoords"
           }
          ],
          "pie": [
           {
            "automargin": true,
            "type": "pie"
           }
          ],
          "scatter": [
           {
            "fillpattern": {
             "fillmode": "overlay",
             "size": 10,
             "solidity": 0.2
            },
            "type": "scatter"
           }
          ],
          "scatter3d": [
           {
            "line": {
             "colorbar": {
              "outlinewidth": 0,
              "ticks": ""
             }
            },
            "marker": {
             "colorbar": {
              "outlinewidth": 0,
              "ticks": ""
             }
            },
            "type": "scatter3d"
           }
          ],
          "scattercarpet": [
           {
            "marker": {
             "colorbar": {
              "outlinewidth": 0,
              "ticks": ""
             }
            },
            "type": "scattercarpet"
           }
          ],
          "scattergeo": [
           {
            "marker": {
             "colorbar": {
              "outlinewidth": 0,
              "ticks": ""
             }
            },
            "type": "scattergeo"
           }
          ],
          "scattergl": [
           {
            "marker": {
             "colorbar": {
              "outlinewidth": 0,
              "ticks": ""
             }
            },
            "type": "scattergl"
           }
          ],
          "scattermapbox": [
           {
            "marker": {
             "colorbar": {
              "outlinewidth": 0,
              "ticks": ""
             }
            },
            "type": "scattermapbox"
           }
          ],
          "scatterpolar": [
           {
            "marker": {
             "colorbar": {
              "outlinewidth": 0,
              "ticks": ""
             }
            },
            "type": "scatterpolar"
           }
          ],
          "scatterpolargl": [
           {
            "marker": {
             "colorbar": {
              "outlinewidth": 0,
              "ticks": ""
             }
            },
            "type": "scatterpolargl"
           }
          ],
          "scatterternary": [
           {
            "marker": {
             "colorbar": {
              "outlinewidth": 0,
              "ticks": ""
             }
            },
            "type": "scatterternary"
           }
          ],
          "surface": [
           {
            "colorbar": {
             "outlinewidth": 0,
             "ticks": ""
            },
            "colorscale": [
             [
              0,
              "#0d0887"
             ],
             [
              0.1111111111111111,
              "#46039f"
             ],
             [
              0.2222222222222222,
              "#7201a8"
             ],
             [
              0.3333333333333333,
              "#9c179e"
             ],
             [
              0.4444444444444444,
              "#bd3786"
             ],
             [
              0.5555555555555556,
              "#d8576b"
             ],
             [
              0.6666666666666666,
              "#ed7953"
             ],
             [
              0.7777777777777778,
              "#fb9f3a"
             ],
             [
              0.8888888888888888,
              "#fdca26"
             ],
             [
              1,
              "#f0f921"
             ]
            ],
            "type": "surface"
           }
          ],
          "table": [
           {
            "cells": {
             "fill": {
              "color": "#EBF0F8"
             },
             "line": {
              "color": "white"
             }
            },
            "header": {
             "fill": {
              "color": "#C8D4E3"
             },
             "line": {
              "color": "white"
             }
            },
            "type": "table"
           }
          ]
         },
         "layout": {
          "annotationdefaults": {
           "arrowcolor": "#2a3f5f",
           "arrowhead": 0,
           "arrowwidth": 1
          },
          "autotypenumbers": "strict",
          "coloraxis": {
           "colorbar": {
            "outlinewidth": 0,
            "ticks": ""
           }
          },
          "colorscale": {
           "diverging": [
            [
             0,
             "#8e0152"
            ],
            [
             0.1,
             "#c51b7d"
            ],
            [
             0.2,
             "#de77ae"
            ],
            [
             0.3,
             "#f1b6da"
            ],
            [
             0.4,
             "#fde0ef"
            ],
            [
             0.5,
             "#f7f7f7"
            ],
            [
             0.6,
             "#e6f5d0"
            ],
            [
             0.7,
             "#b8e186"
            ],
            [
             0.8,
             "#7fbc41"
            ],
            [
             0.9,
             "#4d9221"
            ],
            [
             1,
             "#276419"
            ]
           ],
           "sequential": [
            [
             0,
             "#0d0887"
            ],
            [
             0.1111111111111111,
             "#46039f"
            ],
            [
             0.2222222222222222,
             "#7201a8"
            ],
            [
             0.3333333333333333,
             "#9c179e"
            ],
            [
             0.4444444444444444,
             "#bd3786"
            ],
            [
             0.5555555555555556,
             "#d8576b"
            ],
            [
             0.6666666666666666,
             "#ed7953"
            ],
            [
             0.7777777777777778,
             "#fb9f3a"
            ],
            [
             0.8888888888888888,
             "#fdca26"
            ],
            [
             1,
             "#f0f921"
            ]
           ],
           "sequentialminus": [
            [
             0,
             "#0d0887"
            ],
            [
             0.1111111111111111,
             "#46039f"
            ],
            [
             0.2222222222222222,
             "#7201a8"
            ],
            [
             0.3333333333333333,
             "#9c179e"
            ],
            [
             0.4444444444444444,
             "#bd3786"
            ],
            [
             0.5555555555555556,
             "#d8576b"
            ],
            [
             0.6666666666666666,
             "#ed7953"
            ],
            [
             0.7777777777777778,
             "#fb9f3a"
            ],
            [
             0.8888888888888888,
             "#fdca26"
            ],
            [
             1,
             "#f0f921"
            ]
           ]
          },
          "colorway": [
           "#636efa",
           "#EF553B",
           "#00cc96",
           "#ab63fa",
           "#FFA15A",
           "#19d3f3",
           "#FF6692",
           "#B6E880",
           "#FF97FF",
           "#FECB52"
          ],
          "font": {
           "color": "#2a3f5f"
          },
          "geo": {
           "bgcolor": "white",
           "lakecolor": "white",
           "landcolor": "#E5ECF6",
           "showlakes": true,
           "showland": true,
           "subunitcolor": "white"
          },
          "hoverlabel": {
           "align": "left"
          },
          "hovermode": "closest",
          "mapbox": {
           "style": "light"
          },
          "paper_bgcolor": "white",
          "plot_bgcolor": "#E5ECF6",
          "polar": {
           "angularaxis": {
            "gridcolor": "white",
            "linecolor": "white",
            "ticks": ""
           },
           "bgcolor": "#E5ECF6",
           "radialaxis": {
            "gridcolor": "white",
            "linecolor": "white",
            "ticks": ""
           }
          },
          "scene": {
           "xaxis": {
            "backgroundcolor": "#E5ECF6",
            "gridcolor": "white",
            "gridwidth": 2,
            "linecolor": "white",
            "showbackground": true,
            "ticks": "",
            "zerolinecolor": "white"
           },
           "yaxis": {
            "backgroundcolor": "#E5ECF6",
            "gridcolor": "white",
            "gridwidth": 2,
            "linecolor": "white",
            "showbackground": true,
            "ticks": "",
            "zerolinecolor": "white"
           },
           "zaxis": {
            "backgroundcolor": "#E5ECF6",
            "gridcolor": "white",
            "gridwidth": 2,
            "linecolor": "white",
            "showbackground": true,
            "ticks": "",
            "zerolinecolor": "white"
           }
          },
          "shapedefaults": {
           "line": {
            "color": "#2a3f5f"
           }
          },
          "ternary": {
           "aaxis": {
            "gridcolor": "white",
            "linecolor": "white",
            "ticks": ""
           },
           "baxis": {
            "gridcolor": "white",
            "linecolor": "white",
            "ticks": ""
           },
           "bgcolor": "#E5ECF6",
           "caxis": {
            "gridcolor": "white",
            "linecolor": "white",
            "ticks": ""
           }
          },
          "title": {
           "x": 0.05
          },
          "xaxis": {
           "automargin": true,
           "gridcolor": "white",
           "linecolor": "white",
           "ticks": "",
           "title": {
            "standoff": 15
           },
           "zerolinecolor": "white",
           "zerolinewidth": 2
          },
          "yaxis": {
           "automargin": true,
           "gridcolor": "white",
           "linecolor": "white",
           "ticks": "",
           "title": {
            "standoff": 15
           },
           "zerolinecolor": "white",
           "zerolinewidth": 2
          }
         }
        },
        "title": {
         "text": "Number of constituents per sector historically"
        },
        "width": 1000,
        "xaxis": {
         "anchor": "y",
         "categoryorder": "array",
         "domain": [
          0,
          1
         ],
         "title": {
          "text": "quarter"
         },
         "type": "category"
        },
        "yaxis": {
         "anchor": "x",
         "domain": [
          0,
          1
         ],
         "title": {
          "text": "emotions.optimism"
         }
        }
       }
      }
     },
     "metadata": {},
     "output_type": "display_data"
    }
   ],
   "source": [
    "plot_sector_area_trend(events_by_sector, 'emotions.optimism')"
   ]
  },
  {
   "cell_type": "markdown",
   "metadata": {},
   "source": [
    "Finally, we select a sector and show the number of sentences, companies and emotional shifts within the sector utilizing the ***plot_metric_and_sentence_trends*** function."
   ]
  },
  {
   "cell_type": "code",
   "execution_count": 21,
   "metadata": {},
   "outputs": [
    {
     "data": {
      "application/vnd.plotly.v1+json": {
       "config": {
        "plotlyServerURL": "https://plot.ly"
       },
       "data": [
        {
         "mode": "lines+markers",
         "name": "optimism",
         "type": "scatter",
         "x": [
          "2016Q4",
          "2017Q2",
          "2017Q3",
          "2017Q4",
          "2018Q1",
          "2018Q2",
          "2018Q3",
          "2018Q4",
          "2019Q1",
          "2019Q2",
          "2019Q3",
          "2019Q4",
          "2020Q1",
          "2020Q2",
          "2020Q3",
          "2020Q4",
          "2021Q1",
          "2021Q2",
          "2021Q3",
          "2021Q4",
          "2022Q1",
          "2022Q2",
          "2022Q3",
          "2022Q4",
          "2023Q1",
          "2023Q2",
          "2023Q3",
          "2023Q4",
          "2024Q1",
          "2024Q2"
         ],
         "xaxis": "x",
         "y": [
          0.24,
          0.36000000000000004,
          0.69,
          0.40499999999999997,
          0.51,
          0.5,
          0.49799999999999994,
          0.7859999999999999,
          0.571,
          0.3375,
          0.6766666666666666,
          0.28600000000000003,
          0.5166666666666666,
          0.5466666666666667,
          0.4625,
          0.3633333333333333,
          0.48,
          0.6285714285714287,
          0.43333333333333335,
          0.4861111111111111,
          0.344375,
          0.38,
          0.5,
          0.488,
          0.615,
          0.46458333333333335,
          0.5076470588235293,
          0.5445454545454546,
          0.5431645569620253,
          0.4230097087378641
         ],
         "yaxis": "y"
        },
        {
         "mode": "lines+markers",
         "name": "fin_sentiment",
         "type": "scatter",
         "x": [
          "2016Q4",
          "2017Q2",
          "2017Q3",
          "2017Q4",
          "2018Q1",
          "2018Q2",
          "2018Q3",
          "2018Q4",
          "2019Q1",
          "2019Q2",
          "2019Q3",
          "2019Q4",
          "2020Q1",
          "2020Q2",
          "2020Q3",
          "2020Q4",
          "2021Q1",
          "2021Q2",
          "2021Q3",
          "2021Q4",
          "2022Q1",
          "2022Q2",
          "2022Q3",
          "2022Q4",
          "2023Q1",
          "2023Q2",
          "2023Q3",
          "2023Q4",
          "2024Q1",
          "2024Q2"
         ],
         "xaxis": "x",
         "y": [
          -0.31,
          0.5466666666666666,
          0.6666666666666666,
          0.5166666666666667,
          0.305,
          0.49666666666666665,
          0.396,
          0.776,
          0.763,
          0.47,
          0.7716666666666666,
          0.708,
          0.9199999999999999,
          0.8733333333333334,
          0.5975,
          0.89,
          0.5017391304347826,
          0.7257142857142858,
          0.4916666666666667,
          0.5872222222222222,
          0.7318749999999999,
          0.8939999999999999,
          0.796,
          0.578,
          0.8338888888888889,
          0.6041666666666666,
          0.7303529411764705,
          0.5984090909090909,
          0.5079746835443038,
          0.45368932038834947
         ],
         "yaxis": "y"
        },
        {
         "mode": "lines+markers",
         "name": "esg_sentiment",
         "type": "scatter",
         "x": [
          "2016Q4",
          "2017Q2",
          "2017Q3",
          "2017Q4",
          "2018Q1",
          "2018Q2",
          "2018Q3",
          "2018Q4",
          "2019Q1",
          "2019Q2",
          "2019Q3",
          "2019Q4",
          "2020Q1",
          "2020Q2",
          "2020Q3",
          "2020Q4",
          "2021Q1",
          "2021Q2",
          "2021Q3",
          "2021Q4",
          "2022Q1",
          "2022Q2",
          "2022Q3",
          "2022Q4",
          "2023Q1",
          "2023Q2",
          "2023Q3",
          "2023Q4",
          "2024Q1",
          "2024Q2"
         ],
         "xaxis": "x",
         "y": [
          null,
          0.7966666666666665,
          0.63,
          0.2075,
          0.014999999999999986,
          0.46499999999999997,
          0.023333333333333334,
          0.98,
          0.7325,
          0.505,
          0.7416666666666667,
          0.5866666666666667,
          0.75,
          0.495,
          0.7525,
          0.85,
          0.8262499999999999,
          0.35000000000000003,
          0.9450000000000001,
          0.643,
          0.6385714285714286,
          0.64,
          0.98,
          0.8266666666666667,
          0.8478571428571428,
          0.6434615384615385,
          0.7653061224489796,
          0.8096551724137931,
          0.5227777777777778,
          0.5726923076923077
         ],
         "yaxis": "y"
        },
        {
         "name": "Sentence Count",
         "opacity": 0.6,
         "type": "bar",
         "x": [
          "2016Q4",
          "2017Q2",
          "2017Q3",
          "2017Q4",
          "2018Q1",
          "2018Q2",
          "2018Q3",
          "2018Q4",
          "2019Q1",
          "2019Q2",
          "2019Q3",
          "2019Q4",
          "2020Q1",
          "2020Q2",
          "2020Q3",
          "2020Q4",
          "2021Q1",
          "2021Q2",
          "2021Q3",
          "2021Q4",
          "2022Q1",
          "2022Q2",
          "2022Q3",
          "2022Q4",
          "2023Q1",
          "2023Q2",
          "2023Q3",
          "2023Q4",
          "2024Q1",
          "2024Q2"
         ],
         "xaxis": "x",
         "y": [
          1,
          3,
          6,
          6,
          6,
          9,
          5,
          5,
          10,
          4,
          12,
          5,
          6,
          3,
          8,
          3,
          24,
          7,
          6,
          18,
          16,
          5,
          5,
          5,
          18,
          48,
          85,
          44,
          79,
          106
         ],
         "yaxis": "y2"
        }
       ],
       "layout": {
        "height": 800,
        "template": {
         "data": {
          "bar": [
           {
            "error_x": {
             "color": "#2a3f5f"
            },
            "error_y": {
             "color": "#2a3f5f"
            },
            "marker": {
             "line": {
              "color": "#E5ECF6",
              "width": 0.5
             },
             "pattern": {
              "fillmode": "overlay",
              "size": 10,
              "solidity": 0.2
             }
            },
            "type": "bar"
           }
          ],
          "barpolar": [
           {
            "marker": {
             "line": {
              "color": "#E5ECF6",
              "width": 0.5
             },
             "pattern": {
              "fillmode": "overlay",
              "size": 10,
              "solidity": 0.2
             }
            },
            "type": "barpolar"
           }
          ],
          "carpet": [
           {
            "aaxis": {
             "endlinecolor": "#2a3f5f",
             "gridcolor": "white",
             "linecolor": "white",
             "minorgridcolor": "white",
             "startlinecolor": "#2a3f5f"
            },
            "baxis": {
             "endlinecolor": "#2a3f5f",
             "gridcolor": "white",
             "linecolor": "white",
             "minorgridcolor": "white",
             "startlinecolor": "#2a3f5f"
            },
            "type": "carpet"
           }
          ],
          "choropleth": [
           {
            "colorbar": {
             "outlinewidth": 0,
             "ticks": ""
            },
            "type": "choropleth"
           }
          ],
          "contour": [
           {
            "colorbar": {
             "outlinewidth": 0,
             "ticks": ""
            },
            "colorscale": [
             [
              0,
              "#0d0887"
             ],
             [
              0.1111111111111111,
              "#46039f"
             ],
             [
              0.2222222222222222,
              "#7201a8"
             ],
             [
              0.3333333333333333,
              "#9c179e"
             ],
             [
              0.4444444444444444,
              "#bd3786"
             ],
             [
              0.5555555555555556,
              "#d8576b"
             ],
             [
              0.6666666666666666,
              "#ed7953"
             ],
             [
              0.7777777777777778,
              "#fb9f3a"
             ],
             [
              0.8888888888888888,
              "#fdca26"
             ],
             [
              1,
              "#f0f921"
             ]
            ],
            "type": "contour"
           }
          ],
          "contourcarpet": [
           {
            "colorbar": {
             "outlinewidth": 0,
             "ticks": ""
            },
            "type": "contourcarpet"
           }
          ],
          "heatmap": [
           {
            "colorbar": {
             "outlinewidth": 0,
             "ticks": ""
            },
            "colorscale": [
             [
              0,
              "#0d0887"
             ],
             [
              0.1111111111111111,
              "#46039f"
             ],
             [
              0.2222222222222222,
              "#7201a8"
             ],
             [
              0.3333333333333333,
              "#9c179e"
             ],
             [
              0.4444444444444444,
              "#bd3786"
             ],
             [
              0.5555555555555556,
              "#d8576b"
             ],
             [
              0.6666666666666666,
              "#ed7953"
             ],
             [
              0.7777777777777778,
              "#fb9f3a"
             ],
             [
              0.8888888888888888,
              "#fdca26"
             ],
             [
              1,
              "#f0f921"
             ]
            ],
            "type": "heatmap"
           }
          ],
          "heatmapgl": [
           {
            "colorbar": {
             "outlinewidth": 0,
             "ticks": ""
            },
            "colorscale": [
             [
              0,
              "#0d0887"
             ],
             [
              0.1111111111111111,
              "#46039f"
             ],
             [
              0.2222222222222222,
              "#7201a8"
             ],
             [
              0.3333333333333333,
              "#9c179e"
             ],
             [
              0.4444444444444444,
              "#bd3786"
             ],
             [
              0.5555555555555556,
              "#d8576b"
             ],
             [
              0.6666666666666666,
              "#ed7953"
             ],
             [
              0.7777777777777778,
              "#fb9f3a"
             ],
             [
              0.8888888888888888,
              "#fdca26"
             ],
             [
              1,
              "#f0f921"
             ]
            ],
            "type": "heatmapgl"
           }
          ],
          "histogram": [
           {
            "marker": {
             "pattern": {
              "fillmode": "overlay",
              "size": 10,
              "solidity": 0.2
             }
            },
            "type": "histogram"
           }
          ],
          "histogram2d": [
           {
            "colorbar": {
             "outlinewidth": 0,
             "ticks": ""
            },
            "colorscale": [
             [
              0,
              "#0d0887"
             ],
             [
              0.1111111111111111,
              "#46039f"
             ],
             [
              0.2222222222222222,
              "#7201a8"
             ],
             [
              0.3333333333333333,
              "#9c179e"
             ],
             [
              0.4444444444444444,
              "#bd3786"
             ],
             [
              0.5555555555555556,
              "#d8576b"
             ],
             [
              0.6666666666666666,
              "#ed7953"
             ],
             [
              0.7777777777777778,
              "#fb9f3a"
             ],
             [
              0.8888888888888888,
              "#fdca26"
             ],
             [
              1,
              "#f0f921"
             ]
            ],
            "type": "histogram2d"
           }
          ],
          "histogram2dcontour": [
           {
            "colorbar": {
             "outlinewidth": 0,
             "ticks": ""
            },
            "colorscale": [
             [
              0,
              "#0d0887"
             ],
             [
              0.1111111111111111,
              "#46039f"
             ],
             [
              0.2222222222222222,
              "#7201a8"
             ],
             [
              0.3333333333333333,
              "#9c179e"
             ],
             [
              0.4444444444444444,
              "#bd3786"
             ],
             [
              0.5555555555555556,
              "#d8576b"
             ],
             [
              0.6666666666666666,
              "#ed7953"
             ],
             [
              0.7777777777777778,
              "#fb9f3a"
             ],
             [
              0.8888888888888888,
              "#fdca26"
             ],
             [
              1,
              "#f0f921"
             ]
            ],
            "type": "histogram2dcontour"
           }
          ],
          "mesh3d": [
           {
            "colorbar": {
             "outlinewidth": 0,
             "ticks": ""
            },
            "type": "mesh3d"
           }
          ],
          "parcoords": [
           {
            "line": {
             "colorbar": {
              "outlinewidth": 0,
              "ticks": ""
             }
            },
            "type": "parcoords"
           }
          ],
          "pie": [
           {
            "automargin": true,
            "type": "pie"
           }
          ],
          "scatter": [
           {
            "fillpattern": {
             "fillmode": "overlay",
             "size": 10,
             "solidity": 0.2
            },
            "type": "scatter"
           }
          ],
          "scatter3d": [
           {
            "line": {
             "colorbar": {
              "outlinewidth": 0,
              "ticks": ""
             }
            },
            "marker": {
             "colorbar": {
              "outlinewidth": 0,
              "ticks": ""
             }
            },
            "type": "scatter3d"
           }
          ],
          "scattercarpet": [
           {
            "marker": {
             "colorbar": {
              "outlinewidth": 0,
              "ticks": ""
             }
            },
            "type": "scattercarpet"
           }
          ],
          "scattergeo": [
           {
            "marker": {
             "colorbar": {
              "outlinewidth": 0,
              "ticks": ""
             }
            },
            "type": "scattergeo"
           }
          ],
          "scattergl": [
           {
            "marker": {
             "colorbar": {
              "outlinewidth": 0,
              "ticks": ""
             }
            },
            "type": "scattergl"
           }
          ],
          "scattermapbox": [
           {
            "marker": {
             "colorbar": {
              "outlinewidth": 0,
              "ticks": ""
             }
            },
            "type": "scattermapbox"
           }
          ],
          "scatterpolar": [
           {
            "marker": {
             "colorbar": {
              "outlinewidth": 0,
              "ticks": ""
             }
            },
            "type": "scatterpolar"
           }
          ],
          "scatterpolargl": [
           {
            "marker": {
             "colorbar": {
              "outlinewidth": 0,
              "ticks": ""
             }
            },
            "type": "scatterpolargl"
           }
          ],
          "scatterternary": [
           {
            "marker": {
             "colorbar": {
              "outlinewidth": 0,
              "ticks": ""
             }
            },
            "type": "scatterternary"
           }
          ],
          "surface": [
           {
            "colorbar": {
             "outlinewidth": 0,
             "ticks": ""
            },
            "colorscale": [
             [
              0,
              "#0d0887"
             ],
             [
              0.1111111111111111,
              "#46039f"
             ],
             [
              0.2222222222222222,
              "#7201a8"
             ],
             [
              0.3333333333333333,
              "#9c179e"
             ],
             [
              0.4444444444444444,
              "#bd3786"
             ],
             [
              0.5555555555555556,
              "#d8576b"
             ],
             [
              0.6666666666666666,
              "#ed7953"
             ],
             [
              0.7777777777777778,
              "#fb9f3a"
             ],
             [
              0.8888888888888888,
              "#fdca26"
             ],
             [
              1,
              "#f0f921"
             ]
            ],
            "type": "surface"
           }
          ],
          "table": [
           {
            "cells": {
             "fill": {
              "color": "#EBF0F8"
             },
             "line": {
              "color": "white"
             }
            },
            "header": {
             "fill": {
              "color": "#C8D4E3"
             },
             "line": {
              "color": "white"
             }
            },
            "type": "table"
           }
          ]
         },
         "layout": {
          "annotationdefaults": {
           "arrowcolor": "#2a3f5f",
           "arrowhead": 0,
           "arrowwidth": 1
          },
          "autotypenumbers": "strict",
          "coloraxis": {
           "colorbar": {
            "outlinewidth": 0,
            "ticks": ""
           }
          },
          "colorscale": {
           "diverging": [
            [
             0,
             "#8e0152"
            ],
            [
             0.1,
             "#c51b7d"
            ],
            [
             0.2,
             "#de77ae"
            ],
            [
             0.3,
             "#f1b6da"
            ],
            [
             0.4,
             "#fde0ef"
            ],
            [
             0.5,
             "#f7f7f7"
            ],
            [
             0.6,
             "#e6f5d0"
            ],
            [
             0.7,
             "#b8e186"
            ],
            [
             0.8,
             "#7fbc41"
            ],
            [
             0.9,
             "#4d9221"
            ],
            [
             1,
             "#276419"
            ]
           ],
           "sequential": [
            [
             0,
             "#0d0887"
            ],
            [
             0.1111111111111111,
             "#46039f"
            ],
            [
             0.2222222222222222,
             "#7201a8"
            ],
            [
             0.3333333333333333,
             "#9c179e"
            ],
            [
             0.4444444444444444,
             "#bd3786"
            ],
            [
             0.5555555555555556,
             "#d8576b"
            ],
            [
             0.6666666666666666,
             "#ed7953"
            ],
            [
             0.7777777777777778,
             "#fb9f3a"
            ],
            [
             0.8888888888888888,
             "#fdca26"
            ],
            [
             1,
             "#f0f921"
            ]
           ],
           "sequentialminus": [
            [
             0,
             "#0d0887"
            ],
            [
             0.1111111111111111,
             "#46039f"
            ],
            [
             0.2222222222222222,
             "#7201a8"
            ],
            [
             0.3333333333333333,
             "#9c179e"
            ],
            [
             0.4444444444444444,
             "#bd3786"
            ],
            [
             0.5555555555555556,
             "#d8576b"
            ],
            [
             0.6666666666666666,
             "#ed7953"
            ],
            [
             0.7777777777777778,
             "#fb9f3a"
            ],
            [
             0.8888888888888888,
             "#fdca26"
            ],
            [
             1,
             "#f0f921"
            ]
           ]
          },
          "colorway": [
           "#636efa",
           "#EF553B",
           "#00cc96",
           "#ab63fa",
           "#FFA15A",
           "#19d3f3",
           "#FF6692",
           "#B6E880",
           "#FF97FF",
           "#FECB52"
          ],
          "font": {
           "color": "#2a3f5f"
          },
          "geo": {
           "bgcolor": "white",
           "lakecolor": "white",
           "landcolor": "#E5ECF6",
           "showlakes": true,
           "showland": true,
           "subunitcolor": "white"
          },
          "hoverlabel": {
           "align": "left"
          },
          "hovermode": "closest",
          "mapbox": {
           "style": "light"
          },
          "paper_bgcolor": "white",
          "plot_bgcolor": "#E5ECF6",
          "polar": {
           "angularaxis": {
            "gridcolor": "white",
            "linecolor": "white",
            "ticks": ""
           },
           "bgcolor": "#E5ECF6",
           "radialaxis": {
            "gridcolor": "white",
            "linecolor": "white",
            "ticks": ""
           }
          },
          "scene": {
           "xaxis": {
            "backgroundcolor": "#E5ECF6",
            "gridcolor": "white",
            "gridwidth": 2,
            "linecolor": "white",
            "showbackground": true,
            "ticks": "",
            "zerolinecolor": "white"
           },
           "yaxis": {
            "backgroundcolor": "#E5ECF6",
            "gridcolor": "white",
            "gridwidth": 2,
            "linecolor": "white",
            "showbackground": true,
            "ticks": "",
            "zerolinecolor": "white"
           },
           "zaxis": {
            "backgroundcolor": "#E5ECF6",
            "gridcolor": "white",
            "gridwidth": 2,
            "linecolor": "white",
            "showbackground": true,
            "ticks": "",
            "zerolinecolor": "white"
           }
          },
          "shapedefaults": {
           "line": {
            "color": "#2a3f5f"
           }
          },
          "ternary": {
           "aaxis": {
            "gridcolor": "white",
            "linecolor": "white",
            "ticks": ""
           },
           "baxis": {
            "gridcolor": "white",
            "linecolor": "white",
            "ticks": ""
           },
           "bgcolor": "#E5ECF6",
           "caxis": {
            "gridcolor": "white",
            "linecolor": "white",
            "ticks": ""
           }
          },
          "title": {
           "x": 0.05
          },
          "xaxis": {
           "automargin": true,
           "gridcolor": "white",
           "linecolor": "white",
           "ticks": "",
           "title": {
            "standoff": 15
           },
           "zerolinecolor": "white",
           "zerolinewidth": 2
          },
          "yaxis": {
           "automargin": true,
           "gridcolor": "white",
           "linecolor": "white",
           "ticks": "",
           "title": {
            "standoff": 15
           },
           "zerolinecolor": "white",
           "zerolinewidth": 2
          }
         }
        },
        "title": {
         "text": "Quarterly Emotion Trends for Financials"
        },
        "xaxis": {
         "anchor": "y",
         "domain": [
          0,
          0.94
         ]
        },
        "xaxis2": {
         "anchor": "y3",
         "domain": [
          0,
          0.94
         ]
        },
        "yaxis": {
         "anchor": "x",
         "domain": [
          0.43333333333333335,
          1
         ],
         "title": {
          "text": "Emotion Score"
         }
        },
        "yaxis2": {
         "anchor": "x",
         "overlaying": "y",
         "side": "right"
        },
        "yaxis3": {
         "anchor": "x2",
         "domain": [
          0,
          0.2833333333333333
         ]
        }
       }
      }
     },
     "metadata": {},
     "output_type": "display_data"
    }
   ],
   "source": [
    "sector = 'Financials'\n",
    "data  = events_by_sector[events_by_sector['TRBC Economic Sector Name'] == sector]\n",
    "metrics = [\n",
    "       'emotions.optimism',\n",
    "       'analysis.fin_sentiment','analysis.esg_sentiment']\n",
    "\n",
    "plot_metric_and_sentence_trends(data, metrics, name= sector)"
   ]
  },
  {
   "cell_type": "markdown",
   "metadata": {},
   "source": [
    "### Company level view of the analysis\n",
    "Here, we show also the company level view of the analysis, first by grouping events dataset by Instrument and the quarter."
   ]
  },
  {
   "cell_type": "code",
   "execution_count": 22,
   "metadata": {},
   "outputs": [
    {
     "data": {
      "text/html": [
       "<div>\n",
       "<style scoped>\n",
       "    .dataframe tbody tr th:only-of-type {\n",
       "        vertical-align: middle;\n",
       "    }\n",
       "\n",
       "    .dataframe tbody tr th {\n",
       "        vertical-align: top;\n",
       "    }\n",
       "\n",
       "    .dataframe thead th {\n",
       "        text-align: right;\n",
       "    }\n",
       "</style>\n",
       "<table border=\"1\" class=\"dataframe\">\n",
       "  <thead>\n",
       "    <tr style=\"text-align: right;\">\n",
       "      <th></th>\n",
       "      <th>Instrument</th>\n",
       "      <th>quarter</th>\n",
       "      <th>start_date</th>\n",
       "      <th>analysis.fin_sentiment</th>\n",
       "      <th>analysis.esg_sentiment</th>\n",
       "      <th>emotions.admiration</th>\n",
       "      <th>emotions.anger</th>\n",
       "      <th>emotions.annoyance</th>\n",
       "      <th>emotions.approval</th>\n",
       "      <th>emotions.confusion</th>\n",
       "      <th>emotions.disappointment</th>\n",
       "      <th>emotions.disapproval</th>\n",
       "      <th>emotions.fear</th>\n",
       "      <th>emotions.gratitude</th>\n",
       "      <th>emotions.optimism</th>\n",
       "      <th>emotions.pride</th>\n",
       "      <th>emotions.surprise</th>\n",
       "      <th>emotions.neutral</th>\n",
       "      <th>num_sentences</th>\n",
       "      <th>company_count</th>\n",
       "    </tr>\n",
       "  </thead>\n",
       "  <tbody>\n",
       "    <tr>\n",
       "      <th>0</th>\n",
       "      <td>MSFT.OQ</td>\n",
       "      <td>2016Q1</td>\n",
       "      <td>2016-01-28</td>\n",
       "      <td>0.930000</td>\n",
       "      <td>NaN</td>\n",
       "      <td>0.100000</td>\n",
       "      <td>0.000000</td>\n",
       "      <td>0.000000</td>\n",
       "      <td>0.100000</td>\n",
       "      <td>0.010000</td>\n",
       "      <td>0.000000</td>\n",
       "      <td>0.000000</td>\n",
       "      <td>0.000000</td>\n",
       "      <td>0.010000</td>\n",
       "      <td>0.960000</td>\n",
       "      <td>0.000000</td>\n",
       "      <td>0.00</td>\n",
       "      <td>0.060000</td>\n",
       "      <td>1</td>\n",
       "      <td>1</td>\n",
       "    </tr>\n",
       "    <tr>\n",
       "      <th>1</th>\n",
       "      <td>TSN.N</td>\n",
       "      <td>2016Q1</td>\n",
       "      <td>2016-02-05</td>\n",
       "      <td>0.190000</td>\n",
       "      <td>NaN</td>\n",
       "      <td>0.010000</td>\n",
       "      <td>0.000000</td>\n",
       "      <td>0.005000</td>\n",
       "      <td>0.020000</td>\n",
       "      <td>0.000000</td>\n",
       "      <td>0.005000</td>\n",
       "      <td>0.020000</td>\n",
       "      <td>0.255000</td>\n",
       "      <td>0.010000</td>\n",
       "      <td>0.865000</td>\n",
       "      <td>0.045000</td>\n",
       "      <td>0.00</td>\n",
       "      <td>0.000000</td>\n",
       "      <td>2</td>\n",
       "      <td>1</td>\n",
       "    </tr>\n",
       "    <tr>\n",
       "      <th>2</th>\n",
       "      <td>META.OQ</td>\n",
       "      <td>2016Q1</td>\n",
       "      <td>2016-01-27</td>\n",
       "      <td>0.764286</td>\n",
       "      <td>0.755</td>\n",
       "      <td>0.005714</td>\n",
       "      <td>0.001429</td>\n",
       "      <td>0.002857</td>\n",
       "      <td>0.367143</td>\n",
       "      <td>0.001429</td>\n",
       "      <td>0.002857</td>\n",
       "      <td>0.001429</td>\n",
       "      <td>0.000000</td>\n",
       "      <td>0.001429</td>\n",
       "      <td>0.605714</td>\n",
       "      <td>0.081429</td>\n",
       "      <td>0.00</td>\n",
       "      <td>0.262857</td>\n",
       "      <td>7</td>\n",
       "      <td>1</td>\n",
       "    </tr>\n",
       "    <tr>\n",
       "      <th>3</th>\n",
       "      <td>CE.N</td>\n",
       "      <td>2016Q1</td>\n",
       "      <td>2016-01-22</td>\n",
       "      <td>-0.200000</td>\n",
       "      <td>NaN</td>\n",
       "      <td>0.004286</td>\n",
       "      <td>0.001429</td>\n",
       "      <td>0.064286</td>\n",
       "      <td>0.022857</td>\n",
       "      <td>0.052857</td>\n",
       "      <td>0.004286</td>\n",
       "      <td>0.005714</td>\n",
       "      <td>0.164286</td>\n",
       "      <td>0.001429</td>\n",
       "      <td>0.231429</td>\n",
       "      <td>0.000000</td>\n",
       "      <td>0.00</td>\n",
       "      <td>0.141429</td>\n",
       "      <td>7</td>\n",
       "      <td>1</td>\n",
       "    </tr>\n",
       "    <tr>\n",
       "      <th>4</th>\n",
       "      <td>MAT.OQ</td>\n",
       "      <td>2016Q1</td>\n",
       "      <td>2016-02-01</td>\n",
       "      <td>0.920000</td>\n",
       "      <td>NaN</td>\n",
       "      <td>0.080000</td>\n",
       "      <td>0.010000</td>\n",
       "      <td>0.010000</td>\n",
       "      <td>0.010000</td>\n",
       "      <td>0.000000</td>\n",
       "      <td>0.000000</td>\n",
       "      <td>0.000000</td>\n",
       "      <td>0.000000</td>\n",
       "      <td>0.000000</td>\n",
       "      <td>0.640000</td>\n",
       "      <td>0.410000</td>\n",
       "      <td>0.03</td>\n",
       "      <td>0.090000</td>\n",
       "      <td>1</td>\n",
       "      <td>1</td>\n",
       "    </tr>\n",
       "    <tr>\n",
       "      <th>...</th>\n",
       "      <td>...</td>\n",
       "      <td>...</td>\n",
       "      <td>...</td>\n",
       "      <td>...</td>\n",
       "      <td>...</td>\n",
       "      <td>...</td>\n",
       "      <td>...</td>\n",
       "      <td>...</td>\n",
       "      <td>...</td>\n",
       "      <td>...</td>\n",
       "      <td>...</td>\n",
       "      <td>...</td>\n",
       "      <td>...</td>\n",
       "      <td>...</td>\n",
       "      <td>...</td>\n",
       "      <td>...</td>\n",
       "      <td>...</td>\n",
       "      <td>...</td>\n",
       "      <td>...</td>\n",
       "      <td>...</td>\n",
       "    </tr>\n",
       "    <tr>\n",
       "      <th>3690</th>\n",
       "      <td>RSG.N</td>\n",
       "      <td>2024Q2</td>\n",
       "      <td>2024-04-30</td>\n",
       "      <td>0.790000</td>\n",
       "      <td>NaN</td>\n",
       "      <td>0.000000</td>\n",
       "      <td>0.000000</td>\n",
       "      <td>0.000000</td>\n",
       "      <td>0.030000</td>\n",
       "      <td>0.070000</td>\n",
       "      <td>0.010000</td>\n",
       "      <td>0.410000</td>\n",
       "      <td>0.070000</td>\n",
       "      <td>0.000000</td>\n",
       "      <td>0.120000</td>\n",
       "      <td>0.000000</td>\n",
       "      <td>0.00</td>\n",
       "      <td>0.010000</td>\n",
       "      <td>1</td>\n",
       "      <td>1</td>\n",
       "    </tr>\n",
       "    <tr>\n",
       "      <th>3691</th>\n",
       "      <td>RVTY.N</td>\n",
       "      <td>2024Q2</td>\n",
       "      <td>2024-04-29</td>\n",
       "      <td>0.950000</td>\n",
       "      <td>NaN</td>\n",
       "      <td>0.020000</td>\n",
       "      <td>0.000000</td>\n",
       "      <td>0.000000</td>\n",
       "      <td>0.060000</td>\n",
       "      <td>0.000000</td>\n",
       "      <td>0.000000</td>\n",
       "      <td>0.000000</td>\n",
       "      <td>0.030000</td>\n",
       "      <td>0.000000</td>\n",
       "      <td>1.000000</td>\n",
       "      <td>0.000000</td>\n",
       "      <td>0.00</td>\n",
       "      <td>0.000000</td>\n",
       "      <td>1</td>\n",
       "      <td>1</td>\n",
       "    </tr>\n",
       "    <tr>\n",
       "      <th>3692</th>\n",
       "      <td>DGX.N</td>\n",
       "      <td>2024Q2</td>\n",
       "      <td>2024-04-23</td>\n",
       "      <td>0.594000</td>\n",
       "      <td>0.774</td>\n",
       "      <td>0.016000</td>\n",
       "      <td>0.000000</td>\n",
       "      <td>0.004000</td>\n",
       "      <td>0.616000</td>\n",
       "      <td>0.006000</td>\n",
       "      <td>0.004000</td>\n",
       "      <td>0.002000</td>\n",
       "      <td>0.022000</td>\n",
       "      <td>0.006000</td>\n",
       "      <td>0.814000</td>\n",
       "      <td>0.018000</td>\n",
       "      <td>0.00</td>\n",
       "      <td>0.102000</td>\n",
       "      <td>5</td>\n",
       "      <td>1</td>\n",
       "    </tr>\n",
       "    <tr>\n",
       "      <th>3693</th>\n",
       "      <td>LMT.N</td>\n",
       "      <td>2024Q2</td>\n",
       "      <td>2024-04-23</td>\n",
       "      <td>0.215000</td>\n",
       "      <td>0.520</td>\n",
       "      <td>0.045000</td>\n",
       "      <td>0.000000</td>\n",
       "      <td>0.020000</td>\n",
       "      <td>0.377500</td>\n",
       "      <td>0.010000</td>\n",
       "      <td>0.242500</td>\n",
       "      <td>0.005000</td>\n",
       "      <td>0.062500</td>\n",
       "      <td>0.062500</td>\n",
       "      <td>0.525000</td>\n",
       "      <td>0.002500</td>\n",
       "      <td>0.00</td>\n",
       "      <td>0.005000</td>\n",
       "      <td>4</td>\n",
       "      <td>1</td>\n",
       "    </tr>\n",
       "    <tr>\n",
       "      <th>3694</th>\n",
       "      <td>FANG.OQ</td>\n",
       "      <td>2024Q2</td>\n",
       "      <td>2024-05-01</td>\n",
       "      <td>0.488000</td>\n",
       "      <td>NaN</td>\n",
       "      <td>0.014000</td>\n",
       "      <td>0.000000</td>\n",
       "      <td>0.006000</td>\n",
       "      <td>0.470000</td>\n",
       "      <td>0.044000</td>\n",
       "      <td>0.036000</td>\n",
       "      <td>0.004000</td>\n",
       "      <td>0.008000</td>\n",
       "      <td>0.004000</td>\n",
       "      <td>0.768000</td>\n",
       "      <td>0.002000</td>\n",
       "      <td>0.00</td>\n",
       "      <td>0.020000</td>\n",
       "      <td>5</td>\n",
       "      <td>1</td>\n",
       "    </tr>\n",
       "  </tbody>\n",
       "</table>\n",
       "<p>3695 rows × 20 columns</p>\n",
       "</div>"
      ],
      "text/plain": [
       "     Instrument quarter start_date  analysis.fin_sentiment  \\\n",
       "0       MSFT.OQ  2016Q1 2016-01-28                0.930000   \n",
       "1         TSN.N  2016Q1 2016-02-05                0.190000   \n",
       "2       META.OQ  2016Q1 2016-01-27                0.764286   \n",
       "3          CE.N  2016Q1 2016-01-22               -0.200000   \n",
       "4        MAT.OQ  2016Q1 2016-02-01                0.920000   \n",
       "...         ...     ...        ...                     ...   \n",
       "3690      RSG.N  2024Q2 2024-04-30                0.790000   \n",
       "3691     RVTY.N  2024Q2 2024-04-29                0.950000   \n",
       "3692      DGX.N  2024Q2 2024-04-23                0.594000   \n",
       "3693      LMT.N  2024Q2 2024-04-23                0.215000   \n",
       "3694    FANG.OQ  2024Q2 2024-05-01                0.488000   \n",
       "\n",
       "      analysis.esg_sentiment  emotions.admiration  emotions.anger  \\\n",
       "0                        NaN             0.100000        0.000000   \n",
       "1                        NaN             0.010000        0.000000   \n",
       "2                      0.755             0.005714        0.001429   \n",
       "3                        NaN             0.004286        0.001429   \n",
       "4                        NaN             0.080000        0.010000   \n",
       "...                      ...                  ...             ...   \n",
       "3690                     NaN             0.000000        0.000000   \n",
       "3691                     NaN             0.020000        0.000000   \n",
       "3692                   0.774             0.016000        0.000000   \n",
       "3693                   0.520             0.045000        0.000000   \n",
       "3694                     NaN             0.014000        0.000000   \n",
       "\n",
       "      emotions.annoyance  emotions.approval  emotions.confusion  \\\n",
       "0               0.000000           0.100000            0.010000   \n",
       "1               0.005000           0.020000            0.000000   \n",
       "2               0.002857           0.367143            0.001429   \n",
       "3               0.064286           0.022857            0.052857   \n",
       "4               0.010000           0.010000            0.000000   \n",
       "...                  ...                ...                 ...   \n",
       "3690            0.000000           0.030000            0.070000   \n",
       "3691            0.000000           0.060000            0.000000   \n",
       "3692            0.004000           0.616000            0.006000   \n",
       "3693            0.020000           0.377500            0.010000   \n",
       "3694            0.006000           0.470000            0.044000   \n",
       "\n",
       "      emotions.disappointment  emotions.disapproval  emotions.fear  \\\n",
       "0                    0.000000              0.000000       0.000000   \n",
       "1                    0.005000              0.020000       0.255000   \n",
       "2                    0.002857              0.001429       0.000000   \n",
       "3                    0.004286              0.005714       0.164286   \n",
       "4                    0.000000              0.000000       0.000000   \n",
       "...                       ...                   ...            ...   \n",
       "3690                 0.010000              0.410000       0.070000   \n",
       "3691                 0.000000              0.000000       0.030000   \n",
       "3692                 0.004000              0.002000       0.022000   \n",
       "3693                 0.242500              0.005000       0.062500   \n",
       "3694                 0.036000              0.004000       0.008000   \n",
       "\n",
       "      emotions.gratitude  emotions.optimism  emotions.pride  \\\n",
       "0               0.010000           0.960000        0.000000   \n",
       "1               0.010000           0.865000        0.045000   \n",
       "2               0.001429           0.605714        0.081429   \n",
       "3               0.001429           0.231429        0.000000   \n",
       "4               0.000000           0.640000        0.410000   \n",
       "...                  ...                ...             ...   \n",
       "3690            0.000000           0.120000        0.000000   \n",
       "3691            0.000000           1.000000        0.000000   \n",
       "3692            0.006000           0.814000        0.018000   \n",
       "3693            0.062500           0.525000        0.002500   \n",
       "3694            0.004000           0.768000        0.002000   \n",
       "\n",
       "      emotions.surprise  emotions.neutral  num_sentences  company_count  \n",
       "0                  0.00          0.060000              1              1  \n",
       "1                  0.00          0.000000              2              1  \n",
       "2                  0.00          0.262857              7              1  \n",
       "3                  0.00          0.141429              7              1  \n",
       "4                  0.03          0.090000              1              1  \n",
       "...                 ...               ...            ...            ...  \n",
       "3690               0.00          0.010000              1              1  \n",
       "3691               0.00          0.000000              1              1  \n",
       "3692               0.00          0.102000              5              1  \n",
       "3693               0.00          0.005000              4              1  \n",
       "3694               0.00          0.020000              5              1  \n",
       "\n",
       "[3695 rows x 20 columns]"
      ]
     },
     "execution_count": 22,
     "metadata": {},
     "output_type": "execute_result"
    }
   ],
   "source": [
    "group_cols = ['Instrument', 'quarter', 'start_date']\n",
    "events_by_company = group_dataset(events_df, group_cols)\n",
    "events_by_company"
   ]
  },
  {
   "cell_type": "markdown",
   "metadata": {},
   "source": [
    "First, let's look into the some of the emotions and sentiments for the top 10 companies by the number of AI mentions in the first quarter of 20224."
   ]
  },
  {
   "cell_type": "code",
   "execution_count": 23,
   "metadata": {},
   "outputs": [
    {
     "data": {
      "application/vnd.plotly.v1+json": {
       "config": {
        "plotlyServerURL": "https://plot.ly"
       },
       "data": [
        {
         "colorscale": [
          [
           0,
           "#440154"
          ],
          [
           0.1111111111111111,
           "#482878"
          ],
          [
           0.2222222222222222,
           "#3e4989"
          ],
          [
           0.3333333333333333,
           "#31688e"
          ],
          [
           0.4444444444444444,
           "#26828e"
          ],
          [
           0.5555555555555556,
           "#1f9e89"
          ],
          [
           0.6666666666666666,
           "#35b779"
          ],
          [
           0.7777777777777778,
           "#6ece58"
          ],
          [
           0.8888888888888888,
           "#b5de2b"
          ],
          [
           1,
           "#fde725"
          ]
         ],
         "type": "heatmap",
         "x": [
          "emotions.optimism",
          "analysis.fin_sentiment",
          "analysis.esg_sentiment"
         ],
         "y": [
          "CRM.N",
          "MSFT.OQ",
          "ESTC.N",
          "AVGO.OQ",
          "HPE.N",
          "META.OQ",
          "MDB.OQ",
          "NVDA.OQ",
          "ADBE.OQ",
          "ZM.OQ"
         ],
         "z": [
          [
           0.42429708222811674,
           0.5890450928381963,
           0.5567164179104478
          ],
          [
           0.4468217054263566,
           0.7088372093023255,
           0.5225
          ],
          [
           0.474047619047619,
           0.7288888888888889,
           0.6831
          ],
          [
           0.21605042016806725,
           0.42243697478991593,
           0.18483870967741936
          ],
          [
           0.45,
           0.6394827586206896,
           0.4330434782608696
          ],
          [
           0.6234234234234235,
           0.6534234234234234,
           0.599375
          ],
          [
           0.4786868686868687,
           0.46060606060606063,
           0.49448275862068963
          ],
          [
           0.34106382978723404,
           0.6774468085106383,
           0.5801428571428572
          ],
          [
           0.5108695652173914,
           0.7027173913043477,
           0.6424
          ],
          [
           0.36141304347826086,
           0.5181521739130435,
           0.39057692307692304
          ]
         ]
        }
       ],
       "layout": {
        "template": {
         "data": {
          "bar": [
           {
            "error_x": {
             "color": "#2a3f5f"
            },
            "error_y": {
             "color": "#2a3f5f"
            },
            "marker": {
             "line": {
              "color": "#E5ECF6",
              "width": 0.5
             },
             "pattern": {
              "fillmode": "overlay",
              "size": 10,
              "solidity": 0.2
             }
            },
            "type": "bar"
           }
          ],
          "barpolar": [
           {
            "marker": {
             "line": {
              "color": "#E5ECF6",
              "width": 0.5
             },
             "pattern": {
              "fillmode": "overlay",
              "size": 10,
              "solidity": 0.2
             }
            },
            "type": "barpolar"
           }
          ],
          "carpet": [
           {
            "aaxis": {
             "endlinecolor": "#2a3f5f",
             "gridcolor": "white",
             "linecolor": "white",
             "minorgridcolor": "white",
             "startlinecolor": "#2a3f5f"
            },
            "baxis": {
             "endlinecolor": "#2a3f5f",
             "gridcolor": "white",
             "linecolor": "white",
             "minorgridcolor": "white",
             "startlinecolor": "#2a3f5f"
            },
            "type": "carpet"
           }
          ],
          "choropleth": [
           {
            "colorbar": {
             "outlinewidth": 0,
             "ticks": ""
            },
            "type": "choropleth"
           }
          ],
          "contour": [
           {
            "colorbar": {
             "outlinewidth": 0,
             "ticks": ""
            },
            "colorscale": [
             [
              0,
              "#0d0887"
             ],
             [
              0.1111111111111111,
              "#46039f"
             ],
             [
              0.2222222222222222,
              "#7201a8"
             ],
             [
              0.3333333333333333,
              "#9c179e"
             ],
             [
              0.4444444444444444,
              "#bd3786"
             ],
             [
              0.5555555555555556,
              "#d8576b"
             ],
             [
              0.6666666666666666,
              "#ed7953"
             ],
             [
              0.7777777777777778,
              "#fb9f3a"
             ],
             [
              0.8888888888888888,
              "#fdca26"
             ],
             [
              1,
              "#f0f921"
             ]
            ],
            "type": "contour"
           }
          ],
          "contourcarpet": [
           {
            "colorbar": {
             "outlinewidth": 0,
             "ticks": ""
            },
            "type": "contourcarpet"
           }
          ],
          "heatmap": [
           {
            "colorbar": {
             "outlinewidth": 0,
             "ticks": ""
            },
            "colorscale": [
             [
              0,
              "#0d0887"
             ],
             [
              0.1111111111111111,
              "#46039f"
             ],
             [
              0.2222222222222222,
              "#7201a8"
             ],
             [
              0.3333333333333333,
              "#9c179e"
             ],
             [
              0.4444444444444444,
              "#bd3786"
             ],
             [
              0.5555555555555556,
              "#d8576b"
             ],
             [
              0.6666666666666666,
              "#ed7953"
             ],
             [
              0.7777777777777778,
              "#fb9f3a"
             ],
             [
              0.8888888888888888,
              "#fdca26"
             ],
             [
              1,
              "#f0f921"
             ]
            ],
            "type": "heatmap"
           }
          ],
          "heatmapgl": [
           {
            "colorbar": {
             "outlinewidth": 0,
             "ticks": ""
            },
            "colorscale": [
             [
              0,
              "#0d0887"
             ],
             [
              0.1111111111111111,
              "#46039f"
             ],
             [
              0.2222222222222222,
              "#7201a8"
             ],
             [
              0.3333333333333333,
              "#9c179e"
             ],
             [
              0.4444444444444444,
              "#bd3786"
             ],
             [
              0.5555555555555556,
              "#d8576b"
             ],
             [
              0.6666666666666666,
              "#ed7953"
             ],
             [
              0.7777777777777778,
              "#fb9f3a"
             ],
             [
              0.8888888888888888,
              "#fdca26"
             ],
             [
              1,
              "#f0f921"
             ]
            ],
            "type": "heatmapgl"
           }
          ],
          "histogram": [
           {
            "marker": {
             "pattern": {
              "fillmode": "overlay",
              "size": 10,
              "solidity": 0.2
             }
            },
            "type": "histogram"
           }
          ],
          "histogram2d": [
           {
            "colorbar": {
             "outlinewidth": 0,
             "ticks": ""
            },
            "colorscale": [
             [
              0,
              "#0d0887"
             ],
             [
              0.1111111111111111,
              "#46039f"
             ],
             [
              0.2222222222222222,
              "#7201a8"
             ],
             [
              0.3333333333333333,
              "#9c179e"
             ],
             [
              0.4444444444444444,
              "#bd3786"
             ],
             [
              0.5555555555555556,
              "#d8576b"
             ],
             [
              0.6666666666666666,
              "#ed7953"
             ],
             [
              0.7777777777777778,
              "#fb9f3a"
             ],
             [
              0.8888888888888888,
              "#fdca26"
             ],
             [
              1,
              "#f0f921"
             ]
            ],
            "type": "histogram2d"
           }
          ],
          "histogram2dcontour": [
           {
            "colorbar": {
             "outlinewidth": 0,
             "ticks": ""
            },
            "colorscale": [
             [
              0,
              "#0d0887"
             ],
             [
              0.1111111111111111,
              "#46039f"
             ],
             [
              0.2222222222222222,
              "#7201a8"
             ],
             [
              0.3333333333333333,
              "#9c179e"
             ],
             [
              0.4444444444444444,
              "#bd3786"
             ],
             [
              0.5555555555555556,
              "#d8576b"
             ],
             [
              0.6666666666666666,
              "#ed7953"
             ],
             [
              0.7777777777777778,
              "#fb9f3a"
             ],
             [
              0.8888888888888888,
              "#fdca26"
             ],
             [
              1,
              "#f0f921"
             ]
            ],
            "type": "histogram2dcontour"
           }
          ],
          "mesh3d": [
           {
            "colorbar": {
             "outlinewidth": 0,
             "ticks": ""
            },
            "type": "mesh3d"
           }
          ],
          "parcoords": [
           {
            "line": {
             "colorbar": {
              "outlinewidth": 0,
              "ticks": ""
             }
            },
            "type": "parcoords"
           }
          ],
          "pie": [
           {
            "automargin": true,
            "type": "pie"
           }
          ],
          "scatter": [
           {
            "fillpattern": {
             "fillmode": "overlay",
             "size": 10,
             "solidity": 0.2
            },
            "type": "scatter"
           }
          ],
          "scatter3d": [
           {
            "line": {
             "colorbar": {
              "outlinewidth": 0,
              "ticks": ""
             }
            },
            "marker": {
             "colorbar": {
              "outlinewidth": 0,
              "ticks": ""
             }
            },
            "type": "scatter3d"
           }
          ],
          "scattercarpet": [
           {
            "marker": {
             "colorbar": {
              "outlinewidth": 0,
              "ticks": ""
             }
            },
            "type": "scattercarpet"
           }
          ],
          "scattergeo": [
           {
            "marker": {
             "colorbar": {
              "outlinewidth": 0,
              "ticks": ""
             }
            },
            "type": "scattergeo"
           }
          ],
          "scattergl": [
           {
            "marker": {
             "colorbar": {
              "outlinewidth": 0,
              "ticks": ""
             }
            },
            "type": "scattergl"
           }
          ],
          "scattermapbox": [
           {
            "marker": {
             "colorbar": {
              "outlinewidth": 0,
              "ticks": ""
             }
            },
            "type": "scattermapbox"
           }
          ],
          "scatterpolar": [
           {
            "marker": {
             "colorbar": {
              "outlinewidth": 0,
              "ticks": ""
             }
            },
            "type": "scatterpolar"
           }
          ],
          "scatterpolargl": [
           {
            "marker": {
             "colorbar": {
              "outlinewidth": 0,
              "ticks": ""
             }
            },
            "type": "scatterpolargl"
           }
          ],
          "scatterternary": [
           {
            "marker": {
             "colorbar": {
              "outlinewidth": 0,
              "ticks": ""
             }
            },
            "type": "scatterternary"
           }
          ],
          "surface": [
           {
            "colorbar": {
             "outlinewidth": 0,
             "ticks": ""
            },
            "colorscale": [
             [
              0,
              "#0d0887"
             ],
             [
              0.1111111111111111,
              "#46039f"
             ],
             [
              0.2222222222222222,
              "#7201a8"
             ],
             [
              0.3333333333333333,
              "#9c179e"
             ],
             [
              0.4444444444444444,
              "#bd3786"
             ],
             [
              0.5555555555555556,
              "#d8576b"
             ],
             [
              0.6666666666666666,
              "#ed7953"
             ],
             [
              0.7777777777777778,
              "#fb9f3a"
             ],
             [
              0.8888888888888888,
              "#fdca26"
             ],
             [
              1,
              "#f0f921"
             ]
            ],
            "type": "surface"
           }
          ],
          "table": [
           {
            "cells": {
             "fill": {
              "color": "#EBF0F8"
             },
             "line": {
              "color": "white"
             }
            },
            "header": {
             "fill": {
              "color": "#C8D4E3"
             },
             "line": {
              "color": "white"
             }
            },
            "type": "table"
           }
          ]
         },
         "layout": {
          "annotationdefaults": {
           "arrowcolor": "#2a3f5f",
           "arrowhead": 0,
           "arrowwidth": 1
          },
          "autotypenumbers": "strict",
          "coloraxis": {
           "colorbar": {
            "outlinewidth": 0,
            "ticks": ""
           }
          },
          "colorscale": {
           "diverging": [
            [
             0,
             "#8e0152"
            ],
            [
             0.1,
             "#c51b7d"
            ],
            [
             0.2,
             "#de77ae"
            ],
            [
             0.3,
             "#f1b6da"
            ],
            [
             0.4,
             "#fde0ef"
            ],
            [
             0.5,
             "#f7f7f7"
            ],
            [
             0.6,
             "#e6f5d0"
            ],
            [
             0.7,
             "#b8e186"
            ],
            [
             0.8,
             "#7fbc41"
            ],
            [
             0.9,
             "#4d9221"
            ],
            [
             1,
             "#276419"
            ]
           ],
           "sequential": [
            [
             0,
             "#0d0887"
            ],
            [
             0.1111111111111111,
             "#46039f"
            ],
            [
             0.2222222222222222,
             "#7201a8"
            ],
            [
             0.3333333333333333,
             "#9c179e"
            ],
            [
             0.4444444444444444,
             "#bd3786"
            ],
            [
             0.5555555555555556,
             "#d8576b"
            ],
            [
             0.6666666666666666,
             "#ed7953"
            ],
            [
             0.7777777777777778,
             "#fb9f3a"
            ],
            [
             0.8888888888888888,
             "#fdca26"
            ],
            [
             1,
             "#f0f921"
            ]
           ],
           "sequentialminus": [
            [
             0,
             "#0d0887"
            ],
            [
             0.1111111111111111,
             "#46039f"
            ],
            [
             0.2222222222222222,
             "#7201a8"
            ],
            [
             0.3333333333333333,
             "#9c179e"
            ],
            [
             0.4444444444444444,
             "#bd3786"
            ],
            [
             0.5555555555555556,
             "#d8576b"
            ],
            [
             0.6666666666666666,
             "#ed7953"
            ],
            [
             0.7777777777777778,
             "#fb9f3a"
            ],
            [
             0.8888888888888888,
             "#fdca26"
            ],
            [
             1,
             "#f0f921"
            ]
           ]
          },
          "colorway": [
           "#636efa",
           "#EF553B",
           "#00cc96",
           "#ab63fa",
           "#FFA15A",
           "#19d3f3",
           "#FF6692",
           "#B6E880",
           "#FF97FF",
           "#FECB52"
          ],
          "font": {
           "color": "#2a3f5f"
          },
          "geo": {
           "bgcolor": "white",
           "lakecolor": "white",
           "landcolor": "#E5ECF6",
           "showlakes": true,
           "showland": true,
           "subunitcolor": "white"
          },
          "hoverlabel": {
           "align": "left"
          },
          "hovermode": "closest",
          "mapbox": {
           "style": "light"
          },
          "paper_bgcolor": "white",
          "plot_bgcolor": "#E5ECF6",
          "polar": {
           "angularaxis": {
            "gridcolor": "white",
            "linecolor": "white",
            "ticks": ""
           },
           "bgcolor": "#E5ECF6",
           "radialaxis": {
            "gridcolor": "white",
            "linecolor": "white",
            "ticks": ""
           }
          },
          "scene": {
           "xaxis": {
            "backgroundcolor": "#E5ECF6",
            "gridcolor": "white",
            "gridwidth": 2,
            "linecolor": "white",
            "showbackground": true,
            "ticks": "",
            "zerolinecolor": "white"
           },
           "yaxis": {
            "backgroundcolor": "#E5ECF6",
            "gridcolor": "white",
            "gridwidth": 2,
            "linecolor": "white",
            "showbackground": true,
            "ticks": "",
            "zerolinecolor": "white"
           },
           "zaxis": {
            "backgroundcolor": "#E5ECF6",
            "gridcolor": "white",
            "gridwidth": 2,
            "linecolor": "white",
            "showbackground": true,
            "ticks": "",
            "zerolinecolor": "white"
           }
          },
          "shapedefaults": {
           "line": {
            "color": "#2a3f5f"
           }
          },
          "ternary": {
           "aaxis": {
            "gridcolor": "white",
            "linecolor": "white",
            "ticks": ""
           },
           "baxis": {
            "gridcolor": "white",
            "linecolor": "white",
            "ticks": ""
           },
           "bgcolor": "#E5ECF6",
           "caxis": {
            "gridcolor": "white",
            "linecolor": "white",
            "ticks": ""
           }
          },
          "title": {
           "x": 0.05
          },
          "xaxis": {
           "automargin": true,
           "gridcolor": "white",
           "linecolor": "white",
           "ticks": "",
           "title": {
            "standoff": 15
           },
           "zerolinecolor": "white",
           "zerolinewidth": 2
          },
          "yaxis": {
           "automargin": true,
           "gridcolor": "white",
           "linecolor": "white",
           "ticks": "",
           "title": {
            "standoff": 15
           },
           "zerolinecolor": "white",
           "zerolinewidth": 2
          }
         }
        },
        "title": {
         "text": "Emotion Comparison for Q1 2024 for top 10 companies by AI mentions"
        }
       }
      }
     },
     "metadata": {},
     "output_type": "display_data"
    }
   ],
   "source": [
    "filtered_df = events_by_company[events_by_company['quarter'] == '2024Q1']\n",
    "top_companies = filtered_df.nlargest(10, 'num_sentences').set_index('Instrument')\n",
    "emotions = ['emotions.optimism','analysis.fin_sentiment','analysis.esg_sentiment']\n",
    "heatmap_data = top_companies[emotions].reset_index()\n",
    "\n",
    "fig = go.Figure(data=go.Heatmap(\n",
    "    z=heatmap_data[emotions].values,\n",
    "    x=emotions,\n",
    "    y=heatmap_data['Instrument'],\n",
    "    colorscale='Viridis')\n",
    "    )\n",
    "\n",
    "fig.update_layout(title='Emotion Comparison for Q1 2024 for top 10 companies by AI mentions')\n",
    "fig.show()"
   ]
  },
  {
   "cell_type": "markdown",
   "metadata": {},
   "source": [
    "According to the graph, Salesforce (CRM.N) has the most AI mentions during 2024Q1, however, it is not the most optimistic company around AI amongst the top 10. Below we demonstrate also how the nmber of mentions, emotions and sentiments changed over time for Salesforce. Please note, that the metrics can be updated if interested in the trends of the rest of the emotions, sentiments and the companies."
   ]
  },
  {
   "cell_type": "code",
   "execution_count": 24,
   "metadata": {},
   "outputs": [
    {
     "data": {
      "application/vnd.plotly.v1+json": {
       "config": {
        "plotlyServerURL": "https://plot.ly"
       },
       "data": [
        {
         "mode": "lines+markers",
         "name": "optimism",
         "type": "scatter",
         "x": [
          "2016Q2",
          "2016Q3",
          "2016Q4",
          "2017Q1",
          "2017Q2",
          "2017Q3",
          "2017Q4",
          "2018Q1",
          "2018Q2",
          "2018Q3",
          "2019Q1",
          "2019Q2",
          "2019Q3",
          "2019Q4",
          "2020Q1",
          "2020Q3",
          "2020Q4",
          "2021Q1",
          "2021Q3",
          "2022Q1",
          "2022Q3",
          "2023Q1",
          "2023Q2",
          "2023Q3",
          "2024Q1",
          "2024Q2"
         ],
         "xaxis": "x",
         "y": [
          0.7799999999999999,
          0.4275,
          0.445,
          0.4242857142857143,
          0.5810000000000001,
          0.6116666666666667,
          0.45,
          0.615,
          0.27125,
          0.39888888888888885,
          0.5128571428571428,
          0.6575,
          0.526,
          0.945,
          0.765,
          0.08,
          0.605,
          0.36000000000000004,
          1,
          0.78,
          0.42,
          0.618,
          0.63703125,
          0.712183908045977,
          0.42429708222811674,
          0.5506122448979592
         ],
         "yaxis": "y"
        },
        {
         "mode": "lines+markers",
         "name": "fin_sentiment",
         "type": "scatter",
         "x": [
          "2016Q2",
          "2016Q3",
          "2016Q4",
          "2017Q1",
          "2017Q2",
          "2017Q3",
          "2017Q4",
          "2018Q1",
          "2018Q2",
          "2018Q3",
          "2019Q1",
          "2019Q2",
          "2019Q3",
          "2019Q4",
          "2020Q1",
          "2020Q3",
          "2020Q4",
          "2021Q1",
          "2021Q3",
          "2022Q1",
          "2022Q3",
          "2023Q1",
          "2023Q2",
          "2023Q3",
          "2024Q1",
          "2024Q2"
         ],
         "xaxis": "x",
         "y": [
          0.9333333333333332,
          0.5762499999999999,
          0.69875,
          0.4642857142857143,
          0.6199999999999999,
          0.815,
          0.019999999999999962,
          0.6775,
          0.7,
          0.5433333333333333,
          0.7685714285714286,
          0.5925,
          0.938,
          0.945,
          0.95,
          0.76,
          0.19999999999999996,
          0.24,
          0.94,
          0.95,
          0.94,
          0.8240000000000001,
          0.7374999999999999,
          0.8188505747126437,
          0.5890450928381963,
          0.7310204081632653
         ],
         "yaxis": "y"
        },
        {
         "mode": "lines+markers",
         "name": "esg_sentiment",
         "type": "scatter",
         "x": [
          "2016Q2",
          "2016Q3",
          "2016Q4",
          "2017Q1",
          "2017Q2",
          "2017Q3",
          "2017Q4",
          "2018Q1",
          "2018Q2",
          "2018Q3",
          "2019Q1",
          "2019Q2",
          "2019Q3",
          "2019Q4",
          "2020Q1",
          "2020Q3",
          "2020Q4",
          "2021Q1",
          "2021Q3",
          "2022Q1",
          "2022Q3",
          "2023Q1",
          "2023Q2",
          "2023Q3",
          "2024Q1",
          "2024Q2"
         ],
         "xaxis": "x",
         "y": [
          0.965,
          0.355,
          0.4975,
          0.245,
          0.72,
          0.6533333333333333,
          0.08666666666666667,
          0.3766666666666667,
          0.62,
          0.5,
          0.8379999999999999,
          0.9733333333333333,
          0.622,
          0.9299999999999999,
          0.825,
          0,
          0.83,
          0.2833333333333333,
          0.98,
          0.98,
          0.98,
          0.7424999999999999,
          0.6621428571428571,
          0.7947826086956522,
          0.5567164179104478,
          0.7074999999999999
         ],
         "yaxis": "y"
        },
        {
         "name": "Sentence Count",
         "opacity": 0.6,
         "type": "bar",
         "x": [
          "2016Q2",
          "2016Q3",
          "2016Q4",
          "2017Q1",
          "2017Q2",
          "2017Q3",
          "2017Q4",
          "2018Q1",
          "2018Q2",
          "2018Q3",
          "2019Q1",
          "2019Q2",
          "2019Q3",
          "2019Q4",
          "2020Q1",
          "2020Q3",
          "2020Q4",
          "2021Q1",
          "2021Q3",
          "2022Q1",
          "2022Q3",
          "2023Q1",
          "2023Q2",
          "2023Q3",
          "2024Q1",
          "2024Q2"
         ],
         "xaxis": "x",
         "y": [
          3,
          8,
          8,
          7,
          10,
          6,
          4,
          4,
          8,
          9,
          7,
          4,
          5,
          2,
          2,
          1,
          2,
          3,
          1,
          1,
          1,
          10,
          65,
          89,
          382,
          50
         ],
         "yaxis": "y2"
        }
       ],
       "layout": {
        "height": 800,
        "template": {
         "data": {
          "bar": [
           {
            "error_x": {
             "color": "#2a3f5f"
            },
            "error_y": {
             "color": "#2a3f5f"
            },
            "marker": {
             "line": {
              "color": "#E5ECF6",
              "width": 0.5
             },
             "pattern": {
              "fillmode": "overlay",
              "size": 10,
              "solidity": 0.2
             }
            },
            "type": "bar"
           }
          ],
          "barpolar": [
           {
            "marker": {
             "line": {
              "color": "#E5ECF6",
              "width": 0.5
             },
             "pattern": {
              "fillmode": "overlay",
              "size": 10,
              "solidity": 0.2
             }
            },
            "type": "barpolar"
           }
          ],
          "carpet": [
           {
            "aaxis": {
             "endlinecolor": "#2a3f5f",
             "gridcolor": "white",
             "linecolor": "white",
             "minorgridcolor": "white",
             "startlinecolor": "#2a3f5f"
            },
            "baxis": {
             "endlinecolor": "#2a3f5f",
             "gridcolor": "white",
             "linecolor": "white",
             "minorgridcolor": "white",
             "startlinecolor": "#2a3f5f"
            },
            "type": "carpet"
           }
          ],
          "choropleth": [
           {
            "colorbar": {
             "outlinewidth": 0,
             "ticks": ""
            },
            "type": "choropleth"
           }
          ],
          "contour": [
           {
            "colorbar": {
             "outlinewidth": 0,
             "ticks": ""
            },
            "colorscale": [
             [
              0,
              "#0d0887"
             ],
             [
              0.1111111111111111,
              "#46039f"
             ],
             [
              0.2222222222222222,
              "#7201a8"
             ],
             [
              0.3333333333333333,
              "#9c179e"
             ],
             [
              0.4444444444444444,
              "#bd3786"
             ],
             [
              0.5555555555555556,
              "#d8576b"
             ],
             [
              0.6666666666666666,
              "#ed7953"
             ],
             [
              0.7777777777777778,
              "#fb9f3a"
             ],
             [
              0.8888888888888888,
              "#fdca26"
             ],
             [
              1,
              "#f0f921"
             ]
            ],
            "type": "contour"
           }
          ],
          "contourcarpet": [
           {
            "colorbar": {
             "outlinewidth": 0,
             "ticks": ""
            },
            "type": "contourcarpet"
           }
          ],
          "heatmap": [
           {
            "colorbar": {
             "outlinewidth": 0,
             "ticks": ""
            },
            "colorscale": [
             [
              0,
              "#0d0887"
             ],
             [
              0.1111111111111111,
              "#46039f"
             ],
             [
              0.2222222222222222,
              "#7201a8"
             ],
             [
              0.3333333333333333,
              "#9c179e"
             ],
             [
              0.4444444444444444,
              "#bd3786"
             ],
             [
              0.5555555555555556,
              "#d8576b"
             ],
             [
              0.6666666666666666,
              "#ed7953"
             ],
             [
              0.7777777777777778,
              "#fb9f3a"
             ],
             [
              0.8888888888888888,
              "#fdca26"
             ],
             [
              1,
              "#f0f921"
             ]
            ],
            "type": "heatmap"
           }
          ],
          "heatmapgl": [
           {
            "colorbar": {
             "outlinewidth": 0,
             "ticks": ""
            },
            "colorscale": [
             [
              0,
              "#0d0887"
             ],
             [
              0.1111111111111111,
              "#46039f"
             ],
             [
              0.2222222222222222,
              "#7201a8"
             ],
             [
              0.3333333333333333,
              "#9c179e"
             ],
             [
              0.4444444444444444,
              "#bd3786"
             ],
             [
              0.5555555555555556,
              "#d8576b"
             ],
             [
              0.6666666666666666,
              "#ed7953"
             ],
             [
              0.7777777777777778,
              "#fb9f3a"
             ],
             [
              0.8888888888888888,
              "#fdca26"
             ],
             [
              1,
              "#f0f921"
             ]
            ],
            "type": "heatmapgl"
           }
          ],
          "histogram": [
           {
            "marker": {
             "pattern": {
              "fillmode": "overlay",
              "size": 10,
              "solidity": 0.2
             }
            },
            "type": "histogram"
           }
          ],
          "histogram2d": [
           {
            "colorbar": {
             "outlinewidth": 0,
             "ticks": ""
            },
            "colorscale": [
             [
              0,
              "#0d0887"
             ],
             [
              0.1111111111111111,
              "#46039f"
             ],
             [
              0.2222222222222222,
              "#7201a8"
             ],
             [
              0.3333333333333333,
              "#9c179e"
             ],
             [
              0.4444444444444444,
              "#bd3786"
             ],
             [
              0.5555555555555556,
              "#d8576b"
             ],
             [
              0.6666666666666666,
              "#ed7953"
             ],
             [
              0.7777777777777778,
              "#fb9f3a"
             ],
             [
              0.8888888888888888,
              "#fdca26"
             ],
             [
              1,
              "#f0f921"
             ]
            ],
            "type": "histogram2d"
           }
          ],
          "histogram2dcontour": [
           {
            "colorbar": {
             "outlinewidth": 0,
             "ticks": ""
            },
            "colorscale": [
             [
              0,
              "#0d0887"
             ],
             [
              0.1111111111111111,
              "#46039f"
             ],
             [
              0.2222222222222222,
              "#7201a8"
             ],
             [
              0.3333333333333333,
              "#9c179e"
             ],
             [
              0.4444444444444444,
              "#bd3786"
             ],
             [
              0.5555555555555556,
              "#d8576b"
             ],
             [
              0.6666666666666666,
              "#ed7953"
             ],
             [
              0.7777777777777778,
              "#fb9f3a"
             ],
             [
              0.8888888888888888,
              "#fdca26"
             ],
             [
              1,
              "#f0f921"
             ]
            ],
            "type": "histogram2dcontour"
           }
          ],
          "mesh3d": [
           {
            "colorbar": {
             "outlinewidth": 0,
             "ticks": ""
            },
            "type": "mesh3d"
           }
          ],
          "parcoords": [
           {
            "line": {
             "colorbar": {
              "outlinewidth": 0,
              "ticks": ""
             }
            },
            "type": "parcoords"
           }
          ],
          "pie": [
           {
            "automargin": true,
            "type": "pie"
           }
          ],
          "scatter": [
           {
            "fillpattern": {
             "fillmode": "overlay",
             "size": 10,
             "solidity": 0.2
            },
            "type": "scatter"
           }
          ],
          "scatter3d": [
           {
            "line": {
             "colorbar": {
              "outlinewidth": 0,
              "ticks": ""
             }
            },
            "marker": {
             "colorbar": {
              "outlinewidth": 0,
              "ticks": ""
             }
            },
            "type": "scatter3d"
           }
          ],
          "scattercarpet": [
           {
            "marker": {
             "colorbar": {
              "outlinewidth": 0,
              "ticks": ""
             }
            },
            "type": "scattercarpet"
           }
          ],
          "scattergeo": [
           {
            "marker": {
             "colorbar": {
              "outlinewidth": 0,
              "ticks": ""
             }
            },
            "type": "scattergeo"
           }
          ],
          "scattergl": [
           {
            "marker": {
             "colorbar": {
              "outlinewidth": 0,
              "ticks": ""
             }
            },
            "type": "scattergl"
           }
          ],
          "scattermapbox": [
           {
            "marker": {
             "colorbar": {
              "outlinewidth": 0,
              "ticks": ""
             }
            },
            "type": "scattermapbox"
           }
          ],
          "scatterpolar": [
           {
            "marker": {
             "colorbar": {
              "outlinewidth": 0,
              "ticks": ""
             }
            },
            "type": "scatterpolar"
           }
          ],
          "scatterpolargl": [
           {
            "marker": {
             "colorbar": {
              "outlinewidth": 0,
              "ticks": ""
             }
            },
            "type": "scatterpolargl"
           }
          ],
          "scatterternary": [
           {
            "marker": {
             "colorbar": {
              "outlinewidth": 0,
              "ticks": ""
             }
            },
            "type": "scatterternary"
           }
          ],
          "surface": [
           {
            "colorbar": {
             "outlinewidth": 0,
             "ticks": ""
            },
            "colorscale": [
             [
              0,
              "#0d0887"
             ],
             [
              0.1111111111111111,
              "#46039f"
             ],
             [
              0.2222222222222222,
              "#7201a8"
             ],
             [
              0.3333333333333333,
              "#9c179e"
             ],
             [
              0.4444444444444444,
              "#bd3786"
             ],
             [
              0.5555555555555556,
              "#d8576b"
             ],
             [
              0.6666666666666666,
              "#ed7953"
             ],
             [
              0.7777777777777778,
              "#fb9f3a"
             ],
             [
              0.8888888888888888,
              "#fdca26"
             ],
             [
              1,
              "#f0f921"
             ]
            ],
            "type": "surface"
           }
          ],
          "table": [
           {
            "cells": {
             "fill": {
              "color": "#EBF0F8"
             },
             "line": {
              "color": "white"
             }
            },
            "header": {
             "fill": {
              "color": "#C8D4E3"
             },
             "line": {
              "color": "white"
             }
            },
            "type": "table"
           }
          ]
         },
         "layout": {
          "annotationdefaults": {
           "arrowcolor": "#2a3f5f",
           "arrowhead": 0,
           "arrowwidth": 1
          },
          "autotypenumbers": "strict",
          "coloraxis": {
           "colorbar": {
            "outlinewidth": 0,
            "ticks": ""
           }
          },
          "colorscale": {
           "diverging": [
            [
             0,
             "#8e0152"
            ],
            [
             0.1,
             "#c51b7d"
            ],
            [
             0.2,
             "#de77ae"
            ],
            [
             0.3,
             "#f1b6da"
            ],
            [
             0.4,
             "#fde0ef"
            ],
            [
             0.5,
             "#f7f7f7"
            ],
            [
             0.6,
             "#e6f5d0"
            ],
            [
             0.7,
             "#b8e186"
            ],
            [
             0.8,
             "#7fbc41"
            ],
            [
             0.9,
             "#4d9221"
            ],
            [
             1,
             "#276419"
            ]
           ],
           "sequential": [
            [
             0,
             "#0d0887"
            ],
            [
             0.1111111111111111,
             "#46039f"
            ],
            [
             0.2222222222222222,
             "#7201a8"
            ],
            [
             0.3333333333333333,
             "#9c179e"
            ],
            [
             0.4444444444444444,
             "#bd3786"
            ],
            [
             0.5555555555555556,
             "#d8576b"
            ],
            [
             0.6666666666666666,
             "#ed7953"
            ],
            [
             0.7777777777777778,
             "#fb9f3a"
            ],
            [
             0.8888888888888888,
             "#fdca26"
            ],
            [
             1,
             "#f0f921"
            ]
           ],
           "sequentialminus": [
            [
             0,
             "#0d0887"
            ],
            [
             0.1111111111111111,
             "#46039f"
            ],
            [
             0.2222222222222222,
             "#7201a8"
            ],
            [
             0.3333333333333333,
             "#9c179e"
            ],
            [
             0.4444444444444444,
             "#bd3786"
            ],
            [
             0.5555555555555556,
             "#d8576b"
            ],
            [
             0.6666666666666666,
             "#ed7953"
            ],
            [
             0.7777777777777778,
             "#fb9f3a"
            ],
            [
             0.8888888888888888,
             "#fdca26"
            ],
            [
             1,
             "#f0f921"
            ]
           ]
          },
          "colorway": [
           "#636efa",
           "#EF553B",
           "#00cc96",
           "#ab63fa",
           "#FFA15A",
           "#19d3f3",
           "#FF6692",
           "#B6E880",
           "#FF97FF",
           "#FECB52"
          ],
          "font": {
           "color": "#2a3f5f"
          },
          "geo": {
           "bgcolor": "white",
           "lakecolor": "white",
           "landcolor": "#E5ECF6",
           "showlakes": true,
           "showland": true,
           "subunitcolor": "white"
          },
          "hoverlabel": {
           "align": "left"
          },
          "hovermode": "closest",
          "mapbox": {
           "style": "light"
          },
          "paper_bgcolor": "white",
          "plot_bgcolor": "#E5ECF6",
          "polar": {
           "angularaxis": {
            "gridcolor": "white",
            "linecolor": "white",
            "ticks": ""
           },
           "bgcolor": "#E5ECF6",
           "radialaxis": {
            "gridcolor": "white",
            "linecolor": "white",
            "ticks": ""
           }
          },
          "scene": {
           "xaxis": {
            "backgroundcolor": "#E5ECF6",
            "gridcolor": "white",
            "gridwidth": 2,
            "linecolor": "white",
            "showbackground": true,
            "ticks": "",
            "zerolinecolor": "white"
           },
           "yaxis": {
            "backgroundcolor": "#E5ECF6",
            "gridcolor": "white",
            "gridwidth": 2,
            "linecolor": "white",
            "showbackground": true,
            "ticks": "",
            "zerolinecolor": "white"
           },
           "zaxis": {
            "backgroundcolor": "#E5ECF6",
            "gridcolor": "white",
            "gridwidth": 2,
            "linecolor": "white",
            "showbackground": true,
            "ticks": "",
            "zerolinecolor": "white"
           }
          },
          "shapedefaults": {
           "line": {
            "color": "#2a3f5f"
           }
          },
          "ternary": {
           "aaxis": {
            "gridcolor": "white",
            "linecolor": "white",
            "ticks": ""
           },
           "baxis": {
            "gridcolor": "white",
            "linecolor": "white",
            "ticks": ""
           },
           "bgcolor": "#E5ECF6",
           "caxis": {
            "gridcolor": "white",
            "linecolor": "white",
            "ticks": ""
           }
          },
          "title": {
           "x": 0.05
          },
          "xaxis": {
           "automargin": true,
           "gridcolor": "white",
           "linecolor": "white",
           "ticks": "",
           "title": {
            "standoff": 15
           },
           "zerolinecolor": "white",
           "zerolinewidth": 2
          },
          "yaxis": {
           "automargin": true,
           "gridcolor": "white",
           "linecolor": "white",
           "ticks": "",
           "title": {
            "standoff": 15
           },
           "zerolinecolor": "white",
           "zerolinewidth": 2
          }
         }
        },
        "title": {
         "text": "Quarterly Emotion Trends for CRM.N"
        },
        "xaxis": {
         "anchor": "y",
         "domain": [
          0,
          0.94
         ]
        },
        "xaxis2": {
         "anchor": "y3",
         "domain": [
          0,
          0.94
         ]
        },
        "yaxis": {
         "anchor": "x",
         "domain": [
          0.43333333333333335,
          1
         ],
         "title": {
          "text": "Emotion Score"
         }
        },
        "yaxis2": {
         "anchor": "x",
         "overlaying": "y",
         "side": "right"
        },
        "yaxis3": {
         "anchor": "x2",
         "domain": [
          0,
          0.2833333333333333
         ]
        }
       }
      }
     },
     "metadata": {},
     "output_type": "display_data"
    }
   ],
   "source": [
    "company = 'CRM.N'\n",
    "data  = events_by_company[events_by_company['Instrument'] == company]\n",
    "metrics = [       \n",
    "    'emotions.optimism',\n",
    "    'analysis.fin_sentiment','analysis.esg_sentiment'\n",
    "    ]\n",
    "\n",
    "plot_metric_and_sentence_trends(data, metrics, name = company)"
   ]
  },
  {
   "cell_type": "markdown",
   "metadata": {},
   "source": [
    "## Section 3: Constructing Thematic Portfolios based on the AI mentions\n",
    "In this section, we will construct portfolios and track their performance over the analysis period from the first quarter of 2016 to the second quarter of 2024. We employ two approaches for portfolio construction:\n",
    "\n",
    "*   **Clustering Approach:** In this method, we divide our universe into two clusters based on the number of mentions, emotions, and sentiments.\n",
    "*   **Quantile-Based Portfolios:** Here, we categorize companies into two quantiles based on a specific metric, which in our case is the number of sentences.\n",
    "\n",
    "Refer to the relevant sub-section for detailed methodology."
   ]
  },
  {
   "cell_type": "markdown",
   "metadata": {},
   "source": [
    "### Getting the pricing data and calculating the returns\n",
    "We use LD libraries for Python to get the historical close prices for our universe for the analysis period. To track the returns, we calculate the two-month returns of each stock in the portfolios following the event start date. The two-month window is chosen to account for the fact that companies may make announcements on different days throughout the quarter. This approach helps avoid including returns that occur after the subsequent earnings call event date.\n",
    "\n",
    "Below we find the unique instruments from our event dataset and request close prices for January 2016 to July 2024."
   ]
  },
  {
   "cell_type": "code",
   "execution_count": 25,
   "metadata": {},
   "outputs": [],
   "source": [
    "rics  = events_by_company['Instrument'].drop_duplicates().to_list()\n",
    "prices  = ld.get_history(rics, 'TRDPRC_1', start='2016-01-01', end='2024-07-30')"
   ]
  },
  {
   "cell_type": "markdown",
   "metadata": {},
   "source": [
    "Next, we define the **calculate_period_returns** function which calculates the percentage returns for stocks over a specified period following an event date."
   ]
  },
  {
   "cell_type": "code",
   "execution_count": 26,
   "metadata": {},
   "outputs": [
    {
     "data": {
      "text/html": [
       "<div>\n",
       "<style scoped>\n",
       "    .dataframe tbody tr th:only-of-type {\n",
       "        vertical-align: middle;\n",
       "    }\n",
       "\n",
       "    .dataframe tbody tr th {\n",
       "        vertical-align: top;\n",
       "    }\n",
       "\n",
       "    .dataframe thead th {\n",
       "        text-align: right;\n",
       "    }\n",
       "</style>\n",
       "<table border=\"1\" class=\"dataframe\">\n",
       "  <thead>\n",
       "    <tr style=\"text-align: right;\">\n",
       "      <th></th>\n",
       "      <th>Instrument</th>\n",
       "      <th>quarter</th>\n",
       "      <th>start_date</th>\n",
       "      <th>analysis.fin_sentiment</th>\n",
       "      <th>analysis.esg_sentiment</th>\n",
       "      <th>emotions.admiration</th>\n",
       "      <th>emotions.anger</th>\n",
       "      <th>emotions.annoyance</th>\n",
       "      <th>emotions.approval</th>\n",
       "      <th>emotions.confusion</th>\n",
       "      <th>emotions.disappointment</th>\n",
       "      <th>emotions.disapproval</th>\n",
       "      <th>emotions.fear</th>\n",
       "      <th>emotions.gratitude</th>\n",
       "      <th>emotions.optimism</th>\n",
       "      <th>emotions.pride</th>\n",
       "      <th>emotions.surprise</th>\n",
       "      <th>emotions.neutral</th>\n",
       "      <th>num_sentences</th>\n",
       "      <th>company_count</th>\n",
       "      <th>returns</th>\n",
       "      <th>end_date</th>\n",
       "    </tr>\n",
       "  </thead>\n",
       "  <tbody>\n",
       "    <tr>\n",
       "      <th>0</th>\n",
       "      <td>MSFT.OQ</td>\n",
       "      <td>2016Q1</td>\n",
       "      <td>2016-01-28</td>\n",
       "      <td>0.930000</td>\n",
       "      <td>NaN</td>\n",
       "      <td>0.100000</td>\n",
       "      <td>0.000000</td>\n",
       "      <td>0.000000</td>\n",
       "      <td>0.100000</td>\n",
       "      <td>0.010000</td>\n",
       "      <td>0.000000</td>\n",
       "      <td>0.000000</td>\n",
       "      <td>0.000000</td>\n",
       "      <td>0.010000</td>\n",
       "      <td>0.960000</td>\n",
       "      <td>0.000000</td>\n",
       "      <td>0.00</td>\n",
       "      <td>0.060000</td>\n",
       "      <td>1</td>\n",
       "      <td>1</td>\n",
       "      <td>0.0</td>\n",
       "      <td>2016-03-29</td>\n",
       "    </tr>\n",
       "    <tr>\n",
       "      <th>1</th>\n",
       "      <td>TSN.N</td>\n",
       "      <td>2016Q1</td>\n",
       "      <td>2016-02-05</td>\n",
       "      <td>0.190000</td>\n",
       "      <td>NaN</td>\n",
       "      <td>0.010000</td>\n",
       "      <td>0.000000</td>\n",
       "      <td>0.005000</td>\n",
       "      <td>0.020000</td>\n",
       "      <td>0.000000</td>\n",
       "      <td>0.005000</td>\n",
       "      <td>0.020000</td>\n",
       "      <td>0.255000</td>\n",
       "      <td>0.010000</td>\n",
       "      <td>0.865000</td>\n",
       "      <td>0.045000</td>\n",
       "      <td>0.00</td>\n",
       "      <td>0.000000</td>\n",
       "      <td>2</td>\n",
       "      <td>1</td>\n",
       "      <td>13.098404</td>\n",
       "      <td>2016-04-06</td>\n",
       "    </tr>\n",
       "    <tr>\n",
       "      <th>2</th>\n",
       "      <td>META.OQ</td>\n",
       "      <td>2016Q1</td>\n",
       "      <td>2016-01-27</td>\n",
       "      <td>0.764286</td>\n",
       "      <td>0.755</td>\n",
       "      <td>0.005714</td>\n",
       "      <td>0.001429</td>\n",
       "      <td>0.002857</td>\n",
       "      <td>0.367143</td>\n",
       "      <td>0.001429</td>\n",
       "      <td>0.002857</td>\n",
       "      <td>0.001429</td>\n",
       "      <td>0.000000</td>\n",
       "      <td>0.001429</td>\n",
       "      <td>0.605714</td>\n",
       "      <td>0.081429</td>\n",
       "      <td>0.00</td>\n",
       "      <td>0.262857</td>\n",
       "      <td>7</td>\n",
       "      <td>1</td>\n",
       "      <td>1.318956</td>\n",
       "      <td>2016-03-28</td>\n",
       "    </tr>\n",
       "    <tr>\n",
       "      <th>3</th>\n",
       "      <td>CE.N</td>\n",
       "      <td>2016Q1</td>\n",
       "      <td>2016-01-22</td>\n",
       "      <td>-0.200000</td>\n",
       "      <td>NaN</td>\n",
       "      <td>0.004286</td>\n",
       "      <td>0.001429</td>\n",
       "      <td>0.064286</td>\n",
       "      <td>0.022857</td>\n",
       "      <td>0.052857</td>\n",
       "      <td>0.004286</td>\n",
       "      <td>0.005714</td>\n",
       "      <td>0.164286</td>\n",
       "      <td>0.001429</td>\n",
       "      <td>0.231429</td>\n",
       "      <td>0.000000</td>\n",
       "      <td>0.00</td>\n",
       "      <td>0.141429</td>\n",
       "      <td>7</td>\n",
       "      <td>1</td>\n",
       "      <td>9.557344</td>\n",
       "      <td>2016-03-23</td>\n",
       "    </tr>\n",
       "    <tr>\n",
       "      <th>4</th>\n",
       "      <td>MAT.OQ</td>\n",
       "      <td>2016Q1</td>\n",
       "      <td>2016-02-01</td>\n",
       "      <td>0.920000</td>\n",
       "      <td>NaN</td>\n",
       "      <td>0.080000</td>\n",
       "      <td>0.010000</td>\n",
       "      <td>0.010000</td>\n",
       "      <td>0.010000</td>\n",
       "      <td>0.000000</td>\n",
       "      <td>0.000000</td>\n",
       "      <td>0.000000</td>\n",
       "      <td>0.000000</td>\n",
       "      <td>0.000000</td>\n",
       "      <td>0.640000</td>\n",
       "      <td>0.410000</td>\n",
       "      <td>0.03</td>\n",
       "      <td>0.090000</td>\n",
       "      <td>1</td>\n",
       "      <td>1</td>\n",
       "      <td>7.871537</td>\n",
       "      <td>2016-04-02</td>\n",
       "    </tr>\n",
       "    <tr>\n",
       "      <th>...</th>\n",
       "      <td>...</td>\n",
       "      <td>...</td>\n",
       "      <td>...</td>\n",
       "      <td>...</td>\n",
       "      <td>...</td>\n",
       "      <td>...</td>\n",
       "      <td>...</td>\n",
       "      <td>...</td>\n",
       "      <td>...</td>\n",
       "      <td>...</td>\n",
       "      <td>...</td>\n",
       "      <td>...</td>\n",
       "      <td>...</td>\n",
       "      <td>...</td>\n",
       "      <td>...</td>\n",
       "      <td>...</td>\n",
       "      <td>...</td>\n",
       "      <td>...</td>\n",
       "      <td>...</td>\n",
       "      <td>...</td>\n",
       "      <td>...</td>\n",
       "      <td>...</td>\n",
       "    </tr>\n",
       "    <tr>\n",
       "      <th>3690</th>\n",
       "      <td>RSG.N</td>\n",
       "      <td>2024Q2</td>\n",
       "      <td>2024-04-30</td>\n",
       "      <td>0.790000</td>\n",
       "      <td>NaN</td>\n",
       "      <td>0.000000</td>\n",
       "      <td>0.000000</td>\n",
       "      <td>0.000000</td>\n",
       "      <td>0.030000</td>\n",
       "      <td>0.070000</td>\n",
       "      <td>0.010000</td>\n",
       "      <td>0.410000</td>\n",
       "      <td>0.070000</td>\n",
       "      <td>0.000000</td>\n",
       "      <td>0.120000</td>\n",
       "      <td>0.000000</td>\n",
       "      <td>0.00</td>\n",
       "      <td>0.010000</td>\n",
       "      <td>1</td>\n",
       "      <td>1</td>\n",
       "      <td>3.454194</td>\n",
       "      <td>2024-07-01</td>\n",
       "    </tr>\n",
       "    <tr>\n",
       "      <th>3691</th>\n",
       "      <td>RVTY.N</td>\n",
       "      <td>2024Q2</td>\n",
       "      <td>2024-04-29</td>\n",
       "      <td>0.950000</td>\n",
       "      <td>NaN</td>\n",
       "      <td>0.020000</td>\n",
       "      <td>0.000000</td>\n",
       "      <td>0.000000</td>\n",
       "      <td>0.060000</td>\n",
       "      <td>0.000000</td>\n",
       "      <td>0.000000</td>\n",
       "      <td>0.000000</td>\n",
       "      <td>0.030000</td>\n",
       "      <td>0.000000</td>\n",
       "      <td>1.000000</td>\n",
       "      <td>0.000000</td>\n",
       "      <td>0.00</td>\n",
       "      <td>0.000000</td>\n",
       "      <td>1</td>\n",
       "      <td>1</td>\n",
       "      <td>2.202729</td>\n",
       "      <td>2024-06-30</td>\n",
       "    </tr>\n",
       "    <tr>\n",
       "      <th>3692</th>\n",
       "      <td>DGX.N</td>\n",
       "      <td>2024Q2</td>\n",
       "      <td>2024-04-23</td>\n",
       "      <td>0.594000</td>\n",
       "      <td>0.774</td>\n",
       "      <td>0.016000</td>\n",
       "      <td>0.000000</td>\n",
       "      <td>0.004000</td>\n",
       "      <td>0.616000</td>\n",
       "      <td>0.006000</td>\n",
       "      <td>0.004000</td>\n",
       "      <td>0.002000</td>\n",
       "      <td>0.022000</td>\n",
       "      <td>0.006000</td>\n",
       "      <td>0.814000</td>\n",
       "      <td>0.018000</td>\n",
       "      <td>0.00</td>\n",
       "      <td>0.102000</td>\n",
       "      <td>5</td>\n",
       "      <td>1</td>\n",
       "      <td>3.551913</td>\n",
       "      <td>2024-06-24</td>\n",
       "    </tr>\n",
       "    <tr>\n",
       "      <th>3693</th>\n",
       "      <td>LMT.N</td>\n",
       "      <td>2024Q2</td>\n",
       "      <td>2024-04-23</td>\n",
       "      <td>0.215000</td>\n",
       "      <td>0.520</td>\n",
       "      <td>0.045000</td>\n",
       "      <td>0.000000</td>\n",
       "      <td>0.020000</td>\n",
       "      <td>0.377500</td>\n",
       "      <td>0.010000</td>\n",
       "      <td>0.242500</td>\n",
       "      <td>0.005000</td>\n",
       "      <td>0.062500</td>\n",
       "      <td>0.062500</td>\n",
       "      <td>0.525000</td>\n",
       "      <td>0.002500</td>\n",
       "      <td>0.00</td>\n",
       "      <td>0.005000</td>\n",
       "      <td>4</td>\n",
       "      <td>1</td>\n",
       "      <td>1.447997</td>\n",
       "      <td>2024-06-24</td>\n",
       "    </tr>\n",
       "    <tr>\n",
       "      <th>3694</th>\n",
       "      <td>FANG.OQ</td>\n",
       "      <td>2024Q2</td>\n",
       "      <td>2024-05-01</td>\n",
       "      <td>0.488000</td>\n",
       "      <td>NaN</td>\n",
       "      <td>0.014000</td>\n",
       "      <td>0.000000</td>\n",
       "      <td>0.006000</td>\n",
       "      <td>0.470000</td>\n",
       "      <td>0.044000</td>\n",
       "      <td>0.036000</td>\n",
       "      <td>0.004000</td>\n",
       "      <td>0.008000</td>\n",
       "      <td>0.004000</td>\n",
       "      <td>0.768000</td>\n",
       "      <td>0.002000</td>\n",
       "      <td>0.00</td>\n",
       "      <td>0.020000</td>\n",
       "      <td>5</td>\n",
       "      <td>1</td>\n",
       "      <td>1.687345</td>\n",
       "      <td>2024-07-02</td>\n",
       "    </tr>\n",
       "  </tbody>\n",
       "</table>\n",
       "<p>3695 rows × 22 columns</p>\n",
       "</div>"
      ],
      "text/plain": [
       "     Instrument quarter start_date  analysis.fin_sentiment  \\\n",
       "0       MSFT.OQ  2016Q1 2016-01-28                0.930000   \n",
       "1         TSN.N  2016Q1 2016-02-05                0.190000   \n",
       "2       META.OQ  2016Q1 2016-01-27                0.764286   \n",
       "3          CE.N  2016Q1 2016-01-22               -0.200000   \n",
       "4        MAT.OQ  2016Q1 2016-02-01                0.920000   \n",
       "...         ...     ...        ...                     ...   \n",
       "3690      RSG.N  2024Q2 2024-04-30                0.790000   \n",
       "3691     RVTY.N  2024Q2 2024-04-29                0.950000   \n",
       "3692      DGX.N  2024Q2 2024-04-23                0.594000   \n",
       "3693      LMT.N  2024Q2 2024-04-23                0.215000   \n",
       "3694    FANG.OQ  2024Q2 2024-05-01                0.488000   \n",
       "\n",
       "      analysis.esg_sentiment  emotions.admiration  emotions.anger  \\\n",
       "0                        NaN             0.100000        0.000000   \n",
       "1                        NaN             0.010000        0.000000   \n",
       "2                      0.755             0.005714        0.001429   \n",
       "3                        NaN             0.004286        0.001429   \n",
       "4                        NaN             0.080000        0.010000   \n",
       "...                      ...                  ...             ...   \n",
       "3690                     NaN             0.000000        0.000000   \n",
       "3691                     NaN             0.020000        0.000000   \n",
       "3692                   0.774             0.016000        0.000000   \n",
       "3693                   0.520             0.045000        0.000000   \n",
       "3694                     NaN             0.014000        0.000000   \n",
       "\n",
       "      emotions.annoyance  emotions.approval  emotions.confusion  \\\n",
       "0               0.000000           0.100000            0.010000   \n",
       "1               0.005000           0.020000            0.000000   \n",
       "2               0.002857           0.367143            0.001429   \n",
       "3               0.064286           0.022857            0.052857   \n",
       "4               0.010000           0.010000            0.000000   \n",
       "...                  ...                ...                 ...   \n",
       "3690            0.000000           0.030000            0.070000   \n",
       "3691            0.000000           0.060000            0.000000   \n",
       "3692            0.004000           0.616000            0.006000   \n",
       "3693            0.020000           0.377500            0.010000   \n",
       "3694            0.006000           0.470000            0.044000   \n",
       "\n",
       "      emotions.disappointment  emotions.disapproval  emotions.fear  \\\n",
       "0                    0.000000              0.000000       0.000000   \n",
       "1                    0.005000              0.020000       0.255000   \n",
       "2                    0.002857              0.001429       0.000000   \n",
       "3                    0.004286              0.005714       0.164286   \n",
       "4                    0.000000              0.000000       0.000000   \n",
       "...                       ...                   ...            ...   \n",
       "3690                 0.010000              0.410000       0.070000   \n",
       "3691                 0.000000              0.000000       0.030000   \n",
       "3692                 0.004000              0.002000       0.022000   \n",
       "3693                 0.242500              0.005000       0.062500   \n",
       "3694                 0.036000              0.004000       0.008000   \n",
       "\n",
       "      emotions.gratitude  emotions.optimism  emotions.pride  \\\n",
       "0               0.010000           0.960000        0.000000   \n",
       "1               0.010000           0.865000        0.045000   \n",
       "2               0.001429           0.605714        0.081429   \n",
       "3               0.001429           0.231429        0.000000   \n",
       "4               0.000000           0.640000        0.410000   \n",
       "...                  ...                ...             ...   \n",
       "3690            0.000000           0.120000        0.000000   \n",
       "3691            0.000000           1.000000        0.000000   \n",
       "3692            0.006000           0.814000        0.018000   \n",
       "3693            0.062500           0.525000        0.002500   \n",
       "3694            0.004000           0.768000        0.002000   \n",
       "\n",
       "      emotions.surprise  emotions.neutral  num_sentences  company_count  \\\n",
       "0                  0.00          0.060000              1              1   \n",
       "1                  0.00          0.000000              2              1   \n",
       "2                  0.00          0.262857              7              1   \n",
       "3                  0.00          0.141429              7              1   \n",
       "4                  0.03          0.090000              1              1   \n",
       "...                 ...               ...            ...            ...   \n",
       "3690               0.00          0.010000              1              1   \n",
       "3691               0.00          0.000000              1              1   \n",
       "3692               0.00          0.102000              5              1   \n",
       "3693               0.00          0.005000              4              1   \n",
       "3694               0.00          0.020000              5              1   \n",
       "\n",
       "        returns   end_date  \n",
       "0           0.0 2016-03-29  \n",
       "1     13.098404 2016-04-06  \n",
       "2      1.318956 2016-03-28  \n",
       "3      9.557344 2016-03-23  \n",
       "4      7.871537 2016-04-02  \n",
       "...         ...        ...  \n",
       "3690   3.454194 2024-07-01  \n",
       "3691   2.202729 2024-06-30  \n",
       "3692   3.551913 2024-06-24  \n",
       "3693   1.447997 2024-06-24  \n",
       "3694   1.687345 2024-07-02  \n",
       "\n",
       "[3695 rows x 22 columns]"
      ]
     },
     "execution_count": 26,
     "metadata": {},
     "output_type": "execute_result"
    }
   ],
   "source": [
    "def calculate_period_returns(event_df: pd.DataFrame, prices_df: pd.DataFrame) -> pd.DataFrame:\n",
    "    # define helper to calculate percentage change in series\n",
    "    def calculate_pct_change(series):\n",
    "        return (series.iloc[-1] - series.iloc[0]) / series.iloc[0] * 100\n",
    "\n",
    "    returns = []\n",
    "    end_dates = []\n",
    "    for row in event_df.itertuples():\n",
    "        # Define start and end dates for the period\n",
    "        start = pd.to_datetime(row.start_date) + timedelta(days=1)\n",
    "        end = start + relativedelta(months=2)\n",
    "        ric = row.Instrument\n",
    "        # Filter prices for the given period\n",
    "        prices_ric = prices_df[ric][(prices_df[ric].index > start) & (prices_df[ric].index <= end)]\n",
    "        # Calculate percentage change and store results\n",
    "        returns.append(calculate_pct_change(prices_ric))\n",
    "        end_dates.append(end)\n",
    "    \n",
    "    # Add returns and end dates to event_df\n",
    "    event_df['returns'] = returns\n",
    "    event_df['end_date'] = end_dates\n",
    "    return event_df\n",
    "\n",
    "\n",
    "events_by_company = calculate_period_returns(events_by_company, prices)\n",
    "events_by_company"
   ]
  },
  {
   "cell_type": "markdown",
   "metadata": {},
   "source": [
    "### Portfolio Construction Approach 1: Clusttering our universe\n",
    "At this step, we will cluster our universe into two groups using the KMeans algorithm, based on mentions, sentiments, and emotions as input features. The clustering is performed separately for each quarter to prevent look-ahead bias, ensuring that only data available up to that point in time is used for clustering.\n",
    "\n",
    "The **cluster_companies** function below groups companies by quarter and then clusters them based on the provided features."
   ]
  },
  {
   "cell_type": "code",
   "execution_count": 27,
   "metadata": {},
   "outputs": [],
   "source": [
    "def cluster_companies(df:pd.DataFrame, features:list) ->tuple[pd.DataFrame, list]:\n",
    "    def cluster_group(group):\n",
    "        # Fill missing values (kmeans can't handle NaNs) and scale features\n",
    "        for col in features:\n",
    "            group[col] = group[col].fillna(0)\n",
    "        scaler = StandardScaler()\n",
    "        scaled_features = scaler.fit_transform(group[features])\n",
    "        \n",
    "        # Apply KMeans clustering\n",
    "        kmeans = KMeans(n_clusters=2, random_state=42)\n",
    "        group['cluster'] = kmeans.fit_predict(scaled_features)\n",
    "        return group, kmeans.cluster_centers_\n",
    "\n",
    "    clustered_df = pd.DataFrame()\n",
    "    cluster_centers = []\n",
    "\n",
    "    # Group by quarter and apply clustering\n",
    "    for quarter, group in df.groupby('quarter'):\n",
    "        clustered_group, centers = cluster_group(group)\n",
    "        clustered_df = pd.concat([clustered_df, clustered_group])\n",
    "        cluster_centers.append({quarter: centers})\n",
    "\n",
    "    return clustered_df, cluster_centers\n"
   ]
  },
  {
   "cell_type": "code",
   "execution_count": 28,
   "metadata": {},
   "outputs": [
    {
     "data": {
      "text/html": [
       "<div>\n",
       "<style scoped>\n",
       "    .dataframe tbody tr th:only-of-type {\n",
       "        vertical-align: middle;\n",
       "    }\n",
       "\n",
       "    .dataframe tbody tr th {\n",
       "        vertical-align: top;\n",
       "    }\n",
       "\n",
       "    .dataframe thead th {\n",
       "        text-align: right;\n",
       "    }\n",
       "</style>\n",
       "<table border=\"1\" class=\"dataframe\">\n",
       "  <thead>\n",
       "    <tr style=\"text-align: right;\">\n",
       "      <th></th>\n",
       "      <th>Instrument</th>\n",
       "      <th>quarter</th>\n",
       "      <th>start_date</th>\n",
       "      <th>analysis.fin_sentiment</th>\n",
       "      <th>analysis.esg_sentiment</th>\n",
       "      <th>emotions.admiration</th>\n",
       "      <th>emotions.anger</th>\n",
       "      <th>emotions.annoyance</th>\n",
       "      <th>emotions.approval</th>\n",
       "      <th>emotions.confusion</th>\n",
       "      <th>emotions.disappointment</th>\n",
       "      <th>emotions.disapproval</th>\n",
       "      <th>emotions.fear</th>\n",
       "      <th>emotions.gratitude</th>\n",
       "      <th>emotions.optimism</th>\n",
       "      <th>emotions.pride</th>\n",
       "      <th>emotions.surprise</th>\n",
       "      <th>emotions.neutral</th>\n",
       "      <th>num_sentences</th>\n",
       "      <th>company_count</th>\n",
       "      <th>returns</th>\n",
       "      <th>end_date</th>\n",
       "      <th>cluster</th>\n",
       "    </tr>\n",
       "  </thead>\n",
       "  <tbody>\n",
       "    <tr>\n",
       "      <th>0</th>\n",
       "      <td>MSFT.OQ</td>\n",
       "      <td>2016Q1</td>\n",
       "      <td>2016-01-28</td>\n",
       "      <td>0.930000</td>\n",
       "      <td>0.000</td>\n",
       "      <td>0.100000</td>\n",
       "      <td>0.000000</td>\n",
       "      <td>0.000000</td>\n",
       "      <td>0.100000</td>\n",
       "      <td>0.010000</td>\n",
       "      <td>0.000000</td>\n",
       "      <td>0.000000</td>\n",
       "      <td>0.000000</td>\n",
       "      <td>0.010000</td>\n",
       "      <td>0.960000</td>\n",
       "      <td>0.000000</td>\n",
       "      <td>0.00</td>\n",
       "      <td>0.060000</td>\n",
       "      <td>1</td>\n",
       "      <td>1</td>\n",
       "      <td>0.0</td>\n",
       "      <td>2016-03-29</td>\n",
       "      <td>1</td>\n",
       "    </tr>\n",
       "    <tr>\n",
       "      <th>1</th>\n",
       "      <td>TSN.N</td>\n",
       "      <td>2016Q1</td>\n",
       "      <td>2016-02-05</td>\n",
       "      <td>0.190000</td>\n",
       "      <td>0.000</td>\n",
       "      <td>0.010000</td>\n",
       "      <td>0.000000</td>\n",
       "      <td>0.005000</td>\n",
       "      <td>0.020000</td>\n",
       "      <td>0.000000</td>\n",
       "      <td>0.005000</td>\n",
       "      <td>0.020000</td>\n",
       "      <td>0.255000</td>\n",
       "      <td>0.010000</td>\n",
       "      <td>0.865000</td>\n",
       "      <td>0.045000</td>\n",
       "      <td>0.00</td>\n",
       "      <td>0.000000</td>\n",
       "      <td>2</td>\n",
       "      <td>1</td>\n",
       "      <td>13.098404</td>\n",
       "      <td>2016-04-06</td>\n",
       "      <td>1</td>\n",
       "    </tr>\n",
       "    <tr>\n",
       "      <th>2</th>\n",
       "      <td>META.OQ</td>\n",
       "      <td>2016Q1</td>\n",
       "      <td>2016-01-27</td>\n",
       "      <td>0.764286</td>\n",
       "      <td>0.755</td>\n",
       "      <td>0.005714</td>\n",
       "      <td>0.001429</td>\n",
       "      <td>0.002857</td>\n",
       "      <td>0.367143</td>\n",
       "      <td>0.001429</td>\n",
       "      <td>0.002857</td>\n",
       "      <td>0.001429</td>\n",
       "      <td>0.000000</td>\n",
       "      <td>0.001429</td>\n",
       "      <td>0.605714</td>\n",
       "      <td>0.081429</td>\n",
       "      <td>0.00</td>\n",
       "      <td>0.262857</td>\n",
       "      <td>7</td>\n",
       "      <td>1</td>\n",
       "      <td>1.318956</td>\n",
       "      <td>2016-03-28</td>\n",
       "      <td>1</td>\n",
       "    </tr>\n",
       "    <tr>\n",
       "      <th>3</th>\n",
       "      <td>CE.N</td>\n",
       "      <td>2016Q1</td>\n",
       "      <td>2016-01-22</td>\n",
       "      <td>-0.200000</td>\n",
       "      <td>0.000</td>\n",
       "      <td>0.004286</td>\n",
       "      <td>0.001429</td>\n",
       "      <td>0.064286</td>\n",
       "      <td>0.022857</td>\n",
       "      <td>0.052857</td>\n",
       "      <td>0.004286</td>\n",
       "      <td>0.005714</td>\n",
       "      <td>0.164286</td>\n",
       "      <td>0.001429</td>\n",
       "      <td>0.231429</td>\n",
       "      <td>0.000000</td>\n",
       "      <td>0.00</td>\n",
       "      <td>0.141429</td>\n",
       "      <td>7</td>\n",
       "      <td>1</td>\n",
       "      <td>9.557344</td>\n",
       "      <td>2016-03-23</td>\n",
       "      <td>0</td>\n",
       "    </tr>\n",
       "    <tr>\n",
       "      <th>4</th>\n",
       "      <td>MAT.OQ</td>\n",
       "      <td>2016Q1</td>\n",
       "      <td>2016-02-01</td>\n",
       "      <td>0.920000</td>\n",
       "      <td>0.000</td>\n",
       "      <td>0.080000</td>\n",
       "      <td>0.010000</td>\n",
       "      <td>0.010000</td>\n",
       "      <td>0.010000</td>\n",
       "      <td>0.000000</td>\n",
       "      <td>0.000000</td>\n",
       "      <td>0.000000</td>\n",
       "      <td>0.000000</td>\n",
       "      <td>0.000000</td>\n",
       "      <td>0.640000</td>\n",
       "      <td>0.410000</td>\n",
       "      <td>0.03</td>\n",
       "      <td>0.090000</td>\n",
       "      <td>1</td>\n",
       "      <td>1</td>\n",
       "      <td>7.871537</td>\n",
       "      <td>2016-04-02</td>\n",
       "      <td>1</td>\n",
       "    </tr>\n",
       "    <tr>\n",
       "      <th>...</th>\n",
       "      <td>...</td>\n",
       "      <td>...</td>\n",
       "      <td>...</td>\n",
       "      <td>...</td>\n",
       "      <td>...</td>\n",
       "      <td>...</td>\n",
       "      <td>...</td>\n",
       "      <td>...</td>\n",
       "      <td>...</td>\n",
       "      <td>...</td>\n",
       "      <td>...</td>\n",
       "      <td>...</td>\n",
       "      <td>...</td>\n",
       "      <td>...</td>\n",
       "      <td>...</td>\n",
       "      <td>...</td>\n",
       "      <td>...</td>\n",
       "      <td>...</td>\n",
       "      <td>...</td>\n",
       "      <td>...</td>\n",
       "      <td>...</td>\n",
       "      <td>...</td>\n",
       "      <td>...</td>\n",
       "    </tr>\n",
       "    <tr>\n",
       "      <th>3690</th>\n",
       "      <td>RSG.N</td>\n",
       "      <td>2024Q2</td>\n",
       "      <td>2024-04-30</td>\n",
       "      <td>0.790000</td>\n",
       "      <td>0.000</td>\n",
       "      <td>0.000000</td>\n",
       "      <td>0.000000</td>\n",
       "      <td>0.000000</td>\n",
       "      <td>0.030000</td>\n",
       "      <td>0.070000</td>\n",
       "      <td>0.010000</td>\n",
       "      <td>0.410000</td>\n",
       "      <td>0.070000</td>\n",
       "      <td>0.000000</td>\n",
       "      <td>0.120000</td>\n",
       "      <td>0.000000</td>\n",
       "      <td>0.00</td>\n",
       "      <td>0.010000</td>\n",
       "      <td>1</td>\n",
       "      <td>1</td>\n",
       "      <td>3.454194</td>\n",
       "      <td>2024-07-01</td>\n",
       "      <td>1</td>\n",
       "    </tr>\n",
       "    <tr>\n",
       "      <th>3691</th>\n",
       "      <td>RVTY.N</td>\n",
       "      <td>2024Q2</td>\n",
       "      <td>2024-04-29</td>\n",
       "      <td>0.950000</td>\n",
       "      <td>0.000</td>\n",
       "      <td>0.020000</td>\n",
       "      <td>0.000000</td>\n",
       "      <td>0.000000</td>\n",
       "      <td>0.060000</td>\n",
       "      <td>0.000000</td>\n",
       "      <td>0.000000</td>\n",
       "      <td>0.000000</td>\n",
       "      <td>0.030000</td>\n",
       "      <td>0.000000</td>\n",
       "      <td>1.000000</td>\n",
       "      <td>0.000000</td>\n",
       "      <td>0.00</td>\n",
       "      <td>0.000000</td>\n",
       "      <td>1</td>\n",
       "      <td>1</td>\n",
       "      <td>2.202729</td>\n",
       "      <td>2024-06-30</td>\n",
       "      <td>0</td>\n",
       "    </tr>\n",
       "    <tr>\n",
       "      <th>3692</th>\n",
       "      <td>DGX.N</td>\n",
       "      <td>2024Q2</td>\n",
       "      <td>2024-04-23</td>\n",
       "      <td>0.594000</td>\n",
       "      <td>0.774</td>\n",
       "      <td>0.016000</td>\n",
       "      <td>0.000000</td>\n",
       "      <td>0.004000</td>\n",
       "      <td>0.616000</td>\n",
       "      <td>0.006000</td>\n",
       "      <td>0.004000</td>\n",
       "      <td>0.002000</td>\n",
       "      <td>0.022000</td>\n",
       "      <td>0.006000</td>\n",
       "      <td>0.814000</td>\n",
       "      <td>0.018000</td>\n",
       "      <td>0.00</td>\n",
       "      <td>0.102000</td>\n",
       "      <td>5</td>\n",
       "      <td>1</td>\n",
       "      <td>3.551913</td>\n",
       "      <td>2024-06-24</td>\n",
       "      <td>0</td>\n",
       "    </tr>\n",
       "    <tr>\n",
       "      <th>3693</th>\n",
       "      <td>LMT.N</td>\n",
       "      <td>2024Q2</td>\n",
       "      <td>2024-04-23</td>\n",
       "      <td>0.215000</td>\n",
       "      <td>0.520</td>\n",
       "      <td>0.045000</td>\n",
       "      <td>0.000000</td>\n",
       "      <td>0.020000</td>\n",
       "      <td>0.377500</td>\n",
       "      <td>0.010000</td>\n",
       "      <td>0.242500</td>\n",
       "      <td>0.005000</td>\n",
       "      <td>0.062500</td>\n",
       "      <td>0.062500</td>\n",
       "      <td>0.525000</td>\n",
       "      <td>0.002500</td>\n",
       "      <td>0.00</td>\n",
       "      <td>0.005000</td>\n",
       "      <td>4</td>\n",
       "      <td>1</td>\n",
       "      <td>1.447997</td>\n",
       "      <td>2024-06-24</td>\n",
       "      <td>0</td>\n",
       "    </tr>\n",
       "    <tr>\n",
       "      <th>3694</th>\n",
       "      <td>FANG.OQ</td>\n",
       "      <td>2024Q2</td>\n",
       "      <td>2024-05-01</td>\n",
       "      <td>0.488000</td>\n",
       "      <td>0.000</td>\n",
       "      <td>0.014000</td>\n",
       "      <td>0.000000</td>\n",
       "      <td>0.006000</td>\n",
       "      <td>0.470000</td>\n",
       "      <td>0.044000</td>\n",
       "      <td>0.036000</td>\n",
       "      <td>0.004000</td>\n",
       "      <td>0.008000</td>\n",
       "      <td>0.004000</td>\n",
       "      <td>0.768000</td>\n",
       "      <td>0.002000</td>\n",
       "      <td>0.00</td>\n",
       "      <td>0.020000</td>\n",
       "      <td>5</td>\n",
       "      <td>1</td>\n",
       "      <td>1.687345</td>\n",
       "      <td>2024-07-02</td>\n",
       "      <td>0</td>\n",
       "    </tr>\n",
       "  </tbody>\n",
       "</table>\n",
       "<p>3695 rows × 23 columns</p>\n",
       "</div>"
      ],
      "text/plain": [
       "     Instrument quarter start_date  analysis.fin_sentiment  \\\n",
       "0       MSFT.OQ  2016Q1 2016-01-28                0.930000   \n",
       "1         TSN.N  2016Q1 2016-02-05                0.190000   \n",
       "2       META.OQ  2016Q1 2016-01-27                0.764286   \n",
       "3          CE.N  2016Q1 2016-01-22               -0.200000   \n",
       "4        MAT.OQ  2016Q1 2016-02-01                0.920000   \n",
       "...         ...     ...        ...                     ...   \n",
       "3690      RSG.N  2024Q2 2024-04-30                0.790000   \n",
       "3691     RVTY.N  2024Q2 2024-04-29                0.950000   \n",
       "3692      DGX.N  2024Q2 2024-04-23                0.594000   \n",
       "3693      LMT.N  2024Q2 2024-04-23                0.215000   \n",
       "3694    FANG.OQ  2024Q2 2024-05-01                0.488000   \n",
       "\n",
       "      analysis.esg_sentiment  emotions.admiration  emotions.anger  \\\n",
       "0                      0.000             0.100000        0.000000   \n",
       "1                      0.000             0.010000        0.000000   \n",
       "2                      0.755             0.005714        0.001429   \n",
       "3                      0.000             0.004286        0.001429   \n",
       "4                      0.000             0.080000        0.010000   \n",
       "...                      ...                  ...             ...   \n",
       "3690                   0.000             0.000000        0.000000   \n",
       "3691                   0.000             0.020000        0.000000   \n",
       "3692                   0.774             0.016000        0.000000   \n",
       "3693                   0.520             0.045000        0.000000   \n",
       "3694                   0.000             0.014000        0.000000   \n",
       "\n",
       "      emotions.annoyance  emotions.approval  emotions.confusion  \\\n",
       "0               0.000000           0.100000            0.010000   \n",
       "1               0.005000           0.020000            0.000000   \n",
       "2               0.002857           0.367143            0.001429   \n",
       "3               0.064286           0.022857            0.052857   \n",
       "4               0.010000           0.010000            0.000000   \n",
       "...                  ...                ...                 ...   \n",
       "3690            0.000000           0.030000            0.070000   \n",
       "3691            0.000000           0.060000            0.000000   \n",
       "3692            0.004000           0.616000            0.006000   \n",
       "3693            0.020000           0.377500            0.010000   \n",
       "3694            0.006000           0.470000            0.044000   \n",
       "\n",
       "      emotions.disappointment  emotions.disapproval  emotions.fear  \\\n",
       "0                    0.000000              0.000000       0.000000   \n",
       "1                    0.005000              0.020000       0.255000   \n",
       "2                    0.002857              0.001429       0.000000   \n",
       "3                    0.004286              0.005714       0.164286   \n",
       "4                    0.000000              0.000000       0.000000   \n",
       "...                       ...                   ...            ...   \n",
       "3690                 0.010000              0.410000       0.070000   \n",
       "3691                 0.000000              0.000000       0.030000   \n",
       "3692                 0.004000              0.002000       0.022000   \n",
       "3693                 0.242500              0.005000       0.062500   \n",
       "3694                 0.036000              0.004000       0.008000   \n",
       "\n",
       "      emotions.gratitude  emotions.optimism  emotions.pride  \\\n",
       "0               0.010000           0.960000        0.000000   \n",
       "1               0.010000           0.865000        0.045000   \n",
       "2               0.001429           0.605714        0.081429   \n",
       "3               0.001429           0.231429        0.000000   \n",
       "4               0.000000           0.640000        0.410000   \n",
       "...                  ...                ...             ...   \n",
       "3690            0.000000           0.120000        0.000000   \n",
       "3691            0.000000           1.000000        0.000000   \n",
       "3692            0.006000           0.814000        0.018000   \n",
       "3693            0.062500           0.525000        0.002500   \n",
       "3694            0.004000           0.768000        0.002000   \n",
       "\n",
       "      emotions.surprise  emotions.neutral  num_sentences  company_count  \\\n",
       "0                  0.00          0.060000              1              1   \n",
       "1                  0.00          0.000000              2              1   \n",
       "2                  0.00          0.262857              7              1   \n",
       "3                  0.00          0.141429              7              1   \n",
       "4                  0.03          0.090000              1              1   \n",
       "...                 ...               ...            ...            ...   \n",
       "3690               0.00          0.010000              1              1   \n",
       "3691               0.00          0.000000              1              1   \n",
       "3692               0.00          0.102000              5              1   \n",
       "3693               0.00          0.005000              4              1   \n",
       "3694               0.00          0.020000              5              1   \n",
       "\n",
       "        returns   end_date  cluster  \n",
       "0           0.0 2016-03-29        1  \n",
       "1     13.098404 2016-04-06        1  \n",
       "2      1.318956 2016-03-28        1  \n",
       "3      9.557344 2016-03-23        0  \n",
       "4      7.871537 2016-04-02        1  \n",
       "...         ...        ...      ...  \n",
       "3690   3.454194 2024-07-01        1  \n",
       "3691   2.202729 2024-06-30        0  \n",
       "3692   3.551913 2024-06-24        0  \n",
       "3693   1.447997 2024-06-24        0  \n",
       "3694   1.687345 2024-07-02        0  \n",
       "\n",
       "[3695 rows x 23 columns]"
      ]
     },
     "execution_count": 28,
     "metadata": {},
     "output_type": "execute_result"
    }
   ],
   "source": [
    "features = [\n",
    "        'analysis.fin_sentiment', 'analysis.esg_sentiment','emotions.admiration', \n",
    "        'emotions.anger', 'emotions.annoyance', 'emotions.approval', \n",
    "        'emotions.confusion', 'emotions.disappointment', 'emotions.disapproval', \n",
    "        'emotions.fear', 'emotions.gratitude', 'emotions.optimism', \n",
    "        'emotions.pride', 'emotions.surprise', 'emotions.neutral', \n",
    "        'num_sentences'\n",
    "]\n",
    "\n",
    "events_by_company, cluster_means = cluster_companies(events_by_company, features)\n",
    "events_by_company"
   ]
  },
  {
   "cell_type": "markdown",
   "metadata": {},
   "source": [
    "Below we plot the cluster centers for the last quarter of the analysis to identify the cluster patterns."
   ]
  },
  {
   "cell_type": "code",
   "execution_count": 29,
   "metadata": {},
   "outputs": [
    {
     "data": {
      "application/vnd.plotly.v1+json": {
       "config": {
        "plotlyServerURL": "https://plot.ly"
       },
       "data": [
        {
         "name": "Cluster 0",
         "type": "bar",
         "x": [
          "analysis.fin_sentiment",
          "analysis.esg_sentiment",
          "emotions.admiration",
          "emotions.anger",
          "emotions.annoyance",
          "emotions.approval",
          "emotions.confusion",
          "emotions.disappointment",
          "emotions.disapproval",
          "emotions.fear",
          "emotions.gratitude",
          "emotions.optimism",
          "emotions.pride",
          "emotions.surprise",
          "emotions.neutral",
          "num_sentences"
         ],
         "y": [
          0.446805999332274,
          0.29491843926093236,
          0.08007601385714472,
          -0.13684080832205597,
          -0.14359071072043564,
          0.23128774385020018,
          -0.3002004869567691,
          -0.0860902357601109,
          -0.18377174376186037,
          -0.25466771238670743,
          0.10267792536141998,
          0.33965203225377477,
          0.1377233681862246,
          -0.08580157616905867,
          0.01640320997904618,
          0.044627562012000056
         ]
        },
        {
         "name": "Cluster 1",
         "type": "bar",
         "x": [
          "analysis.fin_sentiment",
          "analysis.esg_sentiment",
          "emotions.admiration",
          "emotions.anger",
          "emotions.annoyance",
          "emotions.approval",
          "emotions.confusion",
          "emotions.disappointment",
          "emotions.disapproval",
          "emotions.fear",
          "emotions.gratitude",
          "emotions.optimism",
          "emotions.pride",
          "emotions.surprise",
          "emotions.neutral",
          "num_sentences"
         ],
         "y": [
          -1.106170192521649,
          -0.7301378836071619,
          -0.19824644207351375,
          0.3387806419623715,
          0.3554915653758355,
          -0.5726055794349618,
          0.743214797805592,
          0.2131360205711487,
          0.4549688801871305,
          0.6304880258117509,
          -0.2542026307491464,
          -0.8408860992690541,
          -0.3409656202668668,
          0.21242137789427162,
          -0.04060988878307498,
          -0.1104857117772817
         ]
        }
       ],
       "layout": {
        "barmode": "group",
        "template": {
         "data": {
          "bar": [
           {
            "error_x": {
             "color": "#2a3f5f"
            },
            "error_y": {
             "color": "#2a3f5f"
            },
            "marker": {
             "line": {
              "color": "#E5ECF6",
              "width": 0.5
             },
             "pattern": {
              "fillmode": "overlay",
              "size": 10,
              "solidity": 0.2
             }
            },
            "type": "bar"
           }
          ],
          "barpolar": [
           {
            "marker": {
             "line": {
              "color": "#E5ECF6",
              "width": 0.5
             },
             "pattern": {
              "fillmode": "overlay",
              "size": 10,
              "solidity": 0.2
             }
            },
            "type": "barpolar"
           }
          ],
          "carpet": [
           {
            "aaxis": {
             "endlinecolor": "#2a3f5f",
             "gridcolor": "white",
             "linecolor": "white",
             "minorgridcolor": "white",
             "startlinecolor": "#2a3f5f"
            },
            "baxis": {
             "endlinecolor": "#2a3f5f",
             "gridcolor": "white",
             "linecolor": "white",
             "minorgridcolor": "white",
             "startlinecolor": "#2a3f5f"
            },
            "type": "carpet"
           }
          ],
          "choropleth": [
           {
            "colorbar": {
             "outlinewidth": 0,
             "ticks": ""
            },
            "type": "choropleth"
           }
          ],
          "contour": [
           {
            "colorbar": {
             "outlinewidth": 0,
             "ticks": ""
            },
            "colorscale": [
             [
              0,
              "#0d0887"
             ],
             [
              0.1111111111111111,
              "#46039f"
             ],
             [
              0.2222222222222222,
              "#7201a8"
             ],
             [
              0.3333333333333333,
              "#9c179e"
             ],
             [
              0.4444444444444444,
              "#bd3786"
             ],
             [
              0.5555555555555556,
              "#d8576b"
             ],
             [
              0.6666666666666666,
              "#ed7953"
             ],
             [
              0.7777777777777778,
              "#fb9f3a"
             ],
             [
              0.8888888888888888,
              "#fdca26"
             ],
             [
              1,
              "#f0f921"
             ]
            ],
            "type": "contour"
           }
          ],
          "contourcarpet": [
           {
            "colorbar": {
             "outlinewidth": 0,
             "ticks": ""
            },
            "type": "contourcarpet"
           }
          ],
          "heatmap": [
           {
            "colorbar": {
             "outlinewidth": 0,
             "ticks": ""
            },
            "colorscale": [
             [
              0,
              "#0d0887"
             ],
             [
              0.1111111111111111,
              "#46039f"
             ],
             [
              0.2222222222222222,
              "#7201a8"
             ],
             [
              0.3333333333333333,
              "#9c179e"
             ],
             [
              0.4444444444444444,
              "#bd3786"
             ],
             [
              0.5555555555555556,
              "#d8576b"
             ],
             [
              0.6666666666666666,
              "#ed7953"
             ],
             [
              0.7777777777777778,
              "#fb9f3a"
             ],
             [
              0.8888888888888888,
              "#fdca26"
             ],
             [
              1,
              "#f0f921"
             ]
            ],
            "type": "heatmap"
           }
          ],
          "heatmapgl": [
           {
            "colorbar": {
             "outlinewidth": 0,
             "ticks": ""
            },
            "colorscale": [
             [
              0,
              "#0d0887"
             ],
             [
              0.1111111111111111,
              "#46039f"
             ],
             [
              0.2222222222222222,
              "#7201a8"
             ],
             [
              0.3333333333333333,
              "#9c179e"
             ],
             [
              0.4444444444444444,
              "#bd3786"
             ],
             [
              0.5555555555555556,
              "#d8576b"
             ],
             [
              0.6666666666666666,
              "#ed7953"
             ],
             [
              0.7777777777777778,
              "#fb9f3a"
             ],
             [
              0.8888888888888888,
              "#fdca26"
             ],
             [
              1,
              "#f0f921"
             ]
            ],
            "type": "heatmapgl"
           }
          ],
          "histogram": [
           {
            "marker": {
             "pattern": {
              "fillmode": "overlay",
              "size": 10,
              "solidity": 0.2
             }
            },
            "type": "histogram"
           }
          ],
          "histogram2d": [
           {
            "colorbar": {
             "outlinewidth": 0,
             "ticks": ""
            },
            "colorscale": [
             [
              0,
              "#0d0887"
             ],
             [
              0.1111111111111111,
              "#46039f"
             ],
             [
              0.2222222222222222,
              "#7201a8"
             ],
             [
              0.3333333333333333,
              "#9c179e"
             ],
             [
              0.4444444444444444,
              "#bd3786"
             ],
             [
              0.5555555555555556,
              "#d8576b"
             ],
             [
              0.6666666666666666,
              "#ed7953"
             ],
             [
              0.7777777777777778,
              "#fb9f3a"
             ],
             [
              0.8888888888888888,
              "#fdca26"
             ],
             [
              1,
              "#f0f921"
             ]
            ],
            "type": "histogram2d"
           }
          ],
          "histogram2dcontour": [
           {
            "colorbar": {
             "outlinewidth": 0,
             "ticks": ""
            },
            "colorscale": [
             [
              0,
              "#0d0887"
             ],
             [
              0.1111111111111111,
              "#46039f"
             ],
             [
              0.2222222222222222,
              "#7201a8"
             ],
             [
              0.3333333333333333,
              "#9c179e"
             ],
             [
              0.4444444444444444,
              "#bd3786"
             ],
             [
              0.5555555555555556,
              "#d8576b"
             ],
             [
              0.6666666666666666,
              "#ed7953"
             ],
             [
              0.7777777777777778,
              "#fb9f3a"
             ],
             [
              0.8888888888888888,
              "#fdca26"
             ],
             [
              1,
              "#f0f921"
             ]
            ],
            "type": "histogram2dcontour"
           }
          ],
          "mesh3d": [
           {
            "colorbar": {
             "outlinewidth": 0,
             "ticks": ""
            },
            "type": "mesh3d"
           }
          ],
          "parcoords": [
           {
            "line": {
             "colorbar": {
              "outlinewidth": 0,
              "ticks": ""
             }
            },
            "type": "parcoords"
           }
          ],
          "pie": [
           {
            "automargin": true,
            "type": "pie"
           }
          ],
          "scatter": [
           {
            "fillpattern": {
             "fillmode": "overlay",
             "size": 10,
             "solidity": 0.2
            },
            "type": "scatter"
           }
          ],
          "scatter3d": [
           {
            "line": {
             "colorbar": {
              "outlinewidth": 0,
              "ticks": ""
             }
            },
            "marker": {
             "colorbar": {
              "outlinewidth": 0,
              "ticks": ""
             }
            },
            "type": "scatter3d"
           }
          ],
          "scattercarpet": [
           {
            "marker": {
             "colorbar": {
              "outlinewidth": 0,
              "ticks": ""
             }
            },
            "type": "scattercarpet"
           }
          ],
          "scattergeo": [
           {
            "marker": {
             "colorbar": {
              "outlinewidth": 0,
              "ticks": ""
             }
            },
            "type": "scattergeo"
           }
          ],
          "scattergl": [
           {
            "marker": {
             "colorbar": {
              "outlinewidth": 0,
              "ticks": ""
             }
            },
            "type": "scattergl"
           }
          ],
          "scattermapbox": [
           {
            "marker": {
             "colorbar": {
              "outlinewidth": 0,
              "ticks": ""
             }
            },
            "type": "scattermapbox"
           }
          ],
          "scatterpolar": [
           {
            "marker": {
             "colorbar": {
              "outlinewidth": 0,
              "ticks": ""
             }
            },
            "type": "scatterpolar"
           }
          ],
          "scatterpolargl": [
           {
            "marker": {
             "colorbar": {
              "outlinewidth": 0,
              "ticks": ""
             }
            },
            "type": "scatterpolargl"
           }
          ],
          "scatterternary": [
           {
            "marker": {
             "colorbar": {
              "outlinewidth": 0,
              "ticks": ""
             }
            },
            "type": "scatterternary"
           }
          ],
          "surface": [
           {
            "colorbar": {
             "outlinewidth": 0,
             "ticks": ""
            },
            "colorscale": [
             [
              0,
              "#0d0887"
             ],
             [
              0.1111111111111111,
              "#46039f"
             ],
             [
              0.2222222222222222,
              "#7201a8"
             ],
             [
              0.3333333333333333,
              "#9c179e"
             ],
             [
              0.4444444444444444,
              "#bd3786"
             ],
             [
              0.5555555555555556,
              "#d8576b"
             ],
             [
              0.6666666666666666,
              "#ed7953"
             ],
             [
              0.7777777777777778,
              "#fb9f3a"
             ],
             [
              0.8888888888888888,
              "#fdca26"
             ],
             [
              1,
              "#f0f921"
             ]
            ],
            "type": "surface"
           }
          ],
          "table": [
           {
            "cells": {
             "fill": {
              "color": "#EBF0F8"
             },
             "line": {
              "color": "white"
             }
            },
            "header": {
             "fill": {
              "color": "#C8D4E3"
             },
             "line": {
              "color": "white"
             }
            },
            "type": "table"
           }
          ]
         },
         "layout": {
          "annotationdefaults": {
           "arrowcolor": "#2a3f5f",
           "arrowhead": 0,
           "arrowwidth": 1
          },
          "autotypenumbers": "strict",
          "coloraxis": {
           "colorbar": {
            "outlinewidth": 0,
            "ticks": ""
           }
          },
          "colorscale": {
           "diverging": [
            [
             0,
             "#8e0152"
            ],
            [
             0.1,
             "#c51b7d"
            ],
            [
             0.2,
             "#de77ae"
            ],
            [
             0.3,
             "#f1b6da"
            ],
            [
             0.4,
             "#fde0ef"
            ],
            [
             0.5,
             "#f7f7f7"
            ],
            [
             0.6,
             "#e6f5d0"
            ],
            [
             0.7,
             "#b8e186"
            ],
            [
             0.8,
             "#7fbc41"
            ],
            [
             0.9,
             "#4d9221"
            ],
            [
             1,
             "#276419"
            ]
           ],
           "sequential": [
            [
             0,
             "#0d0887"
            ],
            [
             0.1111111111111111,
             "#46039f"
            ],
            [
             0.2222222222222222,
             "#7201a8"
            ],
            [
             0.3333333333333333,
             "#9c179e"
            ],
            [
             0.4444444444444444,
             "#bd3786"
            ],
            [
             0.5555555555555556,
             "#d8576b"
            ],
            [
             0.6666666666666666,
             "#ed7953"
            ],
            [
             0.7777777777777778,
             "#fb9f3a"
            ],
            [
             0.8888888888888888,
             "#fdca26"
            ],
            [
             1,
             "#f0f921"
            ]
           ],
           "sequentialminus": [
            [
             0,
             "#0d0887"
            ],
            [
             0.1111111111111111,
             "#46039f"
            ],
            [
             0.2222222222222222,
             "#7201a8"
            ],
            [
             0.3333333333333333,
             "#9c179e"
            ],
            [
             0.4444444444444444,
             "#bd3786"
            ],
            [
             0.5555555555555556,
             "#d8576b"
            ],
            [
             0.6666666666666666,
             "#ed7953"
            ],
            [
             0.7777777777777778,
             "#fb9f3a"
            ],
            [
             0.8888888888888888,
             "#fdca26"
            ],
            [
             1,
             "#f0f921"
            ]
           ]
          },
          "colorway": [
           "#636efa",
           "#EF553B",
           "#00cc96",
           "#ab63fa",
           "#FFA15A",
           "#19d3f3",
           "#FF6692",
           "#B6E880",
           "#FF97FF",
           "#FECB52"
          ],
          "font": {
           "color": "#2a3f5f"
          },
          "geo": {
           "bgcolor": "white",
           "lakecolor": "white",
           "landcolor": "#E5ECF6",
           "showlakes": true,
           "showland": true,
           "subunitcolor": "white"
          },
          "hoverlabel": {
           "align": "left"
          },
          "hovermode": "closest",
          "mapbox": {
           "style": "light"
          },
          "paper_bgcolor": "white",
          "plot_bgcolor": "#E5ECF6",
          "polar": {
           "angularaxis": {
            "gridcolor": "white",
            "linecolor": "white",
            "ticks": ""
           },
           "bgcolor": "#E5ECF6",
           "radialaxis": {
            "gridcolor": "white",
            "linecolor": "white",
            "ticks": ""
           }
          },
          "scene": {
           "xaxis": {
            "backgroundcolor": "#E5ECF6",
            "gridcolor": "white",
            "gridwidth": 2,
            "linecolor": "white",
            "showbackground": true,
            "ticks": "",
            "zerolinecolor": "white"
           },
           "yaxis": {
            "backgroundcolor": "#E5ECF6",
            "gridcolor": "white",
            "gridwidth": 2,
            "linecolor": "white",
            "showbackground": true,
            "ticks": "",
            "zerolinecolor": "white"
           },
           "zaxis": {
            "backgroundcolor": "#E5ECF6",
            "gridcolor": "white",
            "gridwidth": 2,
            "linecolor": "white",
            "showbackground": true,
            "ticks": "",
            "zerolinecolor": "white"
           }
          },
          "shapedefaults": {
           "line": {
            "color": "#2a3f5f"
           }
          },
          "ternary": {
           "aaxis": {
            "gridcolor": "white",
            "linecolor": "white",
            "ticks": ""
           },
           "baxis": {
            "gridcolor": "white",
            "linecolor": "white",
            "ticks": ""
           },
           "bgcolor": "#E5ECF6",
           "caxis": {
            "gridcolor": "white",
            "linecolor": "white",
            "ticks": ""
           }
          },
          "title": {
           "x": 0.05
          },
          "xaxis": {
           "automargin": true,
           "gridcolor": "white",
           "linecolor": "white",
           "ticks": "",
           "title": {
            "standoff": 15
           },
           "zerolinecolor": "white",
           "zerolinewidth": 2
          },
          "yaxis": {
           "automargin": true,
           "gridcolor": "white",
           "linecolor": "white",
           "ticks": "",
           "title": {
            "standoff": 15
           },
           "zerolinecolor": "white",
           "zerolinewidth": 2
          }
         }
        },
        "title": {
         "text": "Cluster means"
        },
        "xaxis": {
         "title": {
          "text": "Features"
         }
        },
        "yaxis": {
         "title": {
          "text": "Values"
         }
        }
       }
      }
     },
     "metadata": {},
     "output_type": "display_data"
    }
   ],
   "source": [
    "fig = go.Figure(data=[\n",
    "    go.Bar(name='Cluster 0', x=features, y=list(cluster_means[-1].values())[0][0]),\n",
    "    go.Bar(name='Cluster 1', x=features, y=list(cluster_means[-1].values())[0][1])\n",
    "])\n",
    "\n",
    "fig.update_layout(barmode='group', title='Cluster means',\n",
    "                  xaxis_title='Features', yaxis_title='Values')\n",
    "\n",
    "fig.show()"
   ]
  },
  {
   "cell_type": "markdown",
   "metadata": {},
   "source": [
    "As shown in the plot above, Cluster 0 has higher means for positive sentiments, emotions, and the number of mentions, while showing lower means for negative emotions. Therefore, we will define Cluster 0 as the \"higher mean\" cluster and Cluster 1 as the \"lower mean\" cluster for the subsequent portfolio analysis."
   ]
  },
  {
   "cell_type": "markdown",
   "metadata": {},
   "source": [
    "### Portfolio Construction Approach 2: Assigning quantiles to the Universe\n",
    "In this step, we will devide our quarterly universe into 2 quantiles based on a metric, e.g the number of sentences.\n",
    "\n",
    "Below, we first define our metric and use ***compute_quantiles_per_quarter*** function which categorizes data into quantiles for each quarter based on a specified metric column. "
   ]
  },
  {
   "cell_type": "code",
   "execution_count": 30,
   "metadata": {},
   "outputs": [],
   "source": [
    "metric = 'num_sentences'"
   ]
  },
  {
   "cell_type": "code",
   "execution_count": 31,
   "metadata": {},
   "outputs": [
    {
     "data": {
      "text/html": [
       "<div>\n",
       "<style scoped>\n",
       "    .dataframe tbody tr th:only-of-type {\n",
       "        vertical-align: middle;\n",
       "    }\n",
       "\n",
       "    .dataframe tbody tr th {\n",
       "        vertical-align: top;\n",
       "    }\n",
       "\n",
       "    .dataframe thead th {\n",
       "        text-align: right;\n",
       "    }\n",
       "</style>\n",
       "<table border=\"1\" class=\"dataframe\">\n",
       "  <thead>\n",
       "    <tr style=\"text-align: right;\">\n",
       "      <th></th>\n",
       "      <th>Instrument</th>\n",
       "      <th>quarter</th>\n",
       "      <th>start_date</th>\n",
       "      <th>analysis.fin_sentiment</th>\n",
       "      <th>analysis.esg_sentiment</th>\n",
       "      <th>emotions.admiration</th>\n",
       "      <th>emotions.anger</th>\n",
       "      <th>emotions.annoyance</th>\n",
       "      <th>emotions.approval</th>\n",
       "      <th>emotions.confusion</th>\n",
       "      <th>emotions.disappointment</th>\n",
       "      <th>emotions.disapproval</th>\n",
       "      <th>emotions.fear</th>\n",
       "      <th>emotions.gratitude</th>\n",
       "      <th>emotions.optimism</th>\n",
       "      <th>emotions.pride</th>\n",
       "      <th>emotions.surprise</th>\n",
       "      <th>emotions.neutral</th>\n",
       "      <th>num_sentences</th>\n",
       "      <th>company_count</th>\n",
       "      <th>returns</th>\n",
       "      <th>end_date</th>\n",
       "      <th>cluster</th>\n",
       "      <th>quantile</th>\n",
       "    </tr>\n",
       "  </thead>\n",
       "  <tbody>\n",
       "    <tr>\n",
       "      <th>0</th>\n",
       "      <td>MSFT.OQ</td>\n",
       "      <td>2016Q1</td>\n",
       "      <td>2016-01-28</td>\n",
       "      <td>0.930000</td>\n",
       "      <td>0.000</td>\n",
       "      <td>0.100000</td>\n",
       "      <td>0.000000</td>\n",
       "      <td>0.000000</td>\n",
       "      <td>0.100000</td>\n",
       "      <td>0.010000</td>\n",
       "      <td>0.000000</td>\n",
       "      <td>0.000000</td>\n",
       "      <td>0.000000</td>\n",
       "      <td>0.010000</td>\n",
       "      <td>0.960000</td>\n",
       "      <td>0.000000</td>\n",
       "      <td>0.00</td>\n",
       "      <td>0.060000</td>\n",
       "      <td>1</td>\n",
       "      <td>1</td>\n",
       "      <td>0.0</td>\n",
       "      <td>2016-03-29</td>\n",
       "      <td>1</td>\n",
       "      <td>1</td>\n",
       "    </tr>\n",
       "    <tr>\n",
       "      <th>1</th>\n",
       "      <td>TSN.N</td>\n",
       "      <td>2016Q1</td>\n",
       "      <td>2016-02-05</td>\n",
       "      <td>0.190000</td>\n",
       "      <td>0.000</td>\n",
       "      <td>0.010000</td>\n",
       "      <td>0.000000</td>\n",
       "      <td>0.005000</td>\n",
       "      <td>0.020000</td>\n",
       "      <td>0.000000</td>\n",
       "      <td>0.005000</td>\n",
       "      <td>0.020000</td>\n",
       "      <td>0.255000</td>\n",
       "      <td>0.010000</td>\n",
       "      <td>0.865000</td>\n",
       "      <td>0.045000</td>\n",
       "      <td>0.00</td>\n",
       "      <td>0.000000</td>\n",
       "      <td>2</td>\n",
       "      <td>1</td>\n",
       "      <td>13.098404</td>\n",
       "      <td>2016-04-06</td>\n",
       "      <td>1</td>\n",
       "      <td>1</td>\n",
       "    </tr>\n",
       "    <tr>\n",
       "      <th>2</th>\n",
       "      <td>META.OQ</td>\n",
       "      <td>2016Q1</td>\n",
       "      <td>2016-01-27</td>\n",
       "      <td>0.764286</td>\n",
       "      <td>0.755</td>\n",
       "      <td>0.005714</td>\n",
       "      <td>0.001429</td>\n",
       "      <td>0.002857</td>\n",
       "      <td>0.367143</td>\n",
       "      <td>0.001429</td>\n",
       "      <td>0.002857</td>\n",
       "      <td>0.001429</td>\n",
       "      <td>0.000000</td>\n",
       "      <td>0.001429</td>\n",
       "      <td>0.605714</td>\n",
       "      <td>0.081429</td>\n",
       "      <td>0.00</td>\n",
       "      <td>0.262857</td>\n",
       "      <td>7</td>\n",
       "      <td>1</td>\n",
       "      <td>1.318956</td>\n",
       "      <td>2016-03-28</td>\n",
       "      <td>1</td>\n",
       "      <td>2</td>\n",
       "    </tr>\n",
       "    <tr>\n",
       "      <th>3</th>\n",
       "      <td>CE.N</td>\n",
       "      <td>2016Q1</td>\n",
       "      <td>2016-01-22</td>\n",
       "      <td>-0.200000</td>\n",
       "      <td>0.000</td>\n",
       "      <td>0.004286</td>\n",
       "      <td>0.001429</td>\n",
       "      <td>0.064286</td>\n",
       "      <td>0.022857</td>\n",
       "      <td>0.052857</td>\n",
       "      <td>0.004286</td>\n",
       "      <td>0.005714</td>\n",
       "      <td>0.164286</td>\n",
       "      <td>0.001429</td>\n",
       "      <td>0.231429</td>\n",
       "      <td>0.000000</td>\n",
       "      <td>0.00</td>\n",
       "      <td>0.141429</td>\n",
       "      <td>7</td>\n",
       "      <td>1</td>\n",
       "      <td>9.557344</td>\n",
       "      <td>2016-03-23</td>\n",
       "      <td>0</td>\n",
       "      <td>2</td>\n",
       "    </tr>\n",
       "    <tr>\n",
       "      <th>4</th>\n",
       "      <td>MAT.OQ</td>\n",
       "      <td>2016Q1</td>\n",
       "      <td>2016-02-01</td>\n",
       "      <td>0.920000</td>\n",
       "      <td>0.000</td>\n",
       "      <td>0.080000</td>\n",
       "      <td>0.010000</td>\n",
       "      <td>0.010000</td>\n",
       "      <td>0.010000</td>\n",
       "      <td>0.000000</td>\n",
       "      <td>0.000000</td>\n",
       "      <td>0.000000</td>\n",
       "      <td>0.000000</td>\n",
       "      <td>0.000000</td>\n",
       "      <td>0.640000</td>\n",
       "      <td>0.410000</td>\n",
       "      <td>0.03</td>\n",
       "      <td>0.090000</td>\n",
       "      <td>1</td>\n",
       "      <td>1</td>\n",
       "      <td>7.871537</td>\n",
       "      <td>2016-04-02</td>\n",
       "      <td>1</td>\n",
       "      <td>1</td>\n",
       "    </tr>\n",
       "    <tr>\n",
       "      <th>...</th>\n",
       "      <td>...</td>\n",
       "      <td>...</td>\n",
       "      <td>...</td>\n",
       "      <td>...</td>\n",
       "      <td>...</td>\n",
       "      <td>...</td>\n",
       "      <td>...</td>\n",
       "      <td>...</td>\n",
       "      <td>...</td>\n",
       "      <td>...</td>\n",
       "      <td>...</td>\n",
       "      <td>...</td>\n",
       "      <td>...</td>\n",
       "      <td>...</td>\n",
       "      <td>...</td>\n",
       "      <td>...</td>\n",
       "      <td>...</td>\n",
       "      <td>...</td>\n",
       "      <td>...</td>\n",
       "      <td>...</td>\n",
       "      <td>...</td>\n",
       "      <td>...</td>\n",
       "      <td>...</td>\n",
       "      <td>...</td>\n",
       "    </tr>\n",
       "    <tr>\n",
       "      <th>3690</th>\n",
       "      <td>RSG.N</td>\n",
       "      <td>2024Q2</td>\n",
       "      <td>2024-04-30</td>\n",
       "      <td>0.790000</td>\n",
       "      <td>0.000</td>\n",
       "      <td>0.000000</td>\n",
       "      <td>0.000000</td>\n",
       "      <td>0.000000</td>\n",
       "      <td>0.030000</td>\n",
       "      <td>0.070000</td>\n",
       "      <td>0.010000</td>\n",
       "      <td>0.410000</td>\n",
       "      <td>0.070000</td>\n",
       "      <td>0.000000</td>\n",
       "      <td>0.120000</td>\n",
       "      <td>0.000000</td>\n",
       "      <td>0.00</td>\n",
       "      <td>0.010000</td>\n",
       "      <td>1</td>\n",
       "      <td>1</td>\n",
       "      <td>3.454194</td>\n",
       "      <td>2024-07-01</td>\n",
       "      <td>1</td>\n",
       "      <td>1</td>\n",
       "    </tr>\n",
       "    <tr>\n",
       "      <th>3691</th>\n",
       "      <td>RVTY.N</td>\n",
       "      <td>2024Q2</td>\n",
       "      <td>2024-04-29</td>\n",
       "      <td>0.950000</td>\n",
       "      <td>0.000</td>\n",
       "      <td>0.020000</td>\n",
       "      <td>0.000000</td>\n",
       "      <td>0.000000</td>\n",
       "      <td>0.060000</td>\n",
       "      <td>0.000000</td>\n",
       "      <td>0.000000</td>\n",
       "      <td>0.000000</td>\n",
       "      <td>0.030000</td>\n",
       "      <td>0.000000</td>\n",
       "      <td>1.000000</td>\n",
       "      <td>0.000000</td>\n",
       "      <td>0.00</td>\n",
       "      <td>0.000000</td>\n",
       "      <td>1</td>\n",
       "      <td>1</td>\n",
       "      <td>2.202729</td>\n",
       "      <td>2024-06-30</td>\n",
       "      <td>0</td>\n",
       "      <td>1</td>\n",
       "    </tr>\n",
       "    <tr>\n",
       "      <th>3692</th>\n",
       "      <td>DGX.N</td>\n",
       "      <td>2024Q2</td>\n",
       "      <td>2024-04-23</td>\n",
       "      <td>0.594000</td>\n",
       "      <td>0.774</td>\n",
       "      <td>0.016000</td>\n",
       "      <td>0.000000</td>\n",
       "      <td>0.004000</td>\n",
       "      <td>0.616000</td>\n",
       "      <td>0.006000</td>\n",
       "      <td>0.004000</td>\n",
       "      <td>0.002000</td>\n",
       "      <td>0.022000</td>\n",
       "      <td>0.006000</td>\n",
       "      <td>0.814000</td>\n",
       "      <td>0.018000</td>\n",
       "      <td>0.00</td>\n",
       "      <td>0.102000</td>\n",
       "      <td>5</td>\n",
       "      <td>1</td>\n",
       "      <td>3.551913</td>\n",
       "      <td>2024-06-24</td>\n",
       "      <td>0</td>\n",
       "      <td>1</td>\n",
       "    </tr>\n",
       "    <tr>\n",
       "      <th>3693</th>\n",
       "      <td>LMT.N</td>\n",
       "      <td>2024Q2</td>\n",
       "      <td>2024-04-23</td>\n",
       "      <td>0.215000</td>\n",
       "      <td>0.520</td>\n",
       "      <td>0.045000</td>\n",
       "      <td>0.000000</td>\n",
       "      <td>0.020000</td>\n",
       "      <td>0.377500</td>\n",
       "      <td>0.010000</td>\n",
       "      <td>0.242500</td>\n",
       "      <td>0.005000</td>\n",
       "      <td>0.062500</td>\n",
       "      <td>0.062500</td>\n",
       "      <td>0.525000</td>\n",
       "      <td>0.002500</td>\n",
       "      <td>0.00</td>\n",
       "      <td>0.005000</td>\n",
       "      <td>4</td>\n",
       "      <td>1</td>\n",
       "      <td>1.447997</td>\n",
       "      <td>2024-06-24</td>\n",
       "      <td>0</td>\n",
       "      <td>1</td>\n",
       "    </tr>\n",
       "    <tr>\n",
       "      <th>3694</th>\n",
       "      <td>FANG.OQ</td>\n",
       "      <td>2024Q2</td>\n",
       "      <td>2024-05-01</td>\n",
       "      <td>0.488000</td>\n",
       "      <td>0.000</td>\n",
       "      <td>0.014000</td>\n",
       "      <td>0.000000</td>\n",
       "      <td>0.006000</td>\n",
       "      <td>0.470000</td>\n",
       "      <td>0.044000</td>\n",
       "      <td>0.036000</td>\n",
       "      <td>0.004000</td>\n",
       "      <td>0.008000</td>\n",
       "      <td>0.004000</td>\n",
       "      <td>0.768000</td>\n",
       "      <td>0.002000</td>\n",
       "      <td>0.00</td>\n",
       "      <td>0.020000</td>\n",
       "      <td>5</td>\n",
       "      <td>1</td>\n",
       "      <td>1.687345</td>\n",
       "      <td>2024-07-02</td>\n",
       "      <td>0</td>\n",
       "      <td>2</td>\n",
       "    </tr>\n",
       "  </tbody>\n",
       "</table>\n",
       "<p>3695 rows × 24 columns</p>\n",
       "</div>"
      ],
      "text/plain": [
       "     Instrument quarter start_date  analysis.fin_sentiment  \\\n",
       "0       MSFT.OQ  2016Q1 2016-01-28                0.930000   \n",
       "1         TSN.N  2016Q1 2016-02-05                0.190000   \n",
       "2       META.OQ  2016Q1 2016-01-27                0.764286   \n",
       "3          CE.N  2016Q1 2016-01-22               -0.200000   \n",
       "4        MAT.OQ  2016Q1 2016-02-01                0.920000   \n",
       "...         ...     ...        ...                     ...   \n",
       "3690      RSG.N  2024Q2 2024-04-30                0.790000   \n",
       "3691     RVTY.N  2024Q2 2024-04-29                0.950000   \n",
       "3692      DGX.N  2024Q2 2024-04-23                0.594000   \n",
       "3693      LMT.N  2024Q2 2024-04-23                0.215000   \n",
       "3694    FANG.OQ  2024Q2 2024-05-01                0.488000   \n",
       "\n",
       "      analysis.esg_sentiment  emotions.admiration  emotions.anger  \\\n",
       "0                      0.000             0.100000        0.000000   \n",
       "1                      0.000             0.010000        0.000000   \n",
       "2                      0.755             0.005714        0.001429   \n",
       "3                      0.000             0.004286        0.001429   \n",
       "4                      0.000             0.080000        0.010000   \n",
       "...                      ...                  ...             ...   \n",
       "3690                   0.000             0.000000        0.000000   \n",
       "3691                   0.000             0.020000        0.000000   \n",
       "3692                   0.774             0.016000        0.000000   \n",
       "3693                   0.520             0.045000        0.000000   \n",
       "3694                   0.000             0.014000        0.000000   \n",
       "\n",
       "      emotions.annoyance  emotions.approval  emotions.confusion  \\\n",
       "0               0.000000           0.100000            0.010000   \n",
       "1               0.005000           0.020000            0.000000   \n",
       "2               0.002857           0.367143            0.001429   \n",
       "3               0.064286           0.022857            0.052857   \n",
       "4               0.010000           0.010000            0.000000   \n",
       "...                  ...                ...                 ...   \n",
       "3690            0.000000           0.030000            0.070000   \n",
       "3691            0.000000           0.060000            0.000000   \n",
       "3692            0.004000           0.616000            0.006000   \n",
       "3693            0.020000           0.377500            0.010000   \n",
       "3694            0.006000           0.470000            0.044000   \n",
       "\n",
       "      emotions.disappointment  emotions.disapproval  emotions.fear  \\\n",
       "0                    0.000000              0.000000       0.000000   \n",
       "1                    0.005000              0.020000       0.255000   \n",
       "2                    0.002857              0.001429       0.000000   \n",
       "3                    0.004286              0.005714       0.164286   \n",
       "4                    0.000000              0.000000       0.000000   \n",
       "...                       ...                   ...            ...   \n",
       "3690                 0.010000              0.410000       0.070000   \n",
       "3691                 0.000000              0.000000       0.030000   \n",
       "3692                 0.004000              0.002000       0.022000   \n",
       "3693                 0.242500              0.005000       0.062500   \n",
       "3694                 0.036000              0.004000       0.008000   \n",
       "\n",
       "      emotions.gratitude  emotions.optimism  emotions.pride  \\\n",
       "0               0.010000           0.960000        0.000000   \n",
       "1               0.010000           0.865000        0.045000   \n",
       "2               0.001429           0.605714        0.081429   \n",
       "3               0.001429           0.231429        0.000000   \n",
       "4               0.000000           0.640000        0.410000   \n",
       "...                  ...                ...             ...   \n",
       "3690            0.000000           0.120000        0.000000   \n",
       "3691            0.000000           1.000000        0.000000   \n",
       "3692            0.006000           0.814000        0.018000   \n",
       "3693            0.062500           0.525000        0.002500   \n",
       "3694            0.004000           0.768000        0.002000   \n",
       "\n",
       "      emotions.surprise  emotions.neutral  num_sentences  company_count  \\\n",
       "0                  0.00          0.060000              1              1   \n",
       "1                  0.00          0.000000              2              1   \n",
       "2                  0.00          0.262857              7              1   \n",
       "3                  0.00          0.141429              7              1   \n",
       "4                  0.03          0.090000              1              1   \n",
       "...                 ...               ...            ...            ...   \n",
       "3690               0.00          0.010000              1              1   \n",
       "3691               0.00          0.000000              1              1   \n",
       "3692               0.00          0.102000              5              1   \n",
       "3693               0.00          0.005000              4              1   \n",
       "3694               0.00          0.020000              5              1   \n",
       "\n",
       "        returns   end_date  cluster  quantile  \n",
       "0           0.0 2016-03-29        1         1  \n",
       "1     13.098404 2016-04-06        1         1  \n",
       "2      1.318956 2016-03-28        1         2  \n",
       "3      9.557344 2016-03-23        0         2  \n",
       "4      7.871537 2016-04-02        1         1  \n",
       "...         ...        ...      ...       ...  \n",
       "3690   3.454194 2024-07-01        1         1  \n",
       "3691   2.202729 2024-06-30        0         1  \n",
       "3692   3.551913 2024-06-24        0         1  \n",
       "3693   1.447997 2024-06-24        0         1  \n",
       "3694   1.687345 2024-07-02        0         2  \n",
       "\n",
       "[3695 rows x 24 columns]"
      ]
     },
     "execution_count": 31,
     "metadata": {},
     "output_type": "execute_result"
    }
   ],
   "source": [
    "def compute_quantiles_per_quarter(df: pd.DataFrame, sentiment_column: str) -> pd.DataFrame:\n",
    "    def preprocess_sentiment(x):\n",
    "        # Add a small random noise to avoid ties in quantile calculation\n",
    "        noise = np.random.normal(0, 1e-9, len(x))\n",
    "        return x + noise\n",
    "    \n",
    "    def calculate_quartiles(x):\n",
    "        try:\n",
    "            x = preprocess_sentiment(x)\n",
    "            # Compute quartiles\n",
    "            return pd.qcut(x, 2, labels=False) + 1\n",
    "        except ValueError:\n",
    "            # Handle cases with insufficient data\n",
    "            return pd.Series(np.nan, index=x.index)\n",
    "    \n",
    "    # Apply quantile calculation within each quarter\n",
    "    df['quantile'] = df.groupby('quarter')[sentiment_column].transform(calculate_quartiles)\n",
    "    \n",
    "    return df\n",
    "\n",
    "events_by_company = compute_quantiles_per_quarter(events_by_company, metric)\n",
    "events_by_company"
   ]
  },
  {
   "cell_type": "markdown",
   "metadata": {},
   "source": [
    "### Calculating and visualizing the portfolio returns\n",
    "\n",
    "As already mentioned, we employ two approaches for portfolio construction: one based on quantiles and the other based on clusters. For each approach, we create both equal-weighted and weighted portfolios based on the provided metric. \n",
    "\n",
    "The function below calculates and adds weights for each universe per quarter. Note that it requires the event DataFrame, the metric, and the portfolio type as inputs, with the portfolio type being crucial for correct grouping to calculate the weights."
   ]
  },
  {
   "cell_type": "code",
   "execution_count": 32,
   "metadata": {},
   "outputs": [],
   "source": [
    "def calculate_weights(df: pd.DataFrame, metric:str = 'num_sentences', portf_type:str = 'quantile')-> pd.DataFrame:\n",
    "    # Normalize sentiment values if there are any negative values\n",
    "    if (df[metric] < 0).any():\n",
    "        scaler = MinMaxScaler()\n",
    "        df['normalized_sentiment'] = scaler.fit_transform(np.array(df[metric]).reshape(-1, 1))\n",
    "        metric = 'normalized_sentiment'\n",
    "    \n",
    "    # Calculate total sentiment value for each (quarter, cluster) combination\n",
    "    total_cluster_value = df.groupby(['quarter', portf_type])[metric].transform('sum')\n",
    "    \n",
    "    # Compute weights as the ratio of individual sentiment to total cluster sentiment\n",
    "    df['weight'] = df[metric] / total_cluster_value\n",
    "    return df"
   ]
  },
  {
   "cell_type": "markdown",
   "metadata": {},
   "source": [
    "Now, that we have all the necessary components for constructing, rebalancing, and calculating the returns of our portfolios, we define the ***rebalance_portfolio_and_calculate_returns*** function. As the name suggests, this function constructs, rebalances, and calculates portfolios based on the specified portfolio types. It returns detailed portfolio rebalancing results, including information on portfolio assets and returns for each quarter, as well as summary results with only the total number of assets and aggregated returns for each quarter."
   ]
  },
  {
   "cell_type": "code",
   "execution_count": 33,
   "metadata": {},
   "outputs": [],
   "source": [
    "def rebalance_portfolio_and_calculate_returns(df: pd.DataFrame, portf_type:str = 'quantile')-> tuple[dict, dict]:\n",
    "    # Drop rows with missing values in the specified columns\n",
    "    df = df.dropna(subset=portf_type).dropna(subset='returns')\n",
    "    \n",
    "    # Initialize dictionaries for detailed and summary portfolio data\n",
    "    portf_detailed = {}\n",
    "    portf_summary = {}\n",
    "    # Map portfolio types to descriptive names\n",
    "    portf_name_dict ={'quantile': {1:'lowest quantile', 2:'highest quantile'},\n",
    "                     'cluster': {0: 'higher mean', 1: 'lower mean'}}\n",
    "    \n",
    "    # Process each unique portfolio type\n",
    "    for portf_name in sorted(df[portf_type].unique()):\n",
    "        portf_data= df[df[portf_type] == portf_name]\n",
    "        port_name_key = portf_name_dict[portf_type][portf_name]\n",
    "        portf_detailed[port_name_key] = []\n",
    "        portf_summary[port_name_key] = []\n",
    "        portf_summary['weighted'] = []\n",
    "\n",
    "        # Process each unique quarter\n",
    "        for quarter in portf_data['quarter'].astype(str).unique():\n",
    "            quarter_data = portf_data[portf_data['quarter'] == quarter]\n",
    "            assets = quarter_data['Instrument'].tolist()\n",
    "            returns = quarter_data['returns'].tolist()\n",
    "\n",
    "            # Calculate weighted average returns if portfolio type is 'quantile' and add to the summary dict. Cluster based approach is equal-weighted only\n",
    "            # if portf_type == 'quantile':\n",
    "            weights = quarter_data['weight'].tolist()\n",
    "            weighted_avg_returns = np.dot(returns, weights)\n",
    "            portf_summary['weighted'].append({\n",
    "                quarter: {\n",
    "                    'return': weighted_avg_returns,\n",
    "                    'n_assets': len(df[df['quarter'] == quarter]['Instrument'].unique())\n",
    "                }\n",
    "            })\n",
    "\n",
    "            # Calculate average returns\n",
    "            avg_return = np.mean(returns)\n",
    "\n",
    "            # Store detailed and summary metrics\n",
    "            portf_detailed[port_name_key].append({\n",
    "                quarter: {\n",
    "                    'assets': assets,\n",
    "                    'returns': returns,\n",
    "                    'avg_return': avg_return\n",
    "                }\n",
    "            })\n",
    "            portf_summary[port_name_key].append({\n",
    "                quarter: {\n",
    "                    'return': avg_return,\n",
    "                    'n_assets': len(assets)\n",
    "                }\n",
    "            })\n",
    "    return portf_detailed, portf_summary\n",
    "\n"
   ]
  },
  {
   "cell_type": "markdown",
   "metadata": {},
   "source": [
    "So, let's now add the weights to our dataset and run the rebalance_portfolio_and_calculate_returns function below for cluster based approach."
   ]
  },
  {
   "cell_type": "code",
   "execution_count": 34,
   "metadata": {},
   "outputs": [
    {
     "name": "stdout",
     "output_type": "stream",
     "text": [
      "portfolio_names: ['higher mean', 'weighted', 'lower mean']\n"
     ]
    },
    {
     "data": {
      "text/plain": [
       "{'higher mean': [{'2016Q1': {'return': 9.557344064386323, 'n_assets': 1}},\n",
       "  {'2016Q2': {'return': 6.251691495663083, 'n_assets': 4}},\n",
       "  {'2016Q3': {'return': -2.8189479392783094, 'n_assets': 7}},\n",
       "  {'2016Q4': {'return': 5.7607139574025155, 'n_assets': 11}},\n",
       "  {'2017Q1': {'return': -1.667404459804022, 'n_assets': 7}},\n",
       "  {'2017Q2': {'return': 1.0206453400895847, 'n_assets': 16}},\n",
       "  {'2017Q3': {'return': 6.995315157260509, 'n_assets': 25}},\n",
       "  {'2017Q4': {'return': 2.5346743756131493, 'n_assets': 20}},\n",
       "  {'2018Q1': {'return': -1.2209338774242198, 'n_assets': 50}},\n",
       "  {'2018Q2': {'return': 2.287648159931029, 'n_assets': 9}},\n",
       "  {'2018Q3': {'return': -3.732801460371706, 'n_assets': 65}},\n",
       "  {'2018Q4': {'return': -5.690908106534571, 'n_assets': 3}},\n",
       "  {'2019Q1': {'return': 6.654875820628354, 'n_assets': 29}},\n",
       "  {'2019Q2': {'return': -1.637279427507174, 'n_assets': 8}},\n",
       "  {'2019Q3': {'return': 0.6084732097130838, 'n_assets': 46}},\n",
       "  {'2019Q4': {'return': 5.539713900041456, 'n_assets': 31}},\n",
       "  {'2020Q1': {'return': -13.179567141003245, 'n_assets': 22}},\n",
       "  {'2020Q2': {'return': 8.006573020247625, 'n_assets': 39}},\n",
       "  {'2020Q3': {'return': 1.8403648577638132, 'n_assets': 7}},\n",
       "  {'2020Q4': {'return': 14.838093034824038, 'n_assets': 47}},\n",
       "  {'2021Q1': {'return': 7.208991821627902, 'n_assets': 10}},\n",
       "  {'2021Q2': {'return': 8.97650430901885, 'n_assets': 120}},\n",
       "  {'2021Q3': {'return': 1.8056741545201036, 'n_assets': 5}},\n",
       "  {'2021Q4': {'return': -2.356123474424056, 'n_assets': 69}},\n",
       "  {'2022Q1': {'return': 8.694267490895157, 'n_assets': 4}},\n",
       "  {'2022Q2': {'return': -21.362496080275946, 'n_assets': 1}},\n",
       "  {'2022Q3': {'return': -9.594678501513362, 'n_assets': 29}},\n",
       "  {'2022Q4': {'return': -2.756191053633301, 'n_assets': 14}},\n",
       "  {'2023Q1': {'return': -2.825496414708702, 'n_assets': 116}},\n",
       "  {'2023Q2': {'return': 8.330403116196363, 'n_assets': 93}},\n",
       "  {'2023Q3': {'return': -5.556734453626643, 'n_assets': 135}},\n",
       "  {'2023Q4': {'return': 14.774174884014837, 'n_assets': 205}},\n",
       "  {'2024Q1': {'return': 2.3085705319857395, 'n_assets': 187}},\n",
       "  {'2024Q2': {'return': 1.0894336668392754, 'n_assets': 255}}],\n",
       " 'weighted': [{'2016Q1': {'return': 6.278153214956646, 'n_assets': 9}},\n",
       "  {'2016Q2': {'return': 11.172531840603355, 'n_assets': 8}},\n",
       "  {'2016Q3': {'return': 4.009377473666411, 'n_assets': 14}},\n",
       "  {'2016Q4': {'return': 12.358170394833682, 'n_assets': 28}},\n",
       "  {'2017Q1': {'return': -0.241605569914697, 'n_assets': 26}},\n",
       "  {'2017Q2': {'return': 7.4842990777695055, 'n_assets': 37}},\n",
       "  {'2017Q3': {'return': 4.604234656337272, 'n_assets': 48}},\n",
       "  {'2017Q4': {'return': 3.1097803542165905, 'n_assets': 46}},\n",
       "  {'2018Q1': {'return': 11.016901522413711, 'n_assets': 51}},\n",
       "  {'2018Q2': {'return': 4.555841106459379, 'n_assets': 71}},\n",
       "  {'2018Q3': {'return': -2.5850358626043177, 'n_assets': 67}},\n",
       "  {'2018Q4': {'return': -1.1572038383567425, 'n_assets': 65}},\n",
       "  {'2019Q1': {'return': 7.450281346502628, 'n_assets': 74}},\n",
       "  {'2019Q2': {'return': 4.814610935024916, 'n_assets': 82}},\n",
       "  {'2019Q3': {'return': -4.618783959302137, 'n_assets': 77}},\n",
       "  {'2019Q4': {'return': 5.851642166671562, 'n_assets': 83}},\n",
       "  {'2020Q1': {'return': -11.647733609539582, 'n_assets': 94}},\n",
       "  {'2020Q2': {'return': 16.93603575535064, 'n_assets': 69}},\n",
       "  {'2020Q3': {'return': 0.3188085672178667, 'n_assets': 80}},\n",
       "  {'2020Q4': {'return': 16.870090966153473, 'n_assets': 100}},\n",
       "  {'2021Q1': {'return': 3.956846313952614, 'n_assets': 103}},\n",
       "  {'2021Q2': {'return': 8.095601656059333, 'n_assets': 124}},\n",
       "  {'2021Q3': {'return': 1.7591456579741733, 'n_assets': 112}},\n",
       "  {'2021Q4': {'return': -8.156536917758885, 'n_assets': 117}},\n",
       "  {'2022Q1': {'return': -4.227245233452987, 'n_assets': 122}},\n",
       "  {'2022Q2': {'return': -5.668289516668633, 'n_assets': 128}},\n",
       "  {'2022Q3': {'return': -11.580573513050615, 'n_assets': 116}},\n",
       "  {'2022Q4': {'return': 6.25867399989272, 'n_assets': 104}},\n",
       "  {'2023Q1': {'return': 0.3385697132645809, 'n_assets': 165}},\n",
       "  {'2023Q2': {'return': 14.261872796398837, 'n_assets': 235}},\n",
       "  {'2023Q3': {'return': -4.356639042311647, 'n_assets': 317}},\n",
       "  {'2023Q4': {'return': 15.025906735751294, 'n_assets': 206}},\n",
       "  {'2024Q1': {'return': 1.126452031734266, 'n_assets': 340}},\n",
       "  {'2024Q2': {'return': 4.348541778085538, 'n_assets': 358}}],\n",
       " 'lower mean': [{'2016Q1': {'return': 5.781012238225721, 'n_assets': 8}},\n",
       "  {'2016Q2': {'return': 4.457461963427447, 'n_assets': 4}},\n",
       "  {'2016Q3': {'return': 2.498555546172605, 'n_assets': 7}},\n",
       "  {'2016Q4': {'return': 3.9065001390988234, 'n_assets': 17}},\n",
       "  {'2017Q1': {'return': 1.4484793420743605, 'n_assets': 19}},\n",
       "  {'2017Q2': {'return': 2.3887176795641207, 'n_assets': 21}},\n",
       "  {'2017Q3': {'return': 1.9927607617667722, 'n_assets': 23}},\n",
       "  {'2017Q4': {'return': 3.058630150894592, 'n_assets': 26}},\n",
       "  {'2018Q1': {'return': 11.016901522413711, 'n_assets': 1}},\n",
       "  {'2018Q2': {'return': 3.137339833907446, 'n_assets': 62}},\n",
       "  {'2018Q3': {'return': -0.0887339181300768, 'n_assets': 2}},\n",
       "  {'2018Q4': {'return': -2.7510890185480785, 'n_assets': 62}},\n",
       "  {'2019Q1': {'return': 6.5129653724686545, 'n_assets': 45}},\n",
       "  {'2019Q2': {'return': 3.8023910287389655, 'n_assets': 74}},\n",
       "  {'2019Q3': {'return': -3.514190964904242, 'n_assets': 32}},\n",
       "  {'2019Q4': {'return': 7.772309101564438, 'n_assets': 52}},\n",
       "  {'2020Q1': {'return': -14.120406523739858, 'n_assets': 72}},\n",
       "  {'2020Q2': {'return': 14.2936459530318, 'n_assets': 30}},\n",
       "  {'2020Q3': {'return': -0.22366821757349473, 'n_assets': 73}},\n",
       "  {'2020Q4': {'return': 14.600524916960731, 'n_assets': 53}},\n",
       "  {'2021Q1': {'return': 5.253136869859318, 'n_assets': 94}},\n",
       "  {'2021Q2': {'return': 8.900806367275969, 'n_assets': 4}},\n",
       "  {'2021Q3': {'return': 0.11181552784960717, 'n_assets': 107}},\n",
       "  {'2021Q4': {'return': -5.763616140666806, 'n_assets': 48}},\n",
       "  {'2022Q1': {'return': -3.8480759018648274, 'n_assets': 118}},\n",
       "  {'2022Q2': {'return': -3.7864483198689216, 'n_assets': 128}},\n",
       "  {'2022Q3': {'return': -11.85530381259332, 'n_assets': 87}},\n",
       "  {'2022Q4': {'return': 2.3808638529305726, 'n_assets': 90}},\n",
       "  {'2023Q1': {'return': -3.5139800889903325, 'n_assets': 49}},\n",
       "  {'2023Q2': {'return': 12.879240088454452, 'n_assets': 143}},\n",
       "  {'2023Q3': {'return': -5.466137223316891, 'n_assets': 182}},\n",
       "  {'2023Q4': {'return': 15.025906735751294, 'n_assets': 1}},\n",
       "  {'2024Q1': {'return': 1.1826714856126301, 'n_assets': 155}},\n",
       "  {'2024Q2': {'return': 2.8895566477727037, 'n_assets': 103}}]}"
      ]
     },
     "execution_count": 34,
     "metadata": {},
     "output_type": "execute_result"
    }
   ],
   "source": [
    "portf_type = 'cluster'\n",
    "events_by_company = calculate_weights(events_by_company, metric, portf_type)\n",
    "portfolio_detailed_view, portfolio_summary_view = rebalance_portfolio_and_calculate_returns(events_by_company, portf_type)\n",
    "print('portfolio_names:', list(portfolio_summary_view.keys()))\n",
    "portfolio_summary_view"
   ]
  },
  {
   "cell_type": "markdown",
   "metadata": {},
   "source": [
    "The dictionary above contains information about the returns and number of assets per quarter for each portfolio. Below, we define ***summarize_results_by*** function, which transforms the portfolio_summary_view dictionary into a dataframe for subsequent visualisation of the results."
   ]
  },
  {
   "cell_type": "code",
   "execution_count": 35,
   "metadata": {},
   "outputs": [],
   "source": [
    "def summarize_results_by(portfolio_summary:dict, port_name:str, by:str) -> pd.DataFrame:\n",
    "    df = pd.DataFrame()\n",
    "    # Iterate through each key in the portfolio summary\n",
    "    for key in portfolio_summary.keys():\n",
    "        key_df = pd.DataFrame(portfolio_summary[key])\n",
    "        \n",
    "        # Extract diagonal values and the relevant data\n",
    "        diagonal_values = np.diag(key_df)\n",
    "        data = [ret[by] for ret in diagonal_values]\n",
    "        \n",
    "        # Create a new DataFrame with extracted data\n",
    "        new_df = pd.DataFrame([data], columns=key_df.columns)\n",
    "        new_df[port_name] = key\n",
    "        \n",
    "        # Concatenate new data to the main DataFrame\n",
    "        df = pd.concat([df, new_df])\n",
    "    \n",
    "    # Set the specified portfolio name as the index\n",
    "    df = df.set_index(port_name)\n",
    "    \n",
    "    return df"
   ]
  },
  {
   "cell_type": "markdown",
   "metadata": {},
   "source": [
    "Further, we run this function for the number of assets and returns (with cumulative sums applied to returns) to have the respective dataframes"
   ]
  },
  {
   "cell_type": "code",
   "execution_count": 36,
   "metadata": {},
   "outputs": [
    {
     "data": {
      "text/html": [
       "<div>\n",
       "<style scoped>\n",
       "    .dataframe tbody tr th:only-of-type {\n",
       "        vertical-align: middle;\n",
       "    }\n",
       "\n",
       "    .dataframe tbody tr th {\n",
       "        vertical-align: top;\n",
       "    }\n",
       "\n",
       "    .dataframe thead th {\n",
       "        text-align: right;\n",
       "    }\n",
       "</style>\n",
       "<table border=\"1\" class=\"dataframe\">\n",
       "  <thead>\n",
       "    <tr style=\"text-align: right;\">\n",
       "      <th>cluster</th>\n",
       "      <th>higher mean</th>\n",
       "      <th>weighted</th>\n",
       "      <th>lower mean</th>\n",
       "    </tr>\n",
       "  </thead>\n",
       "  <tbody>\n",
       "    <tr>\n",
       "      <th>2016Q1</th>\n",
       "      <td>9.557344</td>\n",
       "      <td>6.278153</td>\n",
       "      <td>5.781012</td>\n",
       "    </tr>\n",
       "    <tr>\n",
       "      <th>2016Q2</th>\n",
       "      <td>15.809036</td>\n",
       "      <td>17.450685</td>\n",
       "      <td>10.238474</td>\n",
       "    </tr>\n",
       "    <tr>\n",
       "      <th>2016Q3</th>\n",
       "      <td>12.990088</td>\n",
       "      <td>21.460063</td>\n",
       "      <td>12.737030</td>\n",
       "    </tr>\n",
       "    <tr>\n",
       "      <th>2016Q4</th>\n",
       "      <td>18.750802</td>\n",
       "      <td>33.818233</td>\n",
       "      <td>16.643530</td>\n",
       "    </tr>\n",
       "    <tr>\n",
       "      <th>2017Q1</th>\n",
       "      <td>17.083397</td>\n",
       "      <td>33.576627</td>\n",
       "      <td>18.092009</td>\n",
       "    </tr>\n",
       "    <tr>\n",
       "      <th>2017Q2</th>\n",
       "      <td>18.104042</td>\n",
       "      <td>41.060926</td>\n",
       "      <td>20.480727</td>\n",
       "    </tr>\n",
       "    <tr>\n",
       "      <th>2017Q3</th>\n",
       "      <td>25.099358</td>\n",
       "      <td>45.665161</td>\n",
       "      <td>22.473488</td>\n",
       "    </tr>\n",
       "    <tr>\n",
       "      <th>2017Q4</th>\n",
       "      <td>27.634032</td>\n",
       "      <td>48.774941</td>\n",
       "      <td>25.532118</td>\n",
       "    </tr>\n",
       "    <tr>\n",
       "      <th>2018Q1</th>\n",
       "      <td>26.413098</td>\n",
       "      <td>59.791843</td>\n",
       "      <td>36.549019</td>\n",
       "    </tr>\n",
       "    <tr>\n",
       "      <th>2018Q2</th>\n",
       "      <td>28.700746</td>\n",
       "      <td>64.347684</td>\n",
       "      <td>39.686359</td>\n",
       "    </tr>\n",
       "    <tr>\n",
       "      <th>2018Q3</th>\n",
       "      <td>24.967945</td>\n",
       "      <td>61.762648</td>\n",
       "      <td>39.597625</td>\n",
       "    </tr>\n",
       "    <tr>\n",
       "      <th>2018Q4</th>\n",
       "      <td>19.277037</td>\n",
       "      <td>60.605444</td>\n",
       "      <td>36.846536</td>\n",
       "    </tr>\n",
       "    <tr>\n",
       "      <th>2019Q1</th>\n",
       "      <td>25.931913</td>\n",
       "      <td>68.055726</td>\n",
       "      <td>43.359502</td>\n",
       "    </tr>\n",
       "    <tr>\n",
       "      <th>2019Q2</th>\n",
       "      <td>24.294633</td>\n",
       "      <td>72.870337</td>\n",
       "      <td>47.161893</td>\n",
       "    </tr>\n",
       "    <tr>\n",
       "      <th>2019Q3</th>\n",
       "      <td>24.903106</td>\n",
       "      <td>68.251553</td>\n",
       "      <td>43.647702</td>\n",
       "    </tr>\n",
       "    <tr>\n",
       "      <th>2019Q4</th>\n",
       "      <td>30.442820</td>\n",
       "      <td>74.103195</td>\n",
       "      <td>51.420011</td>\n",
       "    </tr>\n",
       "    <tr>\n",
       "      <th>2020Q1</th>\n",
       "      <td>17.263253</td>\n",
       "      <td>62.455461</td>\n",
       "      <td>37.299604</td>\n",
       "    </tr>\n",
       "    <tr>\n",
       "      <th>2020Q2</th>\n",
       "      <td>25.269826</td>\n",
       "      <td>79.391497</td>\n",
       "      <td>51.593250</td>\n",
       "    </tr>\n",
       "    <tr>\n",
       "      <th>2020Q3</th>\n",
       "      <td>27.110191</td>\n",
       "      <td>79.710306</td>\n",
       "      <td>51.369582</td>\n",
       "    </tr>\n",
       "    <tr>\n",
       "      <th>2020Q4</th>\n",
       "      <td>41.948284</td>\n",
       "      <td>96.580397</td>\n",
       "      <td>65.970107</td>\n",
       "    </tr>\n",
       "    <tr>\n",
       "      <th>2021Q1</th>\n",
       "      <td>49.157276</td>\n",
       "      <td>100.537243</td>\n",
       "      <td>71.223244</td>\n",
       "    </tr>\n",
       "    <tr>\n",
       "      <th>2021Q2</th>\n",
       "      <td>58.133780</td>\n",
       "      <td>108.632845</td>\n",
       "      <td>80.124050</td>\n",
       "    </tr>\n",
       "    <tr>\n",
       "      <th>2021Q3</th>\n",
       "      <td>59.939454</td>\n",
       "      <td>110.391990</td>\n",
       "      <td>80.235866</td>\n",
       "    </tr>\n",
       "    <tr>\n",
       "      <th>2021Q4</th>\n",
       "      <td>57.583331</td>\n",
       "      <td>102.235453</td>\n",
       "      <td>74.472250</td>\n",
       "    </tr>\n",
       "    <tr>\n",
       "      <th>2022Q1</th>\n",
       "      <td>66.277598</td>\n",
       "      <td>98.008208</td>\n",
       "      <td>70.624174</td>\n",
       "    </tr>\n",
       "    <tr>\n",
       "      <th>2022Q2</th>\n",
       "      <td>44.915102</td>\n",
       "      <td>92.339918</td>\n",
       "      <td>66.837725</td>\n",
       "    </tr>\n",
       "    <tr>\n",
       "      <th>2022Q3</th>\n",
       "      <td>35.320424</td>\n",
       "      <td>80.759345</td>\n",
       "      <td>54.982421</td>\n",
       "    </tr>\n",
       "    <tr>\n",
       "      <th>2022Q4</th>\n",
       "      <td>32.564233</td>\n",
       "      <td>87.018019</td>\n",
       "      <td>57.363285</td>\n",
       "    </tr>\n",
       "    <tr>\n",
       "      <th>2023Q1</th>\n",
       "      <td>29.738736</td>\n",
       "      <td>87.356589</td>\n",
       "      <td>53.849305</td>\n",
       "    </tr>\n",
       "    <tr>\n",
       "      <th>2023Q2</th>\n",
       "      <td>38.069139</td>\n",
       "      <td>101.618461</td>\n",
       "      <td>66.728545</td>\n",
       "    </tr>\n",
       "    <tr>\n",
       "      <th>2023Q3</th>\n",
       "      <td>32.512405</td>\n",
       "      <td>97.261822</td>\n",
       "      <td>61.262408</td>\n",
       "    </tr>\n",
       "    <tr>\n",
       "      <th>2023Q4</th>\n",
       "      <td>47.286580</td>\n",
       "      <td>112.287729</td>\n",
       "      <td>76.288315</td>\n",
       "    </tr>\n",
       "    <tr>\n",
       "      <th>2024Q1</th>\n",
       "      <td>49.595150</td>\n",
       "      <td>113.414181</td>\n",
       "      <td>77.470986</td>\n",
       "    </tr>\n",
       "    <tr>\n",
       "      <th>2024Q2</th>\n",
       "      <td>50.684584</td>\n",
       "      <td>117.762723</td>\n",
       "      <td>80.360543</td>\n",
       "    </tr>\n",
       "  </tbody>\n",
       "</table>\n",
       "</div>"
      ],
      "text/plain": [
       "cluster  higher mean    weighted  lower mean\n",
       "2016Q1      9.557344    6.278153    5.781012\n",
       "2016Q2     15.809036   17.450685   10.238474\n",
       "2016Q3     12.990088   21.460063   12.737030\n",
       "2016Q4     18.750802   33.818233   16.643530\n",
       "2017Q1     17.083397   33.576627   18.092009\n",
       "2017Q2     18.104042   41.060926   20.480727\n",
       "2017Q3     25.099358   45.665161   22.473488\n",
       "2017Q4     27.634032   48.774941   25.532118\n",
       "2018Q1     26.413098   59.791843   36.549019\n",
       "2018Q2     28.700746   64.347684   39.686359\n",
       "2018Q3     24.967945   61.762648   39.597625\n",
       "2018Q4     19.277037   60.605444   36.846536\n",
       "2019Q1     25.931913   68.055726   43.359502\n",
       "2019Q2     24.294633   72.870337   47.161893\n",
       "2019Q3     24.903106   68.251553   43.647702\n",
       "2019Q4     30.442820   74.103195   51.420011\n",
       "2020Q1     17.263253   62.455461   37.299604\n",
       "2020Q2     25.269826   79.391497   51.593250\n",
       "2020Q3     27.110191   79.710306   51.369582\n",
       "2020Q4     41.948284   96.580397   65.970107\n",
       "2021Q1     49.157276  100.537243   71.223244\n",
       "2021Q2     58.133780  108.632845   80.124050\n",
       "2021Q3     59.939454  110.391990   80.235866\n",
       "2021Q4     57.583331  102.235453   74.472250\n",
       "2022Q1     66.277598   98.008208   70.624174\n",
       "2022Q2     44.915102   92.339918   66.837725\n",
       "2022Q3     35.320424   80.759345   54.982421\n",
       "2022Q4     32.564233   87.018019   57.363285\n",
       "2023Q1     29.738736   87.356589   53.849305\n",
       "2023Q2     38.069139  101.618461   66.728545\n",
       "2023Q3     32.512405   97.261822   61.262408\n",
       "2023Q4     47.286580  112.287729   76.288315\n",
       "2024Q1     49.595150  113.414181   77.470986\n",
       "2024Q2     50.684584  117.762723   80.360543"
      ]
     },
     "execution_count": 36,
     "metadata": {},
     "output_type": "execute_result"
    }
   ],
   "source": [
    "assets = summarize_results_by(portfolio_summary_view, portf_type, 'n_assets').T\n",
    "rets =  summarize_results_by(portfolio_summary_view, portf_type, 'return').T.cumsum()\n",
    "rets"
   ]
  },
  {
   "cell_type": "markdown",
   "metadata": {},
   "source": [
    "Finally, we show the cumulative returns along with the number of assets per portfolio over the analysis period."
   ]
  },
  {
   "cell_type": "code",
   "execution_count": 37,
   "metadata": {},
   "outputs": [
    {
     "data": {
      "application/vnd.plotly.v1+json": {
       "config": {
        "plotlyServerURL": "https://plot.ly"
       },
       "data": [
        {
         "mode": "lines",
         "name": "higher mean - return",
         "type": "scatter",
         "x": [
          "2016Q1",
          "2016Q2",
          "2016Q3",
          "2016Q4",
          "2017Q1",
          "2017Q2",
          "2017Q3",
          "2017Q4",
          "2018Q1",
          "2018Q2",
          "2018Q3",
          "2018Q4",
          "2019Q1",
          "2019Q2",
          "2019Q3",
          "2019Q4",
          "2020Q1",
          "2020Q2",
          "2020Q3",
          "2020Q4",
          "2021Q1",
          "2021Q2",
          "2021Q3",
          "2021Q4",
          "2022Q1",
          "2022Q2",
          "2022Q3",
          "2022Q4",
          "2023Q1",
          "2023Q2",
          "2023Q3",
          "2023Q4",
          "2024Q1",
          "2024Q2"
         ],
         "xaxis": "x",
         "y": [
          9.557344064386323,
          15.809035560049406,
          12.990087620771096,
          18.75080157817361,
          17.08339711836959,
          18.104042458459173,
          25.099357615719683,
          27.634031991332833,
          26.413098113908614,
          28.70074627383964,
          24.967944813467934,
          19.277036706933362,
          25.931912527561717,
          24.294633100054543,
          24.903106309767626,
          30.44282020980908,
          17.263253068805838,
          25.269826089053463,
          27.110190946817276,
          41.94828398164131,
          49.157275803269215,
          58.133780112288065,
          59.93945426680817,
          57.58333079238412,
          66.27759828327927,
          44.91510220300333,
          35.320423701489965,
          32.56423264785666,
          29.73873623314796,
          38.069139349344326,
          32.51240489571768,
          47.28657977973252,
          49.59515031171826,
          50.684583978557534
         ],
         "yaxis": "y2"
        },
        {
         "mode": "lines",
         "name": "weighted - return",
         "type": "scatter",
         "x": [
          "2016Q1",
          "2016Q2",
          "2016Q3",
          "2016Q4",
          "2017Q1",
          "2017Q2",
          "2017Q3",
          "2017Q4",
          "2018Q1",
          "2018Q2",
          "2018Q3",
          "2018Q4",
          "2019Q1",
          "2019Q2",
          "2019Q3",
          "2019Q4",
          "2020Q1",
          "2020Q2",
          "2020Q3",
          "2020Q4",
          "2021Q1",
          "2021Q2",
          "2021Q3",
          "2021Q4",
          "2022Q1",
          "2022Q2",
          "2022Q3",
          "2022Q4",
          "2023Q1",
          "2023Q2",
          "2023Q3",
          "2023Q4",
          "2024Q1",
          "2024Q2"
         ],
         "xaxis": "x",
         "y": [
          6.278153214956646,
          17.45068505556,
          21.460062529226413,
          33.8182329240601,
          33.5766273541454,
          41.06092643191491,
          45.66516108825218,
          48.774941442468766,
          59.79184296488248,
          64.34768407134186,
          61.762648208737545,
          60.6054443703808,
          68.05572571688343,
          72.87033665190835,
          68.25155269260621,
          74.10319485927778,
          62.45546124973819,
          79.39149700508884,
          79.71030557230671,
          96.58039653846018,
          100.53724285241279,
          108.63284450847212,
          110.39199016644629,
          102.2354532486874,
          98.00820801523442,
          92.33991849856578,
          80.75934498551517,
          87.01801898540789,
          87.35658869867247,
          101.6184614950713,
          97.26182245275966,
          112.28772918851095,
          113.41418122024521,
          117.76272299833074
         ],
         "yaxis": "y2"
        },
        {
         "mode": "lines",
         "name": "lower mean - return",
         "type": "scatter",
         "x": [
          "2016Q1",
          "2016Q2",
          "2016Q3",
          "2016Q4",
          "2017Q1",
          "2017Q2",
          "2017Q3",
          "2017Q4",
          "2018Q1",
          "2018Q2",
          "2018Q3",
          "2018Q4",
          "2019Q1",
          "2019Q2",
          "2019Q3",
          "2019Q4",
          "2020Q1",
          "2020Q2",
          "2020Q3",
          "2020Q4",
          "2021Q1",
          "2021Q2",
          "2021Q3",
          "2021Q4",
          "2022Q1",
          "2022Q2",
          "2022Q3",
          "2022Q4",
          "2023Q1",
          "2023Q2",
          "2023Q3",
          "2023Q4",
          "2024Q1",
          "2024Q2"
         ],
         "xaxis": "x",
         "y": [
          5.781012238225721,
          10.238474201653169,
          12.737029747825774,
          16.643529886924597,
          18.092009228998958,
          20.480726908563078,
          22.47348767032985,
          25.53211782122444,
          36.54901934363815,
          39.6863591775456,
          39.59762525941552,
          36.846536240867444,
          43.3595016133361,
          47.16189264207507,
          43.64770167717082,
          51.42001077873526,
          37.2996042549954,
          51.5932502080272,
          51.3695819904537,
          65.97010690741443,
          71.22324377727375,
          80.12405014454973,
          80.23586567239933,
          74.47224953173252,
          70.62417362986768,
          66.83772530999876,
          54.98242149740544,
          57.363285350336014,
          53.849305261345684,
          66.72854534980013,
          61.26240812648324,
          76.28831486223453,
          77.47098634784716,
          80.36054299561987
         ],
         "yaxis": "y2"
        },
        {
         "name": "higher mean - n_assets",
         "type": "bar",
         "x": [
          "2016Q1",
          "2016Q2",
          "2016Q3",
          "2016Q4",
          "2017Q1",
          "2017Q2",
          "2017Q3",
          "2017Q4",
          "2018Q1",
          "2018Q2",
          "2018Q3",
          "2018Q4",
          "2019Q1",
          "2019Q2",
          "2019Q3",
          "2019Q4",
          "2020Q1",
          "2020Q2",
          "2020Q3",
          "2020Q4",
          "2021Q1",
          "2021Q2",
          "2021Q3",
          "2021Q4",
          "2022Q1",
          "2022Q2",
          "2022Q3",
          "2022Q4",
          "2023Q1",
          "2023Q2",
          "2023Q3",
          "2023Q4",
          "2024Q1",
          "2024Q2"
         ],
         "xaxis": "x",
         "y": [
          1,
          4,
          7,
          11,
          7,
          16,
          25,
          20,
          50,
          9,
          65,
          3,
          29,
          8,
          46,
          31,
          22,
          39,
          7,
          47,
          10,
          120,
          5,
          69,
          4,
          1,
          29,
          14,
          116,
          93,
          135,
          205,
          187,
          255
         ],
         "yaxis": "y"
        },
        {
         "name": "lower mean - n_assets",
         "type": "bar",
         "x": [
          "2016Q1",
          "2016Q2",
          "2016Q3",
          "2016Q4",
          "2017Q1",
          "2017Q2",
          "2017Q3",
          "2017Q4",
          "2018Q1",
          "2018Q2",
          "2018Q3",
          "2018Q4",
          "2019Q1",
          "2019Q2",
          "2019Q3",
          "2019Q4",
          "2020Q1",
          "2020Q2",
          "2020Q3",
          "2020Q4",
          "2021Q1",
          "2021Q2",
          "2021Q3",
          "2021Q4",
          "2022Q1",
          "2022Q2",
          "2022Q3",
          "2022Q4",
          "2023Q1",
          "2023Q2",
          "2023Q3",
          "2023Q4",
          "2024Q1",
          "2024Q2"
         ],
         "xaxis": "x",
         "y": [
          8,
          4,
          7,
          17,
          19,
          21,
          23,
          26,
          1,
          62,
          2,
          62,
          45,
          74,
          32,
          52,
          72,
          30,
          73,
          53,
          94,
          4,
          107,
          48,
          118,
          128,
          87,
          90,
          49,
          143,
          182,
          1,
          155,
          103
         ],
         "yaxis": "y"
        }
       ],
       "layout": {
        "legend": {
         "title": {
          "text": "Features"
         }
        },
        "template": {
         "data": {
          "bar": [
           {
            "error_x": {
             "color": "#2a3f5f"
            },
            "error_y": {
             "color": "#2a3f5f"
            },
            "marker": {
             "line": {
              "color": "#E5ECF6",
              "width": 0.5
             },
             "pattern": {
              "fillmode": "overlay",
              "size": 10,
              "solidity": 0.2
             }
            },
            "type": "bar"
           }
          ],
          "barpolar": [
           {
            "marker": {
             "line": {
              "color": "#E5ECF6",
              "width": 0.5
             },
             "pattern": {
              "fillmode": "overlay",
              "size": 10,
              "solidity": 0.2
             }
            },
            "type": "barpolar"
           }
          ],
          "carpet": [
           {
            "aaxis": {
             "endlinecolor": "#2a3f5f",
             "gridcolor": "white",
             "linecolor": "white",
             "minorgridcolor": "white",
             "startlinecolor": "#2a3f5f"
            },
            "baxis": {
             "endlinecolor": "#2a3f5f",
             "gridcolor": "white",
             "linecolor": "white",
             "minorgridcolor": "white",
             "startlinecolor": "#2a3f5f"
            },
            "type": "carpet"
           }
          ],
          "choropleth": [
           {
            "colorbar": {
             "outlinewidth": 0,
             "ticks": ""
            },
            "type": "choropleth"
           }
          ],
          "contour": [
           {
            "colorbar": {
             "outlinewidth": 0,
             "ticks": ""
            },
            "colorscale": [
             [
              0,
              "#0d0887"
             ],
             [
              0.1111111111111111,
              "#46039f"
             ],
             [
              0.2222222222222222,
              "#7201a8"
             ],
             [
              0.3333333333333333,
              "#9c179e"
             ],
             [
              0.4444444444444444,
              "#bd3786"
             ],
             [
              0.5555555555555556,
              "#d8576b"
             ],
             [
              0.6666666666666666,
              "#ed7953"
             ],
             [
              0.7777777777777778,
              "#fb9f3a"
             ],
             [
              0.8888888888888888,
              "#fdca26"
             ],
             [
              1,
              "#f0f921"
             ]
            ],
            "type": "contour"
           }
          ],
          "contourcarpet": [
           {
            "colorbar": {
             "outlinewidth": 0,
             "ticks": ""
            },
            "type": "contourcarpet"
           }
          ],
          "heatmap": [
           {
            "colorbar": {
             "outlinewidth": 0,
             "ticks": ""
            },
            "colorscale": [
             [
              0,
              "#0d0887"
             ],
             [
              0.1111111111111111,
              "#46039f"
             ],
             [
              0.2222222222222222,
              "#7201a8"
             ],
             [
              0.3333333333333333,
              "#9c179e"
             ],
             [
              0.4444444444444444,
              "#bd3786"
             ],
             [
              0.5555555555555556,
              "#d8576b"
             ],
             [
              0.6666666666666666,
              "#ed7953"
             ],
             [
              0.7777777777777778,
              "#fb9f3a"
             ],
             [
              0.8888888888888888,
              "#fdca26"
             ],
             [
              1,
              "#f0f921"
             ]
            ],
            "type": "heatmap"
           }
          ],
          "heatmapgl": [
           {
            "colorbar": {
             "outlinewidth": 0,
             "ticks": ""
            },
            "colorscale": [
             [
              0,
              "#0d0887"
             ],
             [
              0.1111111111111111,
              "#46039f"
             ],
             [
              0.2222222222222222,
              "#7201a8"
             ],
             [
              0.3333333333333333,
              "#9c179e"
             ],
             [
              0.4444444444444444,
              "#bd3786"
             ],
             [
              0.5555555555555556,
              "#d8576b"
             ],
             [
              0.6666666666666666,
              "#ed7953"
             ],
             [
              0.7777777777777778,
              "#fb9f3a"
             ],
             [
              0.8888888888888888,
              "#fdca26"
             ],
             [
              1,
              "#f0f921"
             ]
            ],
            "type": "heatmapgl"
           }
          ],
          "histogram": [
           {
            "marker": {
             "pattern": {
              "fillmode": "overlay",
              "size": 10,
              "solidity": 0.2
             }
            },
            "type": "histogram"
           }
          ],
          "histogram2d": [
           {
            "colorbar": {
             "outlinewidth": 0,
             "ticks": ""
            },
            "colorscale": [
             [
              0,
              "#0d0887"
             ],
             [
              0.1111111111111111,
              "#46039f"
             ],
             [
              0.2222222222222222,
              "#7201a8"
             ],
             [
              0.3333333333333333,
              "#9c179e"
             ],
             [
              0.4444444444444444,
              "#bd3786"
             ],
             [
              0.5555555555555556,
              "#d8576b"
             ],
             [
              0.6666666666666666,
              "#ed7953"
             ],
             [
              0.7777777777777778,
              "#fb9f3a"
             ],
             [
              0.8888888888888888,
              "#fdca26"
             ],
             [
              1,
              "#f0f921"
             ]
            ],
            "type": "histogram2d"
           }
          ],
          "histogram2dcontour": [
           {
            "colorbar": {
             "outlinewidth": 0,
             "ticks": ""
            },
            "colorscale": [
             [
              0,
              "#0d0887"
             ],
             [
              0.1111111111111111,
              "#46039f"
             ],
             [
              0.2222222222222222,
              "#7201a8"
             ],
             [
              0.3333333333333333,
              "#9c179e"
             ],
             [
              0.4444444444444444,
              "#bd3786"
             ],
             [
              0.5555555555555556,
              "#d8576b"
             ],
             [
              0.6666666666666666,
              "#ed7953"
             ],
             [
              0.7777777777777778,
              "#fb9f3a"
             ],
             [
              0.8888888888888888,
              "#fdca26"
             ],
             [
              1,
              "#f0f921"
             ]
            ],
            "type": "histogram2dcontour"
           }
          ],
          "mesh3d": [
           {
            "colorbar": {
             "outlinewidth": 0,
             "ticks": ""
            },
            "type": "mesh3d"
           }
          ],
          "parcoords": [
           {
            "line": {
             "colorbar": {
              "outlinewidth": 0,
              "ticks": ""
             }
            },
            "type": "parcoords"
           }
          ],
          "pie": [
           {
            "automargin": true,
            "type": "pie"
           }
          ],
          "scatter": [
           {
            "fillpattern": {
             "fillmode": "overlay",
             "size": 10,
             "solidity": 0.2
            },
            "type": "scatter"
           }
          ],
          "scatter3d": [
           {
            "line": {
             "colorbar": {
              "outlinewidth": 0,
              "ticks": ""
             }
            },
            "marker": {
             "colorbar": {
              "outlinewidth": 0,
              "ticks": ""
             }
            },
            "type": "scatter3d"
           }
          ],
          "scattercarpet": [
           {
            "marker": {
             "colorbar": {
              "outlinewidth": 0,
              "ticks": ""
             }
            },
            "type": "scattercarpet"
           }
          ],
          "scattergeo": [
           {
            "marker": {
             "colorbar": {
              "outlinewidth": 0,
              "ticks": ""
             }
            },
            "type": "scattergeo"
           }
          ],
          "scattergl": [
           {
            "marker": {
             "colorbar": {
              "outlinewidth": 0,
              "ticks": ""
             }
            },
            "type": "scattergl"
           }
          ],
          "scattermapbox": [
           {
            "marker": {
             "colorbar": {
              "outlinewidth": 0,
              "ticks": ""
             }
            },
            "type": "scattermapbox"
           }
          ],
          "scatterpolar": [
           {
            "marker": {
             "colorbar": {
              "outlinewidth": 0,
              "ticks": ""
             }
            },
            "type": "scatterpolar"
           }
          ],
          "scatterpolargl": [
           {
            "marker": {
             "colorbar": {
              "outlinewidth": 0,
              "ticks": ""
             }
            },
            "type": "scatterpolargl"
           }
          ],
          "scatterternary": [
           {
            "marker": {
             "colorbar": {
              "outlinewidth": 0,
              "ticks": ""
             }
            },
            "type": "scatterternary"
           }
          ],
          "surface": [
           {
            "colorbar": {
             "outlinewidth": 0,
             "ticks": ""
            },
            "colorscale": [
             [
              0,
              "#0d0887"
             ],
             [
              0.1111111111111111,
              "#46039f"
             ],
             [
              0.2222222222222222,
              "#7201a8"
             ],
             [
              0.3333333333333333,
              "#9c179e"
             ],
             [
              0.4444444444444444,
              "#bd3786"
             ],
             [
              0.5555555555555556,
              "#d8576b"
             ],
             [
              0.6666666666666666,
              "#ed7953"
             ],
             [
              0.7777777777777778,
              "#fb9f3a"
             ],
             [
              0.8888888888888888,
              "#fdca26"
             ],
             [
              1,
              "#f0f921"
             ]
            ],
            "type": "surface"
           }
          ],
          "table": [
           {
            "cells": {
             "fill": {
              "color": "#EBF0F8"
             },
             "line": {
              "color": "white"
             }
            },
            "header": {
             "fill": {
              "color": "#C8D4E3"
             },
             "line": {
              "color": "white"
             }
            },
            "type": "table"
           }
          ]
         },
         "layout": {
          "annotationdefaults": {
           "arrowcolor": "#2a3f5f",
           "arrowhead": 0,
           "arrowwidth": 1
          },
          "autotypenumbers": "strict",
          "coloraxis": {
           "colorbar": {
            "outlinewidth": 0,
            "ticks": ""
           }
          },
          "colorscale": {
           "diverging": [
            [
             0,
             "#8e0152"
            ],
            [
             0.1,
             "#c51b7d"
            ],
            [
             0.2,
             "#de77ae"
            ],
            [
             0.3,
             "#f1b6da"
            ],
            [
             0.4,
             "#fde0ef"
            ],
            [
             0.5,
             "#f7f7f7"
            ],
            [
             0.6,
             "#e6f5d0"
            ],
            [
             0.7,
             "#b8e186"
            ],
            [
             0.8,
             "#7fbc41"
            ],
            [
             0.9,
             "#4d9221"
            ],
            [
             1,
             "#276419"
            ]
           ],
           "sequential": [
            [
             0,
             "#0d0887"
            ],
            [
             0.1111111111111111,
             "#46039f"
            ],
            [
             0.2222222222222222,
             "#7201a8"
            ],
            [
             0.3333333333333333,
             "#9c179e"
            ],
            [
             0.4444444444444444,
             "#bd3786"
            ],
            [
             0.5555555555555556,
             "#d8576b"
            ],
            [
             0.6666666666666666,
             "#ed7953"
            ],
            [
             0.7777777777777778,
             "#fb9f3a"
            ],
            [
             0.8888888888888888,
             "#fdca26"
            ],
            [
             1,
             "#f0f921"
            ]
           ],
           "sequentialminus": [
            [
             0,
             "#0d0887"
            ],
            [
             0.1111111111111111,
             "#46039f"
            ],
            [
             0.2222222222222222,
             "#7201a8"
            ],
            [
             0.3333333333333333,
             "#9c179e"
            ],
            [
             0.4444444444444444,
             "#bd3786"
            ],
            [
             0.5555555555555556,
             "#d8576b"
            ],
            [
             0.6666666666666666,
             "#ed7953"
            ],
            [
             0.7777777777777778,
             "#fb9f3a"
            ],
            [
             0.8888888888888888,
             "#fdca26"
            ],
            [
             1,
             "#f0f921"
            ]
           ]
          },
          "colorway": [
           "#636efa",
           "#EF553B",
           "#00cc96",
           "#ab63fa",
           "#FFA15A",
           "#19d3f3",
           "#FF6692",
           "#B6E880",
           "#FF97FF",
           "#FECB52"
          ],
          "font": {
           "color": "#2a3f5f"
          },
          "geo": {
           "bgcolor": "white",
           "lakecolor": "white",
           "landcolor": "#E5ECF6",
           "showlakes": true,
           "showland": true,
           "subunitcolor": "white"
          },
          "hoverlabel": {
           "align": "left"
          },
          "hovermode": "closest",
          "mapbox": {
           "style": "light"
          },
          "paper_bgcolor": "white",
          "plot_bgcolor": "#E5ECF6",
          "polar": {
           "angularaxis": {
            "gridcolor": "white",
            "linecolor": "white",
            "ticks": ""
           },
           "bgcolor": "#E5ECF6",
           "radialaxis": {
            "gridcolor": "white",
            "linecolor": "white",
            "ticks": ""
           }
          },
          "scene": {
           "xaxis": {
            "backgroundcolor": "#E5ECF6",
            "gridcolor": "white",
            "gridwidth": 2,
            "linecolor": "white",
            "showbackground": true,
            "ticks": "",
            "zerolinecolor": "white"
           },
           "yaxis": {
            "backgroundcolor": "#E5ECF6",
            "gridcolor": "white",
            "gridwidth": 2,
            "linecolor": "white",
            "showbackground": true,
            "ticks": "",
            "zerolinecolor": "white"
           },
           "zaxis": {
            "backgroundcolor": "#E5ECF6",
            "gridcolor": "white",
            "gridwidth": 2,
            "linecolor": "white",
            "showbackground": true,
            "ticks": "",
            "zerolinecolor": "white"
           }
          },
          "shapedefaults": {
           "line": {
            "color": "#2a3f5f"
           }
          },
          "ternary": {
           "aaxis": {
            "gridcolor": "white",
            "linecolor": "white",
            "ticks": ""
           },
           "baxis": {
            "gridcolor": "white",
            "linecolor": "white",
            "ticks": ""
           },
           "bgcolor": "#E5ECF6",
           "caxis": {
            "gridcolor": "white",
            "linecolor": "white",
            "ticks": ""
           }
          },
          "title": {
           "x": 0.05
          },
          "xaxis": {
           "automargin": true,
           "gridcolor": "white",
           "linecolor": "white",
           "ticks": "",
           "title": {
            "standoff": 15
           },
           "zerolinecolor": "white",
           "zerolinewidth": 2
          },
          "yaxis": {
           "automargin": true,
           "gridcolor": "white",
           "linecolor": "white",
           "ticks": "",
           "title": {
            "standoff": 15
           },
           "zerolinecolor": "white",
           "zerolinewidth": 2
          }
         }
        },
        "title": {
         "text": "Portfolio structure and returns"
        },
        "xaxis": {
         "anchor": "y",
         "domain": [
          0,
          0.94
         ],
         "title": {
          "text": "Quarters"
         }
        },
        "yaxis": {
         "anchor": "x",
         "domain": [
          0,
          1
         ],
         "title": {
          "text": "Number of assets"
         }
        },
        "yaxis2": {
         "anchor": "x",
         "overlaying": "y",
         "side": "right",
         "title": {
          "text": "Cumulaive returns"
         }
        }
       }
      }
     },
     "metadata": {},
     "output_type": "display_data"
    }
   ],
   "source": [
    "def visulize_results(rets_df:pd.DataFrame, assets_df:pd.DataFrame):\n",
    "    fig = make_subplots(specs=[[{\"secondary_y\": True}]])\n",
    "\n",
    "    for col in rets_df.columns:\n",
    "        fig.add_trace(\n",
    "            go.Scatter(x=rets_df.index, y=rets_df[col].dropna(), mode='lines', name=f\"{col} - return\"),\n",
    "            secondary_y=True,\n",
    "        )\n",
    "\n",
    "    for col in assets_df.columns.drop('weighted'):\n",
    "        fig.add_trace(\n",
    "            go.Bar(x=assets_df.index, y=assets_df[col], name=f\"{col} - n_assets\"),\n",
    "            secondary_y=False,\n",
    "        )\n",
    "\n",
    "    fig.update_layout(\n",
    "        title_text=\"Portfolio structure and returns\",\n",
    "        xaxis_title=\"Quarters\",\n",
    "        yaxis_title=\"Number of assets\",\n",
    "        legend_title=\"Features\"\n",
    "    )\n",
    "\n",
    "    fig.update_yaxes(title_text=\"Number of assets\", secondary_y=False)\n",
    "    fig.update_yaxes(title_text=\"Cumulaive returns\", secondary_y=True)\n",
    "\n",
    "    fig.show()\n",
    "visulize_results(rets, assets)"
   ]
  },
  {
   "cell_type": "markdown",
   "metadata": {},
   "source": [
    "The graph above illustrates the number of assets and returns for each portfolio. The highest cumulative returns are observed in the weighted portfolio, followed by the higher mean portfolio. The lower mean portfolio, which includes companies with lower positive and higher negative emotions, has the lowest returns. Regarding asset allocation, the number of assets in each cluster varies significantly from quarter to quarter. \n",
    "\n",
    "Below, we will examine the results for quantile-based portfolios."
   ]
  },
  {
   "cell_type": "code",
   "execution_count": 38,
   "metadata": {},
   "outputs": [
    {
     "data": {
      "application/vnd.plotly.v1+json": {
       "config": {
        "plotlyServerURL": "https://plot.ly"
       },
       "data": [
        {
         "mode": "lines",
         "name": "lowest quantile - return",
         "type": "scatter",
         "x": [
          "2016Q1",
          "2016Q2",
          "2016Q3",
          "2016Q4",
          "2017Q1",
          "2017Q2",
          "2017Q3",
          "2017Q4",
          "2018Q1",
          "2018Q2",
          "2018Q3",
          "2018Q4",
          "2019Q1",
          "2019Q2",
          "2019Q3",
          "2019Q4",
          "2020Q1",
          "2020Q2",
          "2020Q3",
          "2020Q4",
          "2021Q1",
          "2021Q2",
          "2021Q3",
          "2021Q4",
          "2022Q1",
          "2022Q2",
          "2022Q3",
          "2022Q4",
          "2023Q1",
          "2023Q2",
          "2023Q3",
          "2023Q4",
          "2024Q1",
          "2024Q2"
         ],
         "xaxis": "x",
         "y": [
          6.584869448237515,
          9.748545883139926,
          8.943692897540531,
          14.196874109216122,
          12.9824952748331,
          14.41567768216534,
          17.558622725636695,
          19.759579213381762,
          17.87231220795191,
          20.266102899654292,
          19.750890968852243,
          15.743751609305688,
          21.023713944129156,
          23.913714418562847,
          22.2320079466311,
          29.806447210440354,
          16.19445262520395,
          28.561913702475085,
          28.74800545869165,
          43.93168965623119,
          50.19650777575831,
          58.332924706251866,
          56.35640840358649,
          51.634992898132566,
          48.588418563938234,
          44.643313499688134,
          34.100744232446296,
          34.69789377590243,
          30.431438273068427,
          39.223638919475434,
          32.8651028765348,
          48.77396925778893,
          52.21033764562649,
          53.07805680971983
         ],
         "yaxis": "y2"
        },
        {
         "mode": "lines",
         "name": "weighted - return",
         "type": "scatter",
         "x": [
          "2016Q1",
          "2016Q2",
          "2016Q3",
          "2016Q4",
          "2017Q1",
          "2017Q2",
          "2017Q3",
          "2017Q4",
          "2018Q1",
          "2018Q2",
          "2018Q3",
          "2018Q4",
          "2019Q1",
          "2019Q2",
          "2019Q3",
          "2019Q4",
          "2020Q1",
          "2020Q2",
          "2020Q3",
          "2020Q4",
          "2021Q1",
          "2021Q2",
          "2021Q3",
          "2021Q4",
          "2022Q1",
          "2022Q2",
          "2022Q3",
          "2022Q4",
          "2023Q1",
          "2023Q2",
          "2023Q3",
          "2023Q4",
          "2024Q1",
          "2024Q2"
         ],
         "xaxis": "x",
         "y": [
          6.255218021376846,
          18.98339756008034,
          20.504508956229326,
          32.100175898324096,
          32.38517948725364,
          37.96869564194537,
          44.23034488522863,
          47.36001614854833,
          45.90113999116988,
          50.45352416386222,
          43.367340466991344,
          42.60913352751547,
          50.808718857454906,
          55.54029843969863,
          55.83511988014382,
          64.2475881153913,
          51.847885216321345,
          63.826545891489346,
          64.16209889489434,
          77.95933660027546,
          82.19957200288604,
          92.89499563849834,
          95.24742660037774,
          89.86701684619186,
          85.58020053160577,
          79.57318105214983,
          66.44164030205823,
          72.42973659848322,
          73.26527288033449,
          86.77332674924592,
          83.792846622979,
          98.90481406327731,
          97.42887190433568,
          100.31925465587655
         ],
         "yaxis": "y2"
        },
        {
         "mode": "lines",
         "name": "highest quantile - return",
         "type": "scatter",
         "x": [
          "2016Q1",
          "2016Q2",
          "2016Q3",
          "2016Q4",
          "2017Q1",
          "2017Q2",
          "2017Q3",
          "2017Q4",
          "2018Q1",
          "2018Q2",
          "2018Q3",
          "2018Q4",
          "2019Q1",
          "2019Q2",
          "2019Q3",
          "2019Q4",
          "2020Q1",
          "2020Q2",
          "2020Q3",
          "2020Q4",
          "2021Q1",
          "2021Q2",
          "2021Q3",
          "2021Q4",
          "2022Q1",
          "2022Q2",
          "2022Q3",
          "2022Q4",
          "2023Q1",
          "2023Q2",
          "2023Q3",
          "2023Q4",
          "2024Q1",
          "2024Q2"
         ],
         "xaxis": "x",
         "y": [
          5.720273682251127,
          13.265750706439245,
          13.750211298932935,
          17.766912651265034,
          20.200466584169956,
          22.381740527112584,
          28.56186010821539,
          32.07981082319906,
          31.97026785346633,
          35.653908946047906,
          29.012509856519866,
          27.281114712627733,
          35.20990004140606,
          38.86328251103642,
          38.37923659245191,
          44.666181838857945,
          30.47775627917219,
          39.63695770069769,
          39.364735297518166,
          53.60541496469159,
          58.222996537146294,
          68.03470448651348,
          70.38608922225936,
          67.61604474526824,
          63.78891602279915,
          59.888977712686,
          47.85125201028117,
          50.63277692861129,
          48.85440129773917,
          62.23558050264783,
          57.590081166852194,
          71.23200855218829,
          71.39222946114191,
          73.7392025862363
         ],
         "yaxis": "y2"
        },
        {
         "name": "lowest quantile - n_assets",
         "type": "bar",
         "x": [
          "2016Q1",
          "2016Q2",
          "2016Q3",
          "2016Q4",
          "2017Q1",
          "2017Q2",
          "2017Q3",
          "2017Q4",
          "2018Q1",
          "2018Q2",
          "2018Q3",
          "2018Q4",
          "2019Q1",
          "2019Q2",
          "2019Q3",
          "2019Q4",
          "2020Q1",
          "2020Q2",
          "2020Q3",
          "2020Q4",
          "2021Q1",
          "2021Q2",
          "2021Q3",
          "2021Q4",
          "2022Q1",
          "2022Q2",
          "2022Q3",
          "2022Q4",
          "2023Q1",
          "2023Q2",
          "2023Q3",
          "2023Q4",
          "2024Q1",
          "2024Q2"
         ],
         "xaxis": "x",
         "y": [
          5,
          4,
          7,
          14,
          13,
          19,
          25,
          24,
          25,
          36,
          33,
          33,
          38,
          41,
          39,
          42,
          47,
          34,
          40,
          50,
          52,
          62,
          56,
          59,
          61,
          65,
          58,
          52,
          83,
          118,
          159,
          103,
          171,
          179
         ],
         "yaxis": "y"
        },
        {
         "name": "highest quantile - n_assets",
         "type": "bar",
         "x": [
          "2016Q1",
          "2016Q2",
          "2016Q3",
          "2016Q4",
          "2017Q1",
          "2017Q2",
          "2017Q3",
          "2017Q4",
          "2018Q1",
          "2018Q2",
          "2018Q3",
          "2018Q4",
          "2019Q1",
          "2019Q2",
          "2019Q3",
          "2019Q4",
          "2020Q1",
          "2020Q2",
          "2020Q3",
          "2020Q4",
          "2021Q1",
          "2021Q2",
          "2021Q3",
          "2021Q4",
          "2022Q1",
          "2022Q2",
          "2022Q3",
          "2022Q4",
          "2023Q1",
          "2023Q2",
          "2023Q3",
          "2023Q4",
          "2024Q1",
          "2024Q2"
         ],
         "xaxis": "x",
         "y": [
          4,
          4,
          7,
          14,
          13,
          18,
          23,
          22,
          26,
          35,
          34,
          32,
          36,
          41,
          39,
          41,
          47,
          35,
          40,
          50,
          52,
          62,
          56,
          58,
          61,
          64,
          58,
          52,
          82,
          118,
          158,
          103,
          171,
          179
         ],
         "yaxis": "y"
        }
       ],
       "layout": {
        "legend": {
         "title": {
          "text": "Features"
         }
        },
        "template": {
         "data": {
          "bar": [
           {
            "error_x": {
             "color": "#2a3f5f"
            },
            "error_y": {
             "color": "#2a3f5f"
            },
            "marker": {
             "line": {
              "color": "#E5ECF6",
              "width": 0.5
             },
             "pattern": {
              "fillmode": "overlay",
              "size": 10,
              "solidity": 0.2
             }
            },
            "type": "bar"
           }
          ],
          "barpolar": [
           {
            "marker": {
             "line": {
              "color": "#E5ECF6",
              "width": 0.5
             },
             "pattern": {
              "fillmode": "overlay",
              "size": 10,
              "solidity": 0.2
             }
            },
            "type": "barpolar"
           }
          ],
          "carpet": [
           {
            "aaxis": {
             "endlinecolor": "#2a3f5f",
             "gridcolor": "white",
             "linecolor": "white",
             "minorgridcolor": "white",
             "startlinecolor": "#2a3f5f"
            },
            "baxis": {
             "endlinecolor": "#2a3f5f",
             "gridcolor": "white",
             "linecolor": "white",
             "minorgridcolor": "white",
             "startlinecolor": "#2a3f5f"
            },
            "type": "carpet"
           }
          ],
          "choropleth": [
           {
            "colorbar": {
             "outlinewidth": 0,
             "ticks": ""
            },
            "type": "choropleth"
           }
          ],
          "contour": [
           {
            "colorbar": {
             "outlinewidth": 0,
             "ticks": ""
            },
            "colorscale": [
             [
              0,
              "#0d0887"
             ],
             [
              0.1111111111111111,
              "#46039f"
             ],
             [
              0.2222222222222222,
              "#7201a8"
             ],
             [
              0.3333333333333333,
              "#9c179e"
             ],
             [
              0.4444444444444444,
              "#bd3786"
             ],
             [
              0.5555555555555556,
              "#d8576b"
             ],
             [
              0.6666666666666666,
              "#ed7953"
             ],
             [
              0.7777777777777778,
              "#fb9f3a"
             ],
             [
              0.8888888888888888,
              "#fdca26"
             ],
             [
              1,
              "#f0f921"
             ]
            ],
            "type": "contour"
           }
          ],
          "contourcarpet": [
           {
            "colorbar": {
             "outlinewidth": 0,
             "ticks": ""
            },
            "type": "contourcarpet"
           }
          ],
          "heatmap": [
           {
            "colorbar": {
             "outlinewidth": 0,
             "ticks": ""
            },
            "colorscale": [
             [
              0,
              "#0d0887"
             ],
             [
              0.1111111111111111,
              "#46039f"
             ],
             [
              0.2222222222222222,
              "#7201a8"
             ],
             [
              0.3333333333333333,
              "#9c179e"
             ],
             [
              0.4444444444444444,
              "#bd3786"
             ],
             [
              0.5555555555555556,
              "#d8576b"
             ],
             [
              0.6666666666666666,
              "#ed7953"
             ],
             [
              0.7777777777777778,
              "#fb9f3a"
             ],
             [
              0.8888888888888888,
              "#fdca26"
             ],
             [
              1,
              "#f0f921"
             ]
            ],
            "type": "heatmap"
           }
          ],
          "heatmapgl": [
           {
            "colorbar": {
             "outlinewidth": 0,
             "ticks": ""
            },
            "colorscale": [
             [
              0,
              "#0d0887"
             ],
             [
              0.1111111111111111,
              "#46039f"
             ],
             [
              0.2222222222222222,
              "#7201a8"
             ],
             [
              0.3333333333333333,
              "#9c179e"
             ],
             [
              0.4444444444444444,
              "#bd3786"
             ],
             [
              0.5555555555555556,
              "#d8576b"
             ],
             [
              0.6666666666666666,
              "#ed7953"
             ],
             [
              0.7777777777777778,
              "#fb9f3a"
             ],
             [
              0.8888888888888888,
              "#fdca26"
             ],
             [
              1,
              "#f0f921"
             ]
            ],
            "type": "heatmapgl"
           }
          ],
          "histogram": [
           {
            "marker": {
             "pattern": {
              "fillmode": "overlay",
              "size": 10,
              "solidity": 0.2
             }
            },
            "type": "histogram"
           }
          ],
          "histogram2d": [
           {
            "colorbar": {
             "outlinewidth": 0,
             "ticks": ""
            },
            "colorscale": [
             [
              0,
              "#0d0887"
             ],
             [
              0.1111111111111111,
              "#46039f"
             ],
             [
              0.2222222222222222,
              "#7201a8"
             ],
             [
              0.3333333333333333,
              "#9c179e"
             ],
             [
              0.4444444444444444,
              "#bd3786"
             ],
             [
              0.5555555555555556,
              "#d8576b"
             ],
             [
              0.6666666666666666,
              "#ed7953"
             ],
             [
              0.7777777777777778,
              "#fb9f3a"
             ],
             [
              0.8888888888888888,
              "#fdca26"
             ],
             [
              1,
              "#f0f921"
             ]
            ],
            "type": "histogram2d"
           }
          ],
          "histogram2dcontour": [
           {
            "colorbar": {
             "outlinewidth": 0,
             "ticks": ""
            },
            "colorscale": [
             [
              0,
              "#0d0887"
             ],
             [
              0.1111111111111111,
              "#46039f"
             ],
             [
              0.2222222222222222,
              "#7201a8"
             ],
             [
              0.3333333333333333,
              "#9c179e"
             ],
             [
              0.4444444444444444,
              "#bd3786"
             ],
             [
              0.5555555555555556,
              "#d8576b"
             ],
             [
              0.6666666666666666,
              "#ed7953"
             ],
             [
              0.7777777777777778,
              "#fb9f3a"
             ],
             [
              0.8888888888888888,
              "#fdca26"
             ],
             [
              1,
              "#f0f921"
             ]
            ],
            "type": "histogram2dcontour"
           }
          ],
          "mesh3d": [
           {
            "colorbar": {
             "outlinewidth": 0,
             "ticks": ""
            },
            "type": "mesh3d"
           }
          ],
          "parcoords": [
           {
            "line": {
             "colorbar": {
              "outlinewidth": 0,
              "ticks": ""
             }
            },
            "type": "parcoords"
           }
          ],
          "pie": [
           {
            "automargin": true,
            "type": "pie"
           }
          ],
          "scatter": [
           {
            "fillpattern": {
             "fillmode": "overlay",
             "size": 10,
             "solidity": 0.2
            },
            "type": "scatter"
           }
          ],
          "scatter3d": [
           {
            "line": {
             "colorbar": {
              "outlinewidth": 0,
              "ticks": ""
             }
            },
            "marker": {
             "colorbar": {
              "outlinewidth": 0,
              "ticks": ""
             }
            },
            "type": "scatter3d"
           }
          ],
          "scattercarpet": [
           {
            "marker": {
             "colorbar": {
              "outlinewidth": 0,
              "ticks": ""
             }
            },
            "type": "scattercarpet"
           }
          ],
          "scattergeo": [
           {
            "marker": {
             "colorbar": {
              "outlinewidth": 0,
              "ticks": ""
             }
            },
            "type": "scattergeo"
           }
          ],
          "scattergl": [
           {
            "marker": {
             "colorbar": {
              "outlinewidth": 0,
              "ticks": ""
             }
            },
            "type": "scattergl"
           }
          ],
          "scattermapbox": [
           {
            "marker": {
             "colorbar": {
              "outlinewidth": 0,
              "ticks": ""
             }
            },
            "type": "scattermapbox"
           }
          ],
          "scatterpolar": [
           {
            "marker": {
             "colorbar": {
              "outlinewidth": 0,
              "ticks": ""
             }
            },
            "type": "scatterpolar"
           }
          ],
          "scatterpolargl": [
           {
            "marker": {
             "colorbar": {
              "outlinewidth": 0,
              "ticks": ""
             }
            },
            "type": "scatterpolargl"
           }
          ],
          "scatterternary": [
           {
            "marker": {
             "colorbar": {
              "outlinewidth": 0,
              "ticks": ""
             }
            },
            "type": "scatterternary"
           }
          ],
          "surface": [
           {
            "colorbar": {
             "outlinewidth": 0,
             "ticks": ""
            },
            "colorscale": [
             [
              0,
              "#0d0887"
             ],
             [
              0.1111111111111111,
              "#46039f"
             ],
             [
              0.2222222222222222,
              "#7201a8"
             ],
             [
              0.3333333333333333,
              "#9c179e"
             ],
             [
              0.4444444444444444,
              "#bd3786"
             ],
             [
              0.5555555555555556,
              "#d8576b"
             ],
             [
              0.6666666666666666,
              "#ed7953"
             ],
             [
              0.7777777777777778,
              "#fb9f3a"
             ],
             [
              0.8888888888888888,
              "#fdca26"
             ],
             [
              1,
              "#f0f921"
             ]
            ],
            "type": "surface"
           }
          ],
          "table": [
           {
            "cells": {
             "fill": {
              "color": "#EBF0F8"
             },
             "line": {
              "color": "white"
             }
            },
            "header": {
             "fill": {
              "color": "#C8D4E3"
             },
             "line": {
              "color": "white"
             }
            },
            "type": "table"
           }
          ]
         },
         "layout": {
          "annotationdefaults": {
           "arrowcolor": "#2a3f5f",
           "arrowhead": 0,
           "arrowwidth": 1
          },
          "autotypenumbers": "strict",
          "coloraxis": {
           "colorbar": {
            "outlinewidth": 0,
            "ticks": ""
           }
          },
          "colorscale": {
           "diverging": [
            [
             0,
             "#8e0152"
            ],
            [
             0.1,
             "#c51b7d"
            ],
            [
             0.2,
             "#de77ae"
            ],
            [
             0.3,
             "#f1b6da"
            ],
            [
             0.4,
             "#fde0ef"
            ],
            [
             0.5,
             "#f7f7f7"
            ],
            [
             0.6,
             "#e6f5d0"
            ],
            [
             0.7,
             "#b8e186"
            ],
            [
             0.8,
             "#7fbc41"
            ],
            [
             0.9,
             "#4d9221"
            ],
            [
             1,
             "#276419"
            ]
           ],
           "sequential": [
            [
             0,
             "#0d0887"
            ],
            [
             0.1111111111111111,
             "#46039f"
            ],
            [
             0.2222222222222222,
             "#7201a8"
            ],
            [
             0.3333333333333333,
             "#9c179e"
            ],
            [
             0.4444444444444444,
             "#bd3786"
            ],
            [
             0.5555555555555556,
             "#d8576b"
            ],
            [
             0.6666666666666666,
             "#ed7953"
            ],
            [
             0.7777777777777778,
             "#fb9f3a"
            ],
            [
             0.8888888888888888,
             "#fdca26"
            ],
            [
             1,
             "#f0f921"
            ]
           ],
           "sequentialminus": [
            [
             0,
             "#0d0887"
            ],
            [
             0.1111111111111111,
             "#46039f"
            ],
            [
             0.2222222222222222,
             "#7201a8"
            ],
            [
             0.3333333333333333,
             "#9c179e"
            ],
            [
             0.4444444444444444,
             "#bd3786"
            ],
            [
             0.5555555555555556,
             "#d8576b"
            ],
            [
             0.6666666666666666,
             "#ed7953"
            ],
            [
             0.7777777777777778,
             "#fb9f3a"
            ],
            [
             0.8888888888888888,
             "#fdca26"
            ],
            [
             1,
             "#f0f921"
            ]
           ]
          },
          "colorway": [
           "#636efa",
           "#EF553B",
           "#00cc96",
           "#ab63fa",
           "#FFA15A",
           "#19d3f3",
           "#FF6692",
           "#B6E880",
           "#FF97FF",
           "#FECB52"
          ],
          "font": {
           "color": "#2a3f5f"
          },
          "geo": {
           "bgcolor": "white",
           "lakecolor": "white",
           "landcolor": "#E5ECF6",
           "showlakes": true,
           "showland": true,
           "subunitcolor": "white"
          },
          "hoverlabel": {
           "align": "left"
          },
          "hovermode": "closest",
          "mapbox": {
           "style": "light"
          },
          "paper_bgcolor": "white",
          "plot_bgcolor": "#E5ECF6",
          "polar": {
           "angularaxis": {
            "gridcolor": "white",
            "linecolor": "white",
            "ticks": ""
           },
           "bgcolor": "#E5ECF6",
           "radialaxis": {
            "gridcolor": "white",
            "linecolor": "white",
            "ticks": ""
           }
          },
          "scene": {
           "xaxis": {
            "backgroundcolor": "#E5ECF6",
            "gridcolor": "white",
            "gridwidth": 2,
            "linecolor": "white",
            "showbackground": true,
            "ticks": "",
            "zerolinecolor": "white"
           },
           "yaxis": {
            "backgroundcolor": "#E5ECF6",
            "gridcolor": "white",
            "gridwidth": 2,
            "linecolor": "white",
            "showbackground": true,
            "ticks": "",
            "zerolinecolor": "white"
           },
           "zaxis": {
            "backgroundcolor": "#E5ECF6",
            "gridcolor": "white",
            "gridwidth": 2,
            "linecolor": "white",
            "showbackground": true,
            "ticks": "",
            "zerolinecolor": "white"
           }
          },
          "shapedefaults": {
           "line": {
            "color": "#2a3f5f"
           }
          },
          "ternary": {
           "aaxis": {
            "gridcolor": "white",
            "linecolor": "white",
            "ticks": ""
           },
           "baxis": {
            "gridcolor": "white",
            "linecolor": "white",
            "ticks": ""
           },
           "bgcolor": "#E5ECF6",
           "caxis": {
            "gridcolor": "white",
            "linecolor": "white",
            "ticks": ""
           }
          },
          "title": {
           "x": 0.05
          },
          "xaxis": {
           "automargin": true,
           "gridcolor": "white",
           "linecolor": "white",
           "ticks": "",
           "title": {
            "standoff": 15
           },
           "zerolinecolor": "white",
           "zerolinewidth": 2
          },
          "yaxis": {
           "automargin": true,
           "gridcolor": "white",
           "linecolor": "white",
           "ticks": "",
           "title": {
            "standoff": 15
           },
           "zerolinecolor": "white",
           "zerolinewidth": 2
          }
         }
        },
        "title": {
         "text": "Portfolio structure and returns"
        },
        "xaxis": {
         "anchor": "y",
         "domain": [
          0,
          0.94
         ],
         "title": {
          "text": "Quarters"
         }
        },
        "yaxis": {
         "anchor": "x",
         "domain": [
          0,
          1
         ],
         "title": {
          "text": "Number of assets"
         }
        },
        "yaxis2": {
         "anchor": "x",
         "overlaying": "y",
         "side": "right",
         "title": {
          "text": "Cumulaive returns"
         }
        }
       }
      }
     },
     "metadata": {},
     "output_type": "display_data"
    }
   ],
   "source": [
    "portf_type = 'quantile'\n",
    "events_by_company = calculate_weights(events_by_company, metric, portf_type)\n",
    "portfolio_detailed_view, portfolio_summary_view = rebalance_portfolio_and_calculate_returns(events_by_company, portf_type)\n",
    "assets = summarize_results_by(portfolio_summary_view, portf_type, 'n_assets').T\n",
    "rets =  summarize_results_by(portfolio_summary_view, portf_type, 'return').T.cumsum()\n",
    "visulize_results(rets, assets)"
   ]
  },
  {
   "cell_type": "markdown",
   "metadata": {},
   "source": [
    "The cumulative portfolio returns generally align with the clustering-based approach, with the weighted portfolio having the largest return. The gap between the weighted portfolio and the highest quantiles is significant. Additionally, both the weighted and highest return portfolios outperform the cluster-based weighted and higher mean results. In terms of the number of assets, as expected, the highest and lowest quantile portfolios have an almost equal distribution."
   ]
  },
  {
   "cell_type": "markdown",
   "metadata": {},
   "source": [
    "## Final remarks\n",
    "\n",
    "The article demonstrated how  LSEG MarketPsych Transcripts Analytics (MTA) API can be used to ingest sentences with AI mentions from corporate transcripts and perform exploratory and portfolio construction analysis. The main goal was to examine a. how the frequency and sentiment of AI mentions in earnings calls have evolved over time and per sector and b. to assess whether these patterns can be leveraged to build effective thematic portfolios.\n",
    "\n",
    "The methodologies and examples presented are primarily intended for educational and exploratory purposes. Although we observed positive results for the constructed thematic portfolios—where portfolios comprised of companies with frequent AI mentions and overall positive sentiments outperformed those with lower rankings—these findings should be considered preliminary insights. They serve as a foundation for further investigation rather than conclusive evidence. Users are encouraged to experiment with different data universes, search terms, and portfolio construction strategies."
   ]
  }
 ],
 "metadata": {
  "kernelspec": {
   "display_name": "Python 3 (ipykernel)",
   "language": "python",
   "name": "python3"
  },
  "language_info": {
   "codemirror_mode": {
    "name": "ipython",
    "version": 3
   },
   "file_extension": ".py",
   "mimetype": "text/x-python",
   "name": "python",
   "nbconvert_exporter": "python",
   "pygments_lexer": "ipython3",
   "version": "3.9.6"
  }
 },
 "nbformat": 4,
 "nbformat_minor": 4
}
